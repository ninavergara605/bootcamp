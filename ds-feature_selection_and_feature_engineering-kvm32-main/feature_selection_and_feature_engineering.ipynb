{
 "cells": [
  {
   "cell_type": "markdown",
   "metadata": {
    "toc": true
   },
   "source": [
    "<h1>Table of Contents<span class=\"tocSkip\"></span></h1>\n",
    "<div class=\"toc\"><ul class=\"toc-item\"><li><span><a href=\"#Feature-Selection-and-Feature-Engineering\" data-toc-modified-id=\"Feature-Selection-and-Feature-Engineering-1\"><span class=\"toc-item-num\">1&nbsp;&nbsp;</span>Feature Selection and Feature Engineering</a></span></li><li><span><a href=\"#Objectives\" data-toc-modified-id=\"Objectives-2\"><span class=\"toc-item-num\">2&nbsp;&nbsp;</span>Objectives</a></span></li><li><span><a href=\"#Model-Selection\" data-toc-modified-id=\"Model-Selection-3\"><span class=\"toc-item-num\">3&nbsp;&nbsp;</span>Model Selection</a></span><ul class=\"toc-item\"><li><span><a href=\"#Decisions,-Decisions,-Decisions...\" data-toc-modified-id=\"Decisions,-Decisions,-Decisions...-3.1\"><span class=\"toc-item-num\">3.1&nbsp;&nbsp;</span>Decisions, Decisions, Decisions...</a></span></li></ul></li><li><span><a href=\"#Correlation-and-Multicollinearity\" data-toc-modified-id=\"Correlation-and-Multicollinearity-4\"><span class=\"toc-item-num\">4&nbsp;&nbsp;</span>Correlation and Multicollinearity</a></span><ul class=\"toc-item\"><li><span><a href=\"#Multicollinearity\" data-toc-modified-id=\"Multicollinearity-4.1\"><span class=\"toc-item-num\">4.1&nbsp;&nbsp;</span>Multicollinearity</a></span></li></ul></li><li><span><a href=\"#Recursive-Feature-Elimination\" data-toc-modified-id=\"Recursive-Feature-Elimination-5\"><span class=\"toc-item-num\">5&nbsp;&nbsp;</span>Recursive Feature Elimination</a></span><ul class=\"toc-item\"><li><span><a href=\"#Recursive-Feature-Elimination-in-Scikit-Learn\" data-toc-modified-id=\"Recursive-Feature-Elimination-in-Scikit-Learn-5.1\"><span class=\"toc-item-num\">5.1&nbsp;&nbsp;</span>Recursive Feature Elimination in Scikit-Learn</a></span></li></ul></li><li><span><a href=\"#Feature-Engineering\" data-toc-modified-id=\"Feature-Engineering-6\"><span class=\"toc-item-num\">6&nbsp;&nbsp;</span>Feature Engineering</a></span><ul class=\"toc-item\"><li><span><a href=\"#EDA\" data-toc-modified-id=\"EDA-6.1\"><span class=\"toc-item-num\">6.1&nbsp;&nbsp;</span>EDA</a></span><ul class=\"toc-item\"><li><span><a href=\"#Chlorides\" data-toc-modified-id=\"Chlorides-6.1.1\"><span class=\"toc-item-num\">6.1.1&nbsp;&nbsp;</span>Chlorides</a></span></li><li><span><a href=\"#$\\bf{SO_2}$\" data-toc-modified-id=\"$\\bf{SO_2}$-6.1.2\"><span class=\"toc-item-num\">6.1.2&nbsp;&nbsp;</span>$\\bf{SO_2}$</a></span></li></ul></li><li><span><a href=\"#Products-of-Features\" data-toc-modified-id=\"Products-of-Features-6.2\"><span class=\"toc-item-num\">6.2&nbsp;&nbsp;</span>Products of Features</a></span></li><li><span><a href=\"#Polynomial-Features\" data-toc-modified-id=\"Polynomial-Features-6.3\"><span class=\"toc-item-num\">6.3&nbsp;&nbsp;</span>Polynomial Features</a></span></li></ul></li><li><span><a href=\"#Exercise\" data-toc-modified-id=\"Exercise-7\"><span class=\"toc-item-num\">7&nbsp;&nbsp;</span>Exercise</a></span></li></ul></div>"
   ]
  },
  {
   "cell_type": "code",
   "execution_count": 1,
   "metadata": {},
   "outputs": [],
   "source": [
    "import pandas as pd\n",
    "import seaborn as sns\n",
    "from matplotlib import pyplot as plt\n",
    "from sklearn.linear_model import LinearRegression\n",
    "from sklearn.feature_selection import RFE\n",
    "from sklearn.preprocessing import PolynomialFeatures, StandardScaler"
   ]
  },
  {
   "cell_type": "markdown",
   "metadata": {
    "heading_collapsed": true
   },
   "source": [
    "# Feature Selection and Feature Engineering"
   ]
  },
  {
   "cell_type": "markdown",
   "metadata": {
    "hidden": true
   },
   "source": [
    "> We want to do our best to make good predictions"
   ]
  },
  {
   "cell_type": "markdown",
   "metadata": {
    "hidden": true
   },
   "source": [
    "One way we can improve our model is to consider the data's feature and either specifically _select_ features and/or _create new features_ (called **feature engineering**)"
   ]
  },
  {
   "cell_type": "markdown",
   "metadata": {
    "heading_collapsed": true
   },
   "source": [
    "# Objectives"
   ]
  },
  {
   "cell_type": "markdown",
   "metadata": {
    "hidden": true
   },
   "source": [
    "- Use correlations and other algorithms to inform feature selection\n",
    "- Address the problem of multicollinearity in regression problems\n",
    "- Create new features for use in modeling\n",
    "    - Use `PolynomialFeatures` to build compound features"
   ]
  },
  {
   "cell_type": "markdown",
   "metadata": {
    "heading_collapsed": true
   },
   "source": [
    "# Model Selection"
   ]
  },
  {
   "cell_type": "markdown",
   "metadata": {
    "hidden": true
   },
   "source": [
    "Let's imagine that I'm going to try to predict wine quality based on the other features."
   ]
  },
  {
   "cell_type": "code",
   "execution_count": 2,
   "metadata": {
    "hidden": true
   },
   "outputs": [],
   "source": [
    "wine = pd.read_csv('data/wine.csv')"
   ]
  },
  {
   "cell_type": "code",
   "execution_count": 3,
   "metadata": {
    "hidden": true,
    "scrolled": true
   },
   "outputs": [
    {
     "output_type": "execute_result",
     "data": {
      "text/plain": [
       "   fixed acidity  volatile acidity  citric acid  residual sugar  chlorides  \\\n",
       "0            7.4              0.70         0.00             1.9      0.076   \n",
       "1            7.8              0.88         0.00             2.6      0.098   \n",
       "2            7.8              0.76         0.04             2.3      0.092   \n",
       "3           11.2              0.28         0.56             1.9      0.075   \n",
       "4            7.4              0.70         0.00             1.9      0.076   \n",
       "5            7.4              0.66         0.00             1.8      0.075   \n",
       "6            7.9              0.60         0.06             1.6      0.069   \n",
       "7            7.3              0.65         0.00             1.2      0.065   \n",
       "8            7.8              0.58         0.02             2.0      0.073   \n",
       "9            7.5              0.50         0.36             6.1      0.071   \n",
       "\n",
       "   free sulfur dioxide  total sulfur dioxide  density    pH  sulphates  \\\n",
       "0                 11.0                  34.0   0.9978  3.51       0.56   \n",
       "1                 25.0                  67.0   0.9968  3.20       0.68   \n",
       "2                 15.0                  54.0   0.9970  3.26       0.65   \n",
       "3                 17.0                  60.0   0.9980  3.16       0.58   \n",
       "4                 11.0                  34.0   0.9978  3.51       0.56   \n",
       "5                 13.0                  40.0   0.9978  3.51       0.56   \n",
       "6                 15.0                  59.0   0.9964  3.30       0.46   \n",
       "7                 15.0                  21.0   0.9946  3.39       0.47   \n",
       "8                  9.0                  18.0   0.9968  3.36       0.57   \n",
       "9                 17.0                 102.0   0.9978  3.35       0.80   \n",
       "\n",
       "   alcohol  quality  red_wine  \n",
       "0      9.4        5         1  \n",
       "1      9.8        5         1  \n",
       "2      9.8        5         1  \n",
       "3      9.8        6         1  \n",
       "4      9.4        5         1  \n",
       "5      9.4        5         1  \n",
       "6      9.4        5         1  \n",
       "7     10.0        7         1  \n",
       "8      9.5        7         1  \n",
       "9     10.5        5         1  "
      ],
      "text/html": "<div>\n<style scoped>\n    .dataframe tbody tr th:only-of-type {\n        vertical-align: middle;\n    }\n\n    .dataframe tbody tr th {\n        vertical-align: top;\n    }\n\n    .dataframe thead th {\n        text-align: right;\n    }\n</style>\n<table border=\"1\" class=\"dataframe\">\n  <thead>\n    <tr style=\"text-align: right;\">\n      <th></th>\n      <th>fixed acidity</th>\n      <th>volatile acidity</th>\n      <th>citric acid</th>\n      <th>residual sugar</th>\n      <th>chlorides</th>\n      <th>free sulfur dioxide</th>\n      <th>total sulfur dioxide</th>\n      <th>density</th>\n      <th>pH</th>\n      <th>sulphates</th>\n      <th>alcohol</th>\n      <th>quality</th>\n      <th>red_wine</th>\n    </tr>\n  </thead>\n  <tbody>\n    <tr>\n      <th>0</th>\n      <td>7.4</td>\n      <td>0.70</td>\n      <td>0.00</td>\n      <td>1.9</td>\n      <td>0.076</td>\n      <td>11.0</td>\n      <td>34.0</td>\n      <td>0.9978</td>\n      <td>3.51</td>\n      <td>0.56</td>\n      <td>9.4</td>\n      <td>5</td>\n      <td>1</td>\n    </tr>\n    <tr>\n      <th>1</th>\n      <td>7.8</td>\n      <td>0.88</td>\n      <td>0.00</td>\n      <td>2.6</td>\n      <td>0.098</td>\n      <td>25.0</td>\n      <td>67.0</td>\n      <td>0.9968</td>\n      <td>3.20</td>\n      <td>0.68</td>\n      <td>9.8</td>\n      <td>5</td>\n      <td>1</td>\n    </tr>\n    <tr>\n      <th>2</th>\n      <td>7.8</td>\n      <td>0.76</td>\n      <td>0.04</td>\n      <td>2.3</td>\n      <td>0.092</td>\n      <td>15.0</td>\n      <td>54.0</td>\n      <td>0.9970</td>\n      <td>3.26</td>\n      <td>0.65</td>\n      <td>9.8</td>\n      <td>5</td>\n      <td>1</td>\n    </tr>\n    <tr>\n      <th>3</th>\n      <td>11.2</td>\n      <td>0.28</td>\n      <td>0.56</td>\n      <td>1.9</td>\n      <td>0.075</td>\n      <td>17.0</td>\n      <td>60.0</td>\n      <td>0.9980</td>\n      <td>3.16</td>\n      <td>0.58</td>\n      <td>9.8</td>\n      <td>6</td>\n      <td>1</td>\n    </tr>\n    <tr>\n      <th>4</th>\n      <td>7.4</td>\n      <td>0.70</td>\n      <td>0.00</td>\n      <td>1.9</td>\n      <td>0.076</td>\n      <td>11.0</td>\n      <td>34.0</td>\n      <td>0.9978</td>\n      <td>3.51</td>\n      <td>0.56</td>\n      <td>9.4</td>\n      <td>5</td>\n      <td>1</td>\n    </tr>\n    <tr>\n      <th>5</th>\n      <td>7.4</td>\n      <td>0.66</td>\n      <td>0.00</td>\n      <td>1.8</td>\n      <td>0.075</td>\n      <td>13.0</td>\n      <td>40.0</td>\n      <td>0.9978</td>\n      <td>3.51</td>\n      <td>0.56</td>\n      <td>9.4</td>\n      <td>5</td>\n      <td>1</td>\n    </tr>\n    <tr>\n      <th>6</th>\n      <td>7.9</td>\n      <td>0.60</td>\n      <td>0.06</td>\n      <td>1.6</td>\n      <td>0.069</td>\n      <td>15.0</td>\n      <td>59.0</td>\n      <td>0.9964</td>\n      <td>3.30</td>\n      <td>0.46</td>\n      <td>9.4</td>\n      <td>5</td>\n      <td>1</td>\n    </tr>\n    <tr>\n      <th>7</th>\n      <td>7.3</td>\n      <td>0.65</td>\n      <td>0.00</td>\n      <td>1.2</td>\n      <td>0.065</td>\n      <td>15.0</td>\n      <td>21.0</td>\n      <td>0.9946</td>\n      <td>3.39</td>\n      <td>0.47</td>\n      <td>10.0</td>\n      <td>7</td>\n      <td>1</td>\n    </tr>\n    <tr>\n      <th>8</th>\n      <td>7.8</td>\n      <td>0.58</td>\n      <td>0.02</td>\n      <td>2.0</td>\n      <td>0.073</td>\n      <td>9.0</td>\n      <td>18.0</td>\n      <td>0.9968</td>\n      <td>3.36</td>\n      <td>0.57</td>\n      <td>9.5</td>\n      <td>7</td>\n      <td>1</td>\n    </tr>\n    <tr>\n      <th>9</th>\n      <td>7.5</td>\n      <td>0.50</td>\n      <td>0.36</td>\n      <td>6.1</td>\n      <td>0.071</td>\n      <td>17.0</td>\n      <td>102.0</td>\n      <td>0.9978</td>\n      <td>3.35</td>\n      <td>0.80</td>\n      <td>10.5</td>\n      <td>5</td>\n      <td>1</td>\n    </tr>\n  </tbody>\n</table>\n</div>"
     },
     "metadata": {},
     "execution_count": 3
    }
   ],
   "source": [
    "wine.head(10)"
   ]
  },
  {
   "cell_type": "markdown",
   "metadata": {
    "heading_collapsed": true,
    "hidden": true
   },
   "source": [
    "## Decisions, Decisions, Decisions..."
   ]
  },
  {
   "cell_type": "markdown",
   "metadata": {
    "hidden": true
   },
   "source": [
    "Now: Which columns (predictors) should I choose? \n",
    "\n",
    "There are 12 predictors I could choose from. For each of these predictors, I could either use it or not use it in my model, which means that there are $2^{12} = 4096$ _different_ models I could construct! Well, okay, one of these is the \"empty model\" with no predictors in it. But there are still 4095 models from which I can choose."
   ]
  },
  {
   "cell_type": "markdown",
   "metadata": {
    "hidden": true
   },
   "source": [
    "How can I decide which predictors to use in my model?"
   ]
  },
  {
   "cell_type": "markdown",
   "metadata": {
    "hidden": true
   },
   "source": [
    "![](img/i_choose_you.gif)\n",
    "\n",
    "> Data scientist choosing predictors/features to use ~~in battle~~ for the model"
   ]
  },
  {
   "cell_type": "markdown",
   "metadata": {
    "hidden": true
   },
   "source": [
    "We'll explore a few methods in the sections below."
   ]
  },
  {
   "cell_type": "markdown",
   "metadata": {
    "heading_collapsed": true
   },
   "source": [
    "# Correlation and Multicollinearity"
   ]
  },
  {
   "cell_type": "markdown",
   "metadata": {
    "hidden": true
   },
   "source": [
    "Our first attempt might be just see which features are _correlated_ with the target to make a prediction.\n",
    "\n",
    "We can use the correlation metric in making a decision."
   ]
  },
  {
   "cell_type": "code",
   "execution_count": 4,
   "metadata": {
    "hidden": true
   },
   "outputs": [
    {
     "output_type": "execute_result",
     "data": {
      "text/plain": [
       "                      fixed acidity  volatile acidity  citric acid  \\\n",
       "fixed acidity              1.000000          0.219008     0.324436   \n",
       "volatile acidity           0.219008          1.000000    -0.377981   \n",
       "citric acid                0.324436         -0.377981     1.000000   \n",
       "residual sugar            -0.111981         -0.196011     0.142451   \n",
       "chlorides                  0.298195          0.377124     0.038998   \n",
       "free sulfur dioxide       -0.282735         -0.352557     0.133126   \n",
       "total sulfur dioxide      -0.329054         -0.414476     0.195242   \n",
       "density                    0.458910          0.271296     0.096154   \n",
       "pH                        -0.252700          0.261454    -0.329808   \n",
       "sulphates                  0.299568          0.225984     0.056197   \n",
       "alcohol                   -0.095452         -0.037640    -0.010493   \n",
       "quality                   -0.076743         -0.265699     0.085532   \n",
       "red_wine                   0.486740          0.653036    -0.187397   \n",
       "\n",
       "                      residual sugar  chlorides  free sulfur dioxide  \\\n",
       "fixed acidity              -0.111981   0.298195            -0.282735   \n",
       "volatile acidity           -0.196011   0.377124            -0.352557   \n",
       "citric acid                 0.142451   0.038998             0.133126   \n",
       "residual sugar              1.000000  -0.128940             0.402871   \n",
       "chlorides                  -0.128940   1.000000            -0.195045   \n",
       "free sulfur dioxide         0.402871  -0.195045             1.000000   \n",
       "total sulfur dioxide        0.495482  -0.279630             0.720934   \n",
       "density                     0.552517   0.362615             0.025717   \n",
       "pH                         -0.267320   0.044708            -0.145854   \n",
       "sulphates                  -0.185927   0.395593            -0.188457   \n",
       "alcohol                    -0.359415  -0.256916            -0.179838   \n",
       "quality                    -0.036980  -0.200666             0.055463   \n",
       "red_wine                   -0.348821   0.512678            -0.471644   \n",
       "\n",
       "                      total sulfur dioxide   density        pH  sulphates  \\\n",
       "fixed acidity                    -0.329054  0.458910 -0.252700   0.299568   \n",
       "volatile acidity                 -0.414476  0.271296  0.261454   0.225984   \n",
       "citric acid                       0.195242  0.096154 -0.329808   0.056197   \n",
       "residual sugar                    0.495482  0.552517 -0.267320  -0.185927   \n",
       "chlorides                        -0.279630  0.362615  0.044708   0.395593   \n",
       "free sulfur dioxide               0.720934  0.025717 -0.145854  -0.188457   \n",
       "total sulfur dioxide              1.000000  0.032395 -0.238413  -0.275727   \n",
       "density                           0.032395  1.000000  0.011686   0.259478   \n",
       "pH                               -0.238413  0.011686  1.000000   0.192123   \n",
       "sulphates                        -0.275727  0.259478  0.192123   1.000000   \n",
       "alcohol                          -0.265740 -0.686745  0.121248  -0.003029   \n",
       "quality                          -0.041385 -0.305858  0.019506   0.038485   \n",
       "red_wine                         -0.700357  0.390645  0.329129   0.487218   \n",
       "\n",
       "                       alcohol   quality  red_wine  \n",
       "fixed acidity        -0.095452 -0.076743  0.486740  \n",
       "volatile acidity     -0.037640 -0.265699  0.653036  \n",
       "citric acid          -0.010493  0.085532 -0.187397  \n",
       "residual sugar       -0.359415 -0.036980 -0.348821  \n",
       "chlorides            -0.256916 -0.200666  0.512678  \n",
       "free sulfur dioxide  -0.179838  0.055463 -0.471644  \n",
       "total sulfur dioxide -0.265740 -0.041385 -0.700357  \n",
       "density              -0.686745 -0.305858  0.390645  \n",
       "pH                    0.121248  0.019506  0.329129  \n",
       "sulphates            -0.003029  0.038485  0.487218  \n",
       "alcohol               1.000000  0.444319 -0.032970  \n",
       "quality               0.444319  1.000000 -0.119323  \n",
       "red_wine             -0.032970 -0.119323  1.000000  "
      ],
      "text/html": "<div>\n<style scoped>\n    .dataframe tbody tr th:only-of-type {\n        vertical-align: middle;\n    }\n\n    .dataframe tbody tr th {\n        vertical-align: top;\n    }\n\n    .dataframe thead th {\n        text-align: right;\n    }\n</style>\n<table border=\"1\" class=\"dataframe\">\n  <thead>\n    <tr style=\"text-align: right;\">\n      <th></th>\n      <th>fixed acidity</th>\n      <th>volatile acidity</th>\n      <th>citric acid</th>\n      <th>residual sugar</th>\n      <th>chlorides</th>\n      <th>free sulfur dioxide</th>\n      <th>total sulfur dioxide</th>\n      <th>density</th>\n      <th>pH</th>\n      <th>sulphates</th>\n      <th>alcohol</th>\n      <th>quality</th>\n      <th>red_wine</th>\n    </tr>\n  </thead>\n  <tbody>\n    <tr>\n      <th>fixed acidity</th>\n      <td>1.000000</td>\n      <td>0.219008</td>\n      <td>0.324436</td>\n      <td>-0.111981</td>\n      <td>0.298195</td>\n      <td>-0.282735</td>\n      <td>-0.329054</td>\n      <td>0.458910</td>\n      <td>-0.252700</td>\n      <td>0.299568</td>\n      <td>-0.095452</td>\n      <td>-0.076743</td>\n      <td>0.486740</td>\n    </tr>\n    <tr>\n      <th>volatile acidity</th>\n      <td>0.219008</td>\n      <td>1.000000</td>\n      <td>-0.377981</td>\n      <td>-0.196011</td>\n      <td>0.377124</td>\n      <td>-0.352557</td>\n      <td>-0.414476</td>\n      <td>0.271296</td>\n      <td>0.261454</td>\n      <td>0.225984</td>\n      <td>-0.037640</td>\n      <td>-0.265699</td>\n      <td>0.653036</td>\n    </tr>\n    <tr>\n      <th>citric acid</th>\n      <td>0.324436</td>\n      <td>-0.377981</td>\n      <td>1.000000</td>\n      <td>0.142451</td>\n      <td>0.038998</td>\n      <td>0.133126</td>\n      <td>0.195242</td>\n      <td>0.096154</td>\n      <td>-0.329808</td>\n      <td>0.056197</td>\n      <td>-0.010493</td>\n      <td>0.085532</td>\n      <td>-0.187397</td>\n    </tr>\n    <tr>\n      <th>residual sugar</th>\n      <td>-0.111981</td>\n      <td>-0.196011</td>\n      <td>0.142451</td>\n      <td>1.000000</td>\n      <td>-0.128940</td>\n      <td>0.402871</td>\n      <td>0.495482</td>\n      <td>0.552517</td>\n      <td>-0.267320</td>\n      <td>-0.185927</td>\n      <td>-0.359415</td>\n      <td>-0.036980</td>\n      <td>-0.348821</td>\n    </tr>\n    <tr>\n      <th>chlorides</th>\n      <td>0.298195</td>\n      <td>0.377124</td>\n      <td>0.038998</td>\n      <td>-0.128940</td>\n      <td>1.000000</td>\n      <td>-0.195045</td>\n      <td>-0.279630</td>\n      <td>0.362615</td>\n      <td>0.044708</td>\n      <td>0.395593</td>\n      <td>-0.256916</td>\n      <td>-0.200666</td>\n      <td>0.512678</td>\n    </tr>\n    <tr>\n      <th>free sulfur dioxide</th>\n      <td>-0.282735</td>\n      <td>-0.352557</td>\n      <td>0.133126</td>\n      <td>0.402871</td>\n      <td>-0.195045</td>\n      <td>1.000000</td>\n      <td>0.720934</td>\n      <td>0.025717</td>\n      <td>-0.145854</td>\n      <td>-0.188457</td>\n      <td>-0.179838</td>\n      <td>0.055463</td>\n      <td>-0.471644</td>\n    </tr>\n    <tr>\n      <th>total sulfur dioxide</th>\n      <td>-0.329054</td>\n      <td>-0.414476</td>\n      <td>0.195242</td>\n      <td>0.495482</td>\n      <td>-0.279630</td>\n      <td>0.720934</td>\n      <td>1.000000</td>\n      <td>0.032395</td>\n      <td>-0.238413</td>\n      <td>-0.275727</td>\n      <td>-0.265740</td>\n      <td>-0.041385</td>\n      <td>-0.700357</td>\n    </tr>\n    <tr>\n      <th>density</th>\n      <td>0.458910</td>\n      <td>0.271296</td>\n      <td>0.096154</td>\n      <td>0.552517</td>\n      <td>0.362615</td>\n      <td>0.025717</td>\n      <td>0.032395</td>\n      <td>1.000000</td>\n      <td>0.011686</td>\n      <td>0.259478</td>\n      <td>-0.686745</td>\n      <td>-0.305858</td>\n      <td>0.390645</td>\n    </tr>\n    <tr>\n      <th>pH</th>\n      <td>-0.252700</td>\n      <td>0.261454</td>\n      <td>-0.329808</td>\n      <td>-0.267320</td>\n      <td>0.044708</td>\n      <td>-0.145854</td>\n      <td>-0.238413</td>\n      <td>0.011686</td>\n      <td>1.000000</td>\n      <td>0.192123</td>\n      <td>0.121248</td>\n      <td>0.019506</td>\n      <td>0.329129</td>\n    </tr>\n    <tr>\n      <th>sulphates</th>\n      <td>0.299568</td>\n      <td>0.225984</td>\n      <td>0.056197</td>\n      <td>-0.185927</td>\n      <td>0.395593</td>\n      <td>-0.188457</td>\n      <td>-0.275727</td>\n      <td>0.259478</td>\n      <td>0.192123</td>\n      <td>1.000000</td>\n      <td>-0.003029</td>\n      <td>0.038485</td>\n      <td>0.487218</td>\n    </tr>\n    <tr>\n      <th>alcohol</th>\n      <td>-0.095452</td>\n      <td>-0.037640</td>\n      <td>-0.010493</td>\n      <td>-0.359415</td>\n      <td>-0.256916</td>\n      <td>-0.179838</td>\n      <td>-0.265740</td>\n      <td>-0.686745</td>\n      <td>0.121248</td>\n      <td>-0.003029</td>\n      <td>1.000000</td>\n      <td>0.444319</td>\n      <td>-0.032970</td>\n    </tr>\n    <tr>\n      <th>quality</th>\n      <td>-0.076743</td>\n      <td>-0.265699</td>\n      <td>0.085532</td>\n      <td>-0.036980</td>\n      <td>-0.200666</td>\n      <td>0.055463</td>\n      <td>-0.041385</td>\n      <td>-0.305858</td>\n      <td>0.019506</td>\n      <td>0.038485</td>\n      <td>0.444319</td>\n      <td>1.000000</td>\n      <td>-0.119323</td>\n    </tr>\n    <tr>\n      <th>red_wine</th>\n      <td>0.486740</td>\n      <td>0.653036</td>\n      <td>-0.187397</td>\n      <td>-0.348821</td>\n      <td>0.512678</td>\n      <td>-0.471644</td>\n      <td>-0.700357</td>\n      <td>0.390645</td>\n      <td>0.329129</td>\n      <td>0.487218</td>\n      <td>-0.032970</td>\n      <td>-0.119323</td>\n      <td>1.000000</td>\n    </tr>\n  </tbody>\n</table>\n</div>"
     },
     "metadata": {},
     "execution_count": 4
    }
   ],
   "source": [
    "# Use the .corr() DataFrame method to find out about the\n",
    "# correlation values between all pairs of variables!\n",
    "\n",
    "wine.corr()"
   ]
  },
  {
   "cell_type": "code",
   "execution_count": 5,
   "metadata": {
    "hidden": true
   },
   "outputs": [
    {
     "output_type": "display_data",
     "data": {
      "text/plain": "<Figure size 576x576 with 2 Axes>",
      "image/svg+xml": "<?xml version=\"1.0\" encoding=\"utf-8\" standalone=\"no\"?>\n<!DOCTYPE svg PUBLIC \"-//W3C//DTD SVG 1.1//EN\"\n  \"http://www.w3.org/Graphics/SVG/1.1/DTD/svg11.dtd\">\n<!-- Created with matplotlib (https://matplotlib.org/) -->\n<svg height=\"551.371641pt\" version=\"1.1\" viewBox=\"0 0 544.953531 551.371641\" width=\"544.953531pt\" xmlns=\"http://www.w3.org/2000/svg\" xmlns:xlink=\"http://www.w3.org/1999/xlink\">\n <metadata>\n  <rdf:RDF xmlns:cc=\"http://creativecommons.org/ns#\" xmlns:dc=\"http://purl.org/dc/elements/1.1/\" xmlns:rdf=\"http://www.w3.org/1999/02/22-rdf-syntax-ns#\">\n   <cc:Work>\n    <dc:type rdf:resource=\"http://purl.org/dc/dcmitype/StillImage\"/>\n    <dc:date>2021-07-12T13:49:03.401358</dc:date>\n    <dc:format>image/svg+xml</dc:format>\n    <dc:creator>\n     <cc:Agent>\n      <dc:title>Matplotlib v3.3.4, https://matplotlib.org/</dc:title>\n     </cc:Agent>\n    </dc:creator>\n   </cc:Work>\n  </rdf:RDF>\n </metadata>\n <defs>\n  <style type=\"text/css\">*{stroke-linecap:butt;stroke-linejoin:round;}</style>\n </defs>\n <g id=\"figure_1\">\n  <g id=\"patch_1\">\n   <path d=\"M 0 551.371641 \nL 544.953531 551.371641 \nL 544.953531 0 \nL 0 0 \nz\n\" style=\"fill:#ffffff;\"/>\n  </g>\n  <g id=\"axes_1\">\n   <g id=\"patch_2\">\n    <path d=\"M 105.354844 446.016797 \nL 462.474844 446.016797 \nL 462.474844 11.136797 \nL 105.354844 11.136797 \nz\n\" style=\"fill:#eaeaf2;\"/>\n   </g>\n   <g id=\"matplotlib.axis_1\">\n    <g id=\"xtick_1\">\n     <g id=\"text_1\">\n      <!-- fixed acidity -->\n      <g style=\"fill:#262626;\" transform=\"translate(121.936478 512.984922)rotate(-90)scale(0.11 -0.11)\">\n       <defs>\n        <path d=\"M 8.6875 0 \nL 8.6875 45.015625 \nL 0.921875 45.015625 \nL 0.921875 51.859375 \nL 8.6875 51.859375 \nL 8.6875 57.375 \nQ 8.6875 62.59375 9.625 65.140625 \nQ 10.890625 68.5625 14.078125 70.671875 \nQ 17.28125 72.796875 23.046875 72.796875 \nQ 26.765625 72.796875 31.25 71.921875 \nL 29.9375 64.265625 \nQ 27.203125 64.75 24.75 64.75 \nQ 20.75 64.75 19.09375 63.03125 \nQ 17.4375 61.328125 17.4375 56.640625 \nL 17.4375 51.859375 \nL 27.546875 51.859375 \nL 27.546875 45.015625 \nL 17.4375 45.015625 \nL 17.4375 0 \nz\n\" id=\"ArialMT-102\"/>\n        <path d=\"M 6.640625 61.46875 \nL 6.640625 71.578125 \nL 15.4375 71.578125 \nL 15.4375 61.46875 \nz\nM 6.640625 0 \nL 6.640625 51.859375 \nL 15.4375 51.859375 \nL 15.4375 0 \nz\n\" id=\"ArialMT-105\"/>\n        <path d=\"M 0.734375 0 \nL 19.671875 26.953125 \nL 2.15625 51.859375 \nL 13.140625 51.859375 \nL 21.09375 39.703125 \nQ 23.34375 36.234375 24.703125 33.890625 \nQ 26.859375 37.109375 28.65625 39.59375 \nL 37.40625 51.859375 \nL 47.90625 51.859375 \nL 29.984375 27.4375 \nL 49.265625 0 \nL 38.484375 0 \nL 27.828125 16.109375 \nL 25 20.453125 \nL 11.375 0 \nz\n\" id=\"ArialMT-120\"/>\n        <path d=\"M 42.09375 16.703125 \nL 51.171875 15.578125 \nQ 49.03125 7.625 43.21875 3.21875 \nQ 37.40625 -1.171875 28.375 -1.171875 \nQ 17 -1.171875 10.328125 5.828125 \nQ 3.65625 12.84375 3.65625 25.484375 \nQ 3.65625 38.578125 10.390625 45.796875 \nQ 17.140625 53.03125 27.875 53.03125 \nQ 38.28125 53.03125 44.875 45.953125 \nQ 51.46875 38.875 51.46875 26.03125 \nQ 51.46875 25.25 51.421875 23.6875 \nL 12.75 23.6875 \nQ 13.234375 15.140625 17.578125 10.59375 \nQ 21.921875 6.0625 28.421875 6.0625 \nQ 33.25 6.0625 36.671875 8.59375 \nQ 40.09375 11.140625 42.09375 16.703125 \nz\nM 13.234375 30.90625 \nL 42.1875 30.90625 \nQ 41.609375 37.453125 38.875 40.71875 \nQ 34.671875 45.796875 27.984375 45.796875 \nQ 21.921875 45.796875 17.796875 41.75 \nQ 13.671875 37.703125 13.234375 30.90625 \nz\n\" id=\"ArialMT-101\"/>\n        <path d=\"M 40.234375 0 \nL 40.234375 6.546875 \nQ 35.296875 -1.171875 25.734375 -1.171875 \nQ 19.53125 -1.171875 14.328125 2.25 \nQ 9.125 5.671875 6.265625 11.796875 \nQ 3.421875 17.921875 3.421875 25.875 \nQ 3.421875 33.640625 6 39.96875 \nQ 8.59375 46.296875 13.765625 49.65625 \nQ 18.953125 53.03125 25.34375 53.03125 \nQ 30.03125 53.03125 33.6875 51.046875 \nQ 37.359375 49.078125 39.65625 45.90625 \nL 39.65625 71.578125 \nL 48.390625 71.578125 \nL 48.390625 0 \nz\nM 12.453125 25.875 \nQ 12.453125 15.921875 16.640625 10.984375 \nQ 20.84375 6.0625 26.5625 6.0625 \nQ 32.328125 6.0625 36.34375 10.765625 \nQ 40.375 15.484375 40.375 25.140625 \nQ 40.375 35.796875 36.265625 40.765625 \nQ 32.171875 45.75 26.171875 45.75 \nQ 20.3125 45.75 16.375 40.96875 \nQ 12.453125 36.1875 12.453125 25.875 \nz\n\" id=\"ArialMT-100\"/>\n        <path id=\"ArialMT-32\"/>\n        <path d=\"M 40.4375 6.390625 \nQ 35.546875 2.25 31.03125 0.53125 \nQ 26.515625 -1.171875 21.34375 -1.171875 \nQ 12.796875 -1.171875 8.203125 3 \nQ 3.609375 7.171875 3.609375 13.671875 \nQ 3.609375 17.484375 5.34375 20.625 \nQ 7.078125 23.78125 9.890625 25.6875 \nQ 12.703125 27.59375 16.21875 28.5625 \nQ 18.796875 29.25 24.03125 29.890625 \nQ 34.671875 31.15625 39.703125 32.90625 \nQ 39.75 34.71875 39.75 35.203125 \nQ 39.75 40.578125 37.25 42.78125 \nQ 33.890625 45.75 27.25 45.75 \nQ 21.046875 45.75 18.09375 43.578125 \nQ 15.140625 41.40625 13.71875 35.890625 \nL 5.125 37.0625 \nQ 6.296875 42.578125 8.984375 45.96875 \nQ 11.671875 49.359375 16.75 51.1875 \nQ 21.828125 53.03125 28.515625 53.03125 \nQ 35.15625 53.03125 39.296875 51.46875 \nQ 43.453125 49.90625 45.40625 47.53125 \nQ 47.359375 45.171875 48.140625 41.546875 \nQ 48.578125 39.3125 48.578125 33.453125 \nL 48.578125 21.734375 \nQ 48.578125 9.46875 49.140625 6.21875 \nQ 49.703125 2.984375 51.375 0 \nL 42.1875 0 \nQ 40.828125 2.734375 40.4375 6.390625 \nz\nM 39.703125 26.03125 \nQ 34.90625 24.078125 25.34375 22.703125 \nQ 19.921875 21.921875 17.671875 20.9375 \nQ 15.4375 19.96875 14.203125 18.09375 \nQ 12.984375 16.21875 12.984375 13.921875 \nQ 12.984375 10.40625 15.640625 8.0625 \nQ 18.3125 5.71875 23.4375 5.71875 \nQ 28.515625 5.71875 32.46875 7.9375 \nQ 36.421875 10.15625 38.28125 14.015625 \nQ 39.703125 17 39.703125 22.796875 \nz\n\" id=\"ArialMT-97\"/>\n        <path d=\"M 40.4375 19 \nL 49.078125 17.875 \nQ 47.65625 8.9375 41.8125 3.875 \nQ 35.984375 -1.171875 27.484375 -1.171875 \nQ 16.84375 -1.171875 10.375 5.78125 \nQ 3.90625 12.75 3.90625 25.734375 \nQ 3.90625 34.125 6.6875 40.421875 \nQ 9.46875 46.734375 15.15625 49.875 \nQ 20.84375 53.03125 27.546875 53.03125 \nQ 35.984375 53.03125 41.359375 48.75 \nQ 46.734375 44.484375 48.25 36.625 \nL 39.703125 35.296875 \nQ 38.484375 40.53125 35.375 43.15625 \nQ 32.28125 45.796875 27.875 45.796875 \nQ 21.234375 45.796875 17.078125 41.03125 \nQ 12.9375 36.28125 12.9375 25.984375 \nQ 12.9375 15.53125 16.9375 10.796875 \nQ 20.953125 6.0625 27.390625 6.0625 \nQ 32.5625 6.0625 36.03125 9.234375 \nQ 39.5 12.40625 40.4375 19 \nz\n\" id=\"ArialMT-99\"/>\n        <path d=\"M 25.78125 7.859375 \nL 27.046875 0.09375 \nQ 23.34375 -0.6875 20.40625 -0.6875 \nQ 15.625 -0.6875 12.984375 0.828125 \nQ 10.359375 2.34375 9.28125 4.8125 \nQ 8.203125 7.28125 8.203125 15.1875 \nL 8.203125 45.015625 \nL 1.765625 45.015625 \nL 1.765625 51.859375 \nL 8.203125 51.859375 \nL 8.203125 64.703125 \nL 16.9375 69.96875 \nL 16.9375 51.859375 \nL 25.78125 51.859375 \nL 25.78125 45.015625 \nL 16.9375 45.015625 \nL 16.9375 14.703125 \nQ 16.9375 10.9375 17.40625 9.859375 \nQ 17.875 8.796875 18.921875 8.15625 \nQ 19.96875 7.515625 21.921875 7.515625 \nQ 23.390625 7.515625 25.78125 7.859375 \nz\n\" id=\"ArialMT-116\"/>\n        <path d=\"M 6.203125 -19.96875 \nL 5.21875 -11.71875 \nQ 8.109375 -12.5 10.25 -12.5 \nQ 13.1875 -12.5 14.9375 -11.515625 \nQ 16.703125 -10.546875 17.828125 -8.796875 \nQ 18.65625 -7.46875 20.515625 -2.25 \nQ 20.75 -1.515625 21.296875 -0.09375 \nL 1.609375 51.859375 \nL 11.078125 51.859375 \nL 21.875 21.828125 \nQ 23.96875 16.109375 25.640625 9.8125 \nQ 27.15625 15.875 29.25 21.625 \nL 40.328125 51.859375 \nL 49.125 51.859375 \nL 29.390625 -0.875 \nQ 26.21875 -9.421875 24.46875 -12.640625 \nQ 22.125 -17 19.09375 -19.015625 \nQ 16.0625 -21.046875 11.859375 -21.046875 \nQ 9.328125 -21.046875 6.203125 -19.96875 \nz\n\" id=\"ArialMT-121\"/>\n       </defs>\n       <use xlink:href=\"#ArialMT-102\"/>\n       <use x=\"27.783203\" xlink:href=\"#ArialMT-105\"/>\n       <use x=\"50\" xlink:href=\"#ArialMT-120\"/>\n       <use x=\"100\" xlink:href=\"#ArialMT-101\"/>\n       <use x=\"155.615234\" xlink:href=\"#ArialMT-100\"/>\n       <use x=\"211.230469\" xlink:href=\"#ArialMT-32\"/>\n       <use x=\"239.013672\" xlink:href=\"#ArialMT-97\"/>\n       <use x=\"294.628906\" xlink:href=\"#ArialMT-99\"/>\n       <use x=\"344.628906\" xlink:href=\"#ArialMT-105\"/>\n       <use x=\"366.845703\" xlink:href=\"#ArialMT-100\"/>\n       <use x=\"422.460938\" xlink:href=\"#ArialMT-105\"/>\n       <use x=\"444.677734\" xlink:href=\"#ArialMT-116\"/>\n       <use x=\"472.460938\" xlink:href=\"#ArialMT-121\"/>\n      </g>\n     </g>\n    </g>\n    <g id=\"xtick_2\">\n     <g id=\"text_2\">\n      <!-- volatile acidity -->\n      <g style=\"fill:#262626;\" transform=\"translate(149.340216 523.990078)rotate(-90)scale(0.11 -0.11)\">\n       <defs>\n        <path d=\"M 21 0 \nL 1.265625 51.859375 \nL 10.546875 51.859375 \nL 21.6875 20.796875 \nQ 23.484375 15.765625 25 10.359375 \nQ 26.171875 14.453125 28.265625 20.21875 \nL 39.796875 51.859375 \nL 48.828125 51.859375 \nL 29.203125 0 \nz\n\" id=\"ArialMT-118\"/>\n        <path d=\"M 3.328125 25.921875 \nQ 3.328125 40.328125 11.328125 47.265625 \nQ 18.015625 53.03125 27.640625 53.03125 \nQ 38.328125 53.03125 45.109375 46.015625 \nQ 51.90625 39.015625 51.90625 26.65625 \nQ 51.90625 16.65625 48.90625 10.90625 \nQ 45.90625 5.171875 40.15625 2 \nQ 34.421875 -1.171875 27.640625 -1.171875 \nQ 16.75 -1.171875 10.03125 5.8125 \nQ 3.328125 12.796875 3.328125 25.921875 \nz\nM 12.359375 25.921875 \nQ 12.359375 15.96875 16.703125 11.015625 \nQ 21.046875 6.0625 27.640625 6.0625 \nQ 34.1875 6.0625 38.53125 11.03125 \nQ 42.875 16.015625 42.875 26.21875 \nQ 42.875 35.84375 38.5 40.796875 \nQ 34.125 45.75 27.640625 45.75 \nQ 21.046875 45.75 16.703125 40.8125 \nQ 12.359375 35.890625 12.359375 25.921875 \nz\n\" id=\"ArialMT-111\"/>\n        <path d=\"M 6.390625 0 \nL 6.390625 71.578125 \nL 15.1875 71.578125 \nL 15.1875 0 \nz\n\" id=\"ArialMT-108\"/>\n       </defs>\n       <use xlink:href=\"#ArialMT-118\"/>\n       <use x=\"50\" xlink:href=\"#ArialMT-111\"/>\n       <use x=\"105.615234\" xlink:href=\"#ArialMT-108\"/>\n       <use x=\"127.832031\" xlink:href=\"#ArialMT-97\"/>\n       <use x=\"183.447266\" xlink:href=\"#ArialMT-116\"/>\n       <use x=\"211.230469\" xlink:href=\"#ArialMT-105\"/>\n       <use x=\"233.447266\" xlink:href=\"#ArialMT-108\"/>\n       <use x=\"255.664062\" xlink:href=\"#ArialMT-101\"/>\n       <use x=\"311.279297\" xlink:href=\"#ArialMT-32\"/>\n       <use x=\"339.0625\" xlink:href=\"#ArialMT-97\"/>\n       <use x=\"394.677734\" xlink:href=\"#ArialMT-99\"/>\n       <use x=\"444.677734\" xlink:href=\"#ArialMT-105\"/>\n       <use x=\"466.894531\" xlink:href=\"#ArialMT-100\"/>\n       <use x=\"522.509766\" xlink:href=\"#ArialMT-105\"/>\n       <use x=\"544.726562\" xlink:href=\"#ArialMT-116\"/>\n       <use x=\"572.509766\" xlink:href=\"#ArialMT-121\"/>\n      </g>\n     </g>\n    </g>\n    <g id=\"xtick_3\">\n     <g id=\"text_3\">\n      <!-- citric acid -->\n      <g style=\"fill:#262626;\" transform=\"translate(176.875439 501.357578)rotate(-90)scale(0.11 -0.11)\">\n       <defs>\n        <path d=\"M 6.5 0 \nL 6.5 51.859375 \nL 14.40625 51.859375 \nL 14.40625 44 \nQ 17.4375 49.515625 20 51.265625 \nQ 22.5625 53.03125 25.640625 53.03125 \nQ 30.078125 53.03125 34.671875 50.203125 \nL 31.640625 42.046875 \nQ 28.421875 43.953125 25.203125 43.953125 \nQ 22.3125 43.953125 20.015625 42.21875 \nQ 17.71875 40.484375 16.75 37.40625 \nQ 15.28125 32.71875 15.28125 27.15625 \nL 15.28125 0 \nz\n\" id=\"ArialMT-114\"/>\n       </defs>\n       <use xlink:href=\"#ArialMT-99\"/>\n       <use x=\"50\" xlink:href=\"#ArialMT-105\"/>\n       <use x=\"72.216797\" xlink:href=\"#ArialMT-116\"/>\n       <use x=\"100\" xlink:href=\"#ArialMT-114\"/>\n       <use x=\"133.300781\" xlink:href=\"#ArialMT-105\"/>\n       <use x=\"155.517578\" xlink:href=\"#ArialMT-99\"/>\n       <use x=\"205.517578\" xlink:href=\"#ArialMT-32\"/>\n       <use x=\"233.300781\" xlink:href=\"#ArialMT-97\"/>\n       <use x=\"288.916016\" xlink:href=\"#ArialMT-99\"/>\n       <use x=\"338.916016\" xlink:href=\"#ArialMT-105\"/>\n       <use x=\"361.132812\" xlink:href=\"#ArialMT-100\"/>\n      </g>\n     </g>\n    </g>\n    <g id=\"xtick_4\">\n     <g id=\"text_4\">\n      <!-- residual sugar -->\n      <g style=\"fill:#262626;\" transform=\"translate(204.281755 524.605391)rotate(-90)scale(0.11 -0.11)\">\n       <defs>\n        <path d=\"M 3.078125 15.484375 \nL 11.765625 16.84375 \nQ 12.5 11.625 15.84375 8.84375 \nQ 19.1875 6.0625 25.203125 6.0625 \nQ 31.25 6.0625 34.171875 8.515625 \nQ 37.109375 10.984375 37.109375 14.3125 \nQ 37.109375 17.28125 34.515625 19 \nQ 32.71875 20.171875 25.53125 21.96875 \nQ 15.875 24.421875 12.140625 26.203125 \nQ 8.40625 27.984375 6.46875 31.125 \nQ 4.546875 34.28125 4.546875 38.09375 \nQ 4.546875 41.546875 6.125 44.5 \nQ 7.71875 47.46875 10.453125 49.421875 \nQ 12.5 50.921875 16.03125 51.96875 \nQ 19.578125 53.03125 23.640625 53.03125 \nQ 29.734375 53.03125 34.34375 51.265625 \nQ 38.96875 49.515625 41.15625 46.5 \nQ 43.359375 43.5 44.1875 38.484375 \nL 35.59375 37.3125 \nQ 35.015625 41.3125 32.203125 43.546875 \nQ 29.390625 45.796875 24.265625 45.796875 \nQ 18.21875 45.796875 15.625 43.796875 \nQ 13.03125 41.796875 13.03125 39.109375 \nQ 13.03125 37.40625 14.109375 36.03125 \nQ 15.1875 34.625 17.484375 33.6875 \nQ 18.796875 33.203125 25.25 31.453125 \nQ 34.578125 28.953125 38.25 27.359375 \nQ 41.9375 25.78125 44.03125 22.75 \nQ 46.140625 19.734375 46.140625 15.234375 \nQ 46.140625 10.84375 43.578125 6.953125 \nQ 41.015625 3.078125 36.171875 0.953125 \nQ 31.34375 -1.171875 25.25 -1.171875 \nQ 15.140625 -1.171875 9.84375 3.03125 \nQ 4.546875 7.234375 3.078125 15.484375 \nz\n\" id=\"ArialMT-115\"/>\n        <path d=\"M 40.578125 0 \nL 40.578125 7.625 \nQ 34.515625 -1.171875 24.125 -1.171875 \nQ 19.53125 -1.171875 15.546875 0.578125 \nQ 11.578125 2.34375 9.640625 5 \nQ 7.71875 7.671875 6.9375 11.53125 \nQ 6.390625 14.109375 6.390625 19.734375 \nL 6.390625 51.859375 \nL 15.1875 51.859375 \nL 15.1875 23.09375 \nQ 15.1875 16.21875 15.71875 13.8125 \nQ 16.546875 10.359375 19.234375 8.375 \nQ 21.921875 6.390625 25.875 6.390625 \nQ 29.828125 6.390625 33.296875 8.421875 \nQ 36.765625 10.453125 38.203125 13.9375 \nQ 39.65625 17.4375 39.65625 24.078125 \nL 39.65625 51.859375 \nL 48.4375 51.859375 \nL 48.4375 0 \nz\n\" id=\"ArialMT-117\"/>\n        <path d=\"M 4.984375 -4.296875 \nL 13.53125 -5.5625 \nQ 14.0625 -9.515625 16.5 -11.328125 \nQ 19.78125 -13.765625 25.4375 -13.765625 \nQ 31.546875 -13.765625 34.859375 -11.328125 \nQ 38.1875 -8.890625 39.359375 -4.5 \nQ 40.046875 -1.8125 39.984375 6.78125 \nQ 34.234375 0 25.640625 0 \nQ 14.9375 0 9.078125 7.71875 \nQ 3.21875 15.4375 3.21875 26.21875 \nQ 3.21875 33.640625 5.90625 39.90625 \nQ 8.59375 46.1875 13.6875 49.609375 \nQ 18.796875 53.03125 25.6875 53.03125 \nQ 34.859375 53.03125 40.828125 45.609375 \nL 40.828125 51.859375 \nL 48.921875 51.859375 \nL 48.921875 7.03125 \nQ 48.921875 -5.078125 46.453125 -10.125 \nQ 44 -15.1875 38.640625 -18.109375 \nQ 33.296875 -21.046875 25.484375 -21.046875 \nQ 16.21875 -21.046875 10.5 -16.875 \nQ 4.78125 -12.703125 4.984375 -4.296875 \nz\nM 12.25 26.859375 \nQ 12.25 16.65625 16.296875 11.96875 \nQ 20.359375 7.28125 26.46875 7.28125 \nQ 32.515625 7.28125 36.609375 11.9375 \nQ 40.71875 16.609375 40.71875 26.5625 \nQ 40.71875 36.078125 36.5 40.90625 \nQ 32.28125 45.75 26.3125 45.75 \nQ 20.453125 45.75 16.34375 40.984375 \nQ 12.25 36.234375 12.25 26.859375 \nz\n\" id=\"ArialMT-103\"/>\n       </defs>\n       <use xlink:href=\"#ArialMT-114\"/>\n       <use x=\"33.300781\" xlink:href=\"#ArialMT-101\"/>\n       <use x=\"88.916016\" xlink:href=\"#ArialMT-115\"/>\n       <use x=\"138.916016\" xlink:href=\"#ArialMT-105\"/>\n       <use x=\"161.132812\" xlink:href=\"#ArialMT-100\"/>\n       <use x=\"216.748047\" xlink:href=\"#ArialMT-117\"/>\n       <use x=\"272.363281\" xlink:href=\"#ArialMT-97\"/>\n       <use x=\"327.978516\" xlink:href=\"#ArialMT-108\"/>\n       <use x=\"350.195312\" xlink:href=\"#ArialMT-32\"/>\n       <use x=\"377.978516\" xlink:href=\"#ArialMT-115\"/>\n       <use x=\"427.978516\" xlink:href=\"#ArialMT-117\"/>\n       <use x=\"483.59375\" xlink:href=\"#ArialMT-103\"/>\n       <use x=\"539.208984\" xlink:href=\"#ArialMT-97\"/>\n       <use x=\"594.824219\" xlink:href=\"#ArialMT-114\"/>\n      </g>\n     </g>\n    </g>\n    <g id=\"xtick_5\">\n     <g id=\"text_5\">\n      <!-- chlorides -->\n      <g style=\"fill:#262626;\" transform=\"translate(231.816977 499.535703)rotate(-90)scale(0.11 -0.11)\">\n       <defs>\n        <path d=\"M 6.59375 0 \nL 6.59375 71.578125 \nL 15.375 71.578125 \nL 15.375 45.90625 \nQ 21.53125 53.03125 30.90625 53.03125 \nQ 36.671875 53.03125 40.921875 50.75 \nQ 45.171875 48.484375 47 44.484375 \nQ 48.828125 40.484375 48.828125 32.859375 \nL 48.828125 0 \nL 40.046875 0 \nL 40.046875 32.859375 \nQ 40.046875 39.453125 37.1875 42.453125 \nQ 34.328125 45.453125 29.109375 45.453125 \nQ 25.203125 45.453125 21.75 43.421875 \nQ 18.3125 41.40625 16.84375 37.9375 \nQ 15.375 34.46875 15.375 28.375 \nL 15.375 0 \nz\n\" id=\"ArialMT-104\"/>\n       </defs>\n       <use xlink:href=\"#ArialMT-99\"/>\n       <use x=\"50\" xlink:href=\"#ArialMT-104\"/>\n       <use x=\"105.615234\" xlink:href=\"#ArialMT-108\"/>\n       <use x=\"127.832031\" xlink:href=\"#ArialMT-111\"/>\n       <use x=\"183.447266\" xlink:href=\"#ArialMT-114\"/>\n       <use x=\"216.748047\" xlink:href=\"#ArialMT-105\"/>\n       <use x=\"238.964844\" xlink:href=\"#ArialMT-100\"/>\n       <use x=\"294.580078\" xlink:href=\"#ArialMT-101\"/>\n       <use x=\"350.195312\" xlink:href=\"#ArialMT-115\"/>\n      </g>\n     </g>\n    </g>\n    <g id=\"xtick_6\">\n     <g id=\"text_6\">\n      <!-- free sulfur dioxide -->\n      <g style=\"fill:#262626;\" transform=\"translate(259.287746 542.334297)rotate(-90)scale(0.11 -0.11)\">\n       <use xlink:href=\"#ArialMT-102\"/>\n       <use x=\"27.783203\" xlink:href=\"#ArialMT-114\"/>\n       <use x=\"61.083984\" xlink:href=\"#ArialMT-101\"/>\n       <use x=\"116.699219\" xlink:href=\"#ArialMT-101\"/>\n       <use x=\"172.314453\" xlink:href=\"#ArialMT-32\"/>\n       <use x=\"200.097656\" xlink:href=\"#ArialMT-115\"/>\n       <use x=\"250.097656\" xlink:href=\"#ArialMT-117\"/>\n       <use x=\"305.712891\" xlink:href=\"#ArialMT-108\"/>\n       <use x=\"327.929688\" xlink:href=\"#ArialMT-102\"/>\n       <use x=\"355.712891\" xlink:href=\"#ArialMT-117\"/>\n       <use x=\"411.328125\" xlink:href=\"#ArialMT-114\"/>\n       <use x=\"444.628906\" xlink:href=\"#ArialMT-32\"/>\n       <use x=\"472.412109\" xlink:href=\"#ArialMT-100\"/>\n       <use x=\"528.027344\" xlink:href=\"#ArialMT-105\"/>\n       <use x=\"550.244141\" xlink:href=\"#ArialMT-111\"/>\n       <use x=\"605.859375\" xlink:href=\"#ArialMT-120\"/>\n       <use x=\"655.859375\" xlink:href=\"#ArialMT-105\"/>\n       <use x=\"678.076172\" xlink:href=\"#ArialMT-100\"/>\n       <use x=\"733.691406\" xlink:href=\"#ArialMT-101\"/>\n      </g>\n     </g>\n    </g>\n    <g id=\"xtick_7\">\n     <g id=\"text_7\">\n      <!-- total sulfur dioxide -->\n      <g style=\"fill:#262626;\" transform=\"translate(286.758516 544.171641)rotate(-90)scale(0.11 -0.11)\">\n       <use xlink:href=\"#ArialMT-116\"/>\n       <use x=\"27.783203\" xlink:href=\"#ArialMT-111\"/>\n       <use x=\"83.398438\" xlink:href=\"#ArialMT-116\"/>\n       <use x=\"111.181641\" xlink:href=\"#ArialMT-97\"/>\n       <use x=\"166.796875\" xlink:href=\"#ArialMT-108\"/>\n       <use x=\"189.013672\" xlink:href=\"#ArialMT-32\"/>\n       <use x=\"216.796875\" xlink:href=\"#ArialMT-115\"/>\n       <use x=\"266.796875\" xlink:href=\"#ArialMT-117\"/>\n       <use x=\"322.412109\" xlink:href=\"#ArialMT-108\"/>\n       <use x=\"344.628906\" xlink:href=\"#ArialMT-102\"/>\n       <use x=\"372.412109\" xlink:href=\"#ArialMT-117\"/>\n       <use x=\"428.027344\" xlink:href=\"#ArialMT-114\"/>\n       <use x=\"461.328125\" xlink:href=\"#ArialMT-32\"/>\n       <use x=\"489.111328\" xlink:href=\"#ArialMT-100\"/>\n       <use x=\"544.726562\" xlink:href=\"#ArialMT-105\"/>\n       <use x=\"566.943359\" xlink:href=\"#ArialMT-111\"/>\n       <use x=\"622.558594\" xlink:href=\"#ArialMT-120\"/>\n       <use x=\"672.558594\" xlink:href=\"#ArialMT-105\"/>\n       <use x=\"694.775391\" xlink:href=\"#ArialMT-100\"/>\n       <use x=\"750.390625\" xlink:href=\"#ArialMT-101\"/>\n      </g>\n     </g>\n    </g>\n    <g id=\"xtick_8\">\n     <g id=\"text_8\">\n      <!-- density -->\n      <g style=\"fill:#262626;\" transform=\"translate(314.164832 490.367891)rotate(-90)scale(0.11 -0.11)\">\n       <defs>\n        <path d=\"M 6.59375 0 \nL 6.59375 51.859375 \nL 14.5 51.859375 \nL 14.5 44.484375 \nQ 20.21875 53.03125 31 53.03125 \nQ 35.6875 53.03125 39.625 51.34375 \nQ 43.5625 49.65625 45.515625 46.921875 \nQ 47.46875 44.1875 48.25 40.4375 \nQ 48.734375 37.984375 48.734375 31.890625 \nL 48.734375 0 \nL 39.9375 0 \nL 39.9375 31.546875 \nQ 39.9375 36.921875 38.90625 39.578125 \nQ 37.890625 42.234375 35.28125 43.8125 \nQ 32.671875 45.40625 29.15625 45.40625 \nQ 23.53125 45.40625 19.453125 41.84375 \nQ 15.375 38.28125 15.375 28.328125 \nL 15.375 0 \nz\n\" id=\"ArialMT-110\"/>\n       </defs>\n       <use xlink:href=\"#ArialMT-100\"/>\n       <use x=\"55.615234\" xlink:href=\"#ArialMT-101\"/>\n       <use x=\"111.230469\" xlink:href=\"#ArialMT-110\"/>\n       <use x=\"166.845703\" xlink:href=\"#ArialMT-115\"/>\n       <use x=\"216.845703\" xlink:href=\"#ArialMT-105\"/>\n       <use x=\"239.0625\" xlink:href=\"#ArialMT-116\"/>\n       <use x=\"266.845703\" xlink:href=\"#ArialMT-121\"/>\n      </g>\n     </g>\n    </g>\n    <g id=\"xtick_9\">\n     <g id=\"text_9\">\n      <!-- pH -->\n      <g style=\"fill:#262626;\" transform=\"translate(341.700054 469.577891)rotate(-90)scale(0.11 -0.11)\">\n       <defs>\n        <path d=\"M 6.59375 -19.875 \nL 6.59375 51.859375 \nL 14.59375 51.859375 \nL 14.59375 45.125 \nQ 17.4375 49.078125 21 51.046875 \nQ 24.5625 53.03125 29.640625 53.03125 \nQ 36.28125 53.03125 41.359375 49.609375 \nQ 46.4375 46.1875 49.015625 39.953125 \nQ 51.609375 33.734375 51.609375 26.3125 \nQ 51.609375 18.359375 48.75 11.984375 \nQ 45.90625 5.609375 40.453125 2.21875 \nQ 35.015625 -1.171875 29 -1.171875 \nQ 24.609375 -1.171875 21.109375 0.6875 \nQ 17.625 2.546875 15.375 5.375 \nL 15.375 -19.875 \nz\nM 14.546875 25.640625 \nQ 14.546875 15.625 18.59375 10.84375 \nQ 22.65625 6.0625 28.421875 6.0625 \nQ 34.28125 6.0625 38.453125 11.015625 \nQ 42.625 15.96875 42.625 26.375 \nQ 42.625 36.28125 38.546875 41.203125 \nQ 34.46875 46.140625 28.8125 46.140625 \nQ 23.1875 46.140625 18.859375 40.890625 \nQ 14.546875 35.640625 14.546875 25.640625 \nz\n\" id=\"ArialMT-112\"/>\n        <path d=\"M 8.015625 0 \nL 8.015625 71.578125 \nL 17.484375 71.578125 \nL 17.484375 42.1875 \nL 54.6875 42.1875 \nL 54.6875 71.578125 \nL 64.15625 71.578125 \nL 64.15625 0 \nL 54.6875 0 \nL 54.6875 33.734375 \nL 17.484375 33.734375 \nL 17.484375 0 \nz\n\" id=\"ArialMT-72\"/>\n       </defs>\n       <use xlink:href=\"#ArialMT-112\"/>\n       <use x=\"55.615234\" xlink:href=\"#ArialMT-72\"/>\n      </g>\n     </g>\n    </g>\n    <g id=\"xtick_10\">\n     <g id=\"text_10\">\n      <!-- sulphates -->\n      <g style=\"fill:#262626;\" transform=\"translate(369.170823 502.601953)rotate(-90)scale(0.11 -0.11)\">\n       <use xlink:href=\"#ArialMT-115\"/>\n       <use x=\"50\" xlink:href=\"#ArialMT-117\"/>\n       <use x=\"105.615234\" xlink:href=\"#ArialMT-108\"/>\n       <use x=\"127.832031\" xlink:href=\"#ArialMT-112\"/>\n       <use x=\"183.447266\" xlink:href=\"#ArialMT-104\"/>\n       <use x=\"239.0625\" xlink:href=\"#ArialMT-97\"/>\n       <use x=\"294.677734\" xlink:href=\"#ArialMT-116\"/>\n       <use x=\"322.460938\" xlink:href=\"#ArialMT-101\"/>\n       <use x=\"378.076172\" xlink:href=\"#ArialMT-115\"/>\n      </g>\n     </g>\n    </g>\n    <g id=\"xtick_11\">\n     <g id=\"text_11\">\n      <!-- alcohol -->\n      <g style=\"fill:#262626;\" transform=\"translate(396.641593 490.373047)rotate(-90)scale(0.11 -0.11)\">\n       <use xlink:href=\"#ArialMT-97\"/>\n       <use x=\"55.615234\" xlink:href=\"#ArialMT-108\"/>\n       <use x=\"77.832031\" xlink:href=\"#ArialMT-99\"/>\n       <use x=\"127.832031\" xlink:href=\"#ArialMT-111\"/>\n       <use x=\"183.447266\" xlink:href=\"#ArialMT-104\"/>\n       <use x=\"239.0625\" xlink:href=\"#ArialMT-111\"/>\n       <use x=\"294.677734\" xlink:href=\"#ArialMT-108\"/>\n      </g>\n     </g>\n    </g>\n    <g id=\"xtick_12\">\n     <g id=\"text_12\">\n      <!-- quality -->\n      <g style=\"fill:#262626;\" transform=\"translate(424.047909 487.311953)rotate(-90)scale(0.11 -0.11)\">\n       <defs>\n        <path d=\"M 39.65625 -19.875 \nL 39.65625 5.515625 \nQ 37.59375 2.640625 33.90625 0.734375 \nQ 30.21875 -1.171875 26.078125 -1.171875 \nQ 16.84375 -1.171875 10.171875 6.203125 \nQ 3.515625 13.578125 3.515625 26.421875 \nQ 3.515625 34.234375 6.21875 40.421875 \nQ 8.9375 46.625 14.078125 49.828125 \nQ 19.234375 53.03125 25.390625 53.03125 \nQ 35.015625 53.03125 40.53125 44.921875 \nL 40.53125 51.859375 \nL 48.4375 51.859375 \nL 48.4375 -19.875 \nz\nM 12.546875 26.078125 \nQ 12.546875 16.0625 16.75 11.0625 \nQ 20.953125 6.0625 26.8125 6.0625 \nQ 32.421875 6.0625 36.46875 10.8125 \nQ 40.53125 15.578125 40.53125 25.296875 \nQ 40.53125 35.640625 36.25 40.859375 \nQ 31.984375 46.09375 26.21875 46.09375 \nQ 20.515625 46.09375 16.53125 41.234375 \nQ 12.546875 36.375 12.546875 26.078125 \nz\n\" id=\"ArialMT-113\"/>\n       </defs>\n       <use xlink:href=\"#ArialMT-113\"/>\n       <use x=\"55.615234\" xlink:href=\"#ArialMT-117\"/>\n       <use x=\"111.230469\" xlink:href=\"#ArialMT-97\"/>\n       <use x=\"166.845703\" xlink:href=\"#ArialMT-108\"/>\n       <use x=\"189.0625\" xlink:href=\"#ArialMT-105\"/>\n       <use x=\"211.279297\" xlink:href=\"#ArialMT-116\"/>\n       <use x=\"239.0625\" xlink:href=\"#ArialMT-121\"/>\n      </g>\n     </g>\n    </g>\n    <g id=\"xtick_13\">\n     <g id=\"text_13\">\n      <!-- red_wine -->\n      <g style=\"fill:#262626;\" transform=\"translate(451.583131 500.152734)rotate(-90)scale(0.11 -0.11)\">\n       <defs>\n        <path d=\"M -1.515625 -19.875 \nL -1.515625 -13.53125 \nL 56.734375 -13.53125 \nL 56.734375 -19.875 \nz\n\" id=\"ArialMT-95\"/>\n        <path d=\"M 16.15625 0 \nL 0.296875 51.859375 \nL 9.375 51.859375 \nL 17.625 21.921875 \nL 20.703125 10.796875 \nQ 20.90625 11.625 23.390625 21.484375 \nL 31.640625 51.859375 \nL 40.671875 51.859375 \nL 48.4375 21.78125 \nL 51.03125 11.859375 \nL 54 21.875 \nL 62.890625 51.859375 \nL 71.4375 51.859375 \nL 55.21875 0 \nL 46.09375 0 \nL 37.84375 31.0625 \nL 35.84375 39.890625 \nL 25.34375 0 \nz\n\" id=\"ArialMT-119\"/>\n       </defs>\n       <use xlink:href=\"#ArialMT-114\"/>\n       <use x=\"33.300781\" xlink:href=\"#ArialMT-101\"/>\n       <use x=\"88.916016\" xlink:href=\"#ArialMT-100\"/>\n       <use x=\"144.53125\" xlink:href=\"#ArialMT-95\"/>\n       <use x=\"200.146484\" xlink:href=\"#ArialMT-119\"/>\n       <use x=\"272.363281\" xlink:href=\"#ArialMT-105\"/>\n       <use x=\"294.580078\" xlink:href=\"#ArialMT-110\"/>\n       <use x=\"350.195312\" xlink:href=\"#ArialMT-101\"/>\n      </g>\n     </g>\n    </g>\n   </g>\n   <g id=\"matplotlib.axis_2\">\n    <g id=\"ytick_1\">\n     <g id=\"text_14\">\n      <!-- fixed acidity -->\n      <g style=\"fill:#262626;\" transform=\"translate(38.386719 31.866779)scale(0.11 -0.11)\">\n       <use xlink:href=\"#ArialMT-102\"/>\n       <use x=\"27.783203\" xlink:href=\"#ArialMT-105\"/>\n       <use x=\"50\" xlink:href=\"#ArialMT-120\"/>\n       <use x=\"100\" xlink:href=\"#ArialMT-101\"/>\n       <use x=\"155.615234\" xlink:href=\"#ArialMT-100\"/>\n       <use x=\"211.230469\" xlink:href=\"#ArialMT-32\"/>\n       <use x=\"239.013672\" xlink:href=\"#ArialMT-97\"/>\n       <use x=\"294.628906\" xlink:href=\"#ArialMT-99\"/>\n       <use x=\"344.628906\" xlink:href=\"#ArialMT-105\"/>\n       <use x=\"366.845703\" xlink:href=\"#ArialMT-100\"/>\n       <use x=\"422.460938\" xlink:href=\"#ArialMT-105\"/>\n       <use x=\"444.677734\" xlink:href=\"#ArialMT-116\"/>\n       <use x=\"472.460938\" xlink:href=\"#ArialMT-121\"/>\n      </g>\n     </g>\n    </g>\n    <g id=\"ytick_2\">\n     <g id=\"text_15\">\n      <!-- volatile acidity -->\n      <g style=\"fill:#262626;\" transform=\"translate(27.381563 65.252055)scale(0.11 -0.11)\">\n       <use xlink:href=\"#ArialMT-118\"/>\n       <use x=\"50\" xlink:href=\"#ArialMT-111\"/>\n       <use x=\"105.615234\" xlink:href=\"#ArialMT-108\"/>\n       <use x=\"127.832031\" xlink:href=\"#ArialMT-97\"/>\n       <use x=\"183.447266\" xlink:href=\"#ArialMT-116\"/>\n       <use x=\"211.230469\" xlink:href=\"#ArialMT-105\"/>\n       <use x=\"233.447266\" xlink:href=\"#ArialMT-108\"/>\n       <use x=\"255.664062\" xlink:href=\"#ArialMT-101\"/>\n       <use x=\"311.279297\" xlink:href=\"#ArialMT-32\"/>\n       <use x=\"339.0625\" xlink:href=\"#ArialMT-97\"/>\n       <use x=\"394.677734\" xlink:href=\"#ArialMT-99\"/>\n       <use x=\"444.677734\" xlink:href=\"#ArialMT-105\"/>\n       <use x=\"466.894531\" xlink:href=\"#ArialMT-100\"/>\n       <use x=\"522.509766\" xlink:href=\"#ArialMT-105\"/>\n       <use x=\"544.726562\" xlink:href=\"#ArialMT-116\"/>\n       <use x=\"572.509766\" xlink:href=\"#ArialMT-121\"/>\n      </g>\n     </g>\n    </g>\n    <g id=\"ytick_3\">\n     <g id=\"text_16\">\n      <!-- citric acid -->\n      <g style=\"fill:#262626;\" transform=\"translate(50.014063 98.704363)scale(0.11 -0.11)\">\n       <use xlink:href=\"#ArialMT-99\"/>\n       <use x=\"50\" xlink:href=\"#ArialMT-105\"/>\n       <use x=\"72.216797\" xlink:href=\"#ArialMT-116\"/>\n       <use x=\"100\" xlink:href=\"#ArialMT-114\"/>\n       <use x=\"133.300781\" xlink:href=\"#ArialMT-105\"/>\n       <use x=\"155.517578\" xlink:href=\"#ArialMT-99\"/>\n       <use x=\"205.517578\" xlink:href=\"#ArialMT-32\"/>\n       <use x=\"233.300781\" xlink:href=\"#ArialMT-97\"/>\n       <use x=\"288.916016\" xlink:href=\"#ArialMT-99\"/>\n       <use x=\"338.916016\" xlink:href=\"#ArialMT-105\"/>\n       <use x=\"361.132812\" xlink:href=\"#ArialMT-100\"/>\n      </g>\n     </g>\n    </g>\n    <g id=\"ytick_4\">\n     <g id=\"text_17\">\n      <!-- residual sugar -->\n      <g style=\"fill:#262626;\" transform=\"translate(26.76625 132.156671)scale(0.11 -0.11)\">\n       <use xlink:href=\"#ArialMT-114\"/>\n       <use x=\"33.300781\" xlink:href=\"#ArialMT-101\"/>\n       <use x=\"88.916016\" xlink:href=\"#ArialMT-115\"/>\n       <use x=\"138.916016\" xlink:href=\"#ArialMT-105\"/>\n       <use x=\"161.132812\" xlink:href=\"#ArialMT-100\"/>\n       <use x=\"216.748047\" xlink:href=\"#ArialMT-117\"/>\n       <use x=\"272.363281\" xlink:href=\"#ArialMT-97\"/>\n       <use x=\"327.978516\" xlink:href=\"#ArialMT-108\"/>\n       <use x=\"350.195312\" xlink:href=\"#ArialMT-32\"/>\n       <use x=\"377.978516\" xlink:href=\"#ArialMT-115\"/>\n       <use x=\"427.978516\" xlink:href=\"#ArialMT-117\"/>\n       <use x=\"483.59375\" xlink:href=\"#ArialMT-103\"/>\n       <use x=\"539.208984\" xlink:href=\"#ArialMT-97\"/>\n       <use x=\"594.824219\" xlink:href=\"#ArialMT-114\"/>\n      </g>\n     </g>\n    </g>\n    <g id=\"ytick_5\">\n     <g id=\"text_18\">\n      <!-- chlorides -->\n      <g style=\"fill:#262626;\" transform=\"translate(51.835938 165.608978)scale(0.11 -0.11)\">\n       <use xlink:href=\"#ArialMT-99\"/>\n       <use x=\"50\" xlink:href=\"#ArialMT-104\"/>\n       <use x=\"105.615234\" xlink:href=\"#ArialMT-108\"/>\n       <use x=\"127.832031\" xlink:href=\"#ArialMT-111\"/>\n       <use x=\"183.447266\" xlink:href=\"#ArialMT-114\"/>\n       <use x=\"216.748047\" xlink:href=\"#ArialMT-105\"/>\n       <use x=\"238.964844\" xlink:href=\"#ArialMT-100\"/>\n       <use x=\"294.580078\" xlink:href=\"#ArialMT-101\"/>\n       <use x=\"350.195312\" xlink:href=\"#ArialMT-115\"/>\n      </g>\n     </g>\n    </g>\n    <g id=\"ytick_6\">\n     <g id=\"text_19\">\n      <!-- free sulfur dioxide -->\n      <g style=\"fill:#262626;\" transform=\"translate(9.037344 199.061286)scale(0.11 -0.11)\">\n       <use xlink:href=\"#ArialMT-102\"/>\n       <use x=\"27.783203\" xlink:href=\"#ArialMT-114\"/>\n       <use x=\"61.083984\" xlink:href=\"#ArialMT-101\"/>\n       <use x=\"116.699219\" xlink:href=\"#ArialMT-101\"/>\n       <use x=\"172.314453\" xlink:href=\"#ArialMT-32\"/>\n       <use x=\"200.097656\" xlink:href=\"#ArialMT-115\"/>\n       <use x=\"250.097656\" xlink:href=\"#ArialMT-117\"/>\n       <use x=\"305.712891\" xlink:href=\"#ArialMT-108\"/>\n       <use x=\"327.929688\" xlink:href=\"#ArialMT-102\"/>\n       <use x=\"355.712891\" xlink:href=\"#ArialMT-117\"/>\n       <use x=\"411.328125\" xlink:href=\"#ArialMT-114\"/>\n       <use x=\"444.628906\" xlink:href=\"#ArialMT-32\"/>\n       <use x=\"472.412109\" xlink:href=\"#ArialMT-100\"/>\n       <use x=\"528.027344\" xlink:href=\"#ArialMT-105\"/>\n       <use x=\"550.244141\" xlink:href=\"#ArialMT-111\"/>\n       <use x=\"605.859375\" xlink:href=\"#ArialMT-120\"/>\n       <use x=\"655.859375\" xlink:href=\"#ArialMT-105\"/>\n       <use x=\"678.076172\" xlink:href=\"#ArialMT-100\"/>\n       <use x=\"733.691406\" xlink:href=\"#ArialMT-101\"/>\n      </g>\n     </g>\n    </g>\n    <g id=\"ytick_7\">\n     <g id=\"text_20\">\n      <!-- total sulfur dioxide -->\n      <g style=\"fill:#262626;\" transform=\"translate(7.2 232.513594)scale(0.11 -0.11)\">\n       <use xlink:href=\"#ArialMT-116\"/>\n       <use x=\"27.783203\" xlink:href=\"#ArialMT-111\"/>\n       <use x=\"83.398438\" xlink:href=\"#ArialMT-116\"/>\n       <use x=\"111.181641\" xlink:href=\"#ArialMT-97\"/>\n       <use x=\"166.796875\" xlink:href=\"#ArialMT-108\"/>\n       <use x=\"189.013672\" xlink:href=\"#ArialMT-32\"/>\n       <use x=\"216.796875\" xlink:href=\"#ArialMT-115\"/>\n       <use x=\"266.796875\" xlink:href=\"#ArialMT-117\"/>\n       <use x=\"322.412109\" xlink:href=\"#ArialMT-108\"/>\n       <use x=\"344.628906\" xlink:href=\"#ArialMT-102\"/>\n       <use x=\"372.412109\" xlink:href=\"#ArialMT-117\"/>\n       <use x=\"428.027344\" xlink:href=\"#ArialMT-114\"/>\n       <use x=\"461.328125\" xlink:href=\"#ArialMT-32\"/>\n       <use x=\"489.111328\" xlink:href=\"#ArialMT-100\"/>\n       <use x=\"544.726562\" xlink:href=\"#ArialMT-105\"/>\n       <use x=\"566.943359\" xlink:href=\"#ArialMT-111\"/>\n       <use x=\"622.558594\" xlink:href=\"#ArialMT-120\"/>\n       <use x=\"672.558594\" xlink:href=\"#ArialMT-105\"/>\n       <use x=\"694.775391\" xlink:href=\"#ArialMT-100\"/>\n       <use x=\"750.390625\" xlink:href=\"#ArialMT-101\"/>\n      </g>\n     </g>\n    </g>\n    <g id=\"ytick_8\">\n     <g id=\"text_21\">\n      <!-- density -->\n      <g style=\"fill:#262626;\" transform=\"translate(61.00375 265.965901)scale(0.11 -0.11)\">\n       <use xlink:href=\"#ArialMT-100\"/>\n       <use x=\"55.615234\" xlink:href=\"#ArialMT-101\"/>\n       <use x=\"111.230469\" xlink:href=\"#ArialMT-110\"/>\n       <use x=\"166.845703\" xlink:href=\"#ArialMT-115\"/>\n       <use x=\"216.845703\" xlink:href=\"#ArialMT-105\"/>\n       <use x=\"239.0625\" xlink:href=\"#ArialMT-116\"/>\n       <use x=\"266.845703\" xlink:href=\"#ArialMT-121\"/>\n      </g>\n     </g>\n    </g>\n    <g id=\"ytick_9\">\n     <g id=\"text_22\">\n      <!-- pH -->\n      <g style=\"fill:#262626;\" transform=\"translate(81.79375 299.418209)scale(0.11 -0.11)\">\n       <use xlink:href=\"#ArialMT-112\"/>\n       <use x=\"55.615234\" xlink:href=\"#ArialMT-72\"/>\n      </g>\n     </g>\n    </g>\n    <g id=\"ytick_10\">\n     <g id=\"text_23\">\n      <!-- sulphates -->\n      <g style=\"fill:#262626;\" transform=\"translate(48.769688 332.870517)scale(0.11 -0.11)\">\n       <use xlink:href=\"#ArialMT-115\"/>\n       <use x=\"50\" xlink:href=\"#ArialMT-117\"/>\n       <use x=\"105.615234\" xlink:href=\"#ArialMT-108\"/>\n       <use x=\"127.832031\" xlink:href=\"#ArialMT-112\"/>\n       <use x=\"183.447266\" xlink:href=\"#ArialMT-104\"/>\n       <use x=\"239.0625\" xlink:href=\"#ArialMT-97\"/>\n       <use x=\"294.677734\" xlink:href=\"#ArialMT-116\"/>\n       <use x=\"322.460938\" xlink:href=\"#ArialMT-101\"/>\n       <use x=\"378.076172\" xlink:href=\"#ArialMT-115\"/>\n      </g>\n     </g>\n    </g>\n    <g id=\"ytick_11\">\n     <g id=\"text_24\">\n      <!-- alcohol -->\n      <g style=\"fill:#262626;\" transform=\"translate(60.998594 366.322825)scale(0.11 -0.11)\">\n       <use xlink:href=\"#ArialMT-97\"/>\n       <use x=\"55.615234\" xlink:href=\"#ArialMT-108\"/>\n       <use x=\"77.832031\" xlink:href=\"#ArialMT-99\"/>\n       <use x=\"127.832031\" xlink:href=\"#ArialMT-111\"/>\n       <use x=\"183.447266\" xlink:href=\"#ArialMT-104\"/>\n       <use x=\"239.0625\" xlink:href=\"#ArialMT-111\"/>\n       <use x=\"294.677734\" xlink:href=\"#ArialMT-108\"/>\n      </g>\n     </g>\n    </g>\n    <g id=\"ytick_12\">\n     <g id=\"text_25\">\n      <!-- quality -->\n      <g style=\"fill:#262626;\" transform=\"translate(64.059687 399.775132)scale(0.11 -0.11)\">\n       <use xlink:href=\"#ArialMT-113\"/>\n       <use x=\"55.615234\" xlink:href=\"#ArialMT-117\"/>\n       <use x=\"111.230469\" xlink:href=\"#ArialMT-97\"/>\n       <use x=\"166.845703\" xlink:href=\"#ArialMT-108\"/>\n       <use x=\"189.0625\" xlink:href=\"#ArialMT-105\"/>\n       <use x=\"211.279297\" xlink:href=\"#ArialMT-116\"/>\n       <use x=\"239.0625\" xlink:href=\"#ArialMT-121\"/>\n      </g>\n     </g>\n    </g>\n    <g id=\"ytick_13\">\n     <g id=\"text_26\">\n      <!-- red_wine -->\n      <g style=\"fill:#262626;\" transform=\"translate(51.218906 433.22744)scale(0.11 -0.11)\">\n       <use xlink:href=\"#ArialMT-114\"/>\n       <use x=\"33.300781\" xlink:href=\"#ArialMT-101\"/>\n       <use x=\"88.916016\" xlink:href=\"#ArialMT-100\"/>\n       <use x=\"144.53125\" xlink:href=\"#ArialMT-95\"/>\n       <use x=\"200.146484\" xlink:href=\"#ArialMT-119\"/>\n       <use x=\"272.363281\" xlink:href=\"#ArialMT-105\"/>\n       <use x=\"294.580078\" xlink:href=\"#ArialMT-110\"/>\n       <use x=\"350.195312\" xlink:href=\"#ArialMT-101\"/>\n      </g>\n     </g>\n    </g>\n   </g>\n   <g id=\"QuadMesh_1\">\n    <path clip-path=\"url(#p5651a045fa)\" d=\"M 105.354844 11.136797 \nL 132.825613 11.136797 \nL 132.825613 44.589105 \nL 105.354844 44.589105 \nL 105.354844 11.136797 \n\" style=\"fill:#faebdd;\"/>\n    <path clip-path=\"url(#p5651a045fa)\" d=\"M 132.825613 11.136797 \nL 160.296382 11.136797 \nL 160.296382 44.589105 \nL 132.825613 44.589105 \nL 132.825613 11.136797 \n\" style=\"fill:#d82748;\"/>\n    <path clip-path=\"url(#p5651a045fa)\" d=\"M 160.296382 11.136797 \nL 187.767151 11.136797 \nL 187.767151 44.589105 \nL 160.296382 44.589105 \nL 160.296382 11.136797 \n\" style=\"fill:#e8403e;\"/>\n    <path clip-path=\"url(#p5651a045fa)\" d=\"M 187.767151 11.136797 \nL 215.237921 11.136797 \nL 215.237921 44.589105 \nL 187.767151 44.589105 \nL 187.767151 11.136797 \n\" style=\"fill:#891e5b;\"/>\n    <path clip-path=\"url(#p5651a045fa)\" d=\"M 215.237921 11.136797 \nL 242.70869 11.136797 \nL 242.70869 44.589105 \nL 215.237921 44.589105 \nL 215.237921 11.136797 \n\" style=\"fill:#e53940;\"/>\n    <path clip-path=\"url(#p5651a045fa)\" d=\"M 242.70869 11.136797 \nL 270.179459 11.136797 \nL 270.179459 44.589105 \nL 242.70869 44.589105 \nL 242.70869 11.136797 \n\" style=\"fill:#5e1f52;\"/>\n    <path clip-path=\"url(#p5651a045fa)\" d=\"M 270.179459 11.136797 \nL 297.650228 11.136797 \nL 297.650228 44.589105 \nL 270.179459 44.589105 \nL 270.179459 11.136797 \n\" style=\"fill:#531e4d;\"/>\n    <path clip-path=\"url(#p5651a045fa)\" d=\"M 297.650228 11.136797 \nL 325.120998 11.136797 \nL 325.120998 44.589105 \nL 297.650228 44.589105 \nL 297.650228 11.136797 \n\" style=\"fill:#f26747;\"/>\n    <path clip-path=\"url(#p5651a045fa)\" d=\"M 325.120998 11.136797 \nL 352.591767 11.136797 \nL 352.591767 44.589105 \nL 325.120998 44.589105 \nL 325.120998 11.136797 \n\" style=\"fill:#661f54;\"/>\n    <path clip-path=\"url(#p5651a045fa)\" d=\"M 352.591767 11.136797 \nL 380.062536 11.136797 \nL 380.062536 44.589105 \nL 352.591767 44.589105 \nL 352.591767 11.136797 \n\" style=\"fill:#e53940;\"/>\n    <path clip-path=\"url(#p5651a045fa)\" d=\"M 380.062536 11.136797 \nL 407.533305 11.136797 \nL 407.533305 44.589105 \nL 380.062536 44.589105 \nL 380.062536 11.136797 \n\" style=\"fill:#8e1d5b;\"/>\n    <path clip-path=\"url(#p5651a045fa)\" d=\"M 407.533305 11.136797 \nL 435.004075 11.136797 \nL 435.004075 44.589105 \nL 407.533305 44.589105 \nL 407.533305 11.136797 \n\" style=\"fill:#921c5b;\"/>\n    <path clip-path=\"url(#p5651a045fa)\" d=\"M 435.004075 11.136797 \nL 462.474844 11.136797 \nL 462.474844 44.589105 \nL 435.004075 44.589105 \nL 435.004075 11.136797 \n\" style=\"fill:#f26f4c;\"/>\n    <path clip-path=\"url(#p5651a045fa)\" d=\"M 105.354844 44.589105 \nL 132.825613 44.589105 \nL 132.825613 78.041412 \nL 105.354844 78.041412 \nL 105.354844 44.589105 \n\" style=\"fill:#d82748;\"/>\n    <path clip-path=\"url(#p5651a045fa)\" d=\"M 132.825613 44.589105 \nL 160.296382 44.589105 \nL 160.296382 78.041412 \nL 132.825613 78.041412 \nL 132.825613 44.589105 \n\" style=\"fill:#faebdd;\"/>\n    <path clip-path=\"url(#p5651a045fa)\" d=\"M 160.296382 44.589105 \nL 187.767151 44.589105 \nL 187.767151 78.041412 \nL 160.296382 78.041412 \nL 160.296382 44.589105 \n\" style=\"fill:#481c48;\"/>\n    <path clip-path=\"url(#p5651a045fa)\" d=\"M 187.767151 44.589105 \nL 215.237921 44.589105 \nL 215.237921 78.041412 \nL 187.767151 78.041412 \nL 187.767151 44.589105 \n\" style=\"fill:#731f58;\"/>\n    <path clip-path=\"url(#p5651a045fa)\" d=\"M 215.237921 44.589105 \nL 242.70869 44.589105 \nL 242.70869 78.041412 \nL 215.237921 78.041412 \nL 215.237921 44.589105 \n\" style=\"fill:#ed503e;\"/>\n    <path clip-path=\"url(#p5651a045fa)\" d=\"M 242.70869 44.589105 \nL 270.179459 44.589105 \nL 270.179459 78.041412 \nL 242.70869 78.041412 \nL 242.70869 44.589105 \n\" style=\"fill:#4e1d4b;\"/>\n    <path clip-path=\"url(#p5651a045fa)\" d=\"M 270.179459 44.589105 \nL 297.650228 44.589105 \nL 297.650228 78.041412 \nL 270.179459 78.041412 \nL 270.179459 44.589105 \n\" style=\"fill:#401b44;\"/>\n    <path clip-path=\"url(#p5651a045fa)\" d=\"M 297.650228 44.589105 \nL 325.120998 44.589105 \nL 325.120998 78.041412 \nL 297.650228 78.041412 \nL 297.650228 44.589105 \n\" style=\"fill:#e13342;\"/>\n    <path clip-path=\"url(#p5651a045fa)\" d=\"M 325.120998 44.589105 \nL 352.591767 44.589105 \nL 352.591767 78.041412 \nL 325.120998 78.041412 \nL 325.120998 44.589105 \n\" style=\"fill:#df2f44;\"/>\n    <path clip-path=\"url(#p5651a045fa)\" d=\"M 352.591767 44.589105 \nL 380.062536 44.589105 \nL 380.062536 78.041412 \nL 352.591767 78.041412 \nL 352.591767 44.589105 \n\" style=\"fill:#d92847;\"/>\n    <path clip-path=\"url(#p5651a045fa)\" d=\"M 380.062536 44.589105 \nL 407.533305 44.589105 \nL 407.533305 78.041412 \nL 380.062536 78.041412 \nL 380.062536 44.589105 \n\" style=\"fill:#9c1b5b;\"/>\n    <path clip-path=\"url(#p5651a045fa)\" d=\"M 407.533305 44.589105 \nL 435.004075 44.589105 \nL 435.004075 78.041412 \nL 407.533305 78.041412 \nL 407.533305 44.589105 \n\" style=\"fill:#631f53;\"/>\n    <path clip-path=\"url(#p5651a045fa)\" d=\"M 435.004075 44.589105 \nL 462.474844 44.589105 \nL 462.474844 78.041412 \nL 435.004075 78.041412 \nL 435.004075 44.589105 \n\" style=\"fill:#f69b71;\"/>\n    <path clip-path=\"url(#p5651a045fa)\" d=\"M 105.354844 78.041412 \nL 132.825613 78.041412 \nL 132.825613 111.49372 \nL 105.354844 111.49372 \nL 105.354844 78.041412 \n\" style=\"fill:#e8403e;\"/>\n    <path clip-path=\"url(#p5651a045fa)\" d=\"M 132.825613 78.041412 \nL 160.296382 78.041412 \nL 160.296382 111.49372 \nL 132.825613 111.49372 \nL 132.825613 78.041412 \n\" style=\"fill:#481c48;\"/>\n    <path clip-path=\"url(#p5651a045fa)\" d=\"M 160.296382 78.041412 \nL 187.767151 78.041412 \nL 187.767151 111.49372 \nL 160.296382 111.49372 \nL 160.296382 78.041412 \n\" style=\"fill:#faebdd;\"/>\n    <path clip-path=\"url(#p5651a045fa)\" d=\"M 187.767151 78.041412 \nL 215.237921 78.041412 \nL 215.237921 111.49372 \nL 187.767151 111.49372 \nL 187.767151 78.041412 \n\" style=\"fill:#c81951;\"/>\n    <path clip-path=\"url(#p5651a045fa)\" d=\"M 215.237921 78.041412 \nL 242.70869 78.041412 \nL 242.70869 111.49372 \nL 215.237921 111.49372 \nL 215.237921 78.041412 \n\" style=\"fill:#b01759;\"/>\n    <path clip-path=\"url(#p5651a045fa)\" d=\"M 242.70869 78.041412 \nL 270.179459 78.041412 \nL 270.179459 111.49372 \nL 242.70869 111.49372 \nL 242.70869 78.041412 \n\" style=\"fill:#c71951;\"/>\n    <path clip-path=\"url(#p5651a045fa)\" d=\"M 270.179459 78.041412 \nL 297.650228 78.041412 \nL 297.650228 111.49372 \nL 270.179459 111.49372 \nL 270.179459 78.041412 \n\" style=\"fill:#d3214b;\"/>\n    <path clip-path=\"url(#p5651a045fa)\" d=\"M 297.650228 78.041412 \nL 325.120998 78.041412 \nL 325.120998 111.49372 \nL 297.650228 111.49372 \nL 297.650228 78.041412 \n\" style=\"fill:#bd1655;\"/>\n    <path clip-path=\"url(#p5651a045fa)\" d=\"M 325.120998 78.041412 \nL 352.591767 78.041412 \nL 352.591767 111.49372 \nL 325.120998 111.49372 \nL 325.120998 78.041412 \n\" style=\"fill:#531e4d;\"/>\n    <path clip-path=\"url(#p5651a045fa)\" d=\"M 352.591767 78.041412 \nL 380.062536 78.041412 \nL 380.062536 111.49372 \nL 352.591767 111.49372 \nL 352.591767 78.041412 \n\" style=\"fill:#b41658;\"/>\n    <path clip-path=\"url(#p5651a045fa)\" d=\"M 380.062536 78.041412 \nL 407.533305 78.041412 \nL 407.533305 111.49372 \nL 380.062536 111.49372 \nL 380.062536 78.041412 \n\" style=\"fill:#a3195b;\"/>\n    <path clip-path=\"url(#p5651a045fa)\" d=\"M 407.533305 78.041412 \nL 435.004075 78.041412 \nL 435.004075 111.49372 \nL 407.533305 111.49372 \nL 407.533305 78.041412 \n\" style=\"fill:#bc1656;\"/>\n    <path clip-path=\"url(#p5651a045fa)\" d=\"M 435.004075 78.041412 \nL 462.474844 78.041412 \nL 462.474844 111.49372 \nL 435.004075 111.49372 \nL 435.004075 78.041412 \n\" style=\"fill:#761f58;\"/>\n    <path clip-path=\"url(#p5651a045fa)\" d=\"M 105.354844 111.49372 \nL 132.825613 111.49372 \nL 132.825613 144.946028 \nL 105.354844 144.946028 \nL 105.354844 111.49372 \n\" style=\"fill:#891e5b;\"/>\n    <path clip-path=\"url(#p5651a045fa)\" d=\"M 132.825613 111.49372 \nL 160.296382 111.49372 \nL 160.296382 144.946028 \nL 132.825613 144.946028 \nL 132.825613 111.49372 \n\" style=\"fill:#731f58;\"/>\n    <path clip-path=\"url(#p5651a045fa)\" d=\"M 160.296382 111.49372 \nL 187.767151 111.49372 \nL 187.767151 144.946028 \nL 160.296382 144.946028 \nL 160.296382 111.49372 \n\" style=\"fill:#c81951;\"/>\n    <path clip-path=\"url(#p5651a045fa)\" d=\"M 187.767151 111.49372 \nL 215.237921 111.49372 \nL 215.237921 144.946028 \nL 187.767151 144.946028 \nL 187.767151 111.49372 \n\" style=\"fill:#faebdd;\"/>\n    <path clip-path=\"url(#p5651a045fa)\" d=\"M 215.237921 111.49372 \nL 242.70869 111.49372 \nL 242.70869 144.946028 \nL 215.237921 144.946028 \nL 215.237921 111.49372 \n\" style=\"fill:#861e5b;\"/>\n    <path clip-path=\"url(#p5651a045fa)\" d=\"M 242.70869 111.49372 \nL 270.179459 111.49372 \nL 270.179459 144.946028 \nL 242.70869 144.946028 \nL 242.70869 111.49372 \n\" style=\"fill:#ef5840;\"/>\n    <path clip-path=\"url(#p5651a045fa)\" d=\"M 270.179459 111.49372 \nL 297.650228 111.49372 \nL 297.650228 144.946028 \nL 270.179459 144.946028 \nL 270.179459 111.49372 \n\" style=\"fill:#f3734e;\"/>\n    <path clip-path=\"url(#p5651a045fa)\" d=\"M 297.650228 111.49372 \nL 325.120998 111.49372 \nL 325.120998 144.946028 \nL 297.650228 144.946028 \nL 297.650228 111.49372 \n\" style=\"fill:#f4815a;\"/>\n    <path clip-path=\"url(#p5651a045fa)\" d=\"M 325.120998 111.49372 \nL 352.591767 111.49372 \nL 352.591767 144.946028 \nL 325.120998 144.946028 \nL 325.120998 111.49372 \n\" style=\"fill:#631f53;\"/>\n    <path clip-path=\"url(#p5651a045fa)\" d=\"M 352.591767 111.49372 \nL 380.062536 111.49372 \nL 380.062536 144.946028 \nL 352.591767 144.946028 \nL 352.591767 111.49372 \n\" style=\"fill:#761f58;\"/>\n    <path clip-path=\"url(#p5651a045fa)\" d=\"M 380.062536 111.49372 \nL 407.533305 111.49372 \nL 407.533305 144.946028 \nL 380.062536 144.946028 \nL 380.062536 111.49372 \n\" style=\"fill:#4c1d4b;\"/>\n    <path clip-path=\"url(#p5651a045fa)\" d=\"M 407.533305 111.49372 \nL 435.004075 111.49372 \nL 435.004075 144.946028 \nL 407.533305 144.946028 \nL 407.533305 111.49372 \n\" style=\"fill:#9c1b5b;\"/>\n    <path clip-path=\"url(#p5651a045fa)\" d=\"M 435.004075 111.49372 \nL 462.474844 111.49372 \nL 462.474844 144.946028 \nL 435.004075 144.946028 \nL 435.004075 111.49372 \n\" style=\"fill:#4e1d4b;\"/>\n    <path clip-path=\"url(#p5651a045fa)\" d=\"M 105.354844 144.946028 \nL 132.825613 144.946028 \nL 132.825613 178.398335 \nL 105.354844 178.398335 \nL 105.354844 144.946028 \n\" style=\"fill:#e53940;\"/>\n    <path clip-path=\"url(#p5651a045fa)\" d=\"M 132.825613 144.946028 \nL 160.296382 144.946028 \nL 160.296382 178.398335 \nL 132.825613 178.398335 \nL 132.825613 144.946028 \n\" style=\"fill:#ed503e;\"/>\n    <path clip-path=\"url(#p5651a045fa)\" d=\"M 160.296382 144.946028 \nL 187.767151 144.946028 \nL 187.767151 178.398335 \nL 160.296382 178.398335 \nL 160.296382 144.946028 \n\" style=\"fill:#b01759;\"/>\n    <path clip-path=\"url(#p5651a045fa)\" d=\"M 187.767151 144.946028 \nL 215.237921 144.946028 \nL 215.237921 178.398335 \nL 187.767151 178.398335 \nL 187.767151 144.946028 \n\" style=\"fill:#861e5b;\"/>\n    <path clip-path=\"url(#p5651a045fa)\" d=\"M 215.237921 144.946028 \nL 242.70869 144.946028 \nL 242.70869 178.398335 \nL 215.237921 178.398335 \nL 215.237921 144.946028 \n\" style=\"fill:#faebdd;\"/>\n    <path clip-path=\"url(#p5651a045fa)\" d=\"M 242.70869 144.946028 \nL 270.179459 144.946028 \nL 270.179459 178.398335 \nL 242.70869 178.398335 \nL 242.70869 144.946028 \n\" style=\"fill:#751f58;\"/>\n    <path clip-path=\"url(#p5651a045fa)\" d=\"M 270.179459 144.946028 \nL 297.650228 144.946028 \nL 297.650228 178.398335 \nL 270.179459 178.398335 \nL 270.179459 144.946028 \n\" style=\"fill:#601f52;\"/>\n    <path clip-path=\"url(#p5651a045fa)\" d=\"M 297.650228 144.946028 \nL 325.120998 144.946028 \nL 325.120998 178.398335 \nL 297.650228 178.398335 \nL 297.650228 144.946028 \n\" style=\"fill:#ec4c3e;\"/>\n    <path clip-path=\"url(#p5651a045fa)\" d=\"M 325.120998 144.946028 \nL 352.591767 144.946028 \nL 352.591767 178.398335 \nL 325.120998 178.398335 \nL 325.120998 144.946028 \n\" style=\"fill:#b21758;\"/>\n    <path clip-path=\"url(#p5651a045fa)\" d=\"M 352.591767 144.946028 \nL 380.062536 144.946028 \nL 380.062536 178.398335 \nL 352.591767 178.398335 \nL 352.591767 144.946028 \n\" style=\"fill:#ef5640;\"/>\n    <path clip-path=\"url(#p5651a045fa)\" d=\"M 380.062536 144.946028 \nL 407.533305 144.946028 \nL 407.533305 178.398335 \nL 380.062536 178.398335 \nL 380.062536 144.946028 \n\" style=\"fill:#641f54;\"/>\n    <path clip-path=\"url(#p5651a045fa)\" d=\"M 407.533305 144.946028 \nL 435.004075 144.946028 \nL 435.004075 178.398335 \nL 407.533305 178.398335 \nL 407.533305 144.946028 \n\" style=\"fill:#731f58;\"/>\n    <path clip-path=\"url(#p5651a045fa)\" d=\"M 435.004075 144.946028 \nL 462.474844 144.946028 \nL 462.474844 178.398335 \nL 435.004075 178.398335 \nL 435.004075 144.946028 \n\" style=\"fill:#f37651;\"/>\n    <path clip-path=\"url(#p5651a045fa)\" d=\"M 105.354844 178.398335 \nL 132.825613 178.398335 \nL 132.825613 211.850643 \nL 105.354844 211.850643 \nL 105.354844 178.398335 \n\" style=\"fill:#5e1f52;\"/>\n    <path clip-path=\"url(#p5651a045fa)\" d=\"M 132.825613 178.398335 \nL 160.296382 178.398335 \nL 160.296382 211.850643 \nL 132.825613 211.850643 \nL 132.825613 178.398335 \n\" style=\"fill:#4e1d4b;\"/>\n    <path clip-path=\"url(#p5651a045fa)\" d=\"M 160.296382 178.398335 \nL 187.767151 178.398335 \nL 187.767151 211.850643 \nL 160.296382 211.850643 \nL 160.296382 178.398335 \n\" style=\"fill:#c71951;\"/>\n    <path clip-path=\"url(#p5651a045fa)\" d=\"M 187.767151 178.398335 \nL 215.237921 178.398335 \nL 215.237921 211.850643 \nL 187.767151 211.850643 \nL 187.767151 178.398335 \n\" style=\"fill:#ef5840;\"/>\n    <path clip-path=\"url(#p5651a045fa)\" d=\"M 215.237921 178.398335 \nL 242.70869 178.398335 \nL 242.70869 211.850643 \nL 215.237921 211.850643 \nL 215.237921 178.398335 \n\" style=\"fill:#751f58;\"/>\n    <path clip-path=\"url(#p5651a045fa)\" d=\"M 242.70869 178.398335 \nL 270.179459 178.398335 \nL 270.179459 211.850643 \nL 242.70869 211.850643 \nL 242.70869 178.398335 \n\" style=\"fill:#faebdd;\"/>\n    <path clip-path=\"url(#p5651a045fa)\" d=\"M 270.179459 178.398335 \nL 297.650228 178.398335 \nL 297.650228 211.850643 \nL 270.179459 211.850643 \nL 270.179459 178.398335 \n\" style=\"fill:#f6ab83;\"/>\n    <path clip-path=\"url(#p5651a045fa)\" d=\"M 297.650228 178.398335 \nL 325.120998 178.398335 \nL 325.120998 211.850643 \nL 297.650228 211.850643 \nL 297.650228 178.398335 \n\" style=\"fill:#ad1759;\"/>\n    <path clip-path=\"url(#p5651a045fa)\" d=\"M 325.120998 178.398335 \nL 352.591767 178.398335 \nL 352.591767 211.850643 \nL 325.120998 211.850643 \nL 325.120998 178.398335 \n\" style=\"fill:#811e5a;\"/>\n    <path clip-path=\"url(#p5651a045fa)\" d=\"M 352.591767 178.398335 \nL 380.062536 178.398335 \nL 380.062536 211.850643 \nL 352.591767 211.850643 \nL 352.591767 178.398335 \n\" style=\"fill:#761f58;\"/>\n    <path clip-path=\"url(#p5651a045fa)\" d=\"M 380.062536 178.398335 \nL 407.533305 178.398335 \nL 407.533305 211.850643 \nL 380.062536 211.850643 \nL 380.062536 178.398335 \n\" style=\"fill:#781f59;\"/>\n    <path clip-path=\"url(#p5651a045fa)\" d=\"M 407.533305 178.398335 \nL 435.004075 178.398335 \nL 435.004075 211.850643 \nL 407.533305 211.850643 \nL 407.533305 178.398335 \n\" style=\"fill:#b41658;\"/>\n    <path clip-path=\"url(#p5651a045fa)\" d=\"M 435.004075 178.398335 \nL 462.474844 178.398335 \nL 462.474844 211.850643 \nL 435.004075 211.850643 \nL 435.004075 178.398335 \n\" style=\"fill:#33183c;\"/>\n    <path clip-path=\"url(#p5651a045fa)\" d=\"M 105.354844 211.850643 \nL 132.825613 211.850643 \nL 132.825613 245.302951 \nL 105.354844 245.302951 \nL 105.354844 211.850643 \n\" style=\"fill:#531e4d;\"/>\n    <path clip-path=\"url(#p5651a045fa)\" d=\"M 132.825613 211.850643 \nL 160.296382 211.850643 \nL 160.296382 245.302951 \nL 132.825613 245.302951 \nL 132.825613 211.850643 \n\" style=\"fill:#401b44;\"/>\n    <path clip-path=\"url(#p5651a045fa)\" d=\"M 160.296382 211.850643 \nL 187.767151 211.850643 \nL 187.767151 245.302951 \nL 160.296382 245.302951 \nL 160.296382 211.850643 \n\" style=\"fill:#d3214b;\"/>\n    <path clip-path=\"url(#p5651a045fa)\" d=\"M 187.767151 211.850643 \nL 215.237921 211.850643 \nL 215.237921 245.302951 \nL 187.767151 245.302951 \nL 187.767151 211.850643 \n\" style=\"fill:#f3734e;\"/>\n    <path clip-path=\"url(#p5651a045fa)\" d=\"M 215.237921 211.850643 \nL 242.70869 211.850643 \nL 242.70869 245.302951 \nL 215.237921 245.302951 \nL 215.237921 211.850643 \n\" style=\"fill:#601f52;\"/>\n    <path clip-path=\"url(#p5651a045fa)\" d=\"M 242.70869 211.850643 \nL 270.179459 211.850643 \nL 270.179459 245.302951 \nL 242.70869 245.302951 \nL 242.70869 211.850643 \n\" style=\"fill:#f6ab83;\"/>\n    <path clip-path=\"url(#p5651a045fa)\" d=\"M 270.179459 211.850643 \nL 297.650228 211.850643 \nL 297.650228 245.302951 \nL 270.179459 245.302951 \nL 270.179459 211.850643 \n\" style=\"fill:#faebdd;\"/>\n    <path clip-path=\"url(#p5651a045fa)\" d=\"M 297.650228 211.850643 \nL 325.120998 211.850643 \nL 325.120998 245.302951 \nL 297.650228 245.302951 \nL 297.650228 211.850643 \n\" style=\"fill:#af1759;\"/>\n    <path clip-path=\"url(#p5651a045fa)\" d=\"M 325.120998 211.850643 \nL 352.591767 211.850643 \nL 352.591767 245.302951 \nL 325.120998 245.302951 \nL 325.120998 211.850643 \n\" style=\"fill:#691f55;\"/>\n    <path clip-path=\"url(#p5651a045fa)\" d=\"M 352.591767 211.850643 \nL 380.062536 211.850643 \nL 380.062536 245.302951 \nL 352.591767 245.302951 \nL 352.591767 211.850643 \n\" style=\"fill:#601f52;\"/>\n    <path clip-path=\"url(#p5651a045fa)\" d=\"M 380.062536 211.850643 \nL 407.533305 211.850643 \nL 407.533305 245.302951 \nL 380.062536 245.302951 \nL 380.062536 211.850643 \n\" style=\"fill:#631f53;\"/>\n    <path clip-path=\"url(#p5651a045fa)\" d=\"M 407.533305 211.850643 \nL 435.004075 211.850643 \nL 435.004075 245.302951 \nL 407.533305 245.302951 \nL 407.533305 211.850643 \n\" style=\"fill:#9c1b5b;\"/>\n    <path clip-path=\"url(#p5651a045fa)\" d=\"M 435.004075 211.850643 \nL 462.474844 211.850643 \nL 462.474844 245.302951 \nL 435.004075 245.302951 \nL 435.004075 211.850643 \n\" style=\"fill:#03051a;\"/>\n    <path clip-path=\"url(#p5651a045fa)\" d=\"M 105.354844 245.302951 \nL 132.825613 245.302951 \nL 132.825613 278.755258 \nL 105.354844 278.755258 \nL 105.354844 245.302951 \n\" style=\"fill:#f26747;\"/>\n    <path clip-path=\"url(#p5651a045fa)\" d=\"M 132.825613 245.302951 \nL 160.296382 245.302951 \nL 160.296382 278.755258 \nL 132.825613 278.755258 \nL 132.825613 245.302951 \n\" style=\"fill:#e13342;\"/>\n    <path clip-path=\"url(#p5651a045fa)\" d=\"M 160.296382 245.302951 \nL 187.767151 245.302951 \nL 187.767151 278.755258 \nL 160.296382 278.755258 \nL 160.296382 245.302951 \n\" style=\"fill:#bd1655;\"/>\n    <path clip-path=\"url(#p5651a045fa)\" d=\"M 187.767151 245.302951 \nL 215.237921 245.302951 \nL 215.237921 278.755258 \nL 187.767151 278.755258 \nL 187.767151 245.302951 \n\" style=\"fill:#f4815a;\"/>\n    <path clip-path=\"url(#p5651a045fa)\" d=\"M 215.237921 245.302951 \nL 242.70869 245.302951 \nL 242.70869 278.755258 \nL 215.237921 278.755258 \nL 215.237921 245.302951 \n\" style=\"fill:#ec4c3e;\"/>\n    <path clip-path=\"url(#p5651a045fa)\" d=\"M 242.70869 245.302951 \nL 270.179459 245.302951 \nL 270.179459 278.755258 \nL 242.70869 278.755258 \nL 242.70869 245.302951 \n\" style=\"fill:#ad1759;\"/>\n    <path clip-path=\"url(#p5651a045fa)\" d=\"M 270.179459 245.302951 \nL 297.650228 245.302951 \nL 297.650228 278.755258 \nL 270.179459 278.755258 \nL 270.179459 245.302951 \n\" style=\"fill:#af1759;\"/>\n    <path clip-path=\"url(#p5651a045fa)\" d=\"M 297.650228 245.302951 \nL 325.120998 245.302951 \nL 325.120998 278.755258 \nL 297.650228 278.755258 \nL 297.650228 245.302951 \n\" style=\"fill:#faebdd;\"/>\n    <path clip-path=\"url(#p5651a045fa)\" d=\"M 325.120998 245.302951 \nL 352.591767 245.302951 \nL 352.591767 278.755258 \nL 325.120998 278.755258 \nL 325.120998 245.302951 \n\" style=\"fill:#aa185a;\"/>\n    <path clip-path=\"url(#p5651a045fa)\" d=\"M 352.591767 245.302951 \nL 380.062536 245.302951 \nL 380.062536 278.755258 \nL 352.591767 278.755258 \nL 352.591767 245.302951 \n\" style=\"fill:#df2f44;\"/>\n    <path clip-path=\"url(#p5651a045fa)\" d=\"M 380.062536 245.302951 \nL 407.533305 245.302951 \nL 407.533305 278.755258 \nL 380.062536 278.755258 \nL 380.062536 245.302951 \n\" style=\"fill:#05061b;\"/>\n    <path clip-path=\"url(#p5651a045fa)\" d=\"M 407.533305 245.302951 \nL 435.004075 245.302951 \nL 435.004075 278.755258 \nL 407.533305 278.755258 \nL 407.533305 245.302951 \n\" style=\"fill:#591e50;\"/>\n    <path clip-path=\"url(#p5651a045fa)\" d=\"M 435.004075 245.302951 \nL 462.474844 245.302951 \nL 462.474844 278.755258 \nL 435.004075 278.755258 \nL 435.004075 245.302951 \n\" style=\"fill:#ee543f;\"/>\n    <path clip-path=\"url(#p5651a045fa)\" d=\"M 105.354844 278.755258 \nL 132.825613 278.755258 \nL 132.825613 312.207566 \nL 105.354844 312.207566 \nL 105.354844 278.755258 \n\" style=\"fill:#661f54;\"/>\n    <path clip-path=\"url(#p5651a045fa)\" d=\"M 132.825613 278.755258 \nL 160.296382 278.755258 \nL 160.296382 312.207566 \nL 132.825613 312.207566 \nL 132.825613 278.755258 \n\" style=\"fill:#df2f44;\"/>\n    <path clip-path=\"url(#p5651a045fa)\" d=\"M 160.296382 278.755258 \nL 187.767151 278.755258 \nL 187.767151 312.207566 \nL 160.296382 312.207566 \nL 160.296382 278.755258 \n\" style=\"fill:#531e4d;\"/>\n    <path clip-path=\"url(#p5651a045fa)\" d=\"M 187.767151 278.755258 \nL 215.237921 278.755258 \nL 215.237921 312.207566 \nL 187.767151 312.207566 \nL 187.767151 278.755258 \n\" style=\"fill:#631f53;\"/>\n    <path clip-path=\"url(#p5651a045fa)\" d=\"M 215.237921 278.755258 \nL 242.70869 278.755258 \nL 242.70869 312.207566 \nL 215.237921 312.207566 \nL 215.237921 278.755258 \n\" style=\"fill:#b21758;\"/>\n    <path clip-path=\"url(#p5651a045fa)\" d=\"M 242.70869 278.755258 \nL 270.179459 278.755258 \nL 270.179459 312.207566 \nL 242.70869 312.207566 \nL 242.70869 278.755258 \n\" style=\"fill:#811e5a;\"/>\n    <path clip-path=\"url(#p5651a045fa)\" d=\"M 270.179459 278.755258 \nL 297.650228 278.755258 \nL 297.650228 312.207566 \nL 270.179459 312.207566 \nL 270.179459 278.755258 \n\" style=\"fill:#691f55;\"/>\n    <path clip-path=\"url(#p5651a045fa)\" d=\"M 297.650228 278.755258 \nL 325.120998 278.755258 \nL 325.120998 312.207566 \nL 297.650228 312.207566 \nL 297.650228 278.755258 \n\" style=\"fill:#aa185a;\"/>\n    <path clip-path=\"url(#p5651a045fa)\" d=\"M 325.120998 278.755258 \nL 352.591767 278.755258 \nL 352.591767 312.207566 \nL 325.120998 312.207566 \nL 325.120998 278.755258 \n\" style=\"fill:#faebdd;\"/>\n    <path clip-path=\"url(#p5651a045fa)\" d=\"M 352.591767 278.755258 \nL 380.062536 278.755258 \nL 380.062536 312.207566 \nL 352.591767 312.207566 \nL 352.591767 278.755258 \n\" style=\"fill:#d3214b;\"/>\n    <path clip-path=\"url(#p5651a045fa)\" d=\"M 380.062536 278.755258 \nL 407.533305 278.755258 \nL 407.533305 312.207566 \nL 380.062536 312.207566 \nL 380.062536 278.755258 \n\" style=\"fill:#c41753;\"/>\n    <path clip-path=\"url(#p5651a045fa)\" d=\"M 407.533305 278.755258 \nL 435.004075 278.755258 \nL 435.004075 312.207566 \nL 407.533305 312.207566 \nL 407.533305 278.755258 \n\" style=\"fill:#ab185a;\"/>\n    <path clip-path=\"url(#p5651a045fa)\" d=\"M 435.004075 278.755258 \nL 462.474844 278.755258 \nL 462.474844 312.207566 \nL 435.004075 312.207566 \nL 435.004075 278.755258 \n\" style=\"fill:#e8403e;\"/>\n    <path clip-path=\"url(#p5651a045fa)\" d=\"M 105.354844 312.207566 \nL 132.825613 312.207566 \nL 132.825613 345.659874 \nL 105.354844 345.659874 \nL 105.354844 312.207566 \n\" style=\"fill:#e53940;\"/>\n    <path clip-path=\"url(#p5651a045fa)\" d=\"M 132.825613 312.207566 \nL 160.296382 312.207566 \nL 160.296382 345.659874 \nL 132.825613 345.659874 \nL 132.825613 312.207566 \n\" style=\"fill:#d92847;\"/>\n    <path clip-path=\"url(#p5651a045fa)\" d=\"M 160.296382 312.207566 \nL 187.767151 312.207566 \nL 187.767151 345.659874 \nL 160.296382 345.659874 \nL 160.296382 312.207566 \n\" style=\"fill:#b41658;\"/>\n    <path clip-path=\"url(#p5651a045fa)\" d=\"M 187.767151 312.207566 \nL 215.237921 312.207566 \nL 215.237921 345.659874 \nL 187.767151 345.659874 \nL 187.767151 312.207566 \n\" style=\"fill:#761f58;\"/>\n    <path clip-path=\"url(#p5651a045fa)\" d=\"M 215.237921 312.207566 \nL 242.70869 312.207566 \nL 242.70869 345.659874 \nL 215.237921 345.659874 \nL 215.237921 312.207566 \n\" style=\"fill:#ef5640;\"/>\n    <path clip-path=\"url(#p5651a045fa)\" d=\"M 242.70869 312.207566 \nL 270.179459 312.207566 \nL 270.179459 345.659874 \nL 242.70869 345.659874 \nL 242.70869 312.207566 \n\" style=\"fill:#761f58;\"/>\n    <path clip-path=\"url(#p5651a045fa)\" d=\"M 270.179459 312.207566 \nL 297.650228 312.207566 \nL 297.650228 345.659874 \nL 270.179459 345.659874 \nL 270.179459 312.207566 \n\" style=\"fill:#601f52;\"/>\n    <path clip-path=\"url(#p5651a045fa)\" d=\"M 297.650228 312.207566 \nL 325.120998 312.207566 \nL 325.120998 345.659874 \nL 297.650228 345.659874 \nL 297.650228 312.207566 \n\" style=\"fill:#df2f44;\"/>\n    <path clip-path=\"url(#p5651a045fa)\" d=\"M 325.120998 312.207566 \nL 352.591767 312.207566 \nL 352.591767 345.659874 \nL 325.120998 345.659874 \nL 325.120998 312.207566 \n\" style=\"fill:#d3214b;\"/>\n    <path clip-path=\"url(#p5651a045fa)\" d=\"M 352.591767 312.207566 \nL 380.062536 312.207566 \nL 380.062536 345.659874 \nL 352.591767 345.659874 \nL 352.591767 312.207566 \n\" style=\"fill:#faebdd;\"/>\n    <path clip-path=\"url(#p5651a045fa)\" d=\"M 380.062536 312.207566 \nL 407.533305 312.207566 \nL 407.533305 345.659874 \nL 380.062536 345.659874 \nL 380.062536 312.207566 \n\" style=\"fill:#a4195b;\"/>\n    <path clip-path=\"url(#p5651a045fa)\" d=\"M 407.533305 312.207566 \nL 435.004075 312.207566 \nL 435.004075 345.659874 \nL 407.533305 345.659874 \nL 407.533305 312.207566 \n\" style=\"fill:#b01759;\"/>\n    <path clip-path=\"url(#p5651a045fa)\" d=\"M 435.004075 312.207566 \nL 462.474844 312.207566 \nL 462.474844 345.659874 \nL 435.004075 345.659874 \nL 435.004075 312.207566 \n\" style=\"fill:#f26f4c;\"/>\n    <path clip-path=\"url(#p5651a045fa)\" d=\"M 105.354844 345.659874 \nL 132.825613 345.659874 \nL 132.825613 379.112181 \nL 105.354844 379.112181 \nL 105.354844 345.659874 \n\" style=\"fill:#8e1d5b;\"/>\n    <path clip-path=\"url(#p5651a045fa)\" d=\"M 132.825613 345.659874 \nL 160.296382 345.659874 \nL 160.296382 379.112181 \nL 132.825613 379.112181 \nL 132.825613 345.659874 \n\" style=\"fill:#9c1b5b;\"/>\n    <path clip-path=\"url(#p5651a045fa)\" d=\"M 160.296382 345.659874 \nL 187.767151 345.659874 \nL 187.767151 379.112181 \nL 160.296382 379.112181 \nL 160.296382 345.659874 \n\" style=\"fill:#a3195b;\"/>\n    <path clip-path=\"url(#p5651a045fa)\" d=\"M 187.767151 345.659874 \nL 215.237921 345.659874 \nL 215.237921 379.112181 \nL 187.767151 379.112181 \nL 187.767151 345.659874 \n\" style=\"fill:#4c1d4b;\"/>\n    <path clip-path=\"url(#p5651a045fa)\" d=\"M 215.237921 345.659874 \nL 242.70869 345.659874 \nL 242.70869 379.112181 \nL 215.237921 379.112181 \nL 215.237921 345.659874 \n\" style=\"fill:#641f54;\"/>\n    <path clip-path=\"url(#p5651a045fa)\" d=\"M 242.70869 345.659874 \nL 270.179459 345.659874 \nL 270.179459 379.112181 \nL 242.70869 379.112181 \nL 242.70869 345.659874 \n\" style=\"fill:#781f59;\"/>\n    <path clip-path=\"url(#p5651a045fa)\" d=\"M 270.179459 345.659874 \nL 297.650228 345.659874 \nL 297.650228 379.112181 \nL 270.179459 379.112181 \nL 270.179459 345.659874 \n\" style=\"fill:#631f53;\"/>\n    <path clip-path=\"url(#p5651a045fa)\" d=\"M 297.650228 345.659874 \nL 325.120998 345.659874 \nL 325.120998 379.112181 \nL 297.650228 379.112181 \nL 297.650228 345.659874 \n\" style=\"fill:#05061b;\"/>\n    <path clip-path=\"url(#p5651a045fa)\" d=\"M 325.120998 345.659874 \nL 352.591767 345.659874 \nL 352.591767 379.112181 \nL 325.120998 379.112181 \nL 325.120998 345.659874 \n\" style=\"fill:#c41753;\"/>\n    <path clip-path=\"url(#p5651a045fa)\" d=\"M 352.591767 345.659874 \nL 380.062536 345.659874 \nL 380.062536 379.112181 \nL 352.591767 379.112181 \nL 352.591767 345.659874 \n\" style=\"fill:#a4195b;\"/>\n    <path clip-path=\"url(#p5651a045fa)\" d=\"M 380.062536 345.659874 \nL 407.533305 345.659874 \nL 407.533305 379.112181 \nL 380.062536 379.112181 \nL 380.062536 345.659874 \n\" style=\"fill:#faebdd;\"/>\n    <path clip-path=\"url(#p5651a045fa)\" d=\"M 407.533305 345.659874 \nL 435.004075 345.659874 \nL 435.004075 379.112181 \nL 407.533305 379.112181 \nL 407.533305 345.659874 \n\" style=\"fill:#f16445;\"/>\n    <path clip-path=\"url(#p5651a045fa)\" d=\"M 435.004075 345.659874 \nL 462.474844 345.659874 \nL 462.474844 379.112181 \nL 435.004075 379.112181 \nL 435.004075 345.659874 \n\" style=\"fill:#9e1a5b;\"/>\n    <path clip-path=\"url(#p5651a045fa)\" d=\"M 105.354844 379.112181 \nL 132.825613 379.112181 \nL 132.825613 412.564489 \nL 105.354844 412.564489 \nL 105.354844 379.112181 \n\" style=\"fill:#921c5b;\"/>\n    <path clip-path=\"url(#p5651a045fa)\" d=\"M 132.825613 379.112181 \nL 160.296382 379.112181 \nL 160.296382 412.564489 \nL 132.825613 412.564489 \nL 132.825613 379.112181 \n\" style=\"fill:#631f53;\"/>\n    <path clip-path=\"url(#p5651a045fa)\" d=\"M 160.296382 379.112181 \nL 187.767151 379.112181 \nL 187.767151 412.564489 \nL 160.296382 412.564489 \nL 160.296382 379.112181 \n\" style=\"fill:#bc1656;\"/>\n    <path clip-path=\"url(#p5651a045fa)\" d=\"M 187.767151 379.112181 \nL 215.237921 379.112181 \nL 215.237921 412.564489 \nL 187.767151 412.564489 \nL 187.767151 379.112181 \n\" style=\"fill:#9c1b5b;\"/>\n    <path clip-path=\"url(#p5651a045fa)\" d=\"M 215.237921 379.112181 \nL 242.70869 379.112181 \nL 242.70869 412.564489 \nL 215.237921 412.564489 \nL 215.237921 379.112181 \n\" style=\"fill:#731f58;\"/>\n    <path clip-path=\"url(#p5651a045fa)\" d=\"M 242.70869 379.112181 \nL 270.179459 379.112181 \nL 270.179459 412.564489 \nL 242.70869 412.564489 \nL 242.70869 379.112181 \n\" style=\"fill:#b41658;\"/>\n    <path clip-path=\"url(#p5651a045fa)\" d=\"M 270.179459 379.112181 \nL 297.650228 379.112181 \nL 297.650228 412.564489 \nL 270.179459 412.564489 \nL 270.179459 379.112181 \n\" style=\"fill:#9c1b5b;\"/>\n    <path clip-path=\"url(#p5651a045fa)\" d=\"M 297.650228 379.112181 \nL 325.120998 379.112181 \nL 325.120998 412.564489 \nL 297.650228 412.564489 \nL 297.650228 379.112181 \n\" style=\"fill:#591e50;\"/>\n    <path clip-path=\"url(#p5651a045fa)\" d=\"M 325.120998 379.112181 \nL 352.591767 379.112181 \nL 352.591767 412.564489 \nL 325.120998 412.564489 \nL 325.120998 379.112181 \n\" style=\"fill:#ab185a;\"/>\n    <path clip-path=\"url(#p5651a045fa)\" d=\"M 352.591767 379.112181 \nL 380.062536 379.112181 \nL 380.062536 412.564489 \nL 352.591767 412.564489 \nL 352.591767 379.112181 \n\" style=\"fill:#b01759;\"/>\n    <path clip-path=\"url(#p5651a045fa)\" d=\"M 380.062536 379.112181 \nL 407.533305 379.112181 \nL 407.533305 412.564489 \nL 380.062536 412.564489 \nL 380.062536 379.112181 \n\" style=\"fill:#f16445;\"/>\n    <path clip-path=\"url(#p5651a045fa)\" d=\"M 407.533305 379.112181 \nL 435.004075 379.112181 \nL 435.004075 412.564489 \nL 407.533305 412.564489 \nL 407.533305 379.112181 \n\" style=\"fill:#faebdd;\"/>\n    <path clip-path=\"url(#p5651a045fa)\" d=\"M 435.004075 379.112181 \nL 462.474844 379.112181 \nL 462.474844 412.564489 \nL 435.004075 412.564489 \nL 435.004075 379.112181 \n\" style=\"fill:#871e5b;\"/>\n    <path clip-path=\"url(#p5651a045fa)\" d=\"M 105.354844 412.564489 \nL 132.825613 412.564489 \nL 132.825613 446.016797 \nL 105.354844 446.016797 \nL 105.354844 412.564489 \n\" style=\"fill:#f26f4c;\"/>\n    <path clip-path=\"url(#p5651a045fa)\" d=\"M 132.825613 412.564489 \nL 160.296382 412.564489 \nL 160.296382 446.016797 \nL 132.825613 446.016797 \nL 132.825613 412.564489 \n\" style=\"fill:#f69b71;\"/>\n    <path clip-path=\"url(#p5651a045fa)\" d=\"M 160.296382 412.564489 \nL 187.767151 412.564489 \nL 187.767151 446.016797 \nL 160.296382 446.016797 \nL 160.296382 412.564489 \n\" style=\"fill:#761f58;\"/>\n    <path clip-path=\"url(#p5651a045fa)\" d=\"M 187.767151 412.564489 \nL 215.237921 412.564489 \nL 215.237921 446.016797 \nL 187.767151 446.016797 \nL 187.767151 412.564489 \n\" style=\"fill:#4e1d4b;\"/>\n    <path clip-path=\"url(#p5651a045fa)\" d=\"M 215.237921 412.564489 \nL 242.70869 412.564489 \nL 242.70869 446.016797 \nL 215.237921 446.016797 \nL 215.237921 412.564489 \n\" style=\"fill:#f37651;\"/>\n    <path clip-path=\"url(#p5651a045fa)\" d=\"M 242.70869 412.564489 \nL 270.179459 412.564489 \nL 270.179459 446.016797 \nL 242.70869 446.016797 \nL 242.70869 412.564489 \n\" style=\"fill:#33183c;\"/>\n    <path clip-path=\"url(#p5651a045fa)\" d=\"M 270.179459 412.564489 \nL 297.650228 412.564489 \nL 297.650228 446.016797 \nL 270.179459 446.016797 \nL 270.179459 412.564489 \n\" style=\"fill:#03051a;\"/>\n    <path clip-path=\"url(#p5651a045fa)\" d=\"M 297.650228 412.564489 \nL 325.120998 412.564489 \nL 325.120998 446.016797 \nL 297.650228 446.016797 \nL 297.650228 412.564489 \n\" style=\"fill:#ee543f;\"/>\n    <path clip-path=\"url(#p5651a045fa)\" d=\"M 325.120998 412.564489 \nL 352.591767 412.564489 \nL 352.591767 446.016797 \nL 325.120998 446.016797 \nL 325.120998 412.564489 \n\" style=\"fill:#e8403e;\"/>\n    <path clip-path=\"url(#p5651a045fa)\" d=\"M 352.591767 412.564489 \nL 380.062536 412.564489 \nL 380.062536 446.016797 \nL 352.591767 446.016797 \nL 352.591767 412.564489 \n\" style=\"fill:#f26f4c;\"/>\n    <path clip-path=\"url(#p5651a045fa)\" d=\"M 380.062536 412.564489 \nL 407.533305 412.564489 \nL 407.533305 446.016797 \nL 380.062536 446.016797 \nL 380.062536 412.564489 \n\" style=\"fill:#9e1a5b;\"/>\n    <path clip-path=\"url(#p5651a045fa)\" d=\"M 407.533305 412.564489 \nL 435.004075 412.564489 \nL 435.004075 446.016797 \nL 407.533305 446.016797 \nL 407.533305 412.564489 \n\" style=\"fill:#871e5b;\"/>\n    <path clip-path=\"url(#p5651a045fa)\" d=\"M 435.004075 412.564489 \nL 462.474844 412.564489 \nL 462.474844 446.016797 \nL 435.004075 446.016797 \nL 435.004075 412.564489 \n\" style=\"fill:#faebdd;\"/>\n   </g>\n  </g>\n  <g id=\"axes_2\">\n   <g id=\"patch_3\">\n    <path clip-path=\"url(#p3a91837596)\" d=\"M 484.794844 446.016797 \nL 484.794844 444.318047 \nL 484.794844 12.835547 \nL 484.794844 11.136797 \nL 506.538844 11.136797 \nL 506.538844 12.835547 \nL 506.538844 444.318047 \nL 506.538844 446.016797 \nz\n\" style=\"fill:#eaeaf2;stroke:#eaeaf2;stroke-linejoin:miter;stroke-width:0.01;\"/>\n   </g>\n   <g id=\"matplotlib.axis_3\"/>\n   <g id=\"matplotlib.axis_4\">\n    <g id=\"ytick_14\">\n     <g id=\"line2d_1\">\n      <defs>\n       <path d=\"M 0 0 \nL 6 0 \n\" id=\"m0e95351efa\" style=\"stroke:#262626;stroke-width:1.25;\"/>\n      </defs>\n      <g>\n       <use style=\"fill:#262626;stroke:#262626;stroke-width:1.25;\" x=\"506.538844\" xlink:href=\"#m0e95351efa\" y=\"420.349648\"/>\n      </g>\n     </g>\n     <g id=\"text_27\">\n      <!-- −0.6 -->\n      <g style=\"fill:#262626;\" transform=\"translate(516.038844 424.286445)scale(0.11 -0.11)\">\n       <defs>\n        <path d=\"M 52.828125 31.203125 \nL 5.5625 31.203125 \nL 5.5625 39.40625 \nL 52.828125 39.40625 \nz\n\" id=\"ArialMT-8722\"/>\n        <path d=\"M 4.15625 35.296875 \nQ 4.15625 48 6.765625 55.734375 \nQ 9.375 63.484375 14.515625 67.671875 \nQ 19.671875 71.875 27.484375 71.875 \nQ 33.25 71.875 37.59375 69.546875 \nQ 41.9375 67.234375 44.765625 62.859375 \nQ 47.609375 58.5 49.21875 52.21875 \nQ 50.828125 45.953125 50.828125 35.296875 \nQ 50.828125 22.703125 48.234375 14.96875 \nQ 45.65625 7.234375 40.5 3 \nQ 35.359375 -1.21875 27.484375 -1.21875 \nQ 17.140625 -1.21875 11.234375 6.203125 \nQ 4.15625 15.140625 4.15625 35.296875 \nz\nM 13.1875 35.296875 \nQ 13.1875 17.671875 17.3125 11.828125 \nQ 21.4375 6 27.484375 6 \nQ 33.546875 6 37.671875 11.859375 \nQ 41.796875 17.71875 41.796875 35.296875 \nQ 41.796875 52.984375 37.671875 58.78125 \nQ 33.546875 64.59375 27.390625 64.59375 \nQ 21.34375 64.59375 17.71875 59.46875 \nQ 13.1875 52.9375 13.1875 35.296875 \nz\n\" id=\"ArialMT-48\"/>\n        <path d=\"M 9.078125 0 \nL 9.078125 10.015625 \nL 19.09375 10.015625 \nL 19.09375 0 \nz\n\" id=\"ArialMT-46\"/>\n        <path d=\"M 49.75 54.046875 \nL 41.015625 53.375 \nQ 39.84375 58.546875 37.703125 60.890625 \nQ 34.125 64.65625 28.90625 64.65625 \nQ 24.703125 64.65625 21.53125 62.3125 \nQ 17.390625 59.28125 14.984375 53.46875 \nQ 12.59375 47.65625 12.5 36.921875 \nQ 15.671875 41.75 20.265625 44.09375 \nQ 24.859375 46.4375 29.890625 46.4375 \nQ 38.671875 46.4375 44.84375 39.96875 \nQ 51.03125 33.5 51.03125 23.25 \nQ 51.03125 16.5 48.125 10.71875 \nQ 45.21875 4.9375 40.140625 1.859375 \nQ 35.0625 -1.21875 28.609375 -1.21875 \nQ 17.625 -1.21875 10.6875 6.859375 \nQ 3.765625 14.9375 3.765625 33.5 \nQ 3.765625 54.25 11.421875 63.671875 \nQ 18.109375 71.875 29.4375 71.875 \nQ 37.890625 71.875 43.28125 67.140625 \nQ 48.6875 62.40625 49.75 54.046875 \nz\nM 13.875 23.1875 \nQ 13.875 18.65625 15.796875 14.5 \nQ 17.71875 10.359375 21.1875 8.171875 \nQ 24.65625 6 28.46875 6 \nQ 34.03125 6 38.03125 10.484375 \nQ 42.046875 14.984375 42.046875 22.703125 \nQ 42.046875 30.125 38.078125 34.390625 \nQ 34.125 38.671875 28.125 38.671875 \nQ 22.171875 38.671875 18.015625 34.390625 \nQ 13.875 30.125 13.875 23.1875 \nz\n\" id=\"ArialMT-54\"/>\n       </defs>\n       <use xlink:href=\"#ArialMT-8722\"/>\n       <use x=\"58.398438\" xlink:href=\"#ArialMT-48\"/>\n       <use x=\"114.013672\" xlink:href=\"#ArialMT-46\"/>\n       <use x=\"141.796875\" xlink:href=\"#ArialMT-54\"/>\n      </g>\n     </g>\n    </g>\n    <g id=\"ytick_15\">\n     <g id=\"line2d_2\">\n      <g>\n       <use style=\"fill:#262626;stroke:#262626;stroke-width:1.25;\" x=\"506.538844\" xlink:href=\"#m0e95351efa\" y=\"369.198042\"/>\n      </g>\n     </g>\n     <g id=\"text_28\">\n      <!-- −0.4 -->\n      <g style=\"fill:#262626;\" transform=\"translate(516.038844 373.134839)scale(0.11 -0.11)\">\n       <defs>\n        <path d=\"M 32.328125 0 \nL 32.328125 17.140625 \nL 1.265625 17.140625 \nL 1.265625 25.203125 \nL 33.9375 71.578125 \nL 41.109375 71.578125 \nL 41.109375 25.203125 \nL 50.78125 25.203125 \nL 50.78125 17.140625 \nL 41.109375 17.140625 \nL 41.109375 0 \nz\nM 32.328125 25.203125 \nL 32.328125 57.46875 \nL 9.90625 25.203125 \nz\n\" id=\"ArialMT-52\"/>\n       </defs>\n       <use xlink:href=\"#ArialMT-8722\"/>\n       <use x=\"58.398438\" xlink:href=\"#ArialMT-48\"/>\n       <use x=\"114.013672\" xlink:href=\"#ArialMT-46\"/>\n       <use x=\"141.796875\" xlink:href=\"#ArialMT-52\"/>\n      </g>\n     </g>\n    </g>\n    <g id=\"ytick_16\">\n     <g id=\"line2d_3\">\n      <g>\n       <use style=\"fill:#262626;stroke:#262626;stroke-width:1.25;\" x=\"506.538844\" xlink:href=\"#m0e95351efa\" y=\"318.046435\"/>\n      </g>\n     </g>\n     <g id=\"text_29\">\n      <!-- −0.2 -->\n      <g style=\"fill:#262626;\" transform=\"translate(516.038844 321.983232)scale(0.11 -0.11)\">\n       <defs>\n        <path d=\"M 50.34375 8.453125 \nL 50.34375 0 \nL 3.03125 0 \nQ 2.9375 3.171875 4.046875 6.109375 \nQ 5.859375 10.9375 9.828125 15.625 \nQ 13.8125 20.3125 21.34375 26.46875 \nQ 33.015625 36.03125 37.109375 41.625 \nQ 41.21875 47.21875 41.21875 52.203125 \nQ 41.21875 57.421875 37.46875 61 \nQ 33.734375 64.59375 27.734375 64.59375 \nQ 21.390625 64.59375 17.578125 60.78125 \nQ 13.765625 56.984375 13.71875 50.25 \nL 4.6875 51.171875 \nQ 5.609375 61.28125 11.65625 66.578125 \nQ 17.71875 71.875 27.9375 71.875 \nQ 38.234375 71.875 44.234375 66.15625 \nQ 50.25 60.453125 50.25 52 \nQ 50.25 47.703125 48.484375 43.546875 \nQ 46.734375 39.40625 42.65625 34.8125 \nQ 38.578125 30.21875 29.109375 22.21875 \nQ 21.1875 15.578125 18.9375 13.203125 \nQ 16.703125 10.84375 15.234375 8.453125 \nz\n\" id=\"ArialMT-50\"/>\n       </defs>\n       <use xlink:href=\"#ArialMT-8722\"/>\n       <use x=\"58.398438\" xlink:href=\"#ArialMT-48\"/>\n       <use x=\"114.013672\" xlink:href=\"#ArialMT-46\"/>\n       <use x=\"141.796875\" xlink:href=\"#ArialMT-50\"/>\n      </g>\n     </g>\n    </g>\n    <g id=\"ytick_17\">\n     <g id=\"line2d_4\">\n      <g>\n       <use style=\"fill:#262626;stroke:#262626;stroke-width:1.25;\" x=\"506.538844\" xlink:href=\"#m0e95351efa\" y=\"266.894829\"/>\n      </g>\n     </g>\n     <g id=\"text_30\">\n      <!-- 0.0 -->\n      <g style=\"fill:#262626;\" transform=\"translate(516.038844 270.831626)scale(0.11 -0.11)\">\n       <use xlink:href=\"#ArialMT-48\"/>\n       <use x=\"55.615234\" xlink:href=\"#ArialMT-46\"/>\n       <use x=\"83.398438\" xlink:href=\"#ArialMT-48\"/>\n      </g>\n     </g>\n    </g>\n    <g id=\"ytick_18\">\n     <g id=\"line2d_5\">\n      <g>\n       <use style=\"fill:#262626;stroke:#262626;stroke-width:1.25;\" x=\"506.538844\" xlink:href=\"#m0e95351efa\" y=\"215.743223\"/>\n      </g>\n     </g>\n     <g id=\"text_31\">\n      <!-- 0.2 -->\n      <g style=\"fill:#262626;\" transform=\"translate(516.038844 219.680019)scale(0.11 -0.11)\">\n       <use xlink:href=\"#ArialMT-48\"/>\n       <use x=\"55.615234\" xlink:href=\"#ArialMT-46\"/>\n       <use x=\"83.398438\" xlink:href=\"#ArialMT-50\"/>\n      </g>\n     </g>\n    </g>\n    <g id=\"ytick_19\">\n     <g id=\"line2d_6\">\n      <g>\n       <use style=\"fill:#262626;stroke:#262626;stroke-width:1.25;\" x=\"506.538844\" xlink:href=\"#m0e95351efa\" y=\"164.591616\"/>\n      </g>\n     </g>\n     <g id=\"text_32\">\n      <!-- 0.4 -->\n      <g style=\"fill:#262626;\" transform=\"translate(516.038844 168.528413)scale(0.11 -0.11)\">\n       <use xlink:href=\"#ArialMT-48\"/>\n       <use x=\"55.615234\" xlink:href=\"#ArialMT-46\"/>\n       <use x=\"83.398438\" xlink:href=\"#ArialMT-52\"/>\n      </g>\n     </g>\n    </g>\n    <g id=\"ytick_20\">\n     <g id=\"line2d_7\">\n      <g>\n       <use style=\"fill:#262626;stroke:#262626;stroke-width:1.25;\" x=\"506.538844\" xlink:href=\"#m0e95351efa\" y=\"113.44001\"/>\n      </g>\n     </g>\n     <g id=\"text_33\">\n      <!-- 0.6 -->\n      <g style=\"fill:#262626;\" transform=\"translate(516.038844 117.376807)scale(0.11 -0.11)\">\n       <use xlink:href=\"#ArialMT-48\"/>\n       <use x=\"55.615234\" xlink:href=\"#ArialMT-46\"/>\n       <use x=\"83.398438\" xlink:href=\"#ArialMT-54\"/>\n      </g>\n     </g>\n    </g>\n    <g id=\"ytick_21\">\n     <g id=\"line2d_8\">\n      <g>\n       <use style=\"fill:#262626;stroke:#262626;stroke-width:1.25;\" x=\"506.538844\" xlink:href=\"#m0e95351efa\" y=\"62.288403\"/>\n      </g>\n     </g>\n     <g id=\"text_34\">\n      <!-- 0.8 -->\n      <g style=\"fill:#262626;\" transform=\"translate(516.038844 66.2252)scale(0.11 -0.11)\">\n       <defs>\n        <path d=\"M 17.671875 38.8125 \nQ 12.203125 40.828125 9.5625 44.53125 \nQ 6.9375 48.25 6.9375 53.421875 \nQ 6.9375 61.234375 12.546875 66.546875 \nQ 18.171875 71.875 27.484375 71.875 \nQ 36.859375 71.875 42.578125 66.421875 \nQ 48.296875 60.984375 48.296875 53.171875 \nQ 48.296875 48.1875 45.671875 44.5 \nQ 43.0625 40.828125 37.75 38.8125 \nQ 44.34375 36.671875 47.78125 31.875 \nQ 51.21875 27.09375 51.21875 20.453125 \nQ 51.21875 11.28125 44.71875 5.03125 \nQ 38.234375 -1.21875 27.640625 -1.21875 \nQ 17.046875 -1.21875 10.546875 5.046875 \nQ 4.046875 11.328125 4.046875 20.703125 \nQ 4.046875 27.6875 7.59375 32.390625 \nQ 11.140625 37.109375 17.671875 38.8125 \nz\nM 15.921875 53.71875 \nQ 15.921875 48.640625 19.1875 45.40625 \nQ 22.46875 42.1875 27.6875 42.1875 \nQ 32.765625 42.1875 36.015625 45.375 \nQ 39.265625 48.578125 39.265625 53.21875 \nQ 39.265625 58.0625 35.90625 61.359375 \nQ 32.5625 64.65625 27.59375 64.65625 \nQ 22.5625 64.65625 19.234375 61.421875 \nQ 15.921875 58.203125 15.921875 53.71875 \nz\nM 13.09375 20.65625 \nQ 13.09375 16.890625 14.875 13.375 \nQ 16.65625 9.859375 20.171875 7.921875 \nQ 23.6875 6 27.734375 6 \nQ 34.03125 6 38.125 10.046875 \nQ 42.234375 14.109375 42.234375 20.359375 \nQ 42.234375 26.703125 38.015625 30.859375 \nQ 33.796875 35.015625 27.4375 35.015625 \nQ 21.234375 35.015625 17.15625 30.90625 \nQ 13.09375 26.8125 13.09375 20.65625 \nz\n\" id=\"ArialMT-56\"/>\n       </defs>\n       <use xlink:href=\"#ArialMT-48\"/>\n       <use x=\"55.615234\" xlink:href=\"#ArialMT-46\"/>\n       <use x=\"83.398438\" xlink:href=\"#ArialMT-56\"/>\n      </g>\n     </g>\n    </g>\n    <g id=\"ytick_22\">\n     <g id=\"line2d_9\">\n      <g>\n       <use style=\"fill:#262626;stroke:#262626;stroke-width:1.25;\" x=\"506.538844\" xlink:href=\"#m0e95351efa\" y=\"11.136797\"/>\n      </g>\n     </g>\n     <g id=\"text_35\">\n      <!-- 1.0 -->\n      <g style=\"fill:#262626;\" transform=\"translate(516.038844 15.073594)scale(0.11 -0.11)\">\n       <defs>\n        <path d=\"M 37.25 0 \nL 28.46875 0 \nL 28.46875 56 \nQ 25.296875 52.984375 20.140625 49.953125 \nQ 14.984375 46.921875 10.890625 45.40625 \nL 10.890625 53.90625 \nQ 18.265625 57.375 23.78125 62.296875 \nQ 29.296875 67.234375 31.59375 71.875 \nL 37.25 71.875 \nz\n\" id=\"ArialMT-49\"/>\n       </defs>\n       <use xlink:href=\"#ArialMT-49\"/>\n       <use x=\"55.615234\" xlink:href=\"#ArialMT-46\"/>\n       <use x=\"83.398438\" xlink:href=\"#ArialMT-48\"/>\n      </g>\n     </g>\n    </g>\n   </g>\n   <image height=\"435\" id=\"image44eb1ff72a\" transform=\"scale(1 -1)translate(0 -435)\" width=\"22\" x=\"485\" xlink:href=\"data:image/png;base64,\niVBORw0KGgoAAAANSUhEUgAAABYAAAGzCAYAAAArEufSAAACR0lEQVR4nO2cy3HEUAzDbMdpIv33uTn4PXkbwAEzQAEaDUnR3s3n/Pn9+xwAFzH0OI7jPrHBJzMalMK38cFsLJTi0m2MmSeUQrfxBZnn07i4Db64CaWgatP3aBKaV21ufBrf58ksXVcMYFckxcIXt6QYitsAxk1nXk/pGeyTQtgVmbcQdoVvY+w7+p55G1/c6orBF7ebWrlXrAG8PF2OfXETdgX2AxZkrLE2fXHLvEFoHvXi3bdYQwfyDk6KjS9uxhcWaLCw6Lu8je/yfAci7IrMm8GZt8m8ATQP+YOC4vYFGTcG3ytW5g11xZB5g3Hj4rYHC82DBoPmQXETSiHcmDLP+C0Wg888ZdEzWmTewH1HL+yKjy5u1GCheXXFgix6ZmXjUxoanHmDTwpfu90X1PSZNxgPBPr4f1/QYN+HG/LX0iDzqFT4pCAvDxtskyLzvgbbpBCaB30eM8ZNKIVtY+4pDe2ceQN2INhJ+6Ro46GiH2q3r8E+KYrbHnwIn3nM4DYewLglxYLbmBqdFAMZN+iv3ZJiU9yG+6DilnmbzBt8Uvg2Fv7PpszbkBszs4VS1G7vYN1/d/fFDXxKZ94DuHEH8g5Oigdf3IRS1G7v4Epo4Xs/Jruion9QblxXPAjN476jz7yFb2Osj31S+N6PfRorzetA4MFd3kAWfVI8FLehrhgy72twUix8cRNKcZ4/yODiNtQVg9E8rit0l1fcZrBOiop+4zuQpBjIuDEHopTCtvHZ5S2UcdM9morbArs8X7t1eQO28T8Fhi8lZm2HegAAAABJRU5ErkJggg==\" y=\"-11\"/>\n   <g id=\"patch_4\">\n    <path d=\"M 484.794844 446.016797 \nL 484.794844 444.318047 \nL 484.794844 12.835547 \nL 484.794844 11.136797 \nL 506.538844 11.136797 \nL 506.538844 12.835547 \nL 506.538844 444.318047 \nL 506.538844 446.016797 \nz\n\" style=\"fill:none;\"/>\n   </g>\n  </g>\n </g>\n <defs>\n  <clipPath id=\"p5651a045fa\">\n   <rect height=\"434.88\" width=\"357.12\" x=\"105.354844\" y=\"11.136797\"/>\n  </clipPath>\n  <clipPath id=\"p3a91837596\">\n   <rect height=\"434.88\" width=\"21.744\" x=\"484.794844\" y=\"11.136797\"/>\n  </clipPath>\n </defs>\n</svg>\n",
      "image/png": "[encoded data removed]"
     },
     "metadata": {}
    }
   ],
   "source": [
    "sns.set(rc={'figure.figsize':(8, 8)})\n",
    "\n",
    "# Use the .heatmap method to depict the relationships visually!\n",
    "sns.heatmap(wine.corr());"
   ]
  },
  {
   "cell_type": "code",
   "execution_count": 6,
   "metadata": {
    "hidden": true
   },
   "outputs": [
    {
     "output_type": "execute_result",
     "data": {
      "text/plain": [
       "quality                 1.000000\n",
       "alcohol                 0.444319\n",
       "density                 0.305858\n",
       "volatile acidity        0.265699\n",
       "chlorides               0.200666\n",
       "red_wine                0.119323\n",
       "citric acid             0.085532\n",
       "fixed acidity           0.076743\n",
       "free sulfur dioxide     0.055463\n",
       "total sulfur dioxide    0.041385\n",
       "sulphates               0.038485\n",
       "residual sugar          0.036980\n",
       "pH                      0.019506\n",
       "Name: quality, dtype: float64"
      ]
     },
     "metadata": {},
     "execution_count": 6
    }
   ],
   "source": [
    "# Let's look at the correlations with 'quality'\n",
    "# (our dependent variable) in particular.\n",
    "\n",
    "wine_corrs = wine.corr()['quality'].map(abs).sort_values(ascending=False)\n",
    "wine_corrs"
   ]
  },
  {
   "cell_type": "markdown",
   "metadata": {
    "hidden": true
   },
   "source": [
    "It looks like we can see the features have different correlations with the target. The larger the correlation, the more we'd expect these features to be better predictors."
   ]
  },
  {
   "cell_type": "markdown",
   "metadata": {
    "hidden": true
   },
   "source": [
    "Let's try using only a subset of the strongest correlated features to make our model."
   ]
  },
  {
   "cell_type": "code",
   "execution_count": 7,
   "metadata": {
    "hidden": true
   },
   "outputs": [],
   "source": [
    "# Let's choose 'alcohol' and 'density'.\n",
    "\n",
    "wine_preds = wine[['alcohol', 'density']]\n",
    "wine_target = wine['quality']"
   ]
  },
  {
   "cell_type": "code",
   "execution_count": 8,
   "metadata": {
    "hidden": true
   },
   "outputs": [],
   "source": [
    "lr = LinearRegression()"
   ]
  },
  {
   "cell_type": "code",
   "execution_count": 9,
   "metadata": {
    "hidden": true
   },
   "outputs": [
    {
     "output_type": "execute_result",
     "data": {
      "text/plain": [
       "LinearRegression()"
      ]
     },
     "metadata": {},
     "execution_count": 9
    }
   ],
   "source": [
    "lr.fit(wine_preds, wine_target)"
   ]
  },
  {
   "cell_type": "code",
   "execution_count": 10,
   "metadata": {
    "hidden": true
   },
   "outputs": [
    {
     "output_type": "execute_result",
     "data": {
      "text/plain": [
       "0.19741993980311323"
      ]
     },
     "metadata": {},
     "execution_count": 10
    }
   ],
   "source": [
    "lr.score(wine_preds, wine_target)"
   ]
  },
  {
   "cell_type": "markdown",
   "metadata": {
    "heading_collapsed": true,
    "hidden": true
   },
   "source": [
    "## Multicollinearity"
   ]
  },
  {
   "cell_type": "markdown",
   "metadata": {
    "hidden": true
   },
   "source": [
    "Multicollinearity describes the correlation between distinct predictors. Why might high multicollinearity be a problem for interpreting a linear regression model?\n",
    "\n",
    "It's problematic for statistics in an inferential mode because, if $x_1$ and $x_2$ are highly correlated with $y$ but also *with each other*, then it will be very difficult to tease apart the effects of $x_1$ on $y$ and the effects of $x_2$ on $y$. If I really want to have a good sense of the effect of $x_1$ on $y$, then I'd like to vary $x_1$ while keeping the other features constant. But if $x_1$ is highly correlated with $x_2$ then this will be a practically impossible exercise!\n",
    "\n",
    "> We will return to this topic again. For more, see [this post](https://towardsdatascience.com/https-towardsdatascience-com-multicollinearity-how-does-it-create-a-problem-72956a49058)."
   ]
  },
  {
   "cell_type": "markdown",
   "metadata": {
    "hidden": true
   },
   "source": [
    "A further assumption for multiple linear regression is that **the predictors are independent.**"
   ]
  },
  {
   "cell_type": "markdown",
   "metadata": {
    "hidden": true
   },
   "source": [
    "**How can I check for this?**\n",
    "- Check the model Condition Number.\n",
    "- Check the correlation values.\n",
    "- Compute Variance Inflation Factors ([VIFs](https://www.statsmodels.org/devel/generated/statsmodels.stats.outliers_influence.variance_inflation_factor.html))."
   ]
  },
  {
   "cell_type": "markdown",
   "metadata": {
    "hidden": true
   },
   "source": [
    "**What can I do if it looks like I'm violating this assumption?**\n",
    "\n",
    "- Consider dropping offending predictors\n",
    "- We'll have much more to say about this topic in future lessons!"
   ]
  },
  {
   "cell_type": "markdown",
   "metadata": {
    "heading_collapsed": true
   },
   "source": [
    "# Recursive Feature Elimination"
   ]
  },
  {
   "cell_type": "markdown",
   "metadata": {
    "hidden": true
   },
   "source": [
    "The idea behind recursive feature elimination is to start with all predictive features and then build down to a small set of features slowly, by eliminating the features with the lowest coefficients.\n",
    "\n",
    "That is:\n",
    "\n",
    "1. Start with a model with _all_ $n$ predictors\n",
    "2. find the predictor with the smallest effect (coefficient)\n",
    "3. throw that predictor out and build a model with the remaining $n-1$ predictors\n",
    "4. set $n = n-1$ and repeat until $n-1$ has the value you want!"
   ]
  },
  {
   "cell_type": "markdown",
   "metadata": {
    "heading_collapsed": true,
    "hidden": true
   },
   "source": [
    "## Recursive Feature Elimination in Scikit-Learn"
   ]
  },
  {
   "cell_type": "code",
   "execution_count": 11,
   "metadata": {
    "hidden": true
   },
   "outputs": [],
   "source": [
    "lr_rfe = LinearRegression()\n",
    "select = RFE(lr_rfe, n_features_to_select=3)"
   ]
  },
  {
   "cell_type": "code",
   "execution_count": 12,
   "metadata": {
    "hidden": true
   },
   "outputs": [],
   "source": [
    "ss = StandardScaler()\n",
    "ss.fit(wine.drop('quality', axis=1))\n",
    "\n",
    "wine_scaled = ss.transform(wine.drop('quality', axis=1))"
   ]
  },
  {
   "cell_type": "code",
   "execution_count": 13,
   "metadata": {
    "hidden": true
   },
   "outputs": [
    {
     "output_type": "execute_result",
     "data": {
      "text/plain": [
       "RFE(estimator=LinearRegression(), n_features_to_select=3)"
      ]
     },
     "metadata": {},
     "execution_count": 13
    }
   ],
   "source": [
    "select.fit(X=wine_scaled, y=wine['quality'])"
   ]
  },
  {
   "cell_type": "code",
   "execution_count": 14,
   "metadata": {
    "hidden": true
   },
   "outputs": [
    {
     "output_type": "execute_result",
     "data": {
      "text/plain": [
       "array([False,  True, False, False, False, False, False, False, False,\n",
       "       False,  True,  True])"
      ]
     },
     "metadata": {},
     "execution_count": 14
    }
   ],
   "source": [
    "select.support_"
   ]
  },
  {
   "cell_type": "code",
   "execution_count": 15,
   "metadata": {
    "hidden": true
   },
   "outputs": [
    {
     "output_type": "execute_result",
     "data": {
      "text/plain": [
       "   fixed acidity  volatile acidity  citric acid  residual sugar  chlorides  \\\n",
       "0            7.4              0.70         0.00             1.9      0.076   \n",
       "1            7.8              0.88         0.00             2.6      0.098   \n",
       "2            7.8              0.76         0.04             2.3      0.092   \n",
       "3           11.2              0.28         0.56             1.9      0.075   \n",
       "4            7.4              0.70         0.00             1.9      0.076   \n",
       "\n",
       "   free sulfur dioxide  total sulfur dioxide  density    pH  sulphates  \\\n",
       "0                 11.0                  34.0   0.9978  3.51       0.56   \n",
       "1                 25.0                  67.0   0.9968  3.20       0.68   \n",
       "2                 15.0                  54.0   0.9970  3.26       0.65   \n",
       "3                 17.0                  60.0   0.9980  3.16       0.58   \n",
       "4                 11.0                  34.0   0.9978  3.51       0.56   \n",
       "\n",
       "   alcohol  quality  red_wine  \n",
       "0      9.4        5         1  \n",
       "1      9.8        5         1  \n",
       "2      9.8        5         1  \n",
       "3      9.8        6         1  \n",
       "4      9.4        5         1  "
      ],
      "text/html": "<div>\n<style scoped>\n    .dataframe tbody tr th:only-of-type {\n        vertical-align: middle;\n    }\n\n    .dataframe tbody tr th {\n        vertical-align: top;\n    }\n\n    .dataframe thead th {\n        text-align: right;\n    }\n</style>\n<table border=\"1\" class=\"dataframe\">\n  <thead>\n    <tr style=\"text-align: right;\">\n      <th></th>\n      <th>fixed acidity</th>\n      <th>volatile acidity</th>\n      <th>citric acid</th>\n      <th>residual sugar</th>\n      <th>chlorides</th>\n      <th>free sulfur dioxide</th>\n      <th>total sulfur dioxide</th>\n      <th>density</th>\n      <th>pH</th>\n      <th>sulphates</th>\n      <th>alcohol</th>\n      <th>quality</th>\n      <th>red_wine</th>\n    </tr>\n  </thead>\n  <tbody>\n    <tr>\n      <th>0</th>\n      <td>7.4</td>\n      <td>0.70</td>\n      <td>0.00</td>\n      <td>1.9</td>\n      <td>0.076</td>\n      <td>11.0</td>\n      <td>34.0</td>\n      <td>0.9978</td>\n      <td>3.51</td>\n      <td>0.56</td>\n      <td>9.4</td>\n      <td>5</td>\n      <td>1</td>\n    </tr>\n    <tr>\n      <th>1</th>\n      <td>7.8</td>\n      <td>0.88</td>\n      <td>0.00</td>\n      <td>2.6</td>\n      <td>0.098</td>\n      <td>25.0</td>\n      <td>67.0</td>\n      <td>0.9968</td>\n      <td>3.20</td>\n      <td>0.68</td>\n      <td>9.8</td>\n      <td>5</td>\n      <td>1</td>\n    </tr>\n    <tr>\n      <th>2</th>\n      <td>7.8</td>\n      <td>0.76</td>\n      <td>0.04</td>\n      <td>2.3</td>\n      <td>0.092</td>\n      <td>15.0</td>\n      <td>54.0</td>\n      <td>0.9970</td>\n      <td>3.26</td>\n      <td>0.65</td>\n      <td>9.8</td>\n      <td>5</td>\n      <td>1</td>\n    </tr>\n    <tr>\n      <th>3</th>\n      <td>11.2</td>\n      <td>0.28</td>\n      <td>0.56</td>\n      <td>1.9</td>\n      <td>0.075</td>\n      <td>17.0</td>\n      <td>60.0</td>\n      <td>0.9980</td>\n      <td>3.16</td>\n      <td>0.58</td>\n      <td>9.8</td>\n      <td>6</td>\n      <td>1</td>\n    </tr>\n    <tr>\n      <th>4</th>\n      <td>7.4</td>\n      <td>0.70</td>\n      <td>0.00</td>\n      <td>1.9</td>\n      <td>0.076</td>\n      <td>11.0</td>\n      <td>34.0</td>\n      <td>0.9978</td>\n      <td>3.51</td>\n      <td>0.56</td>\n      <td>9.4</td>\n      <td>5</td>\n      <td>1</td>\n    </tr>\n  </tbody>\n</table>\n</div>"
     },
     "metadata": {},
     "execution_count": 15
    }
   ],
   "source": [
    "wine.head()"
   ]
  },
  {
   "cell_type": "code",
   "execution_count": 16,
   "metadata": {
    "hidden": true
   },
   "outputs": [
    {
     "output_type": "execute_result",
     "data": {
      "text/plain": [
       "array([ 5,  1, 10,  2,  9,  7,  8,  3,  6,  4,  1,  1])"
      ]
     },
     "metadata": {},
     "execution_count": 16
    }
   ],
   "source": [
    "select.ranking_"
   ]
  },
  {
   "cell_type": "markdown",
   "metadata": {
    "hidden": true
   },
   "source": [
    "These features are volatile acidity, alcohol, and red_wine."
   ]
  },
  {
   "cell_type": "markdown",
   "metadata": {
    "hidden": true
   },
   "source": [
    "> **Caution**: RFE is probably not a good strategy if your initial dataset has many predictors. It will likely be easier to start with a *simple* model and then slowly increase its complexity. This is also good advice for when you're first getting your feet wet with `sklearn`!"
   ]
  },
  {
   "cell_type": "markdown",
   "metadata": {
    "hidden": true
   },
   "source": [
    "For more on feature selection, see [this post](https://towardsdatascience.com/the-5-feature-selection-algorithms-every-data-scientist-need-to-know-3a6b566efd2)."
   ]
  },
  {
   "cell_type": "markdown",
   "metadata": {
    "heading_collapsed": true
   },
   "source": [
    "# Feature Engineering"
   ]
  },
  {
   "cell_type": "markdown",
   "metadata": {
    "hidden": true
   },
   "source": [
    "> Domain knowledge can be helpful here! 🧠"
   ]
  },
  {
   "cell_type": "markdown",
   "metadata": {
    "hidden": true
   },
   "source": [
    "In practice this aspect of data preparation can constitute a huge part of the data scientist's work. As we move into data modeling, much of the goal will be a matter of finding––**or creating**––features that are predictive of the targets we are trying to model.\n",
    "\n",
    "There are infinitely many ways of transforming and combining a starting set of features. Good data scientists will have a nose for which engineering operations will be likely to yield fruit and for which operations won't. And part of the game here may be getting someone else on your team who understands what the data represent better than you!"
   ]
  },
  {
   "cell_type": "markdown",
   "metadata": {
    "hidden": true
   },
   "source": [
    "Let's try this ourselves! Since I don't know much about wine, I'm really just guessing."
   ]
  },
  {
   "cell_type": "code",
   "execution_count": 17,
   "metadata": {
    "hidden": true
   },
   "outputs": [
    {
     "output_type": "execute_result",
     "data": {
      "text/plain": [
       "   fixed acidity  volatile acidity  citric acid  residual sugar  chlorides  \\\n",
       "0            7.4              0.70         0.00             1.9      0.076   \n",
       "1            7.8              0.88         0.00             2.6      0.098   \n",
       "2            7.8              0.76         0.04             2.3      0.092   \n",
       "3           11.2              0.28         0.56             1.9      0.075   \n",
       "4            7.4              0.70         0.00             1.9      0.076   \n",
       "5            7.4              0.66         0.00             1.8      0.075   \n",
       "6            7.9              0.60         0.06             1.6      0.069   \n",
       "7            7.3              0.65         0.00             1.2      0.065   \n",
       "8            7.8              0.58         0.02             2.0      0.073   \n",
       "9            7.5              0.50         0.36             6.1      0.071   \n",
       "\n",
       "   free sulfur dioxide  total sulfur dioxide  density    pH  sulphates  \\\n",
       "0                 11.0                  34.0   0.9978  3.51       0.56   \n",
       "1                 25.0                  67.0   0.9968  3.20       0.68   \n",
       "2                 15.0                  54.0   0.9970  3.26       0.65   \n",
       "3                 17.0                  60.0   0.9980  3.16       0.58   \n",
       "4                 11.0                  34.0   0.9978  3.51       0.56   \n",
       "5                 13.0                  40.0   0.9978  3.51       0.56   \n",
       "6                 15.0                  59.0   0.9964  3.30       0.46   \n",
       "7                 15.0                  21.0   0.9946  3.39       0.47   \n",
       "8                  9.0                  18.0   0.9968  3.36       0.57   \n",
       "9                 17.0                 102.0   0.9978  3.35       0.80   \n",
       "\n",
       "   alcohol  quality  red_wine  \n",
       "0      9.4        5         1  \n",
       "1      9.8        5         1  \n",
       "2      9.8        5         1  \n",
       "3      9.8        6         1  \n",
       "4      9.4        5         1  \n",
       "5      9.4        5         1  \n",
       "6      9.4        5         1  \n",
       "7     10.0        7         1  \n",
       "8      9.5        7         1  \n",
       "9     10.5        5         1  "
      ],
      "text/html": "<div>\n<style scoped>\n    .dataframe tbody tr th:only-of-type {\n        vertical-align: middle;\n    }\n\n    .dataframe tbody tr th {\n        vertical-align: top;\n    }\n\n    .dataframe thead th {\n        text-align: right;\n    }\n</style>\n<table border=\"1\" class=\"dataframe\">\n  <thead>\n    <tr style=\"text-align: right;\">\n      <th></th>\n      <th>fixed acidity</th>\n      <th>volatile acidity</th>\n      <th>citric acid</th>\n      <th>residual sugar</th>\n      <th>chlorides</th>\n      <th>free sulfur dioxide</th>\n      <th>total sulfur dioxide</th>\n      <th>density</th>\n      <th>pH</th>\n      <th>sulphates</th>\n      <th>alcohol</th>\n      <th>quality</th>\n      <th>red_wine</th>\n    </tr>\n  </thead>\n  <tbody>\n    <tr>\n      <th>0</th>\n      <td>7.4</td>\n      <td>0.70</td>\n      <td>0.00</td>\n      <td>1.9</td>\n      <td>0.076</td>\n      <td>11.0</td>\n      <td>34.0</td>\n      <td>0.9978</td>\n      <td>3.51</td>\n      <td>0.56</td>\n      <td>9.4</td>\n      <td>5</td>\n      <td>1</td>\n    </tr>\n    <tr>\n      <th>1</th>\n      <td>7.8</td>\n      <td>0.88</td>\n      <td>0.00</td>\n      <td>2.6</td>\n      <td>0.098</td>\n      <td>25.0</td>\n      <td>67.0</td>\n      <td>0.9968</td>\n      <td>3.20</td>\n      <td>0.68</td>\n      <td>9.8</td>\n      <td>5</td>\n      <td>1</td>\n    </tr>\n    <tr>\n      <th>2</th>\n      <td>7.8</td>\n      <td>0.76</td>\n      <td>0.04</td>\n      <td>2.3</td>\n      <td>0.092</td>\n      <td>15.0</td>\n      <td>54.0</td>\n      <td>0.9970</td>\n      <td>3.26</td>\n      <td>0.65</td>\n      <td>9.8</td>\n      <td>5</td>\n      <td>1</td>\n    </tr>\n    <tr>\n      <th>3</th>\n      <td>11.2</td>\n      <td>0.28</td>\n      <td>0.56</td>\n      <td>1.9</td>\n      <td>0.075</td>\n      <td>17.0</td>\n      <td>60.0</td>\n      <td>0.9980</td>\n      <td>3.16</td>\n      <td>0.58</td>\n      <td>9.8</td>\n      <td>6</td>\n      <td>1</td>\n    </tr>\n    <tr>\n      <th>4</th>\n      <td>7.4</td>\n      <td>0.70</td>\n      <td>0.00</td>\n      <td>1.9</td>\n      <td>0.076</td>\n      <td>11.0</td>\n      <td>34.0</td>\n      <td>0.9978</td>\n      <td>3.51</td>\n      <td>0.56</td>\n      <td>9.4</td>\n      <td>5</td>\n      <td>1</td>\n    </tr>\n    <tr>\n      <th>5</th>\n      <td>7.4</td>\n      <td>0.66</td>\n      <td>0.00</td>\n      <td>1.8</td>\n      <td>0.075</td>\n      <td>13.0</td>\n      <td>40.0</td>\n      <td>0.9978</td>\n      <td>3.51</td>\n      <td>0.56</td>\n      <td>9.4</td>\n      <td>5</td>\n      <td>1</td>\n    </tr>\n    <tr>\n      <th>6</th>\n      <td>7.9</td>\n      <td>0.60</td>\n      <td>0.06</td>\n      <td>1.6</td>\n      <td>0.069</td>\n      <td>15.0</td>\n      <td>59.0</td>\n      <td>0.9964</td>\n      <td>3.30</td>\n      <td>0.46</td>\n      <td>9.4</td>\n      <td>5</td>\n      <td>1</td>\n    </tr>\n    <tr>\n      <th>7</th>\n      <td>7.3</td>\n      <td>0.65</td>\n      <td>0.00</td>\n      <td>1.2</td>\n      <td>0.065</td>\n      <td>15.0</td>\n      <td>21.0</td>\n      <td>0.9946</td>\n      <td>3.39</td>\n      <td>0.47</td>\n      <td>10.0</td>\n      <td>7</td>\n      <td>1</td>\n    </tr>\n    <tr>\n      <th>8</th>\n      <td>7.8</td>\n      <td>0.58</td>\n      <td>0.02</td>\n      <td>2.0</td>\n      <td>0.073</td>\n      <td>9.0</td>\n      <td>18.0</td>\n      <td>0.9968</td>\n      <td>3.36</td>\n      <td>0.57</td>\n      <td>9.5</td>\n      <td>7</td>\n      <td>1</td>\n    </tr>\n    <tr>\n      <th>9</th>\n      <td>7.5</td>\n      <td>0.50</td>\n      <td>0.36</td>\n      <td>6.1</td>\n      <td>0.071</td>\n      <td>17.0</td>\n      <td>102.0</td>\n      <td>0.9978</td>\n      <td>3.35</td>\n      <td>0.80</td>\n      <td>10.5</td>\n      <td>5</td>\n      <td>1</td>\n    </tr>\n  </tbody>\n</table>\n</div>"
     },
     "metadata": {},
     "execution_count": 17
    }
   ],
   "source": [
    "wine.head(10)"
   ]
  },
  {
   "cell_type": "markdown",
   "metadata": {
    "heading_collapsed": true,
    "hidden": true
   },
   "source": [
    "## EDA"
   ]
  },
  {
   "cell_type": "markdown",
   "metadata": {
    "heading_collapsed": true,
    "hidden": true
   },
   "source": [
    "### Chlorides"
   ]
  },
  {
   "cell_type": "markdown",
   "metadata": {
    "hidden": true
   },
   "source": [
    "Let's look at the distribution of the chlorides feature:"
   ]
  },
  {
   "cell_type": "code",
   "execution_count": 18,
   "metadata": {
    "hidden": true
   },
   "outputs": [
    {
     "output_type": "display_data",
     "data": {
      "text/plain": "<Figure size 576x576 with 1 Axes>",
      "image/svg+xml": "<?xml version=\"1.0\" encoding=\"utf-8\" standalone=\"no\"?>\n<!DOCTYPE svg PUBLIC \"-//W3C//DTD SVG 1.1//EN\"\n  \"http://www.w3.org/Graphics/SVG/1.1/DTD/svg11.dtd\">\n<!-- Created with matplotlib (https://matplotlib.org/) -->\n<svg height=\"468.839844pt\" version=\"1.1\" viewBox=\"0 0 494.768125 468.839844\" width=\"494.768125pt\" xmlns=\"http://www.w3.org/2000/svg\" xmlns:xlink=\"http://www.w3.org/1999/xlink\">\n <metadata>\n  <rdf:RDF xmlns:cc=\"http://creativecommons.org/ns#\" xmlns:dc=\"http://purl.org/dc/elements/1.1/\" xmlns:rdf=\"http://www.w3.org/1999/02/22-rdf-syntax-ns#\">\n   <cc:Work>\n    <dc:type rdf:resource=\"http://purl.org/dc/dcmitype/StillImage\"/>\n    <dc:date>2021-07-12T13:49:07.345575</dc:date>\n    <dc:format>image/svg+xml</dc:format>\n    <dc:creator>\n     <cc:Agent>\n      <dc:title>Matplotlib v3.3.4, https://matplotlib.org/</dc:title>\n     </cc:Agent>\n    </dc:creator>\n   </cc:Work>\n  </rdf:RDF>\n </metadata>\n <defs>\n  <style type=\"text/css\">*{stroke-linecap:butt;stroke-linejoin:round;}</style>\n </defs>\n <g id=\"figure_1\">\n  <g id=\"patch_1\">\n   <path d=\"M 0 468.839844 \nL 494.768125 468.839844 \nL 494.768125 0 \nL 0 0 \nz\n\" style=\"fill:#ffffff;\"/>\n  </g>\n  <g id=\"axes_1\">\n   <g id=\"patch_2\">\n    <path d=\"M 41.168125 442.08 \nL 487.568125 442.08 \nL 487.568125 7.2 \nL 41.168125 7.2 \nz\n\" style=\"fill:#eaeaf2;\"/>\n   </g>\n   <g id=\"matplotlib.axis_1\">\n    <g id=\"xtick_1\">\n     <g id=\"line2d_1\">\n      <path clip-path=\"url(#p2bcbaff88c)\" d=\"M 55.391985 442.08 \nL 55.391985 7.2 \n\" style=\"fill:none;stroke:#ffffff;stroke-linecap:round;\"/>\n     </g>\n     <g id=\"text_1\">\n      <!-- 0.0 -->\n      <g style=\"fill:#262626;\" transform=\"translate(47.746985 459.453594)scale(0.11 -0.11)\">\n       <defs>\n        <path d=\"M 4.15625 35.296875 \nQ 4.15625 48 6.765625 55.734375 \nQ 9.375 63.484375 14.515625 67.671875 \nQ 19.671875 71.875 27.484375 71.875 \nQ 33.25 71.875 37.59375 69.546875 \nQ 41.9375 67.234375 44.765625 62.859375 \nQ 47.609375 58.5 49.21875 52.21875 \nQ 50.828125 45.953125 50.828125 35.296875 \nQ 50.828125 22.703125 48.234375 14.96875 \nQ 45.65625 7.234375 40.5 3 \nQ 35.359375 -1.21875 27.484375 -1.21875 \nQ 17.140625 -1.21875 11.234375 6.203125 \nQ 4.15625 15.140625 4.15625 35.296875 \nz\nM 13.1875 35.296875 \nQ 13.1875 17.671875 17.3125 11.828125 \nQ 21.4375 6 27.484375 6 \nQ 33.546875 6 37.671875 11.859375 \nQ 41.796875 17.71875 41.796875 35.296875 \nQ 41.796875 52.984375 37.671875 58.78125 \nQ 33.546875 64.59375 27.390625 64.59375 \nQ 21.34375 64.59375 17.71875 59.46875 \nQ 13.1875 52.9375 13.1875 35.296875 \nz\n\" id=\"ArialMT-48\"/>\n        <path d=\"M 9.078125 0 \nL 9.078125 10.015625 \nL 19.09375 10.015625 \nL 19.09375 0 \nz\n\" id=\"ArialMT-46\"/>\n       </defs>\n       <use xlink:href=\"#ArialMT-48\"/>\n       <use x=\"55.615234\" xlink:href=\"#ArialMT-46\"/>\n       <use x=\"83.398438\" xlink:href=\"#ArialMT-48\"/>\n      </g>\n     </g>\n    </g>\n    <g id=\"xtick_2\">\n     <g id=\"line2d_2\">\n      <path clip-path=\"url(#p2bcbaff88c)\" d=\"M 122.803643 442.08 \nL 122.803643 7.2 \n\" style=\"fill:none;stroke:#ffffff;stroke-linecap:round;\"/>\n     </g>\n     <g id=\"text_2\">\n      <!-- 0.1 -->\n      <g style=\"fill:#262626;\" transform=\"translate(115.158643 459.453594)scale(0.11 -0.11)\">\n       <defs>\n        <path d=\"M 37.25 0 \nL 28.46875 0 \nL 28.46875 56 \nQ 25.296875 52.984375 20.140625 49.953125 \nQ 14.984375 46.921875 10.890625 45.40625 \nL 10.890625 53.90625 \nQ 18.265625 57.375 23.78125 62.296875 \nQ 29.296875 67.234375 31.59375 71.875 \nL 37.25 71.875 \nz\n\" id=\"ArialMT-49\"/>\n       </defs>\n       <use xlink:href=\"#ArialMT-48\"/>\n       <use x=\"55.615234\" xlink:href=\"#ArialMT-46\"/>\n       <use x=\"83.398438\" xlink:href=\"#ArialMT-49\"/>\n      </g>\n     </g>\n    </g>\n    <g id=\"xtick_3\">\n     <g id=\"line2d_3\">\n      <path clip-path=\"url(#p2bcbaff88c)\" d=\"M 190.215301 442.08 \nL 190.215301 7.2 \n\" style=\"fill:none;stroke:#ffffff;stroke-linecap:round;\"/>\n     </g>\n     <g id=\"text_3\">\n      <!-- 0.2 -->\n      <g style=\"fill:#262626;\" transform=\"translate(182.570301 459.453594)scale(0.11 -0.11)\">\n       <defs>\n        <path d=\"M 50.34375 8.453125 \nL 50.34375 0 \nL 3.03125 0 \nQ 2.9375 3.171875 4.046875 6.109375 \nQ 5.859375 10.9375 9.828125 15.625 \nQ 13.8125 20.3125 21.34375 26.46875 \nQ 33.015625 36.03125 37.109375 41.625 \nQ 41.21875 47.21875 41.21875 52.203125 \nQ 41.21875 57.421875 37.46875 61 \nQ 33.734375 64.59375 27.734375 64.59375 \nQ 21.390625 64.59375 17.578125 60.78125 \nQ 13.765625 56.984375 13.71875 50.25 \nL 4.6875 51.171875 \nQ 5.609375 61.28125 11.65625 66.578125 \nQ 17.71875 71.875 27.9375 71.875 \nQ 38.234375 71.875 44.234375 66.15625 \nQ 50.25 60.453125 50.25 52 \nQ 50.25 47.703125 48.484375 43.546875 \nQ 46.734375 39.40625 42.65625 34.8125 \nQ 38.578125 30.21875 29.109375 22.21875 \nQ 21.1875 15.578125 18.9375 13.203125 \nQ 16.703125 10.84375 15.234375 8.453125 \nz\n\" id=\"ArialMT-50\"/>\n       </defs>\n       <use xlink:href=\"#ArialMT-48\"/>\n       <use x=\"55.615234\" xlink:href=\"#ArialMT-46\"/>\n       <use x=\"83.398438\" xlink:href=\"#ArialMT-50\"/>\n      </g>\n     </g>\n    </g>\n    <g id=\"xtick_4\">\n     <g id=\"line2d_4\">\n      <path clip-path=\"url(#p2bcbaff88c)\" d=\"M 257.626959 442.08 \nL 257.626959 7.2 \n\" style=\"fill:none;stroke:#ffffff;stroke-linecap:round;\"/>\n     </g>\n     <g id=\"text_4\">\n      <!-- 0.3 -->\n      <g style=\"fill:#262626;\" transform=\"translate(249.981959 459.453594)scale(0.11 -0.11)\">\n       <defs>\n        <path d=\"M 4.203125 18.890625 \nL 12.984375 20.0625 \nQ 14.5 12.59375 18.140625 9.296875 \nQ 21.78125 6 27 6 \nQ 33.203125 6 37.46875 10.296875 \nQ 41.75 14.59375 41.75 20.953125 \nQ 41.75 27 37.796875 30.921875 \nQ 33.84375 34.859375 27.734375 34.859375 \nQ 25.25 34.859375 21.53125 33.890625 \nL 22.515625 41.609375 \nQ 23.390625 41.5 23.921875 41.5 \nQ 29.546875 41.5 34.03125 44.421875 \nQ 38.53125 47.359375 38.53125 53.46875 \nQ 38.53125 58.296875 35.25 61.46875 \nQ 31.984375 64.65625 26.8125 64.65625 \nQ 21.6875 64.65625 18.265625 61.421875 \nQ 14.84375 58.203125 13.875 51.765625 \nL 5.078125 53.328125 \nQ 6.6875 62.15625 12.390625 67.015625 \nQ 18.109375 71.875 26.609375 71.875 \nQ 32.46875 71.875 37.390625 69.359375 \nQ 42.328125 66.84375 44.9375 62.5 \nQ 47.5625 58.15625 47.5625 53.265625 \nQ 47.5625 48.640625 45.0625 44.828125 \nQ 42.578125 41.015625 37.703125 38.765625 \nQ 44.046875 37.3125 47.5625 32.6875 \nQ 51.078125 28.078125 51.078125 21.140625 \nQ 51.078125 11.765625 44.234375 5.25 \nQ 37.40625 -1.265625 26.953125 -1.265625 \nQ 17.53125 -1.265625 11.296875 4.34375 \nQ 5.078125 9.96875 4.203125 18.890625 \nz\n\" id=\"ArialMT-51\"/>\n       </defs>\n       <use xlink:href=\"#ArialMT-48\"/>\n       <use x=\"55.615234\" xlink:href=\"#ArialMT-46\"/>\n       <use x=\"83.398438\" xlink:href=\"#ArialMT-51\"/>\n      </g>\n     </g>\n    </g>\n    <g id=\"xtick_5\">\n     <g id=\"line2d_5\">\n      <path clip-path=\"url(#p2bcbaff88c)\" d=\"M 325.038617 442.08 \nL 325.038617 7.2 \n\" style=\"fill:none;stroke:#ffffff;stroke-linecap:round;\"/>\n     </g>\n     <g id=\"text_5\">\n      <!-- 0.4 -->\n      <g style=\"fill:#262626;\" transform=\"translate(317.393617 459.453594)scale(0.11 -0.11)\">\n       <defs>\n        <path d=\"M 32.328125 0 \nL 32.328125 17.140625 \nL 1.265625 17.140625 \nL 1.265625 25.203125 \nL 33.9375 71.578125 \nL 41.109375 71.578125 \nL 41.109375 25.203125 \nL 50.78125 25.203125 \nL 50.78125 17.140625 \nL 41.109375 17.140625 \nL 41.109375 0 \nz\nM 32.328125 25.203125 \nL 32.328125 57.46875 \nL 9.90625 25.203125 \nz\n\" id=\"ArialMT-52\"/>\n       </defs>\n       <use xlink:href=\"#ArialMT-48\"/>\n       <use x=\"55.615234\" xlink:href=\"#ArialMT-46\"/>\n       <use x=\"83.398438\" xlink:href=\"#ArialMT-52\"/>\n      </g>\n     </g>\n    </g>\n    <g id=\"xtick_6\">\n     <g id=\"line2d_6\">\n      <path clip-path=\"url(#p2bcbaff88c)\" d=\"M 392.450275 442.08 \nL 392.450275 7.2 \n\" style=\"fill:none;stroke:#ffffff;stroke-linecap:round;\"/>\n     </g>\n     <g id=\"text_6\">\n      <!-- 0.5 -->\n      <g style=\"fill:#262626;\" transform=\"translate(384.805275 459.453594)scale(0.11 -0.11)\">\n       <defs>\n        <path d=\"M 4.15625 18.75 \nL 13.375 19.53125 \nQ 14.40625 12.796875 18.140625 9.390625 \nQ 21.875 6 27.15625 6 \nQ 33.5 6 37.890625 10.78125 \nQ 42.28125 15.578125 42.28125 23.484375 \nQ 42.28125 31 38.0625 35.34375 \nQ 33.84375 39.703125 27 39.703125 \nQ 22.75 39.703125 19.328125 37.765625 \nQ 15.921875 35.84375 13.96875 32.765625 \nL 5.71875 33.84375 \nL 12.640625 70.609375 \nL 48.25 70.609375 \nL 48.25 62.203125 \nL 19.671875 62.203125 \nL 15.828125 42.96875 \nQ 22.265625 47.46875 29.34375 47.46875 \nQ 38.71875 47.46875 45.15625 40.96875 \nQ 51.609375 34.46875 51.609375 24.265625 \nQ 51.609375 14.546875 45.953125 7.46875 \nQ 39.0625 -1.21875 27.15625 -1.21875 \nQ 17.390625 -1.21875 11.203125 4.25 \nQ 5.03125 9.71875 4.15625 18.75 \nz\n\" id=\"ArialMT-53\"/>\n       </defs>\n       <use xlink:href=\"#ArialMT-48\"/>\n       <use x=\"55.615234\" xlink:href=\"#ArialMT-46\"/>\n       <use x=\"83.398438\" xlink:href=\"#ArialMT-53\"/>\n      </g>\n     </g>\n    </g>\n    <g id=\"xtick_7\">\n     <g id=\"line2d_7\">\n      <path clip-path=\"url(#p2bcbaff88c)\" d=\"M 459.861934 442.08 \nL 459.861934 7.2 \n\" style=\"fill:none;stroke:#ffffff;stroke-linecap:round;\"/>\n     </g>\n     <g id=\"text_7\">\n      <!-- 0.6 -->\n      <g style=\"fill:#262626;\" transform=\"translate(452.216934 459.453594)scale(0.11 -0.11)\">\n       <defs>\n        <path d=\"M 49.75 54.046875 \nL 41.015625 53.375 \nQ 39.84375 58.546875 37.703125 60.890625 \nQ 34.125 64.65625 28.90625 64.65625 \nQ 24.703125 64.65625 21.53125 62.3125 \nQ 17.390625 59.28125 14.984375 53.46875 \nQ 12.59375 47.65625 12.5 36.921875 \nQ 15.671875 41.75 20.265625 44.09375 \nQ 24.859375 46.4375 29.890625 46.4375 \nQ 38.671875 46.4375 44.84375 39.96875 \nQ 51.03125 33.5 51.03125 23.25 \nQ 51.03125 16.5 48.125 10.71875 \nQ 45.21875 4.9375 40.140625 1.859375 \nQ 35.0625 -1.21875 28.609375 -1.21875 \nQ 17.625 -1.21875 10.6875 6.859375 \nQ 3.765625 14.9375 3.765625 33.5 \nQ 3.765625 54.25 11.421875 63.671875 \nQ 18.109375 71.875 29.4375 71.875 \nQ 37.890625 71.875 43.28125 67.140625 \nQ 48.6875 62.40625 49.75 54.046875 \nz\nM 13.875 23.1875 \nQ 13.875 18.65625 15.796875 14.5 \nQ 17.71875 10.359375 21.1875 8.171875 \nQ 24.65625 6 28.46875 6 \nQ 34.03125 6 38.03125 10.484375 \nQ 42.046875 14.984375 42.046875 22.703125 \nQ 42.046875 30.125 38.078125 34.390625 \nQ 34.125 38.671875 28.125 38.671875 \nQ 22.171875 38.671875 18.015625 34.390625 \nQ 13.875 30.125 13.875 23.1875 \nz\n\" id=\"ArialMT-54\"/>\n       </defs>\n       <use xlink:href=\"#ArialMT-48\"/>\n       <use x=\"55.615234\" xlink:href=\"#ArialMT-46\"/>\n       <use x=\"83.398438\" xlink:href=\"#ArialMT-54\"/>\n      </g>\n     </g>\n    </g>\n   </g>\n   <g id=\"matplotlib.axis_2\">\n    <g id=\"ytick_1\">\n     <g id=\"line2d_8\">\n      <path clip-path=\"url(#p2bcbaff88c)\" d=\"M 41.168125 442.08 \nL 487.568125 442.08 \n\" style=\"fill:none;stroke:#ffffff;stroke-linecap:round;\"/>\n     </g>\n     <g id=\"text_8\">\n      <!-- 0 -->\n      <g style=\"fill:#262626;\" transform=\"translate(25.551094 446.016797)scale(0.11 -0.11)\">\n       <use xlink:href=\"#ArialMT-48\"/>\n      </g>\n     </g>\n    </g>\n    <g id=\"ytick_2\">\n     <g id=\"line2d_9\">\n      <path clip-path=\"url(#p2bcbaff88c)\" d=\"M 41.168125 376.773878 \nL 487.568125 376.773878 \n\" style=\"fill:none;stroke:#ffffff;stroke-linecap:round;\"/>\n     </g>\n     <g id=\"text_9\">\n      <!-- 500 -->\n      <g style=\"fill:#262626;\" transform=\"translate(13.317031 380.710674)scale(0.11 -0.11)\">\n       <use xlink:href=\"#ArialMT-53\"/>\n       <use x=\"55.615234\" xlink:href=\"#ArialMT-48\"/>\n       <use x=\"111.230469\" xlink:href=\"#ArialMT-48\"/>\n      </g>\n     </g>\n    </g>\n    <g id=\"ytick_3\">\n     <g id=\"line2d_10\">\n      <path clip-path=\"url(#p2bcbaff88c)\" d=\"M 41.168125 311.467755 \nL 487.568125 311.467755 \n\" style=\"fill:none;stroke:#ffffff;stroke-linecap:round;\"/>\n     </g>\n     <g id=\"text_10\">\n      <!-- 1000 -->\n      <g style=\"fill:#262626;\" transform=\"translate(7.2 315.404552)scale(0.11 -0.11)\">\n       <use xlink:href=\"#ArialMT-49\"/>\n       <use x=\"55.615234\" xlink:href=\"#ArialMT-48\"/>\n       <use x=\"111.230469\" xlink:href=\"#ArialMT-48\"/>\n       <use x=\"166.845703\" xlink:href=\"#ArialMT-48\"/>\n      </g>\n     </g>\n    </g>\n    <g id=\"ytick_4\">\n     <g id=\"line2d_11\">\n      <path clip-path=\"url(#p2bcbaff88c)\" d=\"M 41.168125 246.161633 \nL 487.568125 246.161633 \n\" style=\"fill:none;stroke:#ffffff;stroke-linecap:round;\"/>\n     </g>\n     <g id=\"text_11\">\n      <!-- 1500 -->\n      <g style=\"fill:#262626;\" transform=\"translate(7.2 250.09843)scale(0.11 -0.11)\">\n       <use xlink:href=\"#ArialMT-49\"/>\n       <use x=\"55.615234\" xlink:href=\"#ArialMT-53\"/>\n       <use x=\"111.230469\" xlink:href=\"#ArialMT-48\"/>\n       <use x=\"166.845703\" xlink:href=\"#ArialMT-48\"/>\n      </g>\n     </g>\n    </g>\n    <g id=\"ytick_5\">\n     <g id=\"line2d_12\">\n      <path clip-path=\"url(#p2bcbaff88c)\" d=\"M 41.168125 180.85551 \nL 487.568125 180.85551 \n\" style=\"fill:none;stroke:#ffffff;stroke-linecap:round;\"/>\n     </g>\n     <g id=\"text_12\">\n      <!-- 2000 -->\n      <g style=\"fill:#262626;\" transform=\"translate(7.2 184.792307)scale(0.11 -0.11)\">\n       <use xlink:href=\"#ArialMT-50\"/>\n       <use x=\"55.615234\" xlink:href=\"#ArialMT-48\"/>\n       <use x=\"111.230469\" xlink:href=\"#ArialMT-48\"/>\n       <use x=\"166.845703\" xlink:href=\"#ArialMT-48\"/>\n      </g>\n     </g>\n    </g>\n    <g id=\"ytick_6\">\n     <g id=\"line2d_13\">\n      <path clip-path=\"url(#p2bcbaff88c)\" d=\"M 41.168125 115.549388 \nL 487.568125 115.549388 \n\" style=\"fill:none;stroke:#ffffff;stroke-linecap:round;\"/>\n     </g>\n     <g id=\"text_13\">\n      <!-- 2500 -->\n      <g style=\"fill:#262626;\" transform=\"translate(7.2 119.486185)scale(0.11 -0.11)\">\n       <use xlink:href=\"#ArialMT-50\"/>\n       <use x=\"55.615234\" xlink:href=\"#ArialMT-53\"/>\n       <use x=\"111.230469\" xlink:href=\"#ArialMT-48\"/>\n       <use x=\"166.845703\" xlink:href=\"#ArialMT-48\"/>\n      </g>\n     </g>\n    </g>\n    <g id=\"ytick_7\">\n     <g id=\"line2d_14\">\n      <path clip-path=\"url(#p2bcbaff88c)\" d=\"M 41.168125 50.243265 \nL 487.568125 50.243265 \n\" style=\"fill:none;stroke:#ffffff;stroke-linecap:round;\"/>\n     </g>\n     <g id=\"text_14\">\n      <!-- 3000 -->\n      <g style=\"fill:#262626;\" transform=\"translate(7.2 54.180062)scale(0.11 -0.11)\">\n       <use xlink:href=\"#ArialMT-51\"/>\n       <use x=\"55.615234\" xlink:href=\"#ArialMT-48\"/>\n       <use x=\"111.230469\" xlink:href=\"#ArialMT-48\"/>\n       <use x=\"166.845703\" xlink:href=\"#ArialMT-48\"/>\n      </g>\n     </g>\n    </g>\n   </g>\n   <g id=\"patch_3\">\n    <path clip-path=\"url(#p2bcbaff88c)\" d=\"M 61.459034 442.08 \nL 81.749943 442.08 \nL 81.749943 195.222857 \nL 61.459034 195.222857 \nz\n\" style=\"fill:#4c72b0;stroke:#ffffff;stroke-linejoin:miter;\"/>\n   </g>\n   <g id=\"patch_4\">\n    <path clip-path=\"url(#p2bcbaff88c)\" d=\"M 81.749943 442.08 \nL 102.040852 442.08 \nL 102.040852 27.908571 \nL 81.749943 27.908571 \nz\n\" style=\"fill:#4c72b0;stroke:#ffffff;stroke-linejoin:miter;\"/>\n   </g>\n   <g id=\"patch_5\">\n    <path clip-path=\"url(#p2bcbaff88c)\" d=\"M 102.040852 442.08 \nL 122.331761 442.08 \nL 122.331761 299.712653 \nL 102.040852 299.712653 \nz\n\" style=\"fill:#4c72b0;stroke:#ffffff;stroke-linejoin:miter;\"/>\n   </g>\n   <g id=\"patch_6\">\n    <path clip-path=\"url(#p2bcbaff88c)\" d=\"M 122.331761 442.08 \nL 142.62267 442.08 \nL 142.62267 417.394286 \nL 122.331761 417.394286 \nz\n\" style=\"fill:#4c72b0;stroke:#ffffff;stroke-linejoin:miter;\"/>\n   </g>\n   <g id=\"patch_7\">\n    <path clip-path=\"url(#p2bcbaff88c)\" d=\"M 142.62267 442.08 \nL 162.91358 442.08 \nL 162.91358 435.941224 \nL 142.62267 435.941224 \nz\n\" style=\"fill:#4c72b0;stroke:#ffffff;stroke-linejoin:miter;\"/>\n   </g>\n   <g id=\"patch_8\">\n    <path clip-path=\"url(#p2bcbaff88c)\" d=\"M 162.91358 442.08 \nL 183.204489 442.08 \nL 183.204489 436.202449 \nL 162.91358 436.202449 \nz\n\" style=\"fill:#4c72b0;stroke:#ffffff;stroke-linejoin:miter;\"/>\n   </g>\n   <g id=\"patch_9\">\n    <path clip-path=\"url(#p2bcbaff88c)\" d=\"M 183.204489 442.08 \nL 203.495398 442.08 \nL 203.495398 439.075918 \nL 183.204489 439.075918 \nz\n\" style=\"fill:#4c72b0;stroke:#ffffff;stroke-linejoin:miter;\"/>\n   </g>\n   <g id=\"patch_10\">\n    <path clip-path=\"url(#p2bcbaff88c)\" d=\"M 203.495398 442.08 \nL 223.786307 442.08 \nL 223.786307 440.643265 \nL 203.495398 440.643265 \nz\n\" style=\"fill:#4c72b0;stroke:#ffffff;stroke-linejoin:miter;\"/>\n   </g>\n   <g id=\"patch_11\">\n    <path clip-path=\"url(#p2bcbaff88c)\" d=\"M 223.786307 442.08 \nL 244.077216 442.08 \nL 244.077216 441.296327 \nL 223.786307 441.296327 \nz\n\" style=\"fill:#4c72b0;stroke:#ffffff;stroke-linejoin:miter;\"/>\n   </g>\n   <g id=\"patch_12\">\n    <path clip-path=\"url(#p2bcbaff88c)\" d=\"M 244.077216 442.08 \nL 264.368125 442.08 \nL 264.368125 441.818776 \nL 244.077216 441.818776 \nz\n\" style=\"fill:#4c72b0;stroke:#ffffff;stroke-linejoin:miter;\"/>\n   </g>\n   <g id=\"patch_13\">\n    <path clip-path=\"url(#p2bcbaff88c)\" d=\"M 264.368125 442.08 \nL 284.659034 442.08 \nL 284.659034 441.818776 \nL 264.368125 441.818776 \nz\n\" style=\"fill:#4c72b0;stroke:#ffffff;stroke-linejoin:miter;\"/>\n   </g>\n   <g id=\"patch_14\">\n    <path clip-path=\"url(#p2bcbaff88c)\" d=\"M 284.659034 442.08 \nL 304.949943 442.08 \nL 304.949943 441.165714 \nL 284.659034 441.165714 \nz\n\" style=\"fill:#4c72b0;stroke:#ffffff;stroke-linejoin:miter;\"/>\n   </g>\n   <g id=\"patch_15\">\n    <path clip-path=\"url(#p2bcbaff88c)\" d=\"M 304.949943 442.08 \nL 325.240852 442.08 \nL 325.240852 441.949388 \nL 304.949943 441.949388 \nz\n\" style=\"fill:#4c72b0;stroke:#ffffff;stroke-linejoin:miter;\"/>\n   </g>\n   <g id=\"patch_16\">\n    <path clip-path=\"url(#p2bcbaff88c)\" d=\"M 325.240852 442.08 \nL 345.531761 442.08 \nL 345.531761 440.90449 \nL 325.240852 440.90449 \nz\n\" style=\"fill:#4c72b0;stroke:#ffffff;stroke-linejoin:miter;\"/>\n   </g>\n   <g id=\"patch_17\">\n    <path clip-path=\"url(#p2bcbaff88c)\" d=\"M 345.531761 442.08 \nL 365.82267 442.08 \nL 365.82267 442.08 \nL 345.531761 442.08 \nz\n\" style=\"fill:#4c72b0;stroke:#ffffff;stroke-linejoin:miter;\"/>\n   </g>\n   <g id=\"patch_18\">\n    <path clip-path=\"url(#p2bcbaff88c)\" d=\"M 365.82267 442.08 \nL 386.11358 442.08 \nL 386.11358 441.818776 \nL 365.82267 441.818776 \nz\n\" style=\"fill:#4c72b0;stroke:#ffffff;stroke-linejoin:miter;\"/>\n   </g>\n   <g id=\"patch_19\">\n    <path clip-path=\"url(#p2bcbaff88c)\" d=\"M 386.11358 442.08 \nL 406.404489 442.08 \nL 406.404489 442.08 \nL 386.11358 442.08 \nz\n\" style=\"fill:#4c72b0;stroke:#ffffff;stroke-linejoin:miter;\"/>\n   </g>\n   <g id=\"patch_20\">\n    <path clip-path=\"url(#p2bcbaff88c)\" d=\"M 406.404489 442.08 \nL 426.695398 442.08 \nL 426.695398 442.08 \nL 406.404489 442.08 \nz\n\" style=\"fill:#4c72b0;stroke:#ffffff;stroke-linejoin:miter;\"/>\n   </g>\n   <g id=\"patch_21\">\n    <path clip-path=\"url(#p2bcbaff88c)\" d=\"M 426.695398 442.08 \nL 446.986307 442.08 \nL 446.986307 442.08 \nL 426.695398 442.08 \nz\n\" style=\"fill:#4c72b0;stroke:#ffffff;stroke-linejoin:miter;\"/>\n   </g>\n   <g id=\"patch_22\">\n    <path clip-path=\"url(#p2bcbaff88c)\" d=\"M 446.986307 442.08 \nL 467.277216 442.08 \nL 467.277216 441.818776 \nL 446.986307 441.818776 \nz\n\" style=\"fill:#4c72b0;stroke:#ffffff;stroke-linejoin:miter;\"/>\n   </g>\n   <g id=\"patch_23\">\n    <path d=\"M 41.168125 442.08 \nL 41.168125 7.2 \n\" style=\"fill:none;stroke:#ffffff;stroke-linecap:square;stroke-linejoin:miter;stroke-width:1.25;\"/>\n   </g>\n   <g id=\"patch_24\">\n    <path d=\"M 487.568125 442.08 \nL 487.568125 7.2 \n\" style=\"fill:none;stroke:#ffffff;stroke-linecap:square;stroke-linejoin:miter;stroke-width:1.25;\"/>\n   </g>\n   <g id=\"patch_25\">\n    <path d=\"M 41.168125 442.08 \nL 487.568125 442.08 \n\" style=\"fill:none;stroke:#ffffff;stroke-linecap:square;stroke-linejoin:miter;stroke-width:1.25;\"/>\n   </g>\n   <g id=\"patch_26\">\n    <path d=\"M 41.168125 7.2 \nL 487.568125 7.2 \n\" style=\"fill:none;stroke:#ffffff;stroke-linecap:square;stroke-linejoin:miter;stroke-width:1.25;\"/>\n   </g>\n  </g>\n </g>\n <defs>\n  <clipPath id=\"p2bcbaff88c\">\n   <rect height=\"434.88\" width=\"446.4\" x=\"41.168125\" y=\"7.2\"/>\n  </clipPath>\n </defs>\n</svg>\n",
      "image/png": "[encoded data removed]"
     },
     "metadata": {}
    }
   ],
   "source": [
    "wine['chlorides'].hist(bins=20);"
   ]
  },
  {
   "cell_type": "code",
   "execution_count": 19,
   "metadata": {
    "hidden": true
   },
   "outputs": [
    {
     "output_type": "execute_result",
     "data": {
      "text/plain": [
       "       fixed acidity  volatile acidity  citric acid  residual sugar  \\\n",
       "count    6497.000000       6497.000000  6497.000000     6497.000000   \n",
       "mean        7.215307          0.339666     0.318633        5.443235   \n",
       "std         1.296434          0.164636     0.145318        4.757804   \n",
       "min         3.800000          0.080000     0.000000        0.600000   \n",
       "25%         6.400000          0.230000     0.250000        1.800000   \n",
       "50%         7.000000          0.290000     0.310000        3.000000   \n",
       "75%         7.700000          0.400000     0.390000        8.100000   \n",
       "max        15.900000          1.580000     1.660000       65.800000   \n",
       "\n",
       "         chlorides  free sulfur dioxide  total sulfur dioxide      density  \\\n",
       "count  6497.000000          6497.000000           6497.000000  6497.000000   \n",
       "mean      0.056034            30.525319            115.744574     0.994697   \n",
       "std       0.035034            17.749400             56.521855     0.002999   \n",
       "min       0.009000             1.000000              6.000000     0.987110   \n",
       "25%       0.038000            17.000000             77.000000     0.992340   \n",
       "50%       0.047000            29.000000            118.000000     0.994890   \n",
       "75%       0.065000            41.000000            156.000000     0.996990   \n",
       "max       0.611000           289.000000            440.000000     1.038980   \n",
       "\n",
       "                pH    sulphates      alcohol      quality     red_wine  \n",
       "count  6497.000000  6497.000000  6497.000000  6497.000000  6497.000000  \n",
       "mean      3.218501     0.531268    10.491801     5.818378     0.246114  \n",
       "std       0.160787     0.148806     1.192712     0.873255     0.430779  \n",
       "min       2.720000     0.220000     8.000000     3.000000     0.000000  \n",
       "25%       3.110000     0.430000     9.500000     5.000000     0.000000  \n",
       "50%       3.210000     0.510000    10.300000     6.000000     0.000000  \n",
       "75%       3.320000     0.600000    11.300000     6.000000     0.000000  \n",
       "max       4.010000     2.000000    14.900000     9.000000     1.000000  "
      ],
      "text/html": "<div>\n<style scoped>\n    .dataframe tbody tr th:only-of-type {\n        vertical-align: middle;\n    }\n\n    .dataframe tbody tr th {\n        vertical-align: top;\n    }\n\n    .dataframe thead th {\n        text-align: right;\n    }\n</style>\n<table border=\"1\" class=\"dataframe\">\n  <thead>\n    <tr style=\"text-align: right;\">\n      <th></th>\n      <th>fixed acidity</th>\n      <th>volatile acidity</th>\n      <th>citric acid</th>\n      <th>residual sugar</th>\n      <th>chlorides</th>\n      <th>free sulfur dioxide</th>\n      <th>total sulfur dioxide</th>\n      <th>density</th>\n      <th>pH</th>\n      <th>sulphates</th>\n      <th>alcohol</th>\n      <th>quality</th>\n      <th>red_wine</th>\n    </tr>\n  </thead>\n  <tbody>\n    <tr>\n      <th>count</th>\n      <td>6497.000000</td>\n      <td>6497.000000</td>\n      <td>6497.000000</td>\n      <td>6497.000000</td>\n      <td>6497.000000</td>\n      <td>6497.000000</td>\n      <td>6497.000000</td>\n      <td>6497.000000</td>\n      <td>6497.000000</td>\n      <td>6497.000000</td>\n      <td>6497.000000</td>\n      <td>6497.000000</td>\n      <td>6497.000000</td>\n    </tr>\n    <tr>\n      <th>mean</th>\n      <td>7.215307</td>\n      <td>0.339666</td>\n      <td>0.318633</td>\n      <td>5.443235</td>\n      <td>0.056034</td>\n      <td>30.525319</td>\n      <td>115.744574</td>\n      <td>0.994697</td>\n      <td>3.218501</td>\n      <td>0.531268</td>\n      <td>10.491801</td>\n      <td>5.818378</td>\n      <td>0.246114</td>\n    </tr>\n    <tr>\n      <th>std</th>\n      <td>1.296434</td>\n      <td>0.164636</td>\n      <td>0.145318</td>\n      <td>4.757804</td>\n      <td>0.035034</td>\n      <td>17.749400</td>\n      <td>56.521855</td>\n      <td>0.002999</td>\n      <td>0.160787</td>\n      <td>0.148806</td>\n      <td>1.192712</td>\n      <td>0.873255</td>\n      <td>0.430779</td>\n    </tr>\n    <tr>\n      <th>min</th>\n      <td>3.800000</td>\n      <td>0.080000</td>\n      <td>0.000000</td>\n      <td>0.600000</td>\n      <td>0.009000</td>\n      <td>1.000000</td>\n      <td>6.000000</td>\n      <td>0.987110</td>\n      <td>2.720000</td>\n      <td>0.220000</td>\n      <td>8.000000</td>\n      <td>3.000000</td>\n      <td>0.000000</td>\n    </tr>\n    <tr>\n      <th>25%</th>\n      <td>6.400000</td>\n      <td>0.230000</td>\n      <td>0.250000</td>\n      <td>1.800000</td>\n      <td>0.038000</td>\n      <td>17.000000</td>\n      <td>77.000000</td>\n      <td>0.992340</td>\n      <td>3.110000</td>\n      <td>0.430000</td>\n      <td>9.500000</td>\n      <td>5.000000</td>\n      <td>0.000000</td>\n    </tr>\n    <tr>\n      <th>50%</th>\n      <td>7.000000</td>\n      <td>0.290000</td>\n      <td>0.310000</td>\n      <td>3.000000</td>\n      <td>0.047000</td>\n      <td>29.000000</td>\n      <td>118.000000</td>\n      <td>0.994890</td>\n      <td>3.210000</td>\n      <td>0.510000</td>\n      <td>10.300000</td>\n      <td>6.000000</td>\n      <td>0.000000</td>\n    </tr>\n    <tr>\n      <th>75%</th>\n      <td>7.700000</td>\n      <td>0.400000</td>\n      <td>0.390000</td>\n      <td>8.100000</td>\n      <td>0.065000</td>\n      <td>41.000000</td>\n      <td>156.000000</td>\n      <td>0.996990</td>\n      <td>3.320000</td>\n      <td>0.600000</td>\n      <td>11.300000</td>\n      <td>6.000000</td>\n      <td>0.000000</td>\n    </tr>\n    <tr>\n      <th>max</th>\n      <td>15.900000</td>\n      <td>1.580000</td>\n      <td>1.660000</td>\n      <td>65.800000</td>\n      <td>0.611000</td>\n      <td>289.000000</td>\n      <td>440.000000</td>\n      <td>1.038980</td>\n      <td>4.010000</td>\n      <td>2.000000</td>\n      <td>14.900000</td>\n      <td>9.000000</td>\n      <td>1.000000</td>\n    </tr>\n  </tbody>\n</table>\n</div>"
     },
     "metadata": {},
     "execution_count": 19
    }
   ],
   "source": [
    "wine.describe()"
   ]
  },
  {
   "cell_type": "markdown",
   "metadata": {
    "hidden": true
   },
   "source": [
    "We'll try building a feature that records whether the level of chlorides is greater than 0.065 (based on \"high\" being greater than the 75th percentile):"
   ]
  },
  {
   "cell_type": "code",
   "execution_count": 20,
   "metadata": {
    "hidden": true,
    "scrolled": true
   },
   "outputs": [],
   "source": [
    "wine['high_chlorides'] = wine['chlorides'] > 0.065"
   ]
  },
  {
   "cell_type": "markdown",
   "metadata": {
    "hidden": true
   },
   "source": [
    "Now we can check the correlation of this new feature with the target:"
   ]
  },
  {
   "cell_type": "code",
   "execution_count": 21,
   "metadata": {
    "hidden": true
   },
   "outputs": [
    {
     "output_type": "execute_result",
     "data": {
      "text/plain": [
       "-0.18185264331643267"
      ]
     },
     "metadata": {},
     "execution_count": 21
    }
   ],
   "source": [
    "wine.corr()['quality']['high_chlorides']"
   ]
  },
  {
   "cell_type": "markdown",
   "metadata": {
    "hidden": true
   },
   "source": [
    "Not bad! We don't seem to have stumbled onto a huge connection here, but this correlation value suggests that this new feature may be helpful in a final model."
   ]
  },
  {
   "cell_type": "markdown",
   "metadata": {
    "heading_collapsed": true,
    "hidden": true
   },
   "source": [
    "### $\\bf{SO_2}$"
   ]
  },
  {
   "cell_type": "markdown",
   "metadata": {
    "hidden": true
   },
   "source": [
    "Next we'll take a look at distribution of the sulfur dioxide feature:"
   ]
  },
  {
   "cell_type": "code",
   "execution_count": 22,
   "metadata": {
    "hidden": true
   },
   "outputs": [
    {
     "output_type": "display_data",
     "data": {
      "text/plain": "<Figure size 576x576 with 1 Axes>",
      "image/svg+xml": "<?xml version=\"1.0\" encoding=\"utf-8\" standalone=\"no\"?>\n<!DOCTYPE svg PUBLIC \"-//W3C//DTD SVG 1.1//EN\"\n  \"http://www.w3.org/Graphics/SVG/1.1/DTD/svg11.dtd\">\n<!-- Created with matplotlib (https://matplotlib.org/) -->\n<svg height=\"468.839844pt\" version=\"1.1\" viewBox=\"0 0 488.651094 468.839844\" width=\"488.651094pt\" xmlns=\"http://www.w3.org/2000/svg\" xmlns:xlink=\"http://www.w3.org/1999/xlink\">\n <metadata>\n  <rdf:RDF xmlns:cc=\"http://creativecommons.org/ns#\" xmlns:dc=\"http://purl.org/dc/elements/1.1/\" xmlns:rdf=\"http://www.w3.org/1999/02/22-rdf-syntax-ns#\">\n   <cc:Work>\n    <dc:type rdf:resource=\"http://purl.org/dc/dcmitype/StillImage\"/>\n    <dc:date>2021-07-12T13:49:09.391350</dc:date>\n    <dc:format>image/svg+xml</dc:format>\n    <dc:creator>\n     <cc:Agent>\n      <dc:title>Matplotlib v3.3.4, https://matplotlib.org/</dc:title>\n     </cc:Agent>\n    </dc:creator>\n   </cc:Work>\n  </rdf:RDF>\n </metadata>\n <defs>\n  <style type=\"text/css\">*{stroke-linecap:butt;stroke-linejoin:round;}</style>\n </defs>\n <g id=\"figure_1\">\n  <g id=\"patch_1\">\n   <path d=\"M 0 468.839844 \nL 488.651094 468.839844 \nL 488.651094 0 \nL 0 0 \nz\n\" style=\"fill:#ffffff;\"/>\n  </g>\n  <g id=\"axes_1\">\n   <g id=\"patch_2\">\n    <path d=\"M 35.051094 442.08 \nL 481.451094 442.08 \nL 481.451094 7.2 \nL 35.051094 7.2 \nz\n\" style=\"fill:#eaeaf2;\"/>\n   </g>\n   <g id=\"matplotlib.axis_1\">\n    <g id=\"xtick_1\">\n     <g id=\"line2d_1\">\n      <path clip-path=\"url(#p2863a1c83c)\" d=\"M 49.731613 442.08 \nL 49.731613 7.2 \n\" style=\"fill:none;stroke:#ffffff;stroke-linecap:round;\"/>\n     </g>\n     <g id=\"text_1\">\n      <!-- 0 -->\n      <g style=\"fill:#262626;\" transform=\"translate(46.673098 459.453594)scale(0.11 -0.11)\">\n       <defs>\n        <path d=\"M 4.15625 35.296875 \nQ 4.15625 48 6.765625 55.734375 \nQ 9.375 63.484375 14.515625 67.671875 \nQ 19.671875 71.875 27.484375 71.875 \nQ 33.25 71.875 37.59375 69.546875 \nQ 41.9375 67.234375 44.765625 62.859375 \nQ 47.609375 58.5 49.21875 52.21875 \nQ 50.828125 45.953125 50.828125 35.296875 \nQ 50.828125 22.703125 48.234375 14.96875 \nQ 45.65625 7.234375 40.5 3 \nQ 35.359375 -1.21875 27.484375 -1.21875 \nQ 17.140625 -1.21875 11.234375 6.203125 \nQ 4.15625 15.140625 4.15625 35.296875 \nz\nM 13.1875 35.296875 \nQ 13.1875 17.671875 17.3125 11.828125 \nQ 21.4375 6 27.484375 6 \nQ 33.546875 6 37.671875 11.859375 \nQ 41.796875 17.71875 41.796875 35.296875 \nQ 41.796875 52.984375 37.671875 58.78125 \nQ 33.546875 64.59375 27.390625 64.59375 \nQ 21.34375 64.59375 17.71875 59.46875 \nQ 13.1875 52.9375 13.1875 35.296875 \nz\n\" id=\"ArialMT-48\"/>\n       </defs>\n       <use xlink:href=\"#ArialMT-48\"/>\n      </g>\n     </g>\n    </g>\n    <g id=\"xtick_2\">\n     <g id=\"line2d_2\">\n      <path clip-path=\"url(#p2863a1c83c)\" d=\"M 143.238107 442.08 \nL 143.238107 7.2 \n\" style=\"fill:none;stroke:#ffffff;stroke-linecap:round;\"/>\n     </g>\n     <g id=\"text_2\">\n      <!-- 100 -->\n      <g style=\"fill:#262626;\" transform=\"translate(134.06256 459.453594)scale(0.11 -0.11)\">\n       <defs>\n        <path d=\"M 37.25 0 \nL 28.46875 0 \nL 28.46875 56 \nQ 25.296875 52.984375 20.140625 49.953125 \nQ 14.984375 46.921875 10.890625 45.40625 \nL 10.890625 53.90625 \nQ 18.265625 57.375 23.78125 62.296875 \nQ 29.296875 67.234375 31.59375 71.875 \nL 37.25 71.875 \nz\n\" id=\"ArialMT-49\"/>\n       </defs>\n       <use xlink:href=\"#ArialMT-49\"/>\n       <use x=\"55.615234\" xlink:href=\"#ArialMT-48\"/>\n       <use x=\"111.230469\" xlink:href=\"#ArialMT-48\"/>\n      </g>\n     </g>\n    </g>\n    <g id=\"xtick_3\">\n     <g id=\"line2d_3\">\n      <path clip-path=\"url(#p2863a1c83c)\" d=\"M 236.7446 442.08 \nL 236.7446 7.2 \n\" style=\"fill:none;stroke:#ffffff;stroke-linecap:round;\"/>\n     </g>\n     <g id=\"text_3\">\n      <!-- 200 -->\n      <g style=\"fill:#262626;\" transform=\"translate(227.569053 459.453594)scale(0.11 -0.11)\">\n       <defs>\n        <path d=\"M 50.34375 8.453125 \nL 50.34375 0 \nL 3.03125 0 \nQ 2.9375 3.171875 4.046875 6.109375 \nQ 5.859375 10.9375 9.828125 15.625 \nQ 13.8125 20.3125 21.34375 26.46875 \nQ 33.015625 36.03125 37.109375 41.625 \nQ 41.21875 47.21875 41.21875 52.203125 \nQ 41.21875 57.421875 37.46875 61 \nQ 33.734375 64.59375 27.734375 64.59375 \nQ 21.390625 64.59375 17.578125 60.78125 \nQ 13.765625 56.984375 13.71875 50.25 \nL 4.6875 51.171875 \nQ 5.609375 61.28125 11.65625 66.578125 \nQ 17.71875 71.875 27.9375 71.875 \nQ 38.234375 71.875 44.234375 66.15625 \nQ 50.25 60.453125 50.25 52 \nQ 50.25 47.703125 48.484375 43.546875 \nQ 46.734375 39.40625 42.65625 34.8125 \nQ 38.578125 30.21875 29.109375 22.21875 \nQ 21.1875 15.578125 18.9375 13.203125 \nQ 16.703125 10.84375 15.234375 8.453125 \nz\n\" id=\"ArialMT-50\"/>\n       </defs>\n       <use xlink:href=\"#ArialMT-50\"/>\n       <use x=\"55.615234\" xlink:href=\"#ArialMT-48\"/>\n       <use x=\"111.230469\" xlink:href=\"#ArialMT-48\"/>\n      </g>\n     </g>\n    </g>\n    <g id=\"xtick_4\">\n     <g id=\"line2d_4\">\n      <path clip-path=\"url(#p2863a1c83c)\" d=\"M 330.251094 442.08 \nL 330.251094 7.2 \n\" style=\"fill:none;stroke:#ffffff;stroke-linecap:round;\"/>\n     </g>\n     <g id=\"text_4\">\n      <!-- 300 -->\n      <g style=\"fill:#262626;\" transform=\"translate(321.075547 459.453594)scale(0.11 -0.11)\">\n       <defs>\n        <path d=\"M 4.203125 18.890625 \nL 12.984375 20.0625 \nQ 14.5 12.59375 18.140625 9.296875 \nQ 21.78125 6 27 6 \nQ 33.203125 6 37.46875 10.296875 \nQ 41.75 14.59375 41.75 20.953125 \nQ 41.75 27 37.796875 30.921875 \nQ 33.84375 34.859375 27.734375 34.859375 \nQ 25.25 34.859375 21.53125 33.890625 \nL 22.515625 41.609375 \nQ 23.390625 41.5 23.921875 41.5 \nQ 29.546875 41.5 34.03125 44.421875 \nQ 38.53125 47.359375 38.53125 53.46875 \nQ 38.53125 58.296875 35.25 61.46875 \nQ 31.984375 64.65625 26.8125 64.65625 \nQ 21.6875 64.65625 18.265625 61.421875 \nQ 14.84375 58.203125 13.875 51.765625 \nL 5.078125 53.328125 \nQ 6.6875 62.15625 12.390625 67.015625 \nQ 18.109375 71.875 26.609375 71.875 \nQ 32.46875 71.875 37.390625 69.359375 \nQ 42.328125 66.84375 44.9375 62.5 \nQ 47.5625 58.15625 47.5625 53.265625 \nQ 47.5625 48.640625 45.0625 44.828125 \nQ 42.578125 41.015625 37.703125 38.765625 \nQ 44.046875 37.3125 47.5625 32.6875 \nQ 51.078125 28.078125 51.078125 21.140625 \nQ 51.078125 11.765625 44.234375 5.25 \nQ 37.40625 -1.265625 26.953125 -1.265625 \nQ 17.53125 -1.265625 11.296875 4.34375 \nQ 5.078125 9.96875 4.203125 18.890625 \nz\n\" id=\"ArialMT-51\"/>\n       </defs>\n       <use xlink:href=\"#ArialMT-51\"/>\n       <use x=\"55.615234\" xlink:href=\"#ArialMT-48\"/>\n       <use x=\"111.230469\" xlink:href=\"#ArialMT-48\"/>\n      </g>\n     </g>\n    </g>\n    <g id=\"xtick_5\">\n     <g id=\"line2d_5\">\n      <path clip-path=\"url(#p2863a1c83c)\" d=\"M 423.757587 442.08 \nL 423.757587 7.2 \n\" style=\"fill:none;stroke:#ffffff;stroke-linecap:round;\"/>\n     </g>\n     <g id=\"text_5\">\n      <!-- 400 -->\n      <g style=\"fill:#262626;\" transform=\"translate(414.58204 459.453594)scale(0.11 -0.11)\">\n       <defs>\n        <path d=\"M 32.328125 0 \nL 32.328125 17.140625 \nL 1.265625 17.140625 \nL 1.265625 25.203125 \nL 33.9375 71.578125 \nL 41.109375 71.578125 \nL 41.109375 25.203125 \nL 50.78125 25.203125 \nL 50.78125 17.140625 \nL 41.109375 17.140625 \nL 41.109375 0 \nz\nM 32.328125 25.203125 \nL 32.328125 57.46875 \nL 9.90625 25.203125 \nz\n\" id=\"ArialMT-52\"/>\n       </defs>\n       <use xlink:href=\"#ArialMT-52\"/>\n       <use x=\"55.615234\" xlink:href=\"#ArialMT-48\"/>\n       <use x=\"111.230469\" xlink:href=\"#ArialMT-48\"/>\n      </g>\n     </g>\n    </g>\n   </g>\n   <g id=\"matplotlib.axis_2\">\n    <g id=\"ytick_1\">\n     <g id=\"line2d_6\">\n      <path clip-path=\"url(#p2863a1c83c)\" d=\"M 35.051094 442.08 \nL 481.451094 442.08 \n\" style=\"fill:none;stroke:#ffffff;stroke-linecap:round;\"/>\n     </g>\n     <g id=\"text_6\">\n      <!-- 0 -->\n      <g style=\"fill:#262626;\" transform=\"translate(19.434063 446.016797)scale(0.11 -0.11)\">\n       <use xlink:href=\"#ArialMT-48\"/>\n      </g>\n     </g>\n    </g>\n    <g id=\"ytick_2\">\n     <g id=\"line2d_7\">\n      <path clip-path=\"url(#p2863a1c83c)\" d=\"M 35.051094 345.984541 \nL 481.451094 345.984541 \n\" style=\"fill:none;stroke:#ffffff;stroke-linecap:round;\"/>\n     </g>\n     <g id=\"text_7\">\n      <!-- 200 -->\n      <g style=\"fill:#262626;\" transform=\"translate(7.2 349.921338)scale(0.11 -0.11)\">\n       <use xlink:href=\"#ArialMT-50\"/>\n       <use x=\"55.615234\" xlink:href=\"#ArialMT-48\"/>\n       <use x=\"111.230469\" xlink:href=\"#ArialMT-48\"/>\n      </g>\n     </g>\n    </g>\n    <g id=\"ytick_3\">\n     <g id=\"line2d_8\">\n      <path clip-path=\"url(#p2863a1c83c)\" d=\"M 35.051094 249.889082 \nL 481.451094 249.889082 \n\" style=\"fill:none;stroke:#ffffff;stroke-linecap:round;\"/>\n     </g>\n     <g id=\"text_8\">\n      <!-- 400 -->\n      <g style=\"fill:#262626;\" transform=\"translate(7.2 253.825879)scale(0.11 -0.11)\">\n       <use xlink:href=\"#ArialMT-52\"/>\n       <use x=\"55.615234\" xlink:href=\"#ArialMT-48\"/>\n       <use x=\"111.230469\" xlink:href=\"#ArialMT-48\"/>\n      </g>\n     </g>\n    </g>\n    <g id=\"ytick_4\">\n     <g id=\"line2d_9\">\n      <path clip-path=\"url(#p2863a1c83c)\" d=\"M 35.051094 153.793623 \nL 481.451094 153.793623 \n\" style=\"fill:none;stroke:#ffffff;stroke-linecap:round;\"/>\n     </g>\n     <g id=\"text_9\">\n      <!-- 600 -->\n      <g style=\"fill:#262626;\" transform=\"translate(7.2 157.73042)scale(0.11 -0.11)\">\n       <defs>\n        <path d=\"M 49.75 54.046875 \nL 41.015625 53.375 \nQ 39.84375 58.546875 37.703125 60.890625 \nQ 34.125 64.65625 28.90625 64.65625 \nQ 24.703125 64.65625 21.53125 62.3125 \nQ 17.390625 59.28125 14.984375 53.46875 \nQ 12.59375 47.65625 12.5 36.921875 \nQ 15.671875 41.75 20.265625 44.09375 \nQ 24.859375 46.4375 29.890625 46.4375 \nQ 38.671875 46.4375 44.84375 39.96875 \nQ 51.03125 33.5 51.03125 23.25 \nQ 51.03125 16.5 48.125 10.71875 \nQ 45.21875 4.9375 40.140625 1.859375 \nQ 35.0625 -1.21875 28.609375 -1.21875 \nQ 17.625 -1.21875 10.6875 6.859375 \nQ 3.765625 14.9375 3.765625 33.5 \nQ 3.765625 54.25 11.421875 63.671875 \nQ 18.109375 71.875 29.4375 71.875 \nQ 37.890625 71.875 43.28125 67.140625 \nQ 48.6875 62.40625 49.75 54.046875 \nz\nM 13.875 23.1875 \nQ 13.875 18.65625 15.796875 14.5 \nQ 17.71875 10.359375 21.1875 8.171875 \nQ 24.65625 6 28.46875 6 \nQ 34.03125 6 38.03125 10.484375 \nQ 42.046875 14.984375 42.046875 22.703125 \nQ 42.046875 30.125 38.078125 34.390625 \nQ 34.125 38.671875 28.125 38.671875 \nQ 22.171875 38.671875 18.015625 34.390625 \nQ 13.875 30.125 13.875 23.1875 \nz\n\" id=\"ArialMT-54\"/>\n       </defs>\n       <use xlink:href=\"#ArialMT-54\"/>\n       <use x=\"55.615234\" xlink:href=\"#ArialMT-48\"/>\n       <use x=\"111.230469\" xlink:href=\"#ArialMT-48\"/>\n      </g>\n     </g>\n    </g>\n    <g id=\"ytick_5\">\n     <g id=\"line2d_10\">\n      <path clip-path=\"url(#p2863a1c83c)\" d=\"M 35.051094 57.698164 \nL 481.451094 57.698164 \n\" style=\"fill:none;stroke:#ffffff;stroke-linecap:round;\"/>\n     </g>\n     <g id=\"text_10\">\n      <!-- 800 -->\n      <g style=\"fill:#262626;\" transform=\"translate(7.2 61.634961)scale(0.11 -0.11)\">\n       <defs>\n        <path d=\"M 17.671875 38.8125 \nQ 12.203125 40.828125 9.5625 44.53125 \nQ 6.9375 48.25 6.9375 53.421875 \nQ 6.9375 61.234375 12.546875 66.546875 \nQ 18.171875 71.875 27.484375 71.875 \nQ 36.859375 71.875 42.578125 66.421875 \nQ 48.296875 60.984375 48.296875 53.171875 \nQ 48.296875 48.1875 45.671875 44.5 \nQ 43.0625 40.828125 37.75 38.8125 \nQ 44.34375 36.671875 47.78125 31.875 \nQ 51.21875 27.09375 51.21875 20.453125 \nQ 51.21875 11.28125 44.71875 5.03125 \nQ 38.234375 -1.21875 27.640625 -1.21875 \nQ 17.046875 -1.21875 10.546875 5.046875 \nQ 4.046875 11.328125 4.046875 20.703125 \nQ 4.046875 27.6875 7.59375 32.390625 \nQ 11.140625 37.109375 17.671875 38.8125 \nz\nM 15.921875 53.71875 \nQ 15.921875 48.640625 19.1875 45.40625 \nQ 22.46875 42.1875 27.6875 42.1875 \nQ 32.765625 42.1875 36.015625 45.375 \nQ 39.265625 48.578125 39.265625 53.21875 \nQ 39.265625 58.0625 35.90625 61.359375 \nQ 32.5625 64.65625 27.59375 64.65625 \nQ 22.5625 64.65625 19.234375 61.421875 \nQ 15.921875 58.203125 15.921875 53.71875 \nz\nM 13.09375 20.65625 \nQ 13.09375 16.890625 14.875 13.375 \nQ 16.65625 9.859375 20.171875 7.921875 \nQ 23.6875 6 27.734375 6 \nQ 34.03125 6 38.125 10.046875 \nQ 42.234375 14.109375 42.234375 20.359375 \nQ 42.234375 26.703125 38.015625 30.859375 \nQ 33.796875 35.015625 27.4375 35.015625 \nQ 21.234375 35.015625 17.15625 30.90625 \nQ 13.09375 26.8125 13.09375 20.65625 \nz\n\" id=\"ArialMT-56\"/>\n       </defs>\n       <use xlink:href=\"#ArialMT-56\"/>\n       <use x=\"55.615234\" xlink:href=\"#ArialMT-48\"/>\n       <use x=\"111.230469\" xlink:href=\"#ArialMT-48\"/>\n      </g>\n     </g>\n    </g>\n   </g>\n   <g id=\"patch_3\">\n    <path clip-path=\"url(#p2863a1c83c)\" d=\"M 55.342003 442.08 \nL 71.57473 442.08 \nL 71.57473 224.423785 \nL 55.342003 224.423785 \nz\n\" style=\"fill:#4c72b0;stroke:#ffffff;stroke-linejoin:miter;\"/>\n   </g>\n   <g id=\"patch_4\">\n    <path clip-path=\"url(#p2863a1c83c)\" d=\"M 71.57473 442.08 \nL 87.807457 442.08 \nL 87.807457 233.552854 \nL 71.57473 233.552854 \nz\n\" style=\"fill:#4c72b0;stroke:#ffffff;stroke-linejoin:miter;\"/>\n   </g>\n   <g id=\"patch_5\">\n    <path clip-path=\"url(#p2863a1c83c)\" d=\"M 87.807457 442.08 \nL 104.040185 442.08 \nL 104.040185 275.834856 \nL 87.807457 275.834856 \nz\n\" style=\"fill:#4c72b0;stroke:#ffffff;stroke-linejoin:miter;\"/>\n   </g>\n   <g id=\"patch_6\">\n    <path clip-path=\"url(#p2863a1c83c)\" d=\"M 104.040185 442.08 \nL 120.272912 442.08 \nL 120.272912 278.237242 \nL 104.040185 278.237242 \nz\n\" style=\"fill:#4c72b0;stroke:#ffffff;stroke-linejoin:miter;\"/>\n   </g>\n   <g id=\"patch_7\">\n    <path clip-path=\"url(#p2863a1c83c)\" d=\"M 120.272912 442.08 \nL 136.505639 442.08 \nL 136.505639 205.204693 \nL 120.272912 205.204693 \nz\n\" style=\"fill:#4c72b0;stroke:#ffffff;stroke-linejoin:miter;\"/>\n   </g>\n   <g id=\"patch_8\">\n    <path clip-path=\"url(#p2863a1c83c)\" d=\"M 136.505639 442.08 \nL 152.738366 442.08 \nL 152.738366 74.514869 \nL 136.505639 74.514869 \nz\n\" style=\"fill:#4c72b0;stroke:#ffffff;stroke-linejoin:miter;\"/>\n   </g>\n   <g id=\"patch_9\">\n    <path clip-path=\"url(#p2863a1c83c)\" d=\"M 152.738366 442.08 \nL 168.971094 442.08 \nL 168.971094 27.908571 \nL 152.738366 27.908571 \nz\n\" style=\"fill:#4c72b0;stroke:#ffffff;stroke-linejoin:miter;\"/>\n   </g>\n   <g id=\"patch_10\">\n    <path clip-path=\"url(#p2863a1c83c)\" d=\"M 168.971094 442.08 \nL 185.203821 442.08 \nL 185.203821 87.007279 \nL 168.971094 87.007279 \nz\n\" style=\"fill:#4c72b0;stroke:#ffffff;stroke-linejoin:miter;\"/>\n   </g>\n   <g id=\"patch_11\">\n    <path clip-path=\"url(#p2863a1c83c)\" d=\"M 185.203821 442.08 \nL 201.436548 442.08 \nL 201.436548 112.472575 \nL 185.203821 112.472575 \nz\n\" style=\"fill:#4c72b0;stroke:#ffffff;stroke-linejoin:miter;\"/>\n   </g>\n   <g id=\"patch_12\">\n    <path clip-path=\"url(#p2863a1c83c)\" d=\"M 201.436548 442.08 \nL 217.669276 442.08 \nL 217.669276 196.556102 \nL 201.436548 196.556102 \nz\n\" style=\"fill:#4c72b0;stroke:#ffffff;stroke-linejoin:miter;\"/>\n   </g>\n   <g id=\"patch_13\">\n    <path clip-path=\"url(#p2863a1c83c)\" d=\"M 217.669276 442.08 \nL 233.902003 442.08 \nL 233.902003 249.889082 \nL 217.669276 249.889082 \nz\n\" style=\"fill:#4c72b0;stroke:#ffffff;stroke-linejoin:miter;\"/>\n   </g>\n   <g id=\"patch_14\">\n    <path clip-path=\"url(#p2863a1c83c)\" d=\"M 233.902003 442.08 \nL 250.13473 442.08 \nL 250.13473 319.077812 \nL 233.902003 319.077812 \nz\n\" style=\"fill:#4c72b0;stroke:#ffffff;stroke-linejoin:miter;\"/>\n   </g>\n   <g id=\"patch_15\">\n    <path clip-path=\"url(#p2863a1c83c)\" d=\"M 250.13473 442.08 \nL 266.367457 442.08 \nL 266.367457 381.539861 \nL 250.13473 381.539861 \nz\n\" style=\"fill:#4c72b0;stroke:#ffffff;stroke-linejoin:miter;\"/>\n   </g>\n   <g id=\"patch_16\">\n    <path clip-path=\"url(#p2863a1c83c)\" d=\"M 266.367457 442.08 \nL 282.600185 442.08 \nL 282.600185 414.212317 \nL 266.367457 414.212317 \nz\n\" style=\"fill:#4c72b0;stroke:#ffffff;stroke-linejoin:miter;\"/>\n   </g>\n   <g id=\"patch_17\">\n    <path clip-path=\"url(#p2863a1c83c)\" d=\"M 282.600185 442.08 \nL 298.832912 442.08 \nL 298.832912 434.872841 \nL 282.600185 434.872841 \nz\n\" style=\"fill:#4c72b0;stroke:#ffffff;stroke-linejoin:miter;\"/>\n   </g>\n   <g id=\"patch_18\">\n    <path clip-path=\"url(#p2863a1c83c)\" d=\"M 298.832912 442.08 \nL 315.065639 442.08 \nL 315.065639 440.158091 \nL 298.832912 440.158091 \nz\n\" style=\"fill:#4c72b0;stroke:#ffffff;stroke-linejoin:miter;\"/>\n   </g>\n   <g id=\"patch_19\">\n    <path clip-path=\"url(#p2863a1c83c)\" d=\"M 315.065639 442.08 \nL 331.298366 442.08 \nL 331.298366 441.119045 \nL 315.065639 441.119045 \nz\n\" style=\"fill:#4c72b0;stroke:#ffffff;stroke-linejoin:miter;\"/>\n   </g>\n   <g id=\"patch_20\">\n    <path clip-path=\"url(#p2863a1c83c)\" d=\"M 331.298366 442.08 \nL 347.531094 442.08 \nL 347.531094 440.638568 \nL 331.298366 440.638568 \nz\n\" style=\"fill:#4c72b0;stroke:#ffffff;stroke-linejoin:miter;\"/>\n   </g>\n   <g id=\"patch_21\">\n    <path clip-path=\"url(#p2863a1c83c)\" d=\"M 347.531094 442.08 \nL 363.763821 442.08 \nL 363.763821 442.08 \nL 347.531094 442.08 \nz\n\" style=\"fill:#4c72b0;stroke:#ffffff;stroke-linejoin:miter;\"/>\n   </g>\n   <g id=\"patch_22\">\n    <path clip-path=\"url(#p2863a1c83c)\" d=\"M 363.763821 442.08 \nL 379.996548 442.08 \nL 379.996548 441.599523 \nL 363.763821 441.599523 \nz\n\" style=\"fill:#4c72b0;stroke:#ffffff;stroke-linejoin:miter;\"/>\n   </g>\n   <g id=\"patch_23\">\n    <path clip-path=\"url(#p2863a1c83c)\" d=\"M 379.996548 442.08 \nL 396.229276 442.08 \nL 396.229276 441.599523 \nL 379.996548 441.599523 \nz\n\" style=\"fill:#4c72b0;stroke:#ffffff;stroke-linejoin:miter;\"/>\n   </g>\n   <g id=\"patch_24\">\n    <path clip-path=\"url(#p2863a1c83c)\" d=\"M 396.229276 442.08 \nL 412.462003 442.08 \nL 412.462003 442.08 \nL 396.229276 442.08 \nz\n\" style=\"fill:#4c72b0;stroke:#ffffff;stroke-linejoin:miter;\"/>\n   </g>\n   <g id=\"patch_25\">\n    <path clip-path=\"url(#p2863a1c83c)\" d=\"M 412.462003 442.08 \nL 428.69473 442.08 \nL 428.69473 442.08 \nL 412.462003 442.08 \nz\n\" style=\"fill:#4c72b0;stroke:#ffffff;stroke-linejoin:miter;\"/>\n   </g>\n   <g id=\"patch_26\">\n    <path clip-path=\"url(#p2863a1c83c)\" d=\"M 428.69473 442.08 \nL 444.927457 442.08 \nL 444.927457 442.08 \nL 428.69473 442.08 \nz\n\" style=\"fill:#4c72b0;stroke:#ffffff;stroke-linejoin:miter;\"/>\n   </g>\n   <g id=\"patch_27\">\n    <path clip-path=\"url(#p2863a1c83c)\" d=\"M 444.927457 442.08 \nL 461.160185 442.08 \nL 461.160185 441.599523 \nL 444.927457 441.599523 \nz\n\" style=\"fill:#4c72b0;stroke:#ffffff;stroke-linejoin:miter;\"/>\n   </g>\n   <g id=\"patch_28\">\n    <path d=\"M 35.051094 442.08 \nL 35.051094 7.2 \n\" style=\"fill:none;stroke:#ffffff;stroke-linecap:square;stroke-linejoin:miter;stroke-width:1.25;\"/>\n   </g>\n   <g id=\"patch_29\">\n    <path d=\"M 481.451094 442.08 \nL 481.451094 7.2 \n\" style=\"fill:none;stroke:#ffffff;stroke-linecap:square;stroke-linejoin:miter;stroke-width:1.25;\"/>\n   </g>\n   <g id=\"patch_30\">\n    <path d=\"M 35.051094 442.08 \nL 481.451094 442.08 \n\" style=\"fill:none;stroke:#ffffff;stroke-linecap:square;stroke-linejoin:miter;stroke-width:1.25;\"/>\n   </g>\n   <g id=\"patch_31\">\n    <path d=\"M 35.051094 7.2 \nL 481.451094 7.2 \n\" style=\"fill:none;stroke:#ffffff;stroke-linecap:square;stroke-linejoin:miter;stroke-width:1.25;\"/>\n   </g>\n  </g>\n </g>\n <defs>\n  <clipPath id=\"p2863a1c83c\">\n   <rect height=\"434.88\" width=\"446.4\" x=\"35.051094\" y=\"7.2\"/>\n  </clipPath>\n </defs>\n</svg>\n",
      "image/png": "[encoded data removed]"
     },
     "metadata": {}
    }
   ],
   "source": [
    "wine['total sulfur dioxide'].hist(bins=25);"
   ]
  },
  {
   "cell_type": "markdown",
   "metadata": {
    "hidden": true
   },
   "source": [
    "Let's try separating our wines into those with sulfur dioxide higher than 80 and those with less:"
   ]
  },
  {
   "cell_type": "code",
   "execution_count": 23,
   "metadata": {
    "hidden": true
   },
   "outputs": [],
   "source": [
    "wine['high_so2'] = wine['total sulfur dioxide'] > 80"
   ]
  },
  {
   "cell_type": "code",
   "execution_count": 24,
   "metadata": {
    "hidden": true
   },
   "outputs": [
    {
     "output_type": "execute_result",
     "data": {
      "text/plain": [
       "0.08074521567590653"
      ]
     },
     "metadata": {},
     "execution_count": 24
    }
   ],
   "source": [
    "wine.corr()['quality']['high_so2']"
   ]
  },
  {
   "cell_type": "markdown",
   "metadata": {
    "hidden": true
   },
   "source": [
    "Not great. Perhaps this is a modeling dead end."
   ]
  },
  {
   "cell_type": "markdown",
   "metadata": {
    "heading_collapsed": true,
    "hidden": true
   },
   "source": [
    "## Products of Features"
   ]
  },
  {
   "cell_type": "markdown",
   "metadata": {
    "hidden": true
   },
   "source": [
    "Another engineering strategy we might try is **multiplying features together**."
   ]
  },
  {
   "cell_type": "markdown",
   "metadata": {
    "hidden": true
   },
   "source": [
    "Let's try these two features: `residual sugar` and `total sulfur dioxide`. Note that without domain knowledge or exploration, this is really a guess that this combination will predict `quality` well."
   ]
  },
  {
   "cell_type": "code",
   "execution_count": 25,
   "metadata": {
    "hidden": true
   },
   "outputs": [],
   "source": [
    "wine['rs*tsd'] = wine['residual sugar'] * wine['total sulfur dioxide']"
   ]
  },
  {
   "cell_type": "code",
   "execution_count": 26,
   "metadata": {
    "hidden": true
   },
   "outputs": [
    {
     "output_type": "execute_result",
     "data": {
      "text/plain": [
       "-0.06622845877790014"
      ]
     },
     "metadata": {},
     "execution_count": 26
    }
   ],
   "source": [
    "wine.corr()['quality']['rs*tsd']"
   ]
  },
  {
   "cell_type": "code",
   "execution_count": 27,
   "metadata": {
    "hidden": true
   },
   "outputs": [
    {
     "output_type": "execute_result",
     "data": {
      "text/plain": [
       "-0.036980484585769566"
      ]
     },
     "metadata": {},
     "execution_count": 27
    }
   ],
   "source": [
    "wine.corr()['quality']['residual sugar']"
   ]
  },
  {
   "cell_type": "code",
   "execution_count": 28,
   "metadata": {
    "hidden": true
   },
   "outputs": [
    {
     "output_type": "execute_result",
     "data": {
      "text/plain": [
       "-0.041385453855609024"
      ]
     },
     "metadata": {},
     "execution_count": 28
    }
   ],
   "source": [
    "wine.corr()['quality']['total sulfur dioxide']"
   ]
  },
  {
   "cell_type": "markdown",
   "metadata": {
    "hidden": true
   },
   "source": [
    "We can see these two features together have a higher correlation than each by itself!"
   ]
  },
  {
   "cell_type": "markdown",
   "metadata": {
    "heading_collapsed": true,
    "hidden": true
   },
   "source": [
    "## Polynomial Features"
   ]
  },
  {
   "cell_type": "markdown",
   "metadata": {
    "hidden": true
   },
   "source": [
    "Instead of just multiplying features at random, we might consider trying **every possible product of features**. That's what PolynomialFeatures does:"
   ]
  },
  {
   "cell_type": "code",
   "execution_count": 29,
   "metadata": {
    "hidden": true
   },
   "outputs": [
    {
     "output_type": "execute_result",
     "data": {
      "text/plain": [
       "PolynomialFeatures(degree=3)"
      ]
     },
     "metadata": {},
     "execution_count": 29
    }
   ],
   "source": [
    "pf = PolynomialFeatures(degree=3)\n",
    "\n",
    "X = wine.drop('quality', axis=1)\n",
    "y = wine['quality']\n",
    "\n",
    "# Fitting the PolynomialFeatures object\n",
    "pf.fit(X)"
   ]
  },
  {
   "cell_type": "code",
   "execution_count": 30,
   "metadata": {
    "hidden": true,
    "scrolled": true
   },
   "outputs": [
    {
     "output_type": "execute_result",
     "data": {
      "text/plain": [
       "        1    x0    x1    x2   x3     x4    x5     x6       x7    x8  ...  \\\n",
       "0     1.0   7.4  0.70  0.00  1.9  0.076  11.0   34.0  0.99780  3.51  ...   \n",
       "1     1.0   7.8  0.88  0.00  2.6  0.098  25.0   67.0  0.99680  3.20  ...   \n",
       "2     1.0   7.8  0.76  0.04  2.3  0.092  15.0   54.0  0.99700  3.26  ...   \n",
       "3     1.0  11.2  0.28  0.56  1.9  0.075  17.0   60.0  0.99800  3.16  ...   \n",
       "4     1.0   7.4  0.70  0.00  1.9  0.076  11.0   34.0  0.99780  3.51  ...   \n",
       "...   ...   ...   ...   ...  ...    ...   ...    ...      ...   ...  ...   \n",
       "6492  1.0   6.2  0.21  0.29  1.6  0.039  24.0   92.0  0.99114  3.27  ...   \n",
       "6493  1.0   6.6  0.32  0.36  8.0  0.047  57.0  168.0  0.99490  3.15  ...   \n",
       "6494  1.0   6.5  0.24  0.19  1.2  0.041  30.0  111.0  0.99254  2.99  ...   \n",
       "6495  1.0   5.5  0.29  0.30  1.1  0.022  20.0  110.0  0.98869  3.34  ...   \n",
       "6496  1.0   6.0  0.21  0.38  0.8  0.020  22.0   98.0  0.98941  3.26  ...   \n",
       "\n",
       "      x12^3  x12^2 x13  x12^2 x14  x12 x13^2  x12 x13 x14  x12 x14^2  x13^3  \\\n",
       "0       1.0        0.0       64.6        0.0          0.0    4173.16    0.0   \n",
       "1       1.0        0.0      174.2        0.0          0.0   30345.64    0.0   \n",
       "2       1.0        0.0      124.2        0.0          0.0   15425.64    0.0   \n",
       "3       1.0        0.0      114.0        0.0          0.0   12996.00    0.0   \n",
       "4       1.0        0.0       64.6        0.0          0.0    4173.16    0.0   \n",
       "...     ...        ...        ...        ...          ...        ...    ...   \n",
       "6492    0.0        0.0        0.0        0.0          0.0       0.00    1.0   \n",
       "6493    0.0        0.0        0.0        0.0          0.0       0.00    1.0   \n",
       "6494    0.0        0.0        0.0        0.0          0.0       0.00    1.0   \n",
       "6495    0.0        0.0        0.0        0.0          0.0       0.00    1.0   \n",
       "6496    0.0        0.0        0.0        0.0          0.0       0.00    1.0   \n",
       "\n",
       "      x13^2 x14   x13 x14^2         x14^3  \n",
       "0           0.0        0.00  2.695861e+05  \n",
       "1           0.0        0.00  5.286210e+06  \n",
       "2           0.0        0.00  1.915864e+06  \n",
       "3           0.0        0.00  1.481544e+06  \n",
       "4           0.0        0.00  2.695861e+05  \n",
       "...         ...         ...           ...  \n",
       "6492      147.2    21667.84  3.189506e+06  \n",
       "6493     1344.0  1806336.00  2.427716e+09  \n",
       "6494      133.2    17742.24  2.363266e+06  \n",
       "6495      121.0    14641.00  1.771561e+06  \n",
       "6496       78.4     6146.56  4.818903e+05  \n",
       "\n",
       "[6497 rows x 816 columns]"
      ],
      "text/html": "<div>\n<style scoped>\n    .dataframe tbody tr th:only-of-type {\n        vertical-align: middle;\n    }\n\n    .dataframe tbody tr th {\n        vertical-align: top;\n    }\n\n    .dataframe thead th {\n        text-align: right;\n    }\n</style>\n<table border=\"1\" class=\"dataframe\">\n  <thead>\n    <tr style=\"text-align: right;\">\n      <th></th>\n      <th>1</th>\n      <th>x0</th>\n      <th>x1</th>\n      <th>x2</th>\n      <th>x3</th>\n      <th>x4</th>\n      <th>x5</th>\n      <th>x6</th>\n      <th>x7</th>\n      <th>x8</th>\n      <th>...</th>\n      <th>x12^3</th>\n      <th>x12^2 x13</th>\n      <th>x12^2 x14</th>\n      <th>x12 x13^2</th>\n      <th>x12 x13 x14</th>\n      <th>x12 x14^2</th>\n      <th>x13^3</th>\n      <th>x13^2 x14</th>\n      <th>x13 x14^2</th>\n      <th>x14^3</th>\n    </tr>\n  </thead>\n  <tbody>\n    <tr>\n      <th>0</th>\n      <td>1.0</td>\n      <td>7.4</td>\n      <td>0.70</td>\n      <td>0.00</td>\n      <td>1.9</td>\n      <td>0.076</td>\n      <td>11.0</td>\n      <td>34.0</td>\n      <td>0.99780</td>\n      <td>3.51</td>\n      <td>...</td>\n      <td>1.0</td>\n      <td>0.0</td>\n      <td>64.6</td>\n      <td>0.0</td>\n      <td>0.0</td>\n      <td>4173.16</td>\n      <td>0.0</td>\n      <td>0.0</td>\n      <td>0.00</td>\n      <td>2.695861e+05</td>\n    </tr>\n    <tr>\n      <th>1</th>\n      <td>1.0</td>\n      <td>7.8</td>\n      <td>0.88</td>\n      <td>0.00</td>\n      <td>2.6</td>\n      <td>0.098</td>\n      <td>25.0</td>\n      <td>67.0</td>\n      <td>0.99680</td>\n      <td>3.20</td>\n      <td>...</td>\n      <td>1.0</td>\n      <td>0.0</td>\n      <td>174.2</td>\n      <td>0.0</td>\n      <td>0.0</td>\n      <td>30345.64</td>\n      <td>0.0</td>\n      <td>0.0</td>\n      <td>0.00</td>\n      <td>5.286210e+06</td>\n    </tr>\n    <tr>\n      <th>2</th>\n      <td>1.0</td>\n      <td>7.8</td>\n      <td>0.76</td>\n      <td>0.04</td>\n      <td>2.3</td>\n      <td>0.092</td>\n      <td>15.0</td>\n      <td>54.0</td>\n      <td>0.99700</td>\n      <td>3.26</td>\n      <td>...</td>\n      <td>1.0</td>\n      <td>0.0</td>\n      <td>124.2</td>\n      <td>0.0</td>\n      <td>0.0</td>\n      <td>15425.64</td>\n      <td>0.0</td>\n      <td>0.0</td>\n      <td>0.00</td>\n      <td>1.915864e+06</td>\n    </tr>\n    <tr>\n      <th>3</th>\n      <td>1.0</td>\n      <td>11.2</td>\n      <td>0.28</td>\n      <td>0.56</td>\n      <td>1.9</td>\n      <td>0.075</td>\n      <td>17.0</td>\n      <td>60.0</td>\n      <td>0.99800</td>\n      <td>3.16</td>\n      <td>...</td>\n      <td>1.0</td>\n      <td>0.0</td>\n      <td>114.0</td>\n      <td>0.0</td>\n      <td>0.0</td>\n      <td>12996.00</td>\n      <td>0.0</td>\n      <td>0.0</td>\n      <td>0.00</td>\n      <td>1.481544e+06</td>\n    </tr>\n    <tr>\n      <th>4</th>\n      <td>1.0</td>\n      <td>7.4</td>\n      <td>0.70</td>\n      <td>0.00</td>\n      <td>1.9</td>\n      <td>0.076</td>\n      <td>11.0</td>\n      <td>34.0</td>\n      <td>0.99780</td>\n      <td>3.51</td>\n      <td>...</td>\n      <td>1.0</td>\n      <td>0.0</td>\n      <td>64.6</td>\n      <td>0.0</td>\n      <td>0.0</td>\n      <td>4173.16</td>\n      <td>0.0</td>\n      <td>0.0</td>\n      <td>0.00</td>\n      <td>2.695861e+05</td>\n    </tr>\n    <tr>\n      <th>...</th>\n      <td>...</td>\n      <td>...</td>\n      <td>...</td>\n      <td>...</td>\n      <td>...</td>\n      <td>...</td>\n      <td>...</td>\n      <td>...</td>\n      <td>...</td>\n      <td>...</td>\n      <td>...</td>\n      <td>...</td>\n      <td>...</td>\n      <td>...</td>\n      <td>...</td>\n      <td>...</td>\n      <td>...</td>\n      <td>...</td>\n      <td>...</td>\n      <td>...</td>\n      <td>...</td>\n    </tr>\n    <tr>\n      <th>6492</th>\n      <td>1.0</td>\n      <td>6.2</td>\n      <td>0.21</td>\n      <td>0.29</td>\n      <td>1.6</td>\n      <td>0.039</td>\n      <td>24.0</td>\n      <td>92.0</td>\n      <td>0.99114</td>\n      <td>3.27</td>\n      <td>...</td>\n      <td>0.0</td>\n      <td>0.0</td>\n      <td>0.0</td>\n      <td>0.0</td>\n      <td>0.0</td>\n      <td>0.00</td>\n      <td>1.0</td>\n      <td>147.2</td>\n      <td>21667.84</td>\n      <td>3.189506e+06</td>\n    </tr>\n    <tr>\n      <th>6493</th>\n      <td>1.0</td>\n      <td>6.6</td>\n      <td>0.32</td>\n      <td>0.36</td>\n      <td>8.0</td>\n      <td>0.047</td>\n      <td>57.0</td>\n      <td>168.0</td>\n      <td>0.99490</td>\n      <td>3.15</td>\n      <td>...</td>\n      <td>0.0</td>\n      <td>0.0</td>\n      <td>0.0</td>\n      <td>0.0</td>\n      <td>0.0</td>\n      <td>0.00</td>\n      <td>1.0</td>\n      <td>1344.0</td>\n      <td>1806336.00</td>\n      <td>2.427716e+09</td>\n    </tr>\n    <tr>\n      <th>6494</th>\n      <td>1.0</td>\n      <td>6.5</td>\n      <td>0.24</td>\n      <td>0.19</td>\n      <td>1.2</td>\n      <td>0.041</td>\n      <td>30.0</td>\n      <td>111.0</td>\n      <td>0.99254</td>\n      <td>2.99</td>\n      <td>...</td>\n      <td>0.0</td>\n      <td>0.0</td>\n      <td>0.0</td>\n      <td>0.0</td>\n      <td>0.0</td>\n      <td>0.00</td>\n      <td>1.0</td>\n      <td>133.2</td>\n      <td>17742.24</td>\n      <td>2.363266e+06</td>\n    </tr>\n    <tr>\n      <th>6495</th>\n      <td>1.0</td>\n      <td>5.5</td>\n      <td>0.29</td>\n      <td>0.30</td>\n      <td>1.1</td>\n      <td>0.022</td>\n      <td>20.0</td>\n      <td>110.0</td>\n      <td>0.98869</td>\n      <td>3.34</td>\n      <td>...</td>\n      <td>0.0</td>\n      <td>0.0</td>\n      <td>0.0</td>\n      <td>0.0</td>\n      <td>0.0</td>\n      <td>0.00</td>\n      <td>1.0</td>\n      <td>121.0</td>\n      <td>14641.00</td>\n      <td>1.771561e+06</td>\n    </tr>\n    <tr>\n      <th>6496</th>\n      <td>1.0</td>\n      <td>6.0</td>\n      <td>0.21</td>\n      <td>0.38</td>\n      <td>0.8</td>\n      <td>0.020</td>\n      <td>22.0</td>\n      <td>98.0</td>\n      <td>0.98941</td>\n      <td>3.26</td>\n      <td>...</td>\n      <td>0.0</td>\n      <td>0.0</td>\n      <td>0.0</td>\n      <td>0.0</td>\n      <td>0.0</td>\n      <td>0.00</td>\n      <td>1.0</td>\n      <td>78.4</td>\n      <td>6146.56</td>\n      <td>4.818903e+05</td>\n    </tr>\n  </tbody>\n</table>\n<p>6497 rows × 816 columns</p>\n</div>"
     },
     "metadata": {},
     "execution_count": 30
    }
   ],
   "source": [
    "pdf = pd.DataFrame(pf.transform(X), columns=pf.get_feature_names())\n",
    "pdf"
   ]
  },
  {
   "cell_type": "code",
   "execution_count": 31,
   "metadata": {
    "hidden": true
   },
   "outputs": [
    {
     "output_type": "execute_result",
     "data": {
      "text/plain": [
       "(6497, 816)"
      ]
     },
     "metadata": {},
     "execution_count": 31
    }
   ],
   "source": [
    "pdf.shape"
   ]
  },
  {
   "cell_type": "code",
   "execution_count": 32,
   "metadata": {
    "hidden": true
   },
   "outputs": [
    {
     "output_type": "execute_result",
     "data": {
      "text/plain": [
       "LinearRegression()"
      ]
     },
     "metadata": {},
     "execution_count": 32
    }
   ],
   "source": [
    "lr = LinearRegression()\n",
    "\n",
    "lr.fit(pdf, y)"
   ]
  },
  {
   "cell_type": "code",
   "execution_count": 33,
   "metadata": {
    "hidden": true,
    "scrolled": true
   },
   "outputs": [
    {
     "output_type": "execute_result",
     "data": {
      "text/plain": [
       "0.5058068150652588"
      ]
     },
     "metadata": {},
     "execution_count": 33
    }
   ],
   "source": [
    "lr.score(pdf, y)"
   ]
  },
  {
   "cell_type": "markdown",
   "metadata": {
    "hidden": true
   },
   "source": [
    "So: Is this a good idea? What are the potential dangers here?"
   ]
  },
  {
   "cell_type": "markdown",
   "metadata": {
    "heading_collapsed": true
   },
   "source": [
    "# Exercise"
   ]
  },
  {
   "cell_type": "markdown",
   "metadata": {
    "hidden": true
   },
   "source": [
    "Consider the following dataset:"
   ]
  },
  {
   "cell_type": "code",
   "execution_count": 34,
   "metadata": {
    "hidden": true
   },
   "outputs": [
    {
     "output_type": "execute_result",
     "data": {
      "text/plain": [
       "      TV  radio  newspaper  sales\n",
       "1  230.1   37.8       69.2   22.1\n",
       "2   44.5   39.3       45.1   10.4\n",
       "3   17.2   45.9       69.3    9.3\n",
       "4  151.5   41.3       58.5   18.5\n",
       "5  180.8   10.8       58.4   12.9"
      ],
      "text/html": "<div>\n<style scoped>\n    .dataframe tbody tr th:only-of-type {\n        vertical-align: middle;\n    }\n\n    .dataframe tbody tr th {\n        vertical-align: top;\n    }\n\n    .dataframe thead th {\n        text-align: right;\n    }\n</style>\n<table border=\"1\" class=\"dataframe\">\n  <thead>\n    <tr style=\"text-align: right;\">\n      <th></th>\n      <th>TV</th>\n      <th>radio</th>\n      <th>newspaper</th>\n      <th>sales</th>\n    </tr>\n  </thead>\n  <tbody>\n    <tr>\n      <th>1</th>\n      <td>230.1</td>\n      <td>37.8</td>\n      <td>69.2</td>\n      <td>22.1</td>\n    </tr>\n    <tr>\n      <th>2</th>\n      <td>44.5</td>\n      <td>39.3</td>\n      <td>45.1</td>\n      <td>10.4</td>\n    </tr>\n    <tr>\n      <th>3</th>\n      <td>17.2</td>\n      <td>45.9</td>\n      <td>69.3</td>\n      <td>9.3</td>\n    </tr>\n    <tr>\n      <th>4</th>\n      <td>151.5</td>\n      <td>41.3</td>\n      <td>58.5</td>\n      <td>18.5</td>\n    </tr>\n    <tr>\n      <th>5</th>\n      <td>180.8</td>\n      <td>10.8</td>\n      <td>58.4</td>\n      <td>12.9</td>\n    </tr>\n  </tbody>\n</table>\n</div>"
     },
     "metadata": {},
     "execution_count": 34
    }
   ],
   "source": [
    "sales = pd.read_csv('data/Advertising.csv', index_col=0)\n",
    "\n",
    "sales.head()"
   ]
  },
  {
   "cell_type": "markdown",
   "metadata": {
    "hidden": true
   },
   "source": [
    "We'd like to try to understand sales as a function of spending on various media (TV, radio, newspaper)."
   ]
  },
  {
   "cell_type": "code",
   "execution_count": 37,
   "metadata": {
    "hidden": true
   },
   "outputs": [
    {
     "output_type": "execute_result",
     "data": {
      "text/plain": [
       "TV           0.782224\n",
       "radio        0.576223\n",
       "newspaper    0.228299\n",
       "sales        1.000000\n",
       "Name: sales, dtype: float64"
      ]
     },
     "metadata": {},
     "execution_count": 37
    }
   ],
   "source": [
    "sales.corr()['sales']"
   ]
  },
  {
   "cell_type": "markdown",
   "metadata": {
    "hidden": true
   },
   "source": [
    "**Try to find the best multiplicative combination of features.**\n",
    "\n",
    "You may use `PolynomialFeatures` or just multiply by hand."
   ]
  },
  {
   "cell_type": "code",
   "execution_count": 38,
   "metadata": {
    "hidden": true
   },
   "outputs": [
    {
     "output_type": "execute_result",
     "data": {
      "text/plain": [
       "PolynomialFeatures(degree=3)"
      ]
     },
     "metadata": {},
     "execution_count": 38
    }
   ],
   "source": [
    "pf = PolynomialFeatures(degree=3)\n",
    "\n",
    "X = sales.drop('sales', axis=1)\n",
    "y = sales['sales']\n",
    "\n",
    "# Fitting the PolynomialFeatures object\n",
    "pf.fit(X)"
   ]
  },
  {
   "cell_type": "code",
   "execution_count": 39,
   "metadata": {
    "hidden": true
   },
   "outputs": [
    {
     "output_type": "execute_result",
     "data": {
      "text/plain": [
       "       1     x0    x1    x2      x0^2     x0 x1     x0 x2     x1^2    x1 x2  \\\n",
       "0    1.0  230.1  37.8  69.2  52946.01   8697.78  15922.92  1428.84  2615.76   \n",
       "1    1.0   44.5  39.3  45.1   1980.25   1748.85   2006.95  1544.49  1772.43   \n",
       "2    1.0   17.2  45.9  69.3    295.84    789.48   1191.96  2106.81  3180.87   \n",
       "3    1.0  151.5  41.3  58.5  22952.25   6256.95   8862.75  1705.69  2416.05   \n",
       "4    1.0  180.8  10.8  58.4  32688.64   1952.64  10558.72   116.64   630.72   \n",
       "..   ...    ...   ...   ...       ...       ...       ...      ...      ...   \n",
       "195  1.0   38.2   3.7  13.8   1459.24    141.34    527.16    13.69    51.06   \n",
       "196  1.0   94.2   4.9   8.1   8873.64    461.58    763.02    24.01    39.69   \n",
       "197  1.0  177.0   9.3   6.4  31329.00   1646.10   1132.80    86.49    59.52   \n",
       "198  1.0  283.6  42.0  66.2  80428.96  11911.20  18774.32  1764.00  2780.40   \n",
       "199  1.0  232.1   8.6   8.7  53870.41   1996.06   2019.27    73.96    74.82   \n",
       "\n",
       "        x2^2          x0^3      x0^2 x1      x0^2 x2     x0 x1^2    x0 x1 x2  \\\n",
       "0    4788.64  1.218288e+07  2001359.178  3663863.892  328776.084  601886.376   \n",
       "1    2034.01  8.812112e+04    77823.825    89309.275   68729.805   78873.135   \n",
       "2    4802.49  5.088448e+03    13579.056    20501.712   36237.132   54710.964   \n",
       "3    3422.25  3.477266e+06   947927.925  1342706.625  258412.035  366031.575   \n",
       "4    3410.56  5.910106e+06   353037.312  1909016.576   21088.512  114034.176   \n",
       "..       ...           ...          ...          ...         ...         ...   \n",
       "195   190.44  5.574297e+04     5399.188    20137.512     522.958    1950.492   \n",
       "196    65.61  8.358969e+05    43480.836    71876.484    2261.742    3738.798   \n",
       "197    40.96  5.545233e+06   291359.700   200505.600   15308.730   10535.040   \n",
       "198  4382.44  2.280965e+07  3378016.320  5324397.152  500270.400  788521.440   \n",
       "199    75.69  1.250332e+07   463285.526   468672.567   17166.116   17365.722   \n",
       "\n",
       "         x0 x2^2       x1^3     x1^2 x2     x1 x2^2        x2^3  \n",
       "0    1101866.064  54010.152   98875.728  181010.592  331373.888  \n",
       "1      90513.445  60698.457   69656.499   79936.593   91733.851  \n",
       "2      82602.828  96702.579  146001.933  220434.291  332812.557  \n",
       "3     518470.875  70444.997   99782.865  141338.925  200201.625  \n",
       "4     616629.248   1259.712    6811.776   36834.048  199176.704  \n",
       "..           ...        ...         ...         ...         ...  \n",
       "195     7274.808     50.653     188.922     704.628    2628.072  \n",
       "196     6180.462    117.649     194.481     321.489     531.441  \n",
       "197     7249.920    804.357     553.536     380.928     262.144  \n",
       "198  1242859.984  74088.000  116776.800  184062.480  290117.528  \n",
       "199    17567.649    636.056     643.452     650.934     658.503  \n",
       "\n",
       "[200 rows x 20 columns]"
      ],
      "text/html": "<div>\n<style scoped>\n    .dataframe tbody tr th:only-of-type {\n        vertical-align: middle;\n    }\n\n    .dataframe tbody tr th {\n        vertical-align: top;\n    }\n\n    .dataframe thead th {\n        text-align: right;\n    }\n</style>\n<table border=\"1\" class=\"dataframe\">\n  <thead>\n    <tr style=\"text-align: right;\">\n      <th></th>\n      <th>1</th>\n      <th>x0</th>\n      <th>x1</th>\n      <th>x2</th>\n      <th>x0^2</th>\n      <th>x0 x1</th>\n      <th>x0 x2</th>\n      <th>x1^2</th>\n      <th>x1 x2</th>\n      <th>x2^2</th>\n      <th>x0^3</th>\n      <th>x0^2 x1</th>\n      <th>x0^2 x2</th>\n      <th>x0 x1^2</th>\n      <th>x0 x1 x2</th>\n      <th>x0 x2^2</th>\n      <th>x1^3</th>\n      <th>x1^2 x2</th>\n      <th>x1 x2^2</th>\n      <th>x2^3</th>\n    </tr>\n  </thead>\n  <tbody>\n    <tr>\n      <th>0</th>\n      <td>1.0</td>\n      <td>230.1</td>\n      <td>37.8</td>\n      <td>69.2</td>\n      <td>52946.01</td>\n      <td>8697.78</td>\n      <td>15922.92</td>\n      <td>1428.84</td>\n      <td>2615.76</td>\n      <td>4788.64</td>\n      <td>1.218288e+07</td>\n      <td>2001359.178</td>\n      <td>3663863.892</td>\n      <td>328776.084</td>\n      <td>601886.376</td>\n      <td>1101866.064</td>\n      <td>54010.152</td>\n      <td>98875.728</td>\n      <td>181010.592</td>\n      <td>331373.888</td>\n    </tr>\n    <tr>\n      <th>1</th>\n      <td>1.0</td>\n      <td>44.5</td>\n      <td>39.3</td>\n      <td>45.1</td>\n      <td>1980.25</td>\n      <td>1748.85</td>\n      <td>2006.95</td>\n      <td>1544.49</td>\n      <td>1772.43</td>\n      <td>2034.01</td>\n      <td>8.812112e+04</td>\n      <td>77823.825</td>\n      <td>89309.275</td>\n      <td>68729.805</td>\n      <td>78873.135</td>\n      <td>90513.445</td>\n      <td>60698.457</td>\n      <td>69656.499</td>\n      <td>79936.593</td>\n      <td>91733.851</td>\n    </tr>\n    <tr>\n      <th>2</th>\n      <td>1.0</td>\n      <td>17.2</td>\n      <td>45.9</td>\n      <td>69.3</td>\n      <td>295.84</td>\n      <td>789.48</td>\n      <td>1191.96</td>\n      <td>2106.81</td>\n      <td>3180.87</td>\n      <td>4802.49</td>\n      <td>5.088448e+03</td>\n      <td>13579.056</td>\n      <td>20501.712</td>\n      <td>36237.132</td>\n      <td>54710.964</td>\n      <td>82602.828</td>\n      <td>96702.579</td>\n      <td>146001.933</td>\n      <td>220434.291</td>\n      <td>332812.557</td>\n    </tr>\n    <tr>\n      <th>3</th>\n      <td>1.0</td>\n      <td>151.5</td>\n      <td>41.3</td>\n      <td>58.5</td>\n      <td>22952.25</td>\n      <td>6256.95</td>\n      <td>8862.75</td>\n      <td>1705.69</td>\n      <td>2416.05</td>\n      <td>3422.25</td>\n      <td>3.477266e+06</td>\n      <td>947927.925</td>\n      <td>1342706.625</td>\n      <td>258412.035</td>\n      <td>366031.575</td>\n      <td>518470.875</td>\n      <td>70444.997</td>\n      <td>99782.865</td>\n      <td>141338.925</td>\n      <td>200201.625</td>\n    </tr>\n    <tr>\n      <th>4</th>\n      <td>1.0</td>\n      <td>180.8</td>\n      <td>10.8</td>\n      <td>58.4</td>\n      <td>32688.64</td>\n      <td>1952.64</td>\n      <td>10558.72</td>\n      <td>116.64</td>\n      <td>630.72</td>\n      <td>3410.56</td>\n      <td>5.910106e+06</td>\n      <td>353037.312</td>\n      <td>1909016.576</td>\n      <td>21088.512</td>\n      <td>114034.176</td>\n      <td>616629.248</td>\n      <td>1259.712</td>\n      <td>6811.776</td>\n      <td>36834.048</td>\n      <td>199176.704</td>\n    </tr>\n    <tr>\n      <th>...</th>\n      <td>...</td>\n      <td>...</td>\n      <td>...</td>\n      <td>...</td>\n      <td>...</td>\n      <td>...</td>\n      <td>...</td>\n      <td>...</td>\n      <td>...</td>\n      <td>...</td>\n      <td>...</td>\n      <td>...</td>\n      <td>...</td>\n      <td>...</td>\n      <td>...</td>\n      <td>...</td>\n      <td>...</td>\n      <td>...</td>\n      <td>...</td>\n      <td>...</td>\n    </tr>\n    <tr>\n      <th>195</th>\n      <td>1.0</td>\n      <td>38.2</td>\n      <td>3.7</td>\n      <td>13.8</td>\n      <td>1459.24</td>\n      <td>141.34</td>\n      <td>527.16</td>\n      <td>13.69</td>\n      <td>51.06</td>\n      <td>190.44</td>\n      <td>5.574297e+04</td>\n      <td>5399.188</td>\n      <td>20137.512</td>\n      <td>522.958</td>\n      <td>1950.492</td>\n      <td>7274.808</td>\n      <td>50.653</td>\n      <td>188.922</td>\n      <td>704.628</td>\n      <td>2628.072</td>\n    </tr>\n    <tr>\n      <th>196</th>\n      <td>1.0</td>\n      <td>94.2</td>\n      <td>4.9</td>\n      <td>8.1</td>\n      <td>8873.64</td>\n      <td>461.58</td>\n      <td>763.02</td>\n      <td>24.01</td>\n      <td>39.69</td>\n      <td>65.61</td>\n      <td>8.358969e+05</td>\n      <td>43480.836</td>\n      <td>71876.484</td>\n      <td>2261.742</td>\n      <td>3738.798</td>\n      <td>6180.462</td>\n      <td>117.649</td>\n      <td>194.481</td>\n      <td>321.489</td>\n      <td>531.441</td>\n    </tr>\n    <tr>\n      <th>197</th>\n      <td>1.0</td>\n      <td>177.0</td>\n      <td>9.3</td>\n      <td>6.4</td>\n      <td>31329.00</td>\n      <td>1646.10</td>\n      <td>1132.80</td>\n      <td>86.49</td>\n      <td>59.52</td>\n      <td>40.96</td>\n      <td>5.545233e+06</td>\n      <td>291359.700</td>\n      <td>200505.600</td>\n      <td>15308.730</td>\n      <td>10535.040</td>\n      <td>7249.920</td>\n      <td>804.357</td>\n      <td>553.536</td>\n      <td>380.928</td>\n      <td>262.144</td>\n    </tr>\n    <tr>\n      <th>198</th>\n      <td>1.0</td>\n      <td>283.6</td>\n      <td>42.0</td>\n      <td>66.2</td>\n      <td>80428.96</td>\n      <td>11911.20</td>\n      <td>18774.32</td>\n      <td>1764.00</td>\n      <td>2780.40</td>\n      <td>4382.44</td>\n      <td>2.280965e+07</td>\n      <td>3378016.320</td>\n      <td>5324397.152</td>\n      <td>500270.400</td>\n      <td>788521.440</td>\n      <td>1242859.984</td>\n      <td>74088.000</td>\n      <td>116776.800</td>\n      <td>184062.480</td>\n      <td>290117.528</td>\n    </tr>\n    <tr>\n      <th>199</th>\n      <td>1.0</td>\n      <td>232.1</td>\n      <td>8.6</td>\n      <td>8.7</td>\n      <td>53870.41</td>\n      <td>1996.06</td>\n      <td>2019.27</td>\n      <td>73.96</td>\n      <td>74.82</td>\n      <td>75.69</td>\n      <td>1.250332e+07</td>\n      <td>463285.526</td>\n      <td>468672.567</td>\n      <td>17166.116</td>\n      <td>17365.722</td>\n      <td>17567.649</td>\n      <td>636.056</td>\n      <td>643.452</td>\n      <td>650.934</td>\n      <td>658.503</td>\n    </tr>\n  </tbody>\n</table>\n<p>200 rows × 20 columns</p>\n</div>"
     },
     "metadata": {},
     "execution_count": 39
    }
   ],
   "source": [
    "pdf = pd.DataFrame(pf.transform(X), columns=pf.get_feature_names())\n",
    "pdf"
   ]
  },
  {
   "cell_type": "code",
   "execution_count": null,
   "metadata": {
    "hidden": true
   },
   "outputs": [],
   "source": []
  },
  {
   "cell_type": "markdown",
   "metadata": {
    "hidden": true
   },
   "source": [
    "In practice, it's not easy to tell when such products of features will be so fruitful. Moreover, there is room for concern about violating regression's demand for feature independence. At the very least, we would probably not want to include a product *and the individual features themselves* in a final model, not if our goal is to understand what's really responsible for fluctuations in our target variable."
   ]
  },
  {
   "cell_type": "code",
   "execution_count": null,
   "metadata": {
    "hidden": true
   },
   "outputs": [],
   "source": []
  }
 ],
 "metadata": {
  "kernelspec": {
   "name": "python3",
   "display_name": "Python 3.8.8 64-bit ('base': conda)"
  },
  "language_info": {
   "codemirror_mode": {
    "name": "ipython",
    "version": 3
   },
   "file_extension": ".py",
   "mimetype": "text/x-python",
   "name": "python",
   "nbconvert_exporter": "python",
   "pygments_lexer": "ipython3",
   "version": "3.8.8"
  },
  "toc": {
   "base_numbering": 1,
   "nav_menu": {},
   "number_sections": true,
   "sideBar": true,
   "skip_h1_title": false,
   "title_cell": "Table of Contents",
   "title_sidebar": "Contents",
   "toc_cell": true,
   "toc_position": {
    "height": "calc(100% - 180px)",
    "left": "10px",
    "top": "150px",
    "width": "380.797px"
   },
   "toc_section_display": true,
   "toc_window_display": true
  },
  "interpreter": {
   "hash": "dca0ade3e726a953b501b15e8e990130d2b7799f14cfd9f4271676035ebe5511"
  }
 },
 "nbformat": 4,
 "nbformat_minor": 4
}