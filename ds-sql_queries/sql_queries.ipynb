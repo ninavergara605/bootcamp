{
 "cells": [
  {
   "cell_type": "markdown",
   "metadata": {
    "toc": true
   },
   "source": [
    "<h1>Table of Contents<span class=\"tocSkip\"></span></h1>\n",
    "<div class=\"toc\"><ul class=\"toc-item\"><li><span><a href=\"#Objectives\" data-toc-modified-id=\"Objectives-1\"><span class=\"toc-item-num\">1&nbsp;&nbsp;</span>Objectives</a></span></li><li><span><a href=\"#Motivation\" data-toc-modified-id=\"Motivation-2\"><span class=\"toc-item-num\">2&nbsp;&nbsp;</span>Motivation</a></span></li><li><span><a href=\"#Relational-Databases\" data-toc-modified-id=\"Relational-Databases-3\"><span class=\"toc-item-num\">3&nbsp;&nbsp;</span>Relational Databases</a></span><ul class=\"toc-item\"><li><span><a href=\"#Database-Schema\" data-toc-modified-id=\"Database-Schema-3.1\"><span class=\"toc-item-num\">3.1&nbsp;&nbsp;</span>Database Schema</a></span></li><li><span><a href=\"#Columns\" data-toc-modified-id=\"Columns-3.2\"><span class=\"toc-item-num\">3.2&nbsp;&nbsp;</span>Columns</a></span></li><li><span><a href=\"#Keys\" data-toc-modified-id=\"Keys-3.3\"><span class=\"toc-item-num\">3.3&nbsp;&nbsp;</span>Keys</a></span></li></ul></li><li><span><a href=\"#SQLite\" data-toc-modified-id=\"SQLite-4\"><span class=\"toc-item-num\">4&nbsp;&nbsp;</span>SQLite</a></span><ul class=\"toc-item\"><li><span><a href=\"#Sidebar:-More-About-SQLite\" data-toc-modified-id=\"Sidebar:-More-About-SQLite-4.1\"><span class=\"toc-item-num\">4.1&nbsp;&nbsp;</span><em>Sidebar: More About SQLite</em></a></span></li><li><span><a href=\"#Load-a-SQLite-DB\" data-toc-modified-id=\"Load-a-SQLite-DB-4.2\"><span class=\"toc-item-num\">4.2&nbsp;&nbsp;</span>Load a SQLite DB</a></span></li><li><span><a href=\"#Query-the-airports-Table\" data-toc-modified-id=\"Query-the-airports-Table-4.3\"><span class=\"toc-item-num\">4.3&nbsp;&nbsp;</span>Query the <code>airports</code> Table</a></span></li><li><span><a href=\"#pd.read_sql()\" data-toc-modified-id=\"pd.read_sql()-4.4\"><span class=\"toc-item-num\">4.4&nbsp;&nbsp;</span><code>pd.read_sql()</code></a></span></li><li><span><a href=\"#Explore-the-Schema\" data-toc-modified-id=\"Explore-the-Schema-4.5\"><span class=\"toc-item-num\">4.5&nbsp;&nbsp;</span>Explore the Schema</a></span></li><li><span><a href=\"#Exercise\" data-toc-modified-id=\"Exercise-4.6\"><span class=\"toc-item-num\">4.6&nbsp;&nbsp;</span>Exercise</a></span></li></ul></li><li><span><a href=\"#Writing-SQL-Queries\" data-toc-modified-id=\"Writing-SQL-Queries-5\"><span class=\"toc-item-num\">5&nbsp;&nbsp;</span>Writing SQL Queries</a></span><ul class=\"toc-item\"><li><span><a href=\"#SELECT-Statement\" data-toc-modified-id=\"SELECT-Statement-5.1\"><span class=\"toc-item-num\">5.1&nbsp;&nbsp;</span>SELECT Statement</a></span></li><li><span><a href=\"#SELECT:-Picking-Columns\" data-toc-modified-id=\"SELECT:-Picking-Columns-5.2\"><span class=\"toc-item-num\">5.2&nbsp;&nbsp;</span>SELECT: Picking Columns</a></span><ul class=\"toc-item\"><li><span><a href=\"#DISTINCT\" data-toc-modified-id=\"DISTINCT-5.2.1\"><span class=\"toc-item-num\">5.2.1&nbsp;&nbsp;</span><code>DISTINCT</code></a></span></li><li><span><a href=\"#AS\" data-toc-modified-id=\"AS-5.2.2\"><span class=\"toc-item-num\">5.2.2&nbsp;&nbsp;</span><code>AS</code></a></span></li><li><span><a href=\"#Functions\" data-toc-modified-id=\"Functions-5.2.3\"><span class=\"toc-item-num\">5.2.3&nbsp;&nbsp;</span>Functions</a></span><ul class=\"toc-item\"><li><span><a href=\"#Aggregation\" data-toc-modified-id=\"Aggregation-5.2.3.1\"><span class=\"toc-item-num\">5.2.3.1&nbsp;&nbsp;</span>Aggregation</a></span></li><li><span><a href=\"#Datatype-Compatibility\" data-toc-modified-id=\"Datatype-Compatibility-5.2.3.2\"><span class=\"toc-item-num\">5.2.3.2&nbsp;&nbsp;</span>Datatype Compatibility</a></span></li><li><span><a href=\"#CAST()\" data-toc-modified-id=\"CAST()-5.2.3.3\"><span class=\"toc-item-num\">5.2.3.3&nbsp;&nbsp;</span><code>CAST()</code></a></span></li></ul></li><li><span><a href=\"#Exercise\" data-toc-modified-id=\"Exercise-5.2.4\"><span class=\"toc-item-num\">5.2.4&nbsp;&nbsp;</span>Exercise</a></span></li></ul></li><li><span><a href=\"#FROM:-Picking-Tables\" data-toc-modified-id=\"FROM:-Picking-Tables-5.3\"><span class=\"toc-item-num\">5.3&nbsp;&nbsp;</span>FROM: Picking Tables</a></span></li><li><span><a href=\"#WHERE:-Picking-Rows\" data-toc-modified-id=\"WHERE:-Picking-Rows-5.4\"><span class=\"toc-item-num\">5.4&nbsp;&nbsp;</span>WHERE: Picking Rows</a></span><ul class=\"toc-item\"><li><span><a href=\"#IS\" data-toc-modified-id=\"IS-5.4.1\"><span class=\"toc-item-num\">5.4.1&nbsp;&nbsp;</span><code>IS</code></a></span></li></ul></li><li><span><a href=\"#ORDER-BY:-Sorting-Results\" data-toc-modified-id=\"ORDER-BY:-Sorting-Results-5.5\"><span class=\"toc-item-num\">5.5&nbsp;&nbsp;</span>ORDER BY: Sorting Results</a></span></li><li><span><a href=\"#LIMIT:-Number-of-Results\" data-toc-modified-id=\"LIMIT:-Number-of-Results-5.6\"><span class=\"toc-item-num\">5.6&nbsp;&nbsp;</span>LIMIT: Number of Results</a></span></li></ul></li><li><span><a href=\"#Exercises\" data-toc-modified-id=\"Exercises-6\"><span class=\"toc-item-num\">6&nbsp;&nbsp;</span>Exercises</a></span><ul class=\"toc-item\"><li><span><a href=\"#Country-List\" data-toc-modified-id=\"Country-List-6.1\"><span class=\"toc-item-num\">6.1&nbsp;&nbsp;</span>Country List</a></span></li><li><span><a href=\"#Southern-Airports\" data-toc-modified-id=\"Southern-Airports-6.2\"><span class=\"toc-item-num\">6.2&nbsp;&nbsp;</span>Southern Airports</a></span></li><li><span><a href=\"#Active-UK-Airlines\" data-toc-modified-id=\"Active-UK-Airlines-6.3\"><span class=\"toc-item-num\">6.3&nbsp;&nbsp;</span>Active UK Airlines</a></span></li><li><span><a href=\"#Explore-Routes\" data-toc-modified-id=\"Explore-Routes-6.4\"><span class=\"toc-item-num\">6.4&nbsp;&nbsp;</span>Explore Routes</a></span></li></ul></li><li><span><a href=\"#Level-Up:-CASE\" data-toc-modified-id=\"Level-Up:-CASE-7\"><span class=\"toc-item-num\">7&nbsp;&nbsp;</span>Level Up: <code>CASE</code></a></span></li><li><span><a href=\"#Level-Up:-SQL-Joins\" data-toc-modified-id=\"Level-Up:-SQL-Joins-8\"><span class=\"toc-item-num\">8&nbsp;&nbsp;</span>Level Up: SQL Joins</a></span></li></ul></div>"
   ]
  },
  {
   "cell_type": "markdown",
   "metadata": {
    "slideshow": {
     "slide_type": "slide"
    }
   },
   "source": [
    "![sql](img/sql-logo.jpg)"
   ]
  },
  {
   "cell_type": "markdown",
   "metadata": {
    "heading_collapsed": true,
    "slideshow": {
     "slide_type": "slide"
    }
   },
   "source": [
    "# Objectives"
   ]
  },
  {
   "cell_type": "markdown",
   "metadata": {
    "hidden": true,
    "slideshow": {
     "slide_type": "slide"
    }
   },
   "source": [
    "- Describe relational databases\n",
    "- Connect to a SQLite database and get schema information\n",
    "- Use SQL SELECT and `pd.read_sql()` to query databases \n",
    "- Use WHERE, ORDER BY, and LIMIT to modify queries"
   ]
  },
  {
   "cell_type": "markdown",
   "metadata": {
    "heading_collapsed": true
   },
   "source": [
    "# Motivation"
   ]
  },
  {
   "cell_type": "markdown",
   "metadata": {
    "hidden": true
   },
   "source": [
    "Most data aren't stored in static files like CSVs or JSONs. Rather, data are typically stored in **databases** that make it easy for many users to store, update, share, and access data in real time. CSVs and JSONs are just extracts of some data from those databases.\n",
    "\n",
    "**Structured Query Language (SQL)** is a common language for interacting with databases, and will be invaluable for you in almost any data role. You will use it often to get the data that you need for your analyses."
   ]
  },
  {
   "cell_type": "markdown",
   "metadata": {
    "heading_collapsed": true,
    "slideshow": {
     "slide_type": "slide"
    }
   },
   "source": [
    "# Relational Databases"
   ]
  },
  {
   "cell_type": "markdown",
   "metadata": {
    "hidden": true,
    "slideshow": {
     "slide_type": "slide"
    }
   },
   "source": [
    "**Relational databases** typically have multiple **tables** containing data, and the tables have defined relationships."
   ]
  },
  {
   "cell_type": "markdown",
   "metadata": {
    "hidden": true,
    "slideshow": {
     "slide_type": "slide"
    }
   },
   "source": [
    "![rdb](img/relational-dbms-model.png)\n",
    "[reference for image ](https://www.studytonight.com/dbms/database-model.php)"
   ]
  },
  {
   "cell_type": "markdown",
   "metadata": {
    "heading_collapsed": true,
    "hidden": true,
    "slideshow": {
     "slide_type": "slide"
    }
   },
   "source": [
    "## Database Schema"
   ]
  },
  {
   "cell_type": "markdown",
   "metadata": {
    "hidden": true,
    "slideshow": {
     "slide_type": "slide"
    }
   },
   "source": [
    "Each database has a **schema** that defines the structure of the database, including the tables and relationships between tables."
   ]
  },
  {
   "cell_type": "markdown",
   "metadata": {
    "hidden": true,
    "slideshow": {
     "slide_type": "slide"
    }
   },
   "source": [
    "![schema](img/MySQL_Schema_Music_Example.png)\n",
    "\n",
    "[source of image](https://database.guide/what-is-a-database-schema/)"
   ]
  },
  {
   "cell_type": "markdown",
   "metadata": {
    "heading_collapsed": true,
    "hidden": true,
    "slideshow": {
     "slide_type": "slide"
    }
   },
   "source": [
    "##  Columns"
   ]
  },
  {
   "cell_type": "markdown",
   "metadata": {
    "hidden": true,
    "slideshow": {
     "slide_type": "slide"
    }
   },
   "source": [
    "Similar to how DataFrames can have multiple Series, tables can have multiple **columns** (aka \"fields\"). Each column has a datatype, but the datatypes available for SQL table columns differ from the datatypes in `pandas`. "
   ]
  },
  {
   "cell_type": "markdown",
   "metadata": {
    "hidden": true,
    "slideshow": {
     "slide_type": "slide"
    }
   },
   "source": [
    "![table example](img/columns.png)"
   ]
  },
  {
   "cell_type": "markdown",
   "metadata": {
    "heading_collapsed": true,
    "hidden": true,
    "slideshow": {
     "slide_type": "slide"
    }
   },
   "source": [
    "## Keys"
   ]
  },
  {
   "cell_type": "markdown",
   "metadata": {
    "hidden": true,
    "slideshow": {
     "slide_type": "slide"
    }
   },
   "source": [
    "A **primary key** uniquely identifies each row in a table. This is often a unique ID number.\n",
    "A **foreign key** is used in one table to refer to the primary key from another table. "
   ]
  },
  {
   "cell_type": "markdown",
   "metadata": {
    "hidden": true,
    "slideshow": {
     "slide_type": "slide"
    }
   },
   "source": [
    "We **join** tables using these keys to get data from multiple tables at once - we will cover this in a future lesson on SQL Joins."
   ]
  },
  {
   "cell_type": "markdown",
   "metadata": {
    "hidden": true,
    "slideshow": {
     "slide_type": "slide"
    }
   },
   "source": [
    "![rdb](img/relational-dbms-model.png)\n",
    "[reference for image ](https://www.studytonight.com/dbms/database-model.php)"
   ]
  },
  {
   "cell_type": "markdown",
   "metadata": {
    "heading_collapsed": true,
    "slideshow": {
     "slide_type": "slide"
    }
   },
   "source": [
    "# SQLite"
   ]
  },
  {
   "cell_type": "markdown",
   "metadata": {
    "hidden": true,
    "slideshow": {
     "slide_type": "slide"
    }
   },
   "source": [
    "![sqlite](img/SQLite-Python.jpg)"
   ]
  },
  {
   "cell_type": "markdown",
   "metadata": {
    "hidden": true
   },
   "source": [
    "SQLite is one of many tools that exist to create databases. We use it here because it is easy to integrate into a Jupyter Notebook using the `sqlite3` package. \n",
    "\n",
    "There are many other database tools out there, and they all work somewhat differently with their own SQL dialects. Just know that the specific methods or syntax you see here will differ slightly in other database implementations."
   ]
  },
  {
   "cell_type": "markdown",
   "metadata": {
    "heading_collapsed": true,
    "hidden": true,
    "slideshow": {
     "slide_type": "slide"
    }
   },
   "source": [
    "## _Sidebar: More About SQLite_"
   ]
  },
  {
   "cell_type": "markdown",
   "metadata": {
    "hidden": true,
    "slideshow": {
     "slide_type": "slide"
    }
   },
   "source": [
    "\"SQLite is a C library that provides a lightweight disk-based database that doesn’t require a separate server process and allows accessing the database using a nonstandard variant of the SQL query language. Some applications can use SQLite for internal data storage. It’s also possible to prototype an application using SQLite and then port the code to a larger database such as PostgreSQL or Oracle.\" - [sqlite documentation](https://docs.python.org/2/library/sqlite3.html)"
   ]
  },
  {
   "cell_type": "markdown",
   "metadata": {
    "heading_collapsed": true,
    "hidden": true,
    "slideshow": {
     "slide_type": "slide"
    }
   },
   "source": [
    "## Load a SQLite DB"
   ]
  },
  {
   "cell_type": "markdown",
   "metadata": {
    "hidden": true,
    "slideshow": {
     "slide_type": "slide"
    }
   },
   "source": [
    "Import the `sqlite3` package, which will allow us to load a SQLite database."
   ]
  },
  {
   "cell_type": "code",
   "execution_count": 1,
   "metadata": {
    "hidden": true,
    "slideshow": {
     "slide_type": "fragment"
    }
   },
   "outputs": [],
   "source": [
    "import sqlite3"
   ]
  },
  {
   "cell_type": "markdown",
   "metadata": {
    "hidden": true
   },
   "source": [
    "In this repository is a `flights.db` file that we can open as a SQLite database. This database contains tables with information about airlines, airports, and flight routes."
   ]
  },
  {
   "cell_type": "code",
   "execution_count": 2,
   "metadata": {
    "hidden": true
   },
   "outputs": [
    {
     "output_type": "stream",
     "name": "stdout",
     "text": [
      "LICENSE           flights.db        sql_queries.ipynb\nREADME.md         \u001b[34mimg\u001b[m\u001b[m\n"
     ]
    }
   ],
   "source": [
    "!ls"
   ]
  },
  {
   "cell_type": "markdown",
   "metadata": {
    "hidden": true
   },
   "source": [
    "First, we'll use the `sqlite3` package to create a connection to the database, which is currently just stored in that file on our hard drive."
   ]
  },
  {
   "cell_type": "code",
   "execution_count": 3,
   "metadata": {
    "hidden": true,
    "slideshow": {
     "slide_type": "fragment"
    }
   },
   "outputs": [],
   "source": [
    "con = sqlite3.connect('flights.db')"
   ]
  },
  {
   "cell_type": "markdown",
   "metadata": {
    "hidden": true
   },
   "source": [
    "Next, we'll create a cursor to interact with the database. Like the cursor for your mouse interacts with pixels on your screen, this cursor will allow us to interact with the elements of the database."
   ]
  },
  {
   "cell_type": "code",
   "execution_count": 4,
   "metadata": {
    "hidden": true
   },
   "outputs": [],
   "source": [
    "cursor = con.cursor()"
   ]
  },
  {
   "cell_type": "markdown",
   "metadata": {
    "heading_collapsed": true,
    "hidden": true,
    "slideshow": {
     "slide_type": "slide"
    }
   },
   "source": [
    "## Query the `airports` Table"
   ]
  },
  {
   "cell_type": "markdown",
   "metadata": {
    "hidden": true
   },
   "source": [
    "We will write a simple query using the SQL SELECT statement, which returns data from the database. We write the query as a string, which will then get parsed via the `sqlite3` package.\n",
    "\n",
    "In this case, we say `SELECT *` to specify that we want data from all columns, and we say `FROM airports` to specify that we want data from the `airports` table."
   ]
  },
  {
   "cell_type": "code",
   "execution_count": 5,
   "metadata": {
    "hidden": true
   },
   "outputs": [],
   "source": [
    "airports_query = \\\n",
    "\"\"\"\n",
    "SELECT *\n",
    "FROM airports\n",
    "\"\"\""
   ]
  },
  {
   "cell_type": "markdown",
   "metadata": {
    "hidden": true
   },
   "source": [
    "To run this query, we use the `.execute()` method with our cursor."
   ]
  },
  {
   "cell_type": "code",
   "execution_count": 6,
   "metadata": {
    "hidden": true
   },
   "outputs": [
    {
     "output_type": "execute_result",
     "data": {
      "text/plain": [
       "<sqlite3.Cursor at 0x7fad5ab13260>"
      ]
     },
     "metadata": {},
     "execution_count": 6
    }
   ],
   "source": [
    "cursor.execute(airports_query)"
   ]
  },
  {
   "cell_type": "markdown",
   "metadata": {
    "hidden": true
   },
   "source": [
    "Note that the `.execute()` method didn't actually return our data. The data is now just available in our cursor object. We'll use the `.fetchall()` method to get all the rows from our query."
   ]
  },
  {
   "cell_type": "code",
   "execution_count": 7,
   "metadata": {
    "hidden": true
   },
   "outputs": [
    {
     "output_type": "execute_result",
     "data": {
      "text/plain": [
       "CPP',\n",
       "  '-4.816028',\n",
       "  '11.886597',\n",
       "  '55',\n",
       "  '1',\n",
       "  'N',\n",
       "  'Africa/Brazzaville'),\n",
       " (871,\n",
       "  '887',\n",
       "  'Matsapha',\n",
       "  'Manzini',\n",
       "  'Swaziland',\n",
       "  'MTS',\n",
       "  'FDMS',\n",
       "  '-26.529022',\n",
       "  '31.307519',\n",
       "  '2075',\n",
       "  '2',\n",
       "  'U',\n",
       "  'Africa/Mbabane'),\n",
       " (872,\n",
       "  '888',\n",
       "  'Bangui M Poko',\n",
       "  'Bangui',\n",
       "  'Central African Republic',\n",
       "  'BGF',\n",
       "  'FEFF',\n",
       "  '4.398475',\n",
       "  '18.518786',\n",
       "  '1208',\n",
       "  '1',\n",
       "  'N',\n",
       "  'Africa/Bangui'),\n",
       " (873,\n",
       "  '889',\n",
       "  'Berberati',\n",
       "  'Berberati',\n",
       "  'Central African Republic',\n",
       "  'BBT',\n",
       "  'FEFT',\n",
       "  '4.221583',\n",
       "  '15.786369',\n",
       "  '1929',\n",
       "  '1',\n",
       "  'N',\n",
       "  'Africa/Bangui'),\n",
       " (874,\n",
       "  '890',\n",
       "  'Bata',\n",
       "  'Bata',\n",
       "  'Equatorial Guinea',\n",
       "  'BSG',\n",
       "  'FGBT',\n",
       "  '1.905469',\n",
       "  '9.805681',\n",
       "  '13',\n",
       "  '1',\n",
       "  'N',\n",
       "  'Africa/Malabo'),\n",
       " (875,\n",
       "  '891',\n",
       "  'Malabo',\n",
       "  'Malabo',\n",
       "  'Equatorial Guinea',\n",
       "  'SSG',\n",
       "  'FGSL',\n",
       "  '3.755267',\n",
       "  '8.708717',\n",
       "  '76',\n",
       "  '1',\n",
       "  'N',\n",
       "  'Africa/Malabo'),\n",
       " (876,\n",
       "  '892',\n",
       "  'Ascension Aux Af',\n",
       "  'Wide Awake',\n",
       "  'Saint Helena',\n",
       "  None,\n",
       "  'FHAW',\n",
       "  '-7.969597',\n",
       "  '-14.393664',\n",
       "  '278',\n",
       "  '0',\n",
       "  'N',\n",
       "  'Atlantic/St_Helena'),\n",
       " (877,\n",
       "  '893',\n",
       "  'Sir Seewoosagur Ramgoolam Intl',\n",
       "  'Plaisance',\n",
       "  'Mauritius',\n",
       "  'MRU',\n",
       "  'FIMP',\n",
       "  '-20.430235',\n",
       "  '57.6836',\n",
       "  '186',\n",
       "  '4',\n",
       "  'N',\n",
       "  'Indian/Mauritius'),\n",
       " (878,\n",
       "  '894',\n",
       "  'Plaine Corail',\n",
       "  'Rodriguez Island',\n",
       "  'Mauritius',\n",
       "  'RRG',\n",
       "  'FIMR',\n",
       "  '-19.757658',\n",
       "  '63.360983',\n",
       "  '95',\n",
       "  '4',\n",
       "  'N',\n",
       "  'Indian/Mauritius'),\n",
       " (879,\n",
       "  '895',\n",
       "  'Diego Garcia Nsf',\n",
       "  'Diego Garcia Island',\n",
       "  'British Indian Ocean Territory',\n",
       "  None,\n",
       "  'FJDG',\n",
       "  '-7.313267',\n",
       "  '72.411089',\n",
       "  '9',\n",
       "  '6',\n",
       "  'U',\n",
       "  'Indian/Chagos'),\n",
       " (880,\n",
       "  '896',\n",
       "  'Tiko',\n",
       "  'Tiko',\n",
       "  'Cameroon',\n",
       "  'TKC',\n",
       "  'FKKC',\n",
       "  '4.089192',\n",
       "  '9.360528',\n",
       "  '151',\n",
       "  '1',\n",
       "  'N',\n",
       "  'Africa/Douala'),\n",
       " (881,\n",
       "  '897',\n",
       "  'Douala',\n",
       "  'Douala',\n",
       "  'Cameroon',\n",
       "  'DLA',\n",
       "  'FKKD',\n",
       "  '4.006081',\n",
       "  '9.719481',\n",
       "  '33',\n",
       "  '1',\n",
       "  'N',\n",
       "  'Africa/Douala'),\n",
       " (882,\n",
       "  '898',\n",
       "  'Salak',\n",
       "  'Maroua',\n",
       "  'Cameroon',\n",
       "  'MVR',\n",
       "  'FKKL',\n",
       "  '10.451392',\n",
       "  '14.257361',\n",
       "  '1390',\n",
       "  '1',\n",
       "  'N',\n",
       "  'Africa/Douala'),\n",
       " (883,\n",
       "  '899',\n",
       "  'Foumban Nkounja',\n",
       "  'Foumban',\n",
       "  'Cameroon',\n",
       "  'FOM',\n",
       "  'FKKM',\n",
       "  '5.636919',\n",
       "  '10.750817',\n",
       "  '3963',\n",
       "  '1',\n",
       "  'N',\n",
       "  'Africa/Douala'),\n",
       " (884,\n",
       "  '900',\n",
       "  'Ngaoundere',\n",
       "  \"N'gaoundere\",\n",
       "  'Cameroon',\n",
       "  'NGE',\n",
       "  'FKKN',\n",
       "  '7.357011',\n",
       "  '13.559242',\n",
       "  '3655',\n",
       "  '1',\n",
       "  'N',\n",
       "  'Africa/Douala'),\n",
       " (885,\n",
       "  '901',\n",
       "  'Garoua',\n",
       "  'Garoua',\n",
       "  'Cameroon',\n",
       "  'GOU',\n",
       "  'FKKR',\n",
       "  '9.335892',\n",
       "  '13.370103',\n",
       "  '794',\n",
       "  '1',\n",
       "  'N',\n",
       "  'Africa/Douala'),\n",
       " (886,\n",
       "  '902',\n",
       "  'Bafoussam',\n",
       "  'Bafoussam',\n",
       "  'Cameroon',\n",
       "  'BFX',\n",
       "  'FKKU',\n",
       "  '5.536919',\n",
       "  '10.354583',\n",
       "  '4347',\n",
       "  '1',\n",
       "  'N',\n",
       "  'Africa/Douala'),\n",
       " (887,\n",
       "  '903',\n",
       "  'Bamenda',\n",
       "  'Bamenda',\n",
       "  'Cameroon',\n",
       "  'BPC',\n",
       "  'FKKV',\n",
       "  '6.039239',\n",
       "  '10.122639',\n",
       "  '4065',\n",
       "  '1',\n",
       "  'N',\n",
       "  'Africa/Douala'),\n",
       " (888,\n",
       "  '904',\n",
       "  'Yaounde Ville',\n",
       "  'Yaounde',\n",
       "  'Cameroon',\n",
       "  'YAO',\n",
       "  'FKKY',\n",
       "  '3.836039',\n",
       "  '11.523461',\n",
       "  '2464',\n",
       "  '1',\n",
       "  'N',\n",
       "  'Africa/Douala'),\n",
       " (889,\n",
       "  '905',\n",
       "  'Kasompe',\n",
       "  'Kasompe',\n",
       "  'Zambia',\n",
       "  None,\n",
       "  'FLKE',\n",
       "  '-12.572778',\n",
       "  '27.89395',\n",
       "  '4636',\n",
       "  '2',\n",
       "  'U',\n",
       "  'Africa/Lusaka'),\n",
       " (890,\n",
       "  '906',\n",
       "  'Livingstone',\n",
       "  'Livingstone',\n",
       "  'Zambia',\n",
       "  'LVI',\n",
       "  'FLLI',\n",
       "  '-17.821756',\n",
       "  '25.822692',\n",
       "  '3302',\n",
       "  '2',\n",
       "  'U',\n",
       "  'Africa/Lusaka'),\n",
       " (891,\n",
       "  '907',\n",
       "  'Lusaka Intl',\n",
       "  'Lusaka',\n",
       "  'Zambia',\n",
       "  'LUN',\n",
       "  'FLLS',\n",
       "  '-15.330817',\n",
       "  '28.452628',\n",
       "  '3779',\n",
       "  '2',\n",
       "  'U',\n",
       "  'Africa/Lusaka'),\n",
       " (892,\n",
       "  '908',\n",
       "  'Mfuwe',\n",
       "  'Mfuwe',\n",
       "  'Zambia',\n",
       "  'MFU',\n",
       "  'FLMF',\n",
       "  '-13.258878',\n",
       "  '31.936581',\n",
       "  '1853',\n",
       "  '2',\n",
       "  'U',\n",
       "  'Africa/Lusaka'),\n",
       " (893,\n",
       "  '909',\n",
       "  'Mongu',\n",
       "  'Mongu',\n",
       "  'Zambia',\n",
       "  None,\n",
       "  'FLMG',\n",
       "  '-15.254542',\n",
       "  '23.162306',\n",
       "  '3488',\n",
       "  '2',\n",
       "  'U',\n",
       "  'Africa/Lusaka'),\n",
       " (894,\n",
       "  '910',\n",
       "  'Ndola',\n",
       "  'Ndola',\n",
       "  'Zambia',\n",
       "  'NLA',\n",
       "  'FLND',\n",
       "  '-12.998139',\n",
       "  '28.664944',\n",
       "  '4167',\n",
       "  '2',\n",
       "  'U',\n",
       "  'Africa/Lusaka'),\n",
       " (895,\n",
       "  '911',\n",
       "  'Southdowns',\n",
       "  'Southdowns',\n",
       "  'Zambia',\n",
       "  'KIW',\n",
       "  'FLSO',\n",
       "  '-12.900469',\n",
       "  '28.149858',\n",
       "  '4145',\n",
       "  '2',\n",
       "  'U',\n",
       "  'Africa/Lusaka'),\n",
       " (896,\n",
       "  '912',\n",
       "  'Prince Said Ibrahim',\n",
       "  'Moroni',\n",
       "  'Comoros',\n",
       "  'HAH',\n",
       "  'FMCH',\n",
       "  '-11.533661',\n",
       "  '43.27185',\n",
       "  '93',\n",
       "  '3',\n",
       "  'U',\n",
       "  'Indian/Comoro'),\n",
       " (897,\n",
       "  '913',\n",
       "  'Bandaressalam',\n",
       "  'Moheli',\n",
       "  'Comoros',\n",
       "  'NWA',\n",
       "  'FMCI',\n",
       "  '-12.298108',\n",
       "  '43.7664',\n",
       "  '46',\n",
       "  '3',\n",
       "  'U',\n",
       "  'Indian/Comoro'),\n",
       " (898,\n",
       "  '914',\n",
       "  'Ouani',\n",
       "  'Anjouan',\n",
       "  'Comoros',\n",
       "  'AJN',\n",
       "  'FMCV',\n",
       "  '-12.131667',\n",
       "  '44.430279',\n",
       "  '62',\n",
       "  '3',\n",
       "  'U',\n",
       "  'Indian/Comoro'),\n",
       " (899,\n",
       "  '915',\n",
       "  'Dzaoudzi Pamandzi',\n",
       "  'Dzaoudzi',\n",
       "  'Mayotte',\n",
       "  'DZA',\n",
       "  'FMCZ',\n",
       "  '-12.804722',\n",
       "  '45.281113',\n",
       "  '23',\n",
       "  '3',\n",
       "  'U',\n",
       "  'Indian/Mayotte'),\n",
       " (900,\n",
       "  '916',\n",
       "  'St Denis Gillot',\n",
       "  'St.-denis',\n",
       "  'Reunion',\n",
       "  'RUN',\n",
       "  'FMEE',\n",
       "  '-20.8871',\n",
       "  '55.510308',\n",
       "  '66',\n",
       "  '4',\n",
       "  'U',\n",
       "  'Indian/Reunion'),\n",
       " (901,\n",
       "  '917',\n",
       "  'St Pierre Pierrefonds',\n",
       "  'St.-pierre',\n",
       "  'Reunion',\n",
       "  'ZSE',\n",
       "  'FMEP',\n",
       "  '-21.320039',\n",
       "  '55.423581',\n",
       "  '56',\n",
       "  '4',\n",
       "  'U',\n",
       "  'Indian/Reunion'),\n",
       " (902,\n",
       "  '918',\n",
       "  'Ivato',\n",
       "  'Antananarivo',\n",
       "  'Madagascar',\n",
       "  'TNR',\n",
       "  'FMMI',\n",
       "  '-18.79695',\n",
       "  '47.478806',\n",
       "  '4198',\n",
       "  '3',\n",
       "  'U',\n",
       "  'Indian/Antananarivo'),\n",
       " (903,\n",
       "  '919',\n",
       "  'Miandrivazo',\n",
       "  'Miandrivazo',\n",
       "  'Madagascar',\n",
       "  'ZVA',\n",
       "  'FMMN',\n",
       "  '-19.562778',\n",
       "  '45.450832',\n",
       "  '203',\n",
       "  '3',\n",
       "  'U',\n",
       "  'Indian/Antananarivo'),\n",
       " (904,\n",
       "  '920',\n",
       "  'Sainte Marie',\n",
       "  'Sainte Marie',\n",
       "  'Madagascar',\n",
       "  'SMS',\n",
       "  'FMMS',\n",
       "  '-17.093889',\n",
       "  '49.815834',\n",
       "  '7',\n",
       "  '3',\n",
       "  'U',\n",
       "  'Indian/Antananarivo'),\n",
       " (905,\n",
       "  '921',\n",
       "  'Toamasina',\n",
       "  'Toamasina',\n",
       "  'Madagascar',\n",
       "  'TMM',\n",
       "  'FMMT',\n",
       "  '-18.109517',\n",
       "  '49.392536',\n",
       "  '22',\n",
       "  '3',\n",
       "  'U',\n",
       "  'Indian/Antananarivo'),\n",
       " (906,\n",
       "  '922',\n",
       "  'Morondava',\n",
       "  'Morondava',\n",
       "  'Madagascar',\n",
       "  'MOQ',\n",
       "  'FMMV',\n",
       "  '-20.28475',\n",
       "  '44.317614',\n",
       "  '30',\n",
       "  '3',\n",
       "  'U',\n",
       "  'Indian/Antananarivo'),\n",
       " (907,\n",
       "  '923',\n",
       "  'Arrachart',\n",
       "  'Antsiranana',\n",
       "  'Madagascar',\n",
       "  'DIE',\n",
       "  'FMNA',\n",
       "  '-12.3494',\n",
       "  '49.291747',\n",
       "  '374',\n",
       "  '3',\n",
       "  'U',\n",
       "  'Indian/Antananarivo'),\n",
       " (908,\n",
       "  '924',\n",
       "  'Avaratra',\n",
       "  'Mananara',\n",
       "  'Madagascar',\n",
       "  'WMR',\n",
       "  'FMNC',\n",
       "  '-16.1639',\n",
       "  '49.773753',\n",
       "  '9',\n",
       "  '3',\n",
       "  'U',\n",
       "  'Indian/Antananarivo'),\n",
       " (909,\n",
       "  '925',\n",
       "  'Andapa',\n",
       "  'Andapa',\n",
       "  'Madagascar',\n",
       "  'ZWA',\n",
       "  'FMND',\n",
       "  '-14.651667',\n",
       "  '49.620556',\n",
       "  '1552',\n",
       "  '3',\n",
       "  'U',\n",
       "  'Indian/Antananarivo'),\n",
       " (910,\n",
       "  '926',\n",
       "  'Ambilobe',\n",
       "  'Ambilobe',\n",
       "  'Madagascar',\n",
       "  'AMB',\n",
       "  'FMNE',\n",
       "  '-13.188431',\n",
       "  '48.987978',\n",
       "  '72',\n",
       "  '3',\n",
       "  'U',\n",
       "  'Indian/Antananarivo'),\n",
       " (911,\n",
       "  '927',\n",
       "  'Antsirabato',\n",
       "  'Antalaha',\n",
       "  'Madagascar',\n",
       "  'ANM',\n",
       "  'FMNH',\n",
       "  '-14.999411',\n",
       "  '50.320233',\n",
       "  '20',\n",
       "  '3',\n",
       "  'U',\n",
       "  'Indian/Antananarivo'),\n",
       " (912,\n",
       "  '928',\n",
       "  'Analalava',\n",
       "  'Analalava',\n",
       "  'Madagascar',\n",
       "  'HVA',\n",
       "  'FMNL',\n",
       "  '-14.629694',\n",
       "  '47.763783',\n",
       "  '345',\n",
       "  '3',\n",
       "  'U',\n",
       "  'Indian/Antananarivo'),\n",
       " (913,\n",
       "  '929',\n",
       "  'Philibert Tsiranana',\n",
       "  'Mahajanga',\n",
       "  'Madagascar',\n",
       "  'MJN',\n",
       "  'FMNM',\n",
       "  '-15.667144',\n",
       "  '46.351828',\n",
       "  '87',\n",
       "  '3',\n",
       "  'U',\n",
       "  'Indian/Antananarivo'),\n",
       " (914,\n",
       "  '930',\n",
       "  'Fascene',\n",
       "  'Nosy-be',\n",
       "  'Madagascar',\n",
       "  'NOS',\n",
       "  'FMNN',\n",
       "  '-13.312067',\n",
       "  '48.314822',\n",
       "  '36',\n",
       "  '3',\n",
       "  'U',\n",
       "  'Indian/Antananarivo'),\n",
       " (915,\n",
       "  '931',\n",
       "  'Besalampy',\n",
       "  'Besalampy',\n",
       "  'Madagascar',\n",
       "  'BPY',\n",
       "  'FMNQ',\n",
       "  '-16.741945',\n",
       "  '44.481388',\n",
       "  '125',\n",
       "  '3',\n",
       "  'U',\n",
       "  'Indian/Antananarivo'),\n",
       " (916,\n",
       "  '932',\n",
       "  'Maroantsetra',\n",
       "  'Maroantsetra',\n",
       "  'Madagascar',\n",
       "  'WMN',\n",
       "  'FMNR',\n",
       "  '-15.436666',\n",
       "  '49.688332',\n",
       "  '13',\n",
       "  '3',\n",
       "  'U',\n",
       "  'Indian/Antananarivo'),\n",
       " (917,\n",
       "  '933',\n",
       "  'Sambava',\n",
       "  'Sambava',\n",
       "  'Madagascar',\n",
       "  'SVB',\n",
       "  'FMNS',\n",
       "  '-14.278611',\n",
       "  '50.174721',\n",
       "  '20',\n",
       "  '3',\n",
       "  'U',\n",
       "  'Indian/Antananarivo'),\n",
       " (918,\n",
       "  '934',\n",
       "  'Vohimarina',\n",
       "  'Vohemar',\n",
       "  'Madagascar',\n",
       "  'VOH',\n",
       "  'FMNV',\n",
       "  '-13.375834',\n",
       "  '50.002777',\n",
       "  '19',\n",
       "  '3',\n",
       "  'U',\n",
       "  'Indian/Antananarivo'),\n",
       " (919,\n",
       "  '935',\n",
       "  'Ambalabe',\n",
       "  'Antsohihy',\n",
       "  'Madagascar',\n",
       "  'WAI',\n",
       "  'FMNW',\n",
       "  '-14.89875',\n",
       "  '47.993894',\n",
       "  '92',\n",
       "  '3',\n",
       "  'U',\n",
       "  'Indian/Antananarivo'),\n",
       " (920,\n",
       "  '936',\n",
       "  'Ampampamena',\n",
       "  'Ampampamena',\n",
       "  'Madagascar',\n",
       "  None,\n",
       "  'FMNZ',\n",
       "  '-13.484814',\n",
       "  '48.632739',\n",
       "  '49',\n",
       "  '3',\n",
       "  'U',\n",
       "  'Indian/Antananarivo'),\n",
       " (921,\n",
       "  '937',\n",
       "  'Tolagnaro',\n",
       "  'Tolagnaro',\n",
       "  'Madagascar',\n",
       "  'FTU',\n",
       "  'FMSD',\n",
       "  '-25.038056',\n",
       "  '46.956111',\n",
       "  '29',\n",
       "  '3',\n",
       "  'U',\n",
       "  'Indian/Antananarivo'),\n",
       " (922,\n",
       "  '938',\n",
       "  'Fianarantsoa',\n",
       "  'Fianarantsoa',\n",
       "  'Madagascar',\n",
       "  'WFI',\n",
       "  'FMSF',\n",
       "  '-21.441558',\n",
       "  '47.111736',\n",
       "  '3658',\n",
       "  '3',\n",
       "  'U',\n",
       "  'Indian/Antananarivo'),\n",
       " (923,\n",
       "  '939',\n",
       "  'Farafangana',\n",
       "  'Farafangana',\n",
       "  'Madagascar',\n",
       "  'RVA',\n",
       "  'FMSG',\n",
       "  '-22.805286',\n",
       "  '47.820614',\n",
       "  '26',\n",
       "  '3',\n",
       "  'U',\n",
       "  'Indian/Antananarivo'),\n",
       " (924,\n",
       "  '940',\n",
       "  'Manakara',\n",
       "  'Manakara',\n",
       "  'Madagascar',\n",
       "  'WVK',\n",
       "  'FMSK',\n",
       "  '-22.119722',\n",
       "  '48.021667',\n",
       "  '33',\n",
       "  '3',\n",
       "  'U',\n",
       "  'Indian/Antananarivo'),\n",
       " (925,\n",
       "  '941',\n",
       "  'Mananjary',\n",
       "  'Mananjary',\n",
       "  'Madagascar',\n",
       "  'MNJ',\n",
       "  'FMSM',\n",
       "  '-21.201772',\n",
       "  '48.358317',\n",
       "  '20',\n",
       "  '3',\n",
       "  'U',\n",
       "  'Indian/Antananarivo'),\n",
       " (926,\n",
       "  '942',\n",
       "  'Morombe',\n",
       "  'Morombe',\n",
       "  'Madagascar',\n",
       "  'MXM',\n",
       "  'FMSR',\n",
       "  '-21.753867',\n",
       "  '43.375533',\n",
       "  '16',\n",
       "  '3',\n",
       "  'U',\n",
       "  'Indian/Antananarivo'),\n",
       " (927,\n",
       "  '943',\n",
       "  'Toliara',\n",
       "  'Toliara',\n",
       "  'Madagascar',\n",
       "  'TLE',\n",
       "  'FMST',\n",
       "  '-23.383369',\n",
       "  '43.728453',\n",
       "  '29',\n",
       "  '3',\n",
       "  'U',\n",
       "  'Indian/Antananarivo'),\n",
       " (928,\n",
       "  '944',\n",
       "  'Mbanza Congo',\n",
       "  \"M'banza-congo\",\n",
       "  'Angola',\n",
       "  'SSY',\n",
       "  'FNBC',\n",
       "  '-6.269897',\n",
       "  '14.247025',\n",
       "  '1860',\n",
       "  '1',\n",
       "  'N',\n",
       "  'Africa/Luanda'),\n",
       " (929,\n",
       "  '945',\n",
       "  'Benguela',\n",
       "  'Benguela',\n",
       "  'Angola',\n",
       "  'BUG',\n",
       "  'FNBG',\n",
       "  '-12.609025',\n",
       "  '13.403711',\n",
       "  '118',\n",
       "  '1',\n",
       "  'N',\n",
       "  'Africa/Luanda'),\n",
       " (930,\n",
       "  '946',\n",
       "  'Cabinda',\n",
       "  'Cabinda',\n",
       "  'Angola',\n",
       "  'CAB',\n",
       "  'FNCA',\n",
       "  '-5.596992',\n",
       "  '12.188353',\n",
       "  '66',\n",
       "  '1',\n",
       "  'N',\n",
       "  'Africa/Luanda'),\n",
       " (931,\n",
       "  '6814',\n",
       "  'Culebra Airport',\n",
       "  'Culebra Island',\n",
       "  'Puerto Rico',\n",
       "  'CPX',\n",
       "  'TJCP',\n",
       "  '18.3127',\n",
       "  '-65.3034',\n",
       "  '12',\n",
       "  '-4',\n",
       "  'U',\n",
       "  'America/Puerto_Rico'),\n",
       " (932,\n",
       "  '948',\n",
       "  'Huambo',\n",
       "  'Huambo',\n",
       "  'Angola',\n",
       "  'NOV',\n",
       "  'FNHU',\n",
       "  '-12.808878',\n",
       "  '15.760547',\n",
       "  '5587',\n",
       "  '1',\n",
       "  'N',\n",
       "  'Africa/Luanda'),\n",
       " (933,\n",
       "  '949',\n",
       "  'Kuito',\n",
       "  'Kuito',\n",
       "  'Angola',\n",
       "  'SVP',\n",
       "  'FNKU',\n",
       "  '-12.404633',\n",
       "  '16.947414',\n",
       "  '5618',\n",
       "  '1',\n",
       "  'N',\n",
       "  'Africa/Luanda'),\n",
       " (934,\n",
       "  '950',\n",
       "  'Lobito',\n",
       "  'Lobito',\n",
       "  'Angola',\n",
       "  None,\n",
       "  'FNLB',\n",
       "  '-12.371233',\n",
       "  '13.536625',\n",
       "  '10',\n",
       "  '1',\n",
       "  'N',\n",
       "  'Africa/Luanda'),\n",
       " (935,\n",
       "  '951',\n",
       "  'Luanda 4 De Fevereiro',\n",
       "  'Luanda',\n",
       "  'Angola',\n",
       "  'LAD',\n",
       "  'FNLU',\n",
       "  '-8.858375',\n",
       "  '13.231178',\n",
       "  '243',\n",
       "  '1',\n",
       "  'N',\n",
       "  'Africa/Luanda'),\n",
       " (936,\n",
       "  '952',\n",
       "  'Malanje',\n",
       "  'Malanje',\n",
       "  'Angola',\n",
       "  'MEG',\n",
       "  'FNMA',\n",
       "  '-9.525086',\n",
       "  '16.312406',\n",
       "  '3868',\n",
       "  '1',\n",
       "  'N',\n",
       "  'Africa/Luanda'),\n",
       " (937,\n",
       "  '953',\n",
       "  'Menongue',\n",
       "  'Menongue',\n",
       "  'Angola',\n",
       "  'SPP',\n",
       "  'FNME',\n",
       "  '-14.657583',\n",
       "  '17.719833',\n",
       "  '4469',\n",
       "  '1',\n",
       "  'N',\n",
       "  'Africa/Luanda'),\n",
       " (938,\n",
       "  '955',\n",
       "  'Negage',\n",
       "  'Negage',\n",
       "  'Angola',\n",
       "  'GXG',\n",
       "  'FNNG',\n",
       "  '-7.754506',\n",
       "  '15.287728',\n",
       "  '4105',\n",
       "  '1',\n",
       "  'N',\n",
       "  'Africa/Luanda'),\n",
       " (939,\n",
       "  '956',\n",
       "  'Porto Amboim',\n",
       "  'Porto Amboim',\n",
       "  'Angola',\n",
       "  'PBN',\n",
       "  'FNPA',\n",
       "  '-10.721956',\n",
       "  '13.765528',\n",
       "  '16',\n",
       "  '1',\n",
       "  'N',\n",
       "  'Africa/Luanda'),\n",
       " (940,\n",
       "  '957',\n",
       "  'Saurimo',\n",
       "  'Saurimo',\n",
       "  'Angola',\n",
       "  'VHC',\n",
       "  'FNSA',\n",
       "  '-9.689067',\n",
       "  '20.431875',\n",
       "  '3584',\n",
       "  '1',\n",
       "  'N',\n",
       "  'Africa/Luanda'),\n",
       " (941,\n",
       "  '958',\n",
       "  'Soyo',\n",
       "  'Soyo',\n",
       "  'Angola',\n",
       "  'SZA',\n",
       "  'FNSO',\n",
       "  '-6.141086',\n",
       "  '12.371764',\n",
       "  '15',\n",
       "  '1',\n",
       "  'N',\n",
       "  'Africa/Luanda'),\n",
       " (942,\n",
       "  '959',\n",
       "  'Lubango',\n",
       "  'Lubango',\n",
       "  'Angola',\n",
       "  'SDD',\n",
       "  'FNUB',\n",
       "  '-14.924733',\n",
       "  '13.575022',\n",
       "  '5778',\n",
       "  '1',\n",
       "  'N',\n",
       "  'Africa/Luanda'),\n",
       " (943,\n",
       "  '960',\n",
       "  'Luena',\n",
       "  'Luena',\n",
       "  'Angola',\n",
       "  'LUO',\n",
       "  'FNUE',\n",
       "  '-11.768086',\n",
       "  '19.897672',\n",
       "  '4360',\n",
       "  '1',\n",
       "  'N',\n",
       "  'Africa/Luanda'),\n",
       " (944,\n",
       "  '961',\n",
       "  'Uige',\n",
       "  'Uige',\n",
       "  'Angola',\n",
       "  'UGO',\n",
       "  'FNUG',\n",
       "  '-7.603067',\n",
       "  '15.027822',\n",
       "  '2720',\n",
       "  '1',\n",
       "  'N',\n",
       "  'Africa/Luanda'),\n",
       " (945,\n",
       "  '962',\n",
       "  'Xangongo',\n",
       "  'Xangongo',\n",
       "  'Angola',\n",
       "  'XGN',\n",
       "  'FNXA',\n",
       "  '-16.755417',\n",
       "  '14.965344',\n",
       "  '3635',\n",
       "  '1',\n",
       "  'N',\n",
       "  'Africa/Luanda'),\n",
       " (946,\n",
       "  '963',\n",
       "  'Oyem',\n",
       "  'Oyem',\n",
       "  'Gabon',\n",
       "  'OYE',\n",
       "  'FOGO',\n",
       "  '1.543108',\n",
       "  '11.581361',\n",
       "  '2158',\n",
       "  '1',\n",
       "  'N',\n",
       "  'Africa/Libreville'),\n",
       " (947,\n",
       "  '964',\n",
       "  'Okondja',\n",
       "  'Okondja',\n",
       "  'Gabon',\n",
       "  'OKN',\n",
       "  'FOGQ',\n",
       "  '-0.665214',\n",
       "  '13.673133',\n",
       "  '1325',\n",
       "  '1',\n",
       "  'N',\n",
       "  'Africa/Libreville'),\n",
       " (948,\n",
       "  '965',\n",
       "  'Lambarene',\n",
       "  'Lambarene',\n",
       "  'Gabon',\n",
       "  'LBQ',\n",
       "  'FOGR',\n",
       "  '-0.704389',\n",
       "  '10.245722',\n",
       "  '82',\n",
       "  '1',\n",
       "  'N',\n",
       "  'Africa/Libreville'),\n",
       " (949,\n",
       "  '966',\n",
       "  'Bitam',\n",
       "  'Bitam',\n",
       "  'Gabon',\n",
       "  'BMM',\n",
       "  'FOOB',\n",
       "  '2.075639',\n",
       "  '11.493195',\n",
       "  '1969',\n",
       "  '1',\n",
       "  'N',\n",
       "  'Africa/Libreville'),\n",
       " (950,\n",
       "  '967',\n",
       "  'Port Gentil',\n",
       "  'Port Gentil',\n",
       "  'Gabon',\n",
       "  'POG',\n",
       "  'FOOG',\n",
       "  '-0.711739',\n",
       "  '8.754383',\n",
       "  '13',\n",
       "  '1',\n",
       "  'N',\n",
       "  'Africa/Libreville'),\n",
       " (951,\n",
       "  '968',\n",
       "  'Omboue Hopital',\n",
       "  'Omboue Hospial',\n",
       "  'Gabon',\n",
       "  'OMB',\n",
       "  'FOOH',\n",
       "  '-1.574733',\n",
       "  '9.262694',\n",
       "  '33',\n",
       "  '1',\n",
       "  'N',\n",
       "  'Africa/Libreville'),\n",
       " (952,\n",
       "  '969',\n",
       "  'Makokou',\n",
       "  'Makokou',\n",
       "  'Gabon',\n",
       "  'MKU',\n",
       "  'FOOK',\n",
       "  '0.579211',\n",
       "  '12.890908',\n",
       "  '1726',\n",
       "  '1',\n",
       "  'N',\n",
       "  'Africa/Libreville'),\n",
       " (953,\n",
       "  '970',\n",
       "  'Leon M Ba',\n",
       "  'Libreville',\n",
       "  'Gabon',\n",
       "  'LBV',\n",
       "  'FOOL',\n",
       "  '0.4586',\n",
       "  '9.412283',\n",
       "  '39',\n",
       "  '1',\n",
       "  'N',\n",
       "  'Africa/Libreville'),\n",
       " (954,\n",
       "  '971',\n",
       "  'Mvengue',\n",
       "  'Franceville',\n",
       "  'Gabon',\n",
       "  'MVB',\n",
       "  'FOON',\n",
       "  '-1.656156',\n",
       "  '13.438036',\n",
       "  '1450',\n",
       "  '1',\n",
       "  'N',\n",
       "  'Africa/Libreville'),\n",
       " (955,\n",
       "  '972',\n",
       "  'Principe',\n",
       "  'Principe',\n",
       "  'Sao Tome and Principe',\n",
       "  'PCP',\n",
       "  'FPPR',\n",
       "  '1.662936',\n",
       "  '7.411742',\n",
       "  '591',\n",
       "  '0',\n",
       "  'N',\n",
       "  'Africa/Sao_Tome'),\n",
       " (956,\n",
       "  '973',\n",
       "  'Sao Tome Intl',\n",
       "  'Sao Tome',\n",
       "  'Sao Tome and Principe',\n",
       "  'TMS',\n",
       "  'FPST',\n",
       "  '0.378175',\n",
       "  '6.712153',\n",
       "  '33',\n",
       "  '0',\n",
       "  'N',\n",
       "  'Africa/Sao_Tome'),\n",
       " (957,\n",
       "  '974',\n",
       "  'Beira',\n",
       "  'Beira',\n",
       "  'Mozambique',\n",
       "  'BEW',\n",
       "  'FQBR',\n",
       "  '-19.796419',\n",
       "  '34.907556',\n",
       "  '33',\n",
       "  '2',\n",
       "  'U',\n",
       "  'Africa/Maputo'),\n",
       " (958,\n",
       "  '976',\n",
       "  'Inhambane',\n",
       "  'Inhambane',\n",
       "  'Mozambique',\n",
       "  'INH',\n",
       "  'FQIN',\n",
       "  '-23.876431',\n",
       "  '35.408544',\n",
       "  '30',\n",
       "  '2',\n",
       "  'U',\n",
       "  'Africa/Maputo'),\n",
       " (959,\n",
       "  '977',\n",
       "  'Lichinga',\n",
       "  'Lichinga',\n",
       "  'Mozambique',\n",
       "  'VXC',\n",
       "  'FQLC',\n",
       "  '-13.273986',\n",
       "  '35.266262',\n",
       "  '4505',\n",
       "  '2',\n",
       "  'U',\n",
       "  'Africa/Maputo'),\n",
       " (960,\n",
       "  '978',\n",
       "  'Lumbo',\n",
       "  'Lumbo',\n",
       "  'Mozambique',\n",
       "  None,\n",
       "  'FQLU',\n",
       "  '-15.033058',\n",
       "  '40.671728',\n",
       "  '33',\n",
       "  '2',\n",
       "  'U',\n",
       "  'Africa/Maputo'),\n",
       " (961,\n",
       "  '979',\n",
       "  'Maputo',\n",
       "  'Maputo',\n",
       "  'Mozambique',\n",
       "  'MPM',\n",
       "  'FQMA',\n",
       "  '-25.920836',\n",
       "  '32.572606',\n",
       "  '145',\n",
       "  '2',\n",
       "  'U',\n",
       "  'Africa/Maputo'),\n",
       " (962,\n",
       "  '980',\n",
       "  'Mueda',\n",
       "  'Mueda',\n",
       "  'Mozambique',\n",
       "  None,\n",
       "  'FQMD',\n",
       "  '-11.672922',\n",
       "  '39.563142',\n",
       "  '2789',\n",
       "  '2',\n",
       "  'U',\n",
       "  'Africa/Maputo'),\n",
       " (963,\n",
       "  '981',\n",
       "  'Mocimboa Da Praia',\n",
       "  'Mocimboa Da Praia',\n",
       "  'Mozambique',\n",
       "  'MZB',\n",
       "  'FQMP',\n",
       "  '-11.361789',\n",
       "  '40.354875',\n",
       "  '89',\n",
       "  '2',\n",
       "  'U',\n",
       "  'Africa/Maputo'),\n",
       " (964,\n",
       "  '982',\n",
       "  'Marrupa',\n",
       "  'Marrupa',\n",
       "  'Mozambique',\n",
       "  None,\n",
       "  'FQMR',\n",
       "  '-13.225053',\n",
       "  '37.552067',\n",
       "  '2480',\n",
       "  '2',\n",
       "  'U',\n",
       "  'Africa/Maputo'),\n",
       " (965,\n",
       "  '983',\n",
       "  'Nacala',\n",
       "  'Nacala',\n",
       "  'Mozambique',\n",
       "  'MNC',\n",
       "  'FQNC',\n",
       "  '-14.488233',\n",
       "  '40.71225',\n",
       "  '410',\n",
       "  '2',\n",
       "  'U',\n",
       "  'Africa/Maputo'),\n",
       " (966,\n",
       "  '984',\n",
       "  'Nampula',\n",
       "  'Nampula',\n",
       "  'Mozambique',\n",
       "  'APL',\n",
       "  'FQNP',\n",
       "  '-15.105611',\n",
       "  '39.2818',\n",
       "  '1444',\n",
       "  '2',\n",
       "  'U',\n",
       "  'Africa/Maputo'),\n",
       " (967,\n",
       "  '985',\n",
       "  'Pemba',\n",
       "  'Pemba',\n",
       "  'Mozambique',\n",
       "  'POL',\n",
       "  'FQPB',\n",
       "  '-12.986753',\n",
       "  '40.522492',\n",
       "  '331',\n",
       "  '2',\n",
       "  'U',\n",
       "  'Africa/Maputo'),\n",
       " (968,\n",
       "  '986',\n",
       "  'Quelimane',\n",
       "  'Quelimane',\n",
       "  'Mozambique',\n",
       "  'UEL',\n",
       "  'FQQL',\n",
       "  '-17.8555',\n",
       "  '36.869106',\n",
       "  '36',\n",
       "  '2',\n",
       "  'U',\n",
       "  'Africa/Maputo'),\n",
       " (969,\n",
       "  '987',\n",
       "  'Songo',\n",
       "  'Songo',\n",
       "  'Mozambique',\n",
       "  None,\n",
       "  'FQSG',\n",
       "  '-15.602694',\n",
       "  '32.773189',\n",
       "  '2904',\n",
       "  '2',\n",
       "  'U',\n",
       "  'Africa/Maputo'),\n",
       " (970,\n",
       "  '988',\n",
       "  'Tete Chingodzi',\n",
       "  'Tete',\n",
       "  'Mozambique',\n",
       "  'TET',\n",
       "  'FQTT',\n",
       "  '-16.104817',\n",
       "  '33.640181',\n",
       "  '525',\n",
       "  '2',\n",
       "  'U',\n",
       "  'Africa/Maputo'),\n",
       " (971,\n",
       "  '989',\n",
       "  'Ulongwe',\n",
       "  'Ulongwe',\n",
       "  'Mozambique',\n",
       "  None,\n",
       "  'FQUG',\n",
       "  '-14.704617',\n",
       "  '34.352369',\n",
       "  '4265',\n",
       "  '2',\n",
       "  'U',\n",
       "  'Africa/Maputo'),\n",
       " (972,\n",
       "  '990',\n",
       "  'Vilankulo',\n",
       "  'Vilankulu',\n",
       "  'Mozambique',\n",
       "  'VNX',\n",
       "  'FQVL',\n",
       "  '-22.018431',\n",
       "  '35.313297',\n",
       "  '46',\n",
       "  '2',\n",
       "  'U',\n",
       "  'Africa/Maputo'),\n",
       " (973,\n",
       "  '991',\n",
       "  'Alphonse',\n",
       "  'Alphonse',\n",
       "  'Seychelles',\n",
       "  None,\n",
       "  'FSAL',\n",
       "  '-7.004783',\n",
       "  '52.726247',\n",
       "  '10',\n",
       "  '4',\n",
       "  'U',\n",
       "  'Indian/Mahe'),\n",
       " (974,\n",
       "  '992',\n",
       "  'Desroches',\n",
       "  'Desroches',\n",
       "  'Seychelles',\n",
       "  'DES',\n",
       "  'FSDR',\n",
       "  '-5.696697',\n",
       "  '53.655844',\n",
       "  '10',\n",
       "  '4',\n",
       "  'U',\n",
       "  'Indian/Mahe'),\n",
       " (975,\n",
       "  '993',\n",
       "  'Farquhar',\n",
       "  'Farquhar',\n",
       "  'Seychelles',\n",
       "  None,\n",
       "  'FSFA',\n",
       "  '-10.109611',\n",
       "  '51.176119',\n",
       "  '10',\n",
       "  '4',\n",
       "  'U',\n",
       "  'Indian/Mahe'),\n",
       " (976,\n",
       "  '994',\n",
       "  'Seychelles Intl',\n",
       "  'Mahe',\n",
       "  'Seychelles',\n",
       "  'SEZ',\n",
       "  'FSIA',\n",
       "  '-4.674342',\n",
       "  '55.521839',\n",
       "  '10',\n",
       "  '4',\n",
       "  'U',\n",
       "  'Indian/Mahe'),\n",
       " (977,\n",
       "  '995',\n",
       "  'Praslin',\n",
       "  'Praslin',\n",
       "  'Seychelles',\n",
       "  'PRI',\n",
       "  'FSPP',\n",
       "  '-4.319292',\n",
       "  '55.691417',\n",
       "  '10',\n",
       "  '4',\n",
       "  'U',\n",
       "  'Indian/Mahe'),\n",
       " (978,\n",
       "  '996',\n",
       "  'Coetivy',\n",
       "  'Coetivy',\n",
       "  'Seychelles',\n",
       "  None,\n",
       "  'FSSC',\n",
       "  '-7.134567',\n",
       "  '56.278239',\n",
       "  '10',\n",
       "  '4',\n",
       "  'U',\n",
       "  'Indian/Mahe'),\n",
       " (979,\n",
       "  '997',\n",
       "  'Abeche',\n",
       "  'Abeche',\n",
       "  'Chad',\n",
       "  'AEH',\n",
       "  'FTTC',\n",
       "  '13.847',\n",
       "  '20.844333',\n",
       "  '1788',\n",
       "  '1',\n",
       "  'N',\n",
       "  'Africa/Ndjamena'),\n",
       " (980,\n",
       "  '998',\n",
       "  'Moundou',\n",
       "  'Moundou',\n",
       "  'Chad',\n",
       "  'MQQ',\n",
       "  'FTTD',\n",
       "  '8.624406',\n",
       "  '16.071419',\n",
       "  '1407',\n",
       "  '1',\n",
       "  'N',\n",
       "  'Africa/Ndjamena'),\n",
       " (981,\n",
       "  '999',\n",
       "  'Ndjamena Hassan Djamous',\n",
       "  \"N'djamena\",\n",
       "  'Chad',\n",
       "  'NDJ',\n",
       "  'FTTJ',\n",
       "  '12.133689',\n",
       "  '15.034019',\n",
       "  '968',\n",
       "  '1',\n",
       "  'N',\n",
       "  'Africa/Ndjamena'),\n",
       " (982,\n",
       "  '1000',\n",
       "  'Faya Largeau',\n",
       "  'Faya-largeau',\n",
       "  'Chad',\n",
       "  'FYT',\n",
       "  'FTTY',\n",
       "  '17.917053',\n",
       "  '19.111078',\n",
       "  '771',\n",
       "  '1',\n",
       "  'N',\n",
       "  'Africa/Ndjamena'),\n",
       " (983,\n",
       "  '1001',\n",
       "  'J M Nkomo Intl',\n",
       "  'Bulawayo',\n",
       "  'Zimbabwe',\n",
       "  'BUQ',\n",
       "  'FVBU',\n",
       "  '-20.017431',\n",
       "  '28.617869',\n",
       "  '4359',\n",
       "  '2',\n",
       "  'U',\n",
       "  'Africa/Harare'),\n",
       " (984,\n",
       "  '1002',\n",
       "  'Charles Prince',\n",
       "  'Harare',\n",
       "  'Zimbabwe',\n",
       "  None,\n",
       "  'FVCP',\n",
       "  '-17.751561',\n",
       "  '30.924706',\n",
       "  '4845',\n",
       "  '2',\n",
       "  'U',\n",
       "  'Africa/Harare'),\n",
       " (985,\n",
       "  '1003',\n",
       "  'Buffalo Range',\n",
       "  'Chiredzi',\n",
       "  'Zimbabwe',\n",
       "  'BFO',\n",
       "  'FVCZ',\n",
       "  '-21.008083',\n",
       "  '31.57855',\n",
       "  '1421',\n",
       "  '2',\n",
       "  'U',\n",
       "  'Africa/Harare'),\n",
       " (986,\n",
       "  '1004',\n",
       "  'Victoria Falls Intl',\n",
       "  'Victoria Falls',\n",
       "  'Zimbabwe',\n",
       "  'VFA',\n",
       "  'FVFA',\n",
       "  '-18.095881',\n",
       "  '25.839006',\n",
       "  '3490',\n",
       "  '2',\n",
       "  'U',\n",
       "  'Africa/Harare'),\n",
       " (987,\n",
       "  '1005',\n",
       "  'Harare Intl',\n",
       "  'Harare',\n",
       "  'Zimbabwe',\n",
       "  'HRE',\n",
       "  'FVHA',\n",
       "  '-17.931806',\n",
       "  '31.092847',\n",
       "  '4887',\n",
       "  '2',\n",
       "  'U',\n",
       "  'Africa/Harare'),\n",
       " (988,\n",
       "  '1006',\n",
       "  'Kariba Intl',\n",
       "  'Kariba',\n",
       "  'Zimbabwe',\n",
       "  'KAB',\n",
       "  'FVKB',\n",
       "  '-16.519761',\n",
       "  '28.884981',\n",
       "  '1706',\n",
       "  '2',\n",
       "  'U',\n",
       "  'Africa/Harare'),\n",
       " (989,\n",
       "  '1007',\n",
       "  'Mutoko',\n",
       "  'Mutoko',\n",
       "  'Zimbabwe',\n",
       "  None,\n",
       "  'FVMT',\n",
       "  '-17.431917',\n",
       "  '32.184502',\n",
       "  '3950',\n",
       "  '2',\n",
       "  'U',\n",
       "  'Africa/Harare'),\n",
       " (990,\n",
       "  '1008',\n",
       "  'Mutare',\n",
       "  'Mutare',\n",
       "  'Zimbabwe',\n",
       "  None,\n",
       "  'FVMU',\n",
       "  '-18.997499',\n",
       "  '32.627224',\n",
       "  '3410',\n",
       "  '2',\n",
       "  'U',\n",
       "  'Africa/Harare'),\n",
       " (991,\n",
       "  '1009',\n",
       "  'Masvingo Intl',\n",
       "  'Masvingo',\n",
       "  'Zimbabwe',\n",
       "  'MVZ',\n",
       "  'FVMV',\n",
       "  '-20.055333',\n",
       "  '30.859111',\n",
       "  '3595',\n",
       "  '2',\n",
       "  'U',\n",
       "  'Africa/Harare'),\n",
       " (992,\n",
       "  '1010',\n",
       "  'Zvishavane',\n",
       "  'Zvishavane',\n",
       "  'Zimbabwe',\n",
       "  None,\n",
       "  'FVSH',\n",
       "  '-20.289497',\n",
       "  '30.088228',\n",
       "  '3012',\n",
       "  '2',\n",
       "  'U',\n",
       "  'Africa/Harare'),\n",
       " (993,\n",
       "  '1011',\n",
       "  'Gweru Thornhill',\n",
       "  'Gwert',\n",
       "  'Zimbabwe',\n",
       "  'GWE',\n",
       "  'FVTL',\n",
       "  '-19.436394',\n",
       "  '29.861911',\n",
       "  '4680',\n",
       "  '2',\n",
       "  'U',\n",
       "  'Africa/Harare'),\n",
       " (994,\n",
       "  '1012',\n",
       "  'Hwange National Park',\n",
       "  'Hwange National Park',\n",
       "  'Zimbabwe',\n",
       "  'WKM',\n",
       "  'FVWN',\n",
       "  '-18.629872',\n",
       "  '27.021042',\n",
       "  '3543',\n",
       "  '2',\n",
       "  'U',\n",
       "  'Africa/Harare'),\n",
       " (995,\n",
       "  '1013',\n",
       "  'Chileka Intl',\n",
       "  'Blantyre',\n",
       "  'Malawi',\n",
       "  'BLZ',\n",
       "  'FWCL',\n",
       "  '-15.679053',\n",
       "  '34.974014',\n",
       "  '2555',\n",
       "  '2',\n",
       "  'U',\n",
       "  'Africa/Blantyre'),\n",
       " (996,\n",
       "  '1014',\n",
       "  'Karonga',\n",
       "  'Karonga',\n",
       "  'Malawi',\n",
       "  'KGJ',\n",
       "  'FWKA',\n",
       "  '-9.953569',\n",
       "  '33.893022',\n",
       "  '1765',\n",
       "  '2',\n",
       "  'U',\n",
       "  'Africa/Blantyre'),\n",
       " (997,\n",
       "  '1015',\n",
       "  'Kasungu',\n",
       "  'Kasungu',\n",
       "  'Malawi',\n",
       "  None,\n",
       "  'FWKG',\n",
       "  '-13.014631',\n",
       "  '33.468597',\n",
       "  '3470',\n",
       "  '2',\n",
       "  'U',\n",
       "  'Africa/Blantyre'),\n",
       " (998,\n",
       "  '1016',\n",
       "  'Kamuzu Intl',\n",
       "  'Lilongwe',\n",
       "  'Malawi',\n",
       "  'LLW',\n",
       "  'FWKI',\n",
       "  '-13.789378',\n",
       "  '33.781',\n",
       "  '4035',\n",
       "  '2',\n",
       "  'U',\n",
       "  'Africa/Blantyre'),\n",
       " (999,\n",
       "  '1017',\n",
       "  'Mzuzu',\n",
       "  'Mzuzu',\n",
       "  'Malawi',\n",
       "  'ZZU',\n",
       "  'FWUU',\n",
       "  '-11.44475',\n",
       "  '34.011776',\n",
       "  '4115',\n",
       "  '2',\n",
       "  'U',\n",
       "  'Africa/Blantyre'),\n",
       " ...]"
      ]
     },
     "metadata": {},
     "execution_count": 7
    }
   ],
   "source": [
    "cursor.fetchall()"
   ]
  },
  {
   "cell_type": "markdown",
   "metadata": {
    "hidden": true,
    "slideshow": {
     "slide_type": "slide"
    }
   },
   "source": [
    "Looks like we got some data, but it's not clear what each element represents. We can view the column names in the cursor's `description` attribute."
   ]
  },
  {
   "cell_type": "code",
   "execution_count": 8,
   "metadata": {
    "hidden": true,
    "scrolled": false,
    "slideshow": {
     "slide_type": "fragment"
    }
   },
   "outputs": [
    {
     "output_type": "execute_result",
     "data": {
      "text/plain": [
       "(('index', None, None, None, None, None, None),\n",
       " ('id', None, None, None, None, None, None),\n",
       " ('name', None, None, None, None, None, None),\n",
       " ('city', None, None, None, None, None, None),\n",
       " ('country', None, None, None, None, None, None),\n",
       " ('code', None, None, None, None, None, None),\n",
       " ('icao', None, None, None, None, None, None),\n",
       " ('latitude', None, None, None, None, None, None),\n",
       " ('longitude', None, None, None, None, None, None),\n",
       " ('altitude', None, None, None, None, None, None),\n",
       " ('offset', None, None, None, None, None, None),\n",
       " ('dst', None, None, None, None, None, None),\n",
       " ('timezone', None, None, None, None, None, None))"
      ]
     },
     "metadata": {},
     "execution_count": 8
    }
   ],
   "source": [
    "cursor.description"
   ]
  },
  {
   "cell_type": "markdown",
   "metadata": {
    "heading_collapsed": true,
    "hidden": true
   },
   "source": [
    "## `pd.read_sql()`"
   ]
  },
  {
   "cell_type": "markdown",
   "metadata": {
    "hidden": true
   },
   "source": [
    "We can get the data and the column names into a nice, tidy DataFrame using `pd.read_sql()`"
   ]
  },
  {
   "cell_type": "code",
   "execution_count": 9,
   "metadata": {
    "hidden": true
   },
   "outputs": [
    {
     "output_type": "execute_result",
     "data": {
      "text/plain": [
       "   index id                        name          city           country code  \\\n",
       "0      0  1                      Goroka        Goroka  Papua New Guinea  GKA   \n",
       "1      1  2                      Madang        Madang  Papua New Guinea  MAG   \n",
       "2      2  3                 Mount Hagen   Mount Hagen  Papua New Guinea  HGU   \n",
       "3      3  4                      Nadzab        Nadzab  Papua New Guinea  LAE   \n",
       "4      4  5  Port Moresby Jacksons Intl  Port Moresby  Papua New Guinea  POM   \n",
       "\n",
       "   icao   latitude   longitude altitude offset dst              timezone  \n",
       "0  AYGA  -6.081689  145.391881     5282     10   U  Pacific/Port_Moresby  \n",
       "1  AYMD  -5.207083    145.7887       20     10   U  Pacific/Port_Moresby  \n",
       "2  AYMH  -5.826789  144.295861     5388     10   U  Pacific/Port_Moresby  \n",
       "3  AYNZ  -6.569828  146.726242      239     10   U  Pacific/Port_Moresby  \n",
       "4  AYPY  -9.443383   147.22005      146     10   U  Pacific/Port_Moresby  "
      ],
      "text/html": "<div>\n<style scoped>\n    .dataframe tbody tr th:only-of-type {\n        vertical-align: middle;\n    }\n\n    .dataframe tbody tr th {\n        vertical-align: top;\n    }\n\n    .dataframe thead th {\n        text-align: right;\n    }\n</style>\n<table border=\"1\" class=\"dataframe\">\n  <thead>\n    <tr style=\"text-align: right;\">\n      <th></th>\n      <th>index</th>\n      <th>id</th>\n      <th>name</th>\n      <th>city</th>\n      <th>country</th>\n      <th>code</th>\n      <th>icao</th>\n      <th>latitude</th>\n      <th>longitude</th>\n      <th>altitude</th>\n      <th>offset</th>\n      <th>dst</th>\n      <th>timezone</th>\n    </tr>\n  </thead>\n  <tbody>\n    <tr>\n      <th>0</th>\n      <td>0</td>\n      <td>1</td>\n      <td>Goroka</td>\n      <td>Goroka</td>\n      <td>Papua New Guinea</td>\n      <td>GKA</td>\n      <td>AYGA</td>\n      <td>-6.081689</td>\n      <td>145.391881</td>\n      <td>5282</td>\n      <td>10</td>\n      <td>U</td>\n      <td>Pacific/Port_Moresby</td>\n    </tr>\n    <tr>\n      <th>1</th>\n      <td>1</td>\n      <td>2</td>\n      <td>Madang</td>\n      <td>Madang</td>\n      <td>Papua New Guinea</td>\n      <td>MAG</td>\n      <td>AYMD</td>\n      <td>-5.207083</td>\n      <td>145.7887</td>\n      <td>20</td>\n      <td>10</td>\n      <td>U</td>\n      <td>Pacific/Port_Moresby</td>\n    </tr>\n    <tr>\n      <th>2</th>\n      <td>2</td>\n      <td>3</td>\n      <td>Mount Hagen</td>\n      <td>Mount Hagen</td>\n      <td>Papua New Guinea</td>\n      <td>HGU</td>\n      <td>AYMH</td>\n      <td>-5.826789</td>\n      <td>144.295861</td>\n      <td>5388</td>\n      <td>10</td>\n      <td>U</td>\n      <td>Pacific/Port_Moresby</td>\n    </tr>\n    <tr>\n      <th>3</th>\n      <td>3</td>\n      <td>4</td>\n      <td>Nadzab</td>\n      <td>Nadzab</td>\n      <td>Papua New Guinea</td>\n      <td>LAE</td>\n      <td>AYNZ</td>\n      <td>-6.569828</td>\n      <td>146.726242</td>\n      <td>239</td>\n      <td>10</td>\n      <td>U</td>\n      <td>Pacific/Port_Moresby</td>\n    </tr>\n    <tr>\n      <th>4</th>\n      <td>4</td>\n      <td>5</td>\n      <td>Port Moresby Jacksons Intl</td>\n      <td>Port Moresby</td>\n      <td>Papua New Guinea</td>\n      <td>POM</td>\n      <td>AYPY</td>\n      <td>-9.443383</td>\n      <td>147.22005</td>\n      <td>146</td>\n      <td>10</td>\n      <td>U</td>\n      <td>Pacific/Port_Moresby</td>\n    </tr>\n  </tbody>\n</table>\n</div>"
     },
     "metadata": {},
     "execution_count": 9
    }
   ],
   "source": [
    "import pandas as pd\n",
    "\n",
    "airports_df = pd.read_sql(airports_query, con)\n",
    "airports_df.head()"
   ]
  },
  {
   "cell_type": "markdown",
   "metadata": {
    "heading_collapsed": true,
    "hidden": true,
    "slideshow": {
     "slide_type": "slide"
    }
   },
   "source": [
    "## Explore the Schema"
   ]
  },
  {
   "cell_type": "markdown",
   "metadata": {
    "hidden": true,
    "slideshow": {
     "slide_type": "slide"
    }
   },
   "source": [
    "In SQLite, the schema of our database lives in the `sqlite_master` table. More info [here](https://www.techonthenet.com/sqlite/sys_tables/index.php)."
   ]
  },
  {
   "cell_type": "code",
   "execution_count": 10,
   "metadata": {
    "hidden": true
   },
   "outputs": [
    {
     "output_type": "execute_result",
     "data": {
      "text/plain": [
       "    type               name  tbl_name  rootpage  \\\n",
       "0  table           airports  airports         2   \n",
       "1  index  ix_airports_index  airports         3   \n",
       "2  table           airlines  airlines       945   \n",
       "3  index  ix_airlines_index  airlines       946   \n",
       "4  table             routes    routes      1393   \n",
       "5  index    ix_routes_index    routes      1394   \n",
       "\n",
       "                                                 sql  \n",
       "0  CREATE TABLE airports (\\n[index] INTEGER,\\n  [...  \n",
       "1  CREATE INDEX ix_airports_index ON airports ([i...  \n",
       "2  CREATE TABLE airlines (\\n[index] INTEGER,\\n  [...  \n",
       "3  CREATE INDEX ix_airlines_index ON airlines ([i...  \n",
       "4  CREATE TABLE routes (\\n[index] INTEGER,\\n  [ai...  \n",
       "5   CREATE INDEX ix_routes_index ON routes ([index])  "
      ],
      "text/html": "<div>\n<style scoped>\n    .dataframe tbody tr th:only-of-type {\n        vertical-align: middle;\n    }\n\n    .dataframe tbody tr th {\n        vertical-align: top;\n    }\n\n    .dataframe thead th {\n        text-align: right;\n    }\n</style>\n<table border=\"1\" class=\"dataframe\">\n  <thead>\n    <tr style=\"text-align: right;\">\n      <th></th>\n      <th>type</th>\n      <th>name</th>\n      <th>tbl_name</th>\n      <th>rootpage</th>\n      <th>sql</th>\n    </tr>\n  </thead>\n  <tbody>\n    <tr>\n      <th>0</th>\n      <td>table</td>\n      <td>airports</td>\n      <td>airports</td>\n      <td>2</td>\n      <td>CREATE TABLE airports (\\n[index] INTEGER,\\n  [...</td>\n    </tr>\n    <tr>\n      <th>1</th>\n      <td>index</td>\n      <td>ix_airports_index</td>\n      <td>airports</td>\n      <td>3</td>\n      <td>CREATE INDEX ix_airports_index ON airports ([i...</td>\n    </tr>\n    <tr>\n      <th>2</th>\n      <td>table</td>\n      <td>airlines</td>\n      <td>airlines</td>\n      <td>945</td>\n      <td>CREATE TABLE airlines (\\n[index] INTEGER,\\n  [...</td>\n    </tr>\n    <tr>\n      <th>3</th>\n      <td>index</td>\n      <td>ix_airlines_index</td>\n      <td>airlines</td>\n      <td>946</td>\n      <td>CREATE INDEX ix_airlines_index ON airlines ([i...</td>\n    </tr>\n    <tr>\n      <th>4</th>\n      <td>table</td>\n      <td>routes</td>\n      <td>routes</td>\n      <td>1393</td>\n      <td>CREATE TABLE routes (\\n[index] INTEGER,\\n  [ai...</td>\n    </tr>\n    <tr>\n      <th>5</th>\n      <td>index</td>\n      <td>ix_routes_index</td>\n      <td>routes</td>\n      <td>1394</td>\n      <td>CREATE INDEX ix_routes_index ON routes ([index])</td>\n    </tr>\n  </tbody>\n</table>\n</div>"
     },
     "metadata": {},
     "execution_count": 10
    }
   ],
   "source": [
    "schema_df = pd.read_sql(\"\"\"\n",
    "\n",
    "SELECT *\n",
    "FROM sqlite_master\n",
    "\n",
    "\"\"\", con)\n",
    "\n",
    "schema_df"
   ]
  },
  {
   "cell_type": "markdown",
   "metadata": {
    "hidden": true
   },
   "source": [
    "It looks like there are three tables in our database: airports, airlines, and routes. Each table also has an **index**, which is used to optimize queries for large databases. \n",
    "\n",
    "The column names and datatypes for each table are defined in the schema in the `sql` column."
   ]
  },
  {
   "cell_type": "code",
   "execution_count": 11,
   "metadata": {
    "hidden": true
   },
   "outputs": [
    {
     "output_type": "stream",
     "name": "stdout",
     "text": [
      "CREATE TABLE airports (\n[index] INTEGER,\n  [id] TEXT,\n  [name] TEXT,\n  [city] TEXT,\n  [country] TEXT,\n  [code] TEXT,\n  [icao] TEXT,\n  [latitude] TEXT,\n  [longitude] TEXT,\n  [altitude] TEXT,\n  [offset] TEXT,\n  [dst] TEXT,\n  [timezone] TEXT\n)\n"
     ]
    }
   ],
   "source": [
    "# Airports table info\n",
    "\n",
    "print(schema_df['sql'].iloc[0])"
   ]
  },
  {
   "cell_type": "markdown",
   "metadata": {
    "heading_collapsed": true,
    "hidden": true,
    "slideshow": {
     "slide_type": "slide"
    }
   },
   "source": [
    "## Exercise"
   ]
  },
  {
   "cell_type": "markdown",
   "metadata": {
    "hidden": true,
    "slideshow": {
     "slide_type": "slide"
    }
   },
   "source": [
    "Get the columns and datatypes for the airlines table. You can do this with either `pd.read_sql()` or the schema table."
   ]
  },
  {
   "cell_type": "markdown",
   "metadata": {
    "hidden": true,
    "slideshow": {
     "slide_type": "slide"
    }
   },
   "source": [
    "<details>\n",
    "    <summary><b><u>Click Here for Answer Code</u></b></summary>\n",
    "\n",
    "```python \n",
    "pd.read_sql(\"\"\"\n",
    "\n",
    "SELECT *       \n",
    "FROM airlines\n",
    "\n",
    "\"\"\", con).info()\n",
    "```\n",
    "\n",
    "OR\n",
    "\n",
    "```python \n",
    "print(schema_df['sql'].iloc[2])\n",
    "```\n",
    "</details>"
   ]
  },
  {
   "cell_type": "code",
   "execution_count": 12,
   "metadata": {
    "hidden": true,
    "scrolled": true
   },
   "outputs": [],
   "source": [
    "query = '''"
   ]
  },
  {
   "cell_type": "markdown",
   "metadata": {
    "heading_collapsed": true,
    "slideshow": {
     "slide_type": "slide"
    }
   },
   "source": [
    "# Writing SQL Queries "
   ]
  },
  {
   "cell_type": "markdown",
   "metadata": {
    "hidden": true,
    "slideshow": {
     "slide_type": "slide"
    }
   },
   "source": [
    "In this section we will build SQL queries using the SELECT statement, showing off a bunch of different clauses and options available. "
   ]
  },
  {
   "cell_type": "markdown",
   "metadata": {
    "heading_collapsed": true,
    "hidden": true
   },
   "source": [
    "## SELECT Statement"
   ]
  },
  {
   "cell_type": "markdown",
   "metadata": {
    "hidden": true
   },
   "source": [
    "SELECT statements can have multiple **clauses**, which must be included in a specific order (more info [here](https://sqlite.org/lang_select.html)). Only SELECT and FROM are required. "
   ]
  },
  {
   "cell_type": "markdown",
   "metadata": {
    "hidden": true
   },
   "source": [
    "Let's explore the following clauses and structure:\n",
    "\n",
    "```sql\n",
    "SELECT columns\n",
    "FROM table\n",
    "WHERE condition\n",
    "ORDER BY columns\n",
    "LIMIT number\n",
    "```"
   ]
  },
  {
   "cell_type": "markdown",
   "metadata": {
    "heading_collapsed": true,
    "hidden": true,
    "slideshow": {
     "slide_type": "fragment"
    }
   },
   "source": [
    "## SELECT: Picking Columns"
   ]
  },
  {
   "cell_type": "markdown",
   "metadata": {
    "hidden": true,
    "slideshow": {
     "slide_type": "fragment"
    }
   },
   "source": [
    "Add the names of the columns that you want after the word `SELECT`, or use `*` to get all columns."
   ]
  },
  {
   "cell_type": "code",
   "execution_count": 13,
   "metadata": {
    "hidden": true
   },
   "outputs": [
    {
     "output_type": "execute_result",
     "data": {
      "text/plain": [
       "                 city           country\n",
       "0              Goroka  Papua New Guinea\n",
       "1              Madang  Papua New Guinea\n",
       "2         Mount Hagen  Papua New Guinea\n",
       "3              Nadzab  Papua New Guinea\n",
       "4        Port Moresby  Papua New Guinea\n",
       "...               ...               ...\n",
       "8102  Mansons Landing            Canada\n",
       "8103     Port McNeill            Canada\n",
       "8104     Sullivan Bay            Canada\n",
       "8105      Deer Harbor     United States\n",
       "8106        San Diego     United States\n",
       "\n",
       "[8107 rows x 2 columns]"
      ],
      "text/html": "<div>\n<style scoped>\n    .dataframe tbody tr th:only-of-type {\n        vertical-align: middle;\n    }\n\n    .dataframe tbody tr th {\n        vertical-align: top;\n    }\n\n    .dataframe thead th {\n        text-align: right;\n    }\n</style>\n<table border=\"1\" class=\"dataframe\">\n  <thead>\n    <tr style=\"text-align: right;\">\n      <th></th>\n      <th>city</th>\n      <th>country</th>\n    </tr>\n  </thead>\n  <tbody>\n    <tr>\n      <th>0</th>\n      <td>Goroka</td>\n      <td>Papua New Guinea</td>\n    </tr>\n    <tr>\n      <th>1</th>\n      <td>Madang</td>\n      <td>Papua New Guinea</td>\n    </tr>\n    <tr>\n      <th>2</th>\n      <td>Mount Hagen</td>\n      <td>Papua New Guinea</td>\n    </tr>\n    <tr>\n      <th>3</th>\n      <td>Nadzab</td>\n      <td>Papua New Guinea</td>\n    </tr>\n    <tr>\n      <th>4</th>\n      <td>Port Moresby</td>\n      <td>Papua New Guinea</td>\n    </tr>\n    <tr>\n      <th>...</th>\n      <td>...</td>\n      <td>...</td>\n    </tr>\n    <tr>\n      <th>8102</th>\n      <td>Mansons Landing</td>\n      <td>Canada</td>\n    </tr>\n    <tr>\n      <th>8103</th>\n      <td>Port McNeill</td>\n      <td>Canada</td>\n    </tr>\n    <tr>\n      <th>8104</th>\n      <td>Sullivan Bay</td>\n      <td>Canada</td>\n    </tr>\n    <tr>\n      <th>8105</th>\n      <td>Deer Harbor</td>\n      <td>United States</td>\n    </tr>\n    <tr>\n      <th>8106</th>\n      <td>San Diego</td>\n      <td>United States</td>\n    </tr>\n  </tbody>\n</table>\n<p>8107 rows × 2 columns</p>\n</div>"
     },
     "metadata": {},
     "execution_count": 13
    }
   ],
   "source": [
    "pd.read_sql(\"\"\"\n",
    "\n",
    "SELECT city, country\n",
    "FROM airports\n",
    "\n",
    "\"\"\", con)"
   ]
  },
  {
   "cell_type": "markdown",
   "metadata": {
    "heading_collapsed": true,
    "hidden": true,
    "slideshow": {
     "slide_type": "fragment"
    }
   },
   "source": [
    "### `DISTINCT`"
   ]
  },
  {
   "cell_type": "markdown",
   "metadata": {
    "hidden": true,
    "slideshow": {
     "slide_type": "fragment"
    }
   },
   "source": [
    "Use `DISTINCT` to drop duplicates."
   ]
  },
  {
   "cell_type": "code",
   "execution_count": 14,
   "metadata": {
    "hidden": true
   },
   "outputs": [
    {
     "output_type": "execute_result",
     "data": {
      "text/plain": [
       "                 city           country\n",
       "0              Goroka  Papua New Guinea\n",
       "1              Madang  Papua New Guinea\n",
       "2         Mount Hagen  Papua New Guinea\n",
       "3              Nadzab  Papua New Guinea\n",
       "4        Port Moresby  Papua New Guinea\n",
       "...               ...               ...\n",
       "7122   Pender Harbour            Canada\n",
       "7123  Mansons Landing            Canada\n",
       "7124     Port McNeill            Canada\n",
       "7125     Sullivan Bay            Canada\n",
       "7126      Deer Harbor     United States\n",
       "\n",
       "[7127 rows x 2 columns]"
      ],
      "text/html": "<div>\n<style scoped>\n    .dataframe tbody tr th:only-of-type {\n        vertical-align: middle;\n    }\n\n    .dataframe tbody tr th {\n        vertical-align: top;\n    }\n\n    .dataframe thead th {\n        text-align: right;\n    }\n</style>\n<table border=\"1\" class=\"dataframe\">\n  <thead>\n    <tr style=\"text-align: right;\">\n      <th></th>\n      <th>city</th>\n      <th>country</th>\n    </tr>\n  </thead>\n  <tbody>\n    <tr>\n      <th>0</th>\n      <td>Goroka</td>\n      <td>Papua New Guinea</td>\n    </tr>\n    <tr>\n      <th>1</th>\n      <td>Madang</td>\n      <td>Papua New Guinea</td>\n    </tr>\n    <tr>\n      <th>2</th>\n      <td>Mount Hagen</td>\n      <td>Papua New Guinea</td>\n    </tr>\n    <tr>\n      <th>3</th>\n      <td>Nadzab</td>\n      <td>Papua New Guinea</td>\n    </tr>\n    <tr>\n      <th>4</th>\n      <td>Port Moresby</td>\n      <td>Papua New Guinea</td>\n    </tr>\n    <tr>\n      <th>...</th>\n      <td>...</td>\n      <td>...</td>\n    </tr>\n    <tr>\n      <th>7122</th>\n      <td>Pender Harbour</td>\n      <td>Canada</td>\n    </tr>\n    <tr>\n      <th>7123</th>\n      <td>Mansons Landing</td>\n      <td>Canada</td>\n    </tr>\n    <tr>\n      <th>7124</th>\n      <td>Port McNeill</td>\n      <td>Canada</td>\n    </tr>\n    <tr>\n      <th>7125</th>\n      <td>Sullivan Bay</td>\n      <td>Canada</td>\n    </tr>\n    <tr>\n      <th>7126</th>\n      <td>Deer Harbor</td>\n      <td>United States</td>\n    </tr>\n  </tbody>\n</table>\n<p>7127 rows × 2 columns</p>\n</div>"
     },
     "metadata": {},
     "execution_count": 14
    }
   ],
   "source": [
    "pd.read_sql(\"\"\"\n",
    "\n",
    "SELECT DISTINCT city, country\n",
    "FROM airports\n",
    "\n",
    "\"\"\", con)"
   ]
  },
  {
   "cell_type": "markdown",
   "metadata": {
    "heading_collapsed": true,
    "hidden": true
   },
   "source": [
    "### `AS`"
   ]
  },
  {
   "cell_type": "markdown",
   "metadata": {
    "hidden": true
   },
   "source": [
    "Use `AS` to rename columns."
   ]
  },
  {
   "cell_type": "code",
   "execution_count": 15,
   "metadata": {
    "hidden": true
   },
   "outputs": [
    {
     "output_type": "execute_result",
     "data": {
      "text/plain": [
       "         Airport City   Airport Country\n",
       "0              Goroka  Papua New Guinea\n",
       "1              Madang  Papua New Guinea\n",
       "2         Mount Hagen  Papua New Guinea\n",
       "3              Nadzab  Papua New Guinea\n",
       "4        Port Moresby  Papua New Guinea\n",
       "...               ...               ...\n",
       "8102  Mansons Landing            Canada\n",
       "8103     Port McNeill            Canada\n",
       "8104     Sullivan Bay            Canada\n",
       "8105      Deer Harbor     United States\n",
       "8106        San Diego     United States\n",
       "\n",
       "[8107 rows x 2 columns]"
      ],
      "text/html": "<div>\n<style scoped>\n    .dataframe tbody tr th:only-of-type {\n        vertical-align: middle;\n    }\n\n    .dataframe tbody tr th {\n        vertical-align: top;\n    }\n\n    .dataframe thead th {\n        text-align: right;\n    }\n</style>\n<table border=\"1\" class=\"dataframe\">\n  <thead>\n    <tr style=\"text-align: right;\">\n      <th></th>\n      <th>Airport City</th>\n      <th>Airport Country</th>\n    </tr>\n  </thead>\n  <tbody>\n    <tr>\n      <th>0</th>\n      <td>Goroka</td>\n      <td>Papua New Guinea</td>\n    </tr>\n    <tr>\n      <th>1</th>\n      <td>Madang</td>\n      <td>Papua New Guinea</td>\n    </tr>\n    <tr>\n      <th>2</th>\n      <td>Mount Hagen</td>\n      <td>Papua New Guinea</td>\n    </tr>\n    <tr>\n      <th>3</th>\n      <td>Nadzab</td>\n      <td>Papua New Guinea</td>\n    </tr>\n    <tr>\n      <th>4</th>\n      <td>Port Moresby</td>\n      <td>Papua New Guinea</td>\n    </tr>\n    <tr>\n      <th>...</th>\n      <td>...</td>\n      <td>...</td>\n    </tr>\n    <tr>\n      <th>8102</th>\n      <td>Mansons Landing</td>\n      <td>Canada</td>\n    </tr>\n    <tr>\n      <th>8103</th>\n      <td>Port McNeill</td>\n      <td>Canada</td>\n    </tr>\n    <tr>\n      <th>8104</th>\n      <td>Sullivan Bay</td>\n      <td>Canada</td>\n    </tr>\n    <tr>\n      <th>8105</th>\n      <td>Deer Harbor</td>\n      <td>United States</td>\n    </tr>\n    <tr>\n      <th>8106</th>\n      <td>San Diego</td>\n      <td>United States</td>\n    </tr>\n  </tbody>\n</table>\n<p>8107 rows × 2 columns</p>\n</div>"
     },
     "metadata": {},
     "execution_count": 15
    }
   ],
   "source": [
    "pd.read_sql(\"\"\"\n",
    "\n",
    "SELECT city AS \"Airport City\", \n",
    "       country AS \"Airport Country\"\n",
    "FROM airports\n",
    "\n",
    "\"\"\", con)"
   ]
  },
  {
   "cell_type": "markdown",
   "metadata": {
    "heading_collapsed": true,
    "hidden": true
   },
   "source": [
    "### Functions"
   ]
  },
  {
   "cell_type": "markdown",
   "metadata": {
    "hidden": true
   },
   "source": [
    "There are dozens of functions that you can use in SELECT statements to modify results - you can see some examples [here](https://sqlite.org/lang_corefunc.html)."
   ]
  },
  {
   "cell_type": "code",
   "execution_count": 16,
   "metadata": {
    "hidden": true
   },
   "outputs": [
    {
     "output_type": "execute_result",
     "data": {
      "text/plain": [
       "                  AIRPORT NAMES IN CAPS  Airport Name Length\n",
       "0                                GOROKA                    6\n",
       "1                                MADANG                    6\n",
       "2                           MOUNT HAGEN                   11\n",
       "3                                NADZAB                    6\n",
       "4            PORT MORESBY JACKSONS INTL                   26\n",
       "...                                 ...                  ...\n",
       "8102    MANSONS LANDING WATER AERODROME                   31\n",
       "8103               PORT MCNEILL AIRPORT                   20\n",
       "8104       SULLIVAN BAY WATER AERODROME                   28\n",
       "8105               DEER HARBOR SEAPLANE                   20\n",
       "8106  SAN DIEGO OLD TOWN TRANSIT CENTER                   33\n",
       "\n",
       "[8107 rows x 2 columns]"
      ],
      "text/html": "<div>\n<style scoped>\n    .dataframe tbody tr th:only-of-type {\n        vertical-align: middle;\n    }\n\n    .dataframe tbody tr th {\n        vertical-align: top;\n    }\n\n    .dataframe thead th {\n        text-align: right;\n    }\n</style>\n<table border=\"1\" class=\"dataframe\">\n  <thead>\n    <tr style=\"text-align: right;\">\n      <th></th>\n      <th>AIRPORT NAMES IN CAPS</th>\n      <th>Airport Name Length</th>\n    </tr>\n  </thead>\n  <tbody>\n    <tr>\n      <th>0</th>\n      <td>GOROKA</td>\n      <td>6</td>\n    </tr>\n    <tr>\n      <th>1</th>\n      <td>MADANG</td>\n      <td>6</td>\n    </tr>\n    <tr>\n      <th>2</th>\n      <td>MOUNT HAGEN</td>\n      <td>11</td>\n    </tr>\n    <tr>\n      <th>3</th>\n      <td>NADZAB</td>\n      <td>6</td>\n    </tr>\n    <tr>\n      <th>4</th>\n      <td>PORT MORESBY JACKSONS INTL</td>\n      <td>26</td>\n    </tr>\n    <tr>\n      <th>...</th>\n      <td>...</td>\n      <td>...</td>\n    </tr>\n    <tr>\n      <th>8102</th>\n      <td>MANSONS LANDING WATER AERODROME</td>\n      <td>31</td>\n    </tr>\n    <tr>\n      <th>8103</th>\n      <td>PORT MCNEILL AIRPORT</td>\n      <td>20</td>\n    </tr>\n    <tr>\n      <th>8104</th>\n      <td>SULLIVAN BAY WATER AERODROME</td>\n      <td>28</td>\n    </tr>\n    <tr>\n      <th>8105</th>\n      <td>DEER HARBOR SEAPLANE</td>\n      <td>20</td>\n    </tr>\n    <tr>\n      <th>8106</th>\n      <td>SAN DIEGO OLD TOWN TRANSIT CENTER</td>\n      <td>33</td>\n    </tr>\n  </tbody>\n</table>\n<p>8107 rows × 2 columns</p>\n</div>"
     },
     "metadata": {},
     "execution_count": 16
    }
   ],
   "source": [
    "pd.read_sql(\"\"\"\n",
    "\n",
    "SELECT UPPER(name) AS \"AIRPORT NAMES IN CAPS\",\n",
    "       LENGTH(name) AS \"Airport Name Length\"\n",
    "       \n",
    "FROM airports\n",
    "\n",
    "\"\"\", con)"
   ]
  },
  {
   "cell_type": "markdown",
   "metadata": {
    "heading_collapsed": true,
    "hidden": true
   },
   "source": [
    "#### Aggregation"
   ]
  },
  {
   "cell_type": "markdown",
   "metadata": {
    "hidden": true
   },
   "source": [
    "Some functions will aggregate your data and return a table with one row."
   ]
  },
  {
   "cell_type": "code",
   "execution_count": 17,
   "metadata": {
    "hidden": true
   },
   "outputs": [
    {
     "output_type": "execute_result",
     "data": {
      "text/plain": [
       "   Number of Airports\n",
       "0                8107"
      ],
      "text/html": "<div>\n<style scoped>\n    .dataframe tbody tr th:only-of-type {\n        vertical-align: middle;\n    }\n\n    .dataframe tbody tr th {\n        vertical-align: top;\n    }\n\n    .dataframe thead th {\n        text-align: right;\n    }\n</style>\n<table border=\"1\" class=\"dataframe\">\n  <thead>\n    <tr style=\"text-align: right;\">\n      <th></th>\n      <th>Number of Airports</th>\n    </tr>\n  </thead>\n  <tbody>\n    <tr>\n      <th>0</th>\n      <td>8107</td>\n    </tr>\n  </tbody>\n</table>\n</div>"
     },
     "metadata": {},
     "execution_count": 17
    }
   ],
   "source": [
    "pd.read_sql(\"\"\"\n",
    "\n",
    "SELECT COUNT() AS \"Number of Airports\"\n",
    "FROM airports\n",
    "\n",
    "\"\"\", con)"
   ]
  },
  {
   "cell_type": "markdown",
   "metadata": {
    "heading_collapsed": true,
    "hidden": true
   },
   "source": [
    "#### Datatype Compatibility"
   ]
  },
  {
   "cell_type": "markdown",
   "metadata": {
    "hidden": true
   },
   "source": [
    "Make sure that your column is the right datatype for the function to avoid unexpected results."
   ]
  },
  {
   "cell_type": "code",
   "execution_count": 18,
   "metadata": {
    "hidden": true
   },
   "outputs": [
    {
     "output_type": "execute_result",
     "data": {
      "text/plain": [
       "     Airport Name Altitude (ft)\n",
       "0  Dauphin Barker           999"
      ],
      "text/html": "<div>\n<style scoped>\n    .dataframe tbody tr th:only-of-type {\n        vertical-align: middle;\n    }\n\n    .dataframe tbody tr th {\n        vertical-align: top;\n    }\n\n    .dataframe thead th {\n        text-align: right;\n    }\n</style>\n<table border=\"1\" class=\"dataframe\">\n  <thead>\n    <tr style=\"text-align: right;\">\n      <th></th>\n      <th>Airport Name</th>\n      <th>Altitude (ft)</th>\n    </tr>\n  </thead>\n  <tbody>\n    <tr>\n      <th>0</th>\n      <td>Dauphin Barker</td>\n      <td>999</td>\n    </tr>\n  </tbody>\n</table>\n</div>"
     },
     "metadata": {},
     "execution_count": 18
    }
   ],
   "source": [
    "pd.read_sql(\"\"\"\n",
    "\n",
    "SELECT name AS \"Airport Name\", \n",
    "       MAX(altitude) AS \"Altitude (ft)\"\n",
    "       \n",
    "FROM airports\n",
    "\n",
    "\"\"\", con)"
   ]
  },
  {
   "cell_type": "markdown",
   "metadata": {
    "heading_collapsed": true,
    "hidden": true
   },
   "source": [
    "#### `CAST()`"
   ]
  },
  {
   "cell_type": "markdown",
   "metadata": {
    "hidden": true
   },
   "source": [
    "You could fix this using the `CAST()` function."
   ]
  },
  {
   "cell_type": "code",
   "execution_count": 19,
   "metadata": {
    "hidden": true
   },
   "outputs": [
    {
     "output_type": "execute_result",
     "data": {
      "text/plain": [
       "      Airport Name  Altitude (ft)\n",
       "0  Yading Daocheng          14472"
      ],
      "text/html": "<div>\n<style scoped>\n    .dataframe tbody tr th:only-of-type {\n        vertical-align: middle;\n    }\n\n    .dataframe tbody tr th {\n        vertical-align: top;\n    }\n\n    .dataframe thead th {\n        text-align: right;\n    }\n</style>\n<table border=\"1\" class=\"dataframe\">\n  <thead>\n    <tr style=\"text-align: right;\">\n      <th></th>\n      <th>Airport Name</th>\n      <th>Altitude (ft)</th>\n    </tr>\n  </thead>\n  <tbody>\n    <tr>\n      <th>0</th>\n      <td>Yading Daocheng</td>\n      <td>14472</td>\n    </tr>\n  </tbody>\n</table>\n</div>"
     },
     "metadata": {},
     "execution_count": 19
    }
   ],
   "source": [
    "pd.read_sql(\"\"\"\n",
    "\n",
    "SELECT name AS \"Airport Name\", \n",
    "       MAX(CAST(altitude as int)) AS \"Altitude (ft)\"\n",
    "       \n",
    "FROM airports\n",
    "\n",
    "\"\"\", con)"
   ]
  },
  {
   "cell_type": "markdown",
   "metadata": {
    "heading_collapsed": true,
    "hidden": true
   },
   "source": [
    "### Exercise"
   ]
  },
  {
   "cell_type": "markdown",
   "metadata": {
    "hidden": true
   },
   "source": [
    "Which country has the northern-most airport? \n",
    "\n",
    "> _Hint: Look for the highest latitude_"
   ]
  },
  {
   "cell_type": "markdown",
   "metadata": {
    "hidden": true
   },
   "source": [
    "<details>\n",
    "    <summary><b><u>Click Here for Answer Code</u></b></summary>\n",
    "\n",
    "```python \n",
    "pd.read_sql(\"\"\"\n",
    "\n",
    "SELECT country AS \"Country\", \n",
    "       MAX(CAST(latitude as int)) AS \"Latitude\"\n",
    "\n",
    "FROM airports\n",
    "\n",
    "\"\"\", con)\n",
    "```\n",
    "</details>"
   ]
  },
  {
   "cell_type": "code",
   "execution_count": 20,
   "metadata": {
    "hidden": true
   },
   "outputs": [],
   "source": [
    "# Your work here"
   ]
  },
  {
   "cell_type": "markdown",
   "metadata": {
    "heading_collapsed": true,
    "hidden": true
   },
   "source": [
    "## FROM: Picking Tables"
   ]
  },
  {
   "cell_type": "markdown",
   "metadata": {
    "hidden": true
   },
   "source": [
    "The `FROM` clause specifies the tables you get data from. You can use aliases here with `AS` - this will be useful for more complex queries involving multiple tables."
   ]
  },
  {
   "cell_type": "code",
   "execution_count": 21,
   "metadata": {
    "hidden": true
   },
   "outputs": [
    {
     "output_type": "execute_result",
     "data": {
      "text/plain": [
       "      Airport Name  Altitude (ft)\n",
       "0  Yading Daocheng          14472"
      ],
      "text/html": "<div>\n<style scoped>\n    .dataframe tbody tr th:only-of-type {\n        vertical-align: middle;\n    }\n\n    .dataframe tbody tr th {\n        vertical-align: top;\n    }\n\n    .dataframe thead th {\n        text-align: right;\n    }\n</style>\n<table border=\"1\" class=\"dataframe\">\n  <thead>\n    <tr style=\"text-align: right;\">\n      <th></th>\n      <th>Airport Name</th>\n      <th>Altitude (ft)</th>\n    </tr>\n  </thead>\n  <tbody>\n    <tr>\n      <th>0</th>\n      <td>Yading Daocheng</td>\n      <td>14472</td>\n    </tr>\n  </tbody>\n</table>\n</div>"
     },
     "metadata": {},
     "execution_count": 21
    }
   ],
   "source": [
    "pd.read_sql(\"\"\"\n",
    "\n",
    "SELECT ap.name AS \"Airport Name\", \n",
    "       MAX(CAST(ap.altitude AS int)) AS \"Altitude (ft)\"\n",
    "       \n",
    "FROM airports AS ap\n",
    "\n",
    "\"\"\", con)"
   ]
  },
  {
   "cell_type": "markdown",
   "metadata": {
    "heading_collapsed": true,
    "hidden": true,
    "slideshow": {
     "slide_type": "fragment"
    }
   },
   "source": [
    "## WHERE: Picking Rows"
   ]
  },
  {
   "cell_type": "markdown",
   "metadata": {
    "hidden": true,
    "slideshow": {
     "slide_type": "fragment"
    }
   },
   "source": [
    "The `WHERE` clause filters results from your query. This uses conditional logic and operators similar to Python's - you can find more [here](https://sqlite.org/lang_expr.html)."
   ]
  },
  {
   "cell_type": "code",
   "execution_count": 22,
   "metadata": {
    "hidden": true
   },
   "outputs": [
    {
     "output_type": "execute_result",
     "data": {
      "text/plain": [
       "              Airport Name  Airport Latitude  Altitude (ft)\n",
       "0                      Leh                34          10682\n",
       "1        Hongyuan Airfield                32          11500\n",
       "2            Lhasa-Gonggar                29          13136\n",
       "3                   Manang                28          11000\n",
       "4     Jiuzhaigou Huanglong                32          11311\n",
       "5     Qamdo Bangda Airport                30          14219\n",
       "6                    Maiwa                33          11500\n",
       "7               Syangboche                27          12309\n",
       "8             Yushu Batang                32          13000\n",
       "9                    Gunsa                32          13780\n",
       "10  Shigatse Peace Airport                29          12408\n",
       "11        Kangding Airport                30          14042\n",
       "12         Yading Daocheng                29          14472\n",
       "13                  Gannan                34          10466"
      ],
      "text/html": "<div>\n<style scoped>\n    .dataframe tbody tr th:only-of-type {\n        vertical-align: middle;\n    }\n\n    .dataframe tbody tr th {\n        vertical-align: top;\n    }\n\n    .dataframe thead th {\n        text-align: right;\n    }\n</style>\n<table border=\"1\" class=\"dataframe\">\n  <thead>\n    <tr style=\"text-align: right;\">\n      <th></th>\n      <th>Airport Name</th>\n      <th>Airport Latitude</th>\n      <th>Altitude (ft)</th>\n    </tr>\n  </thead>\n  <tbody>\n    <tr>\n      <th>0</th>\n      <td>Leh</td>\n      <td>34</td>\n      <td>10682</td>\n    </tr>\n    <tr>\n      <th>1</th>\n      <td>Hongyuan Airfield</td>\n      <td>32</td>\n      <td>11500</td>\n    </tr>\n    <tr>\n      <th>2</th>\n      <td>Lhasa-Gonggar</td>\n      <td>29</td>\n      <td>13136</td>\n    </tr>\n    <tr>\n      <th>3</th>\n      <td>Manang</td>\n      <td>28</td>\n      <td>11000</td>\n    </tr>\n    <tr>\n      <th>4</th>\n      <td>Jiuzhaigou Huanglong</td>\n      <td>32</td>\n      <td>11311</td>\n    </tr>\n    <tr>\n      <th>5</th>\n      <td>Qamdo Bangda Airport</td>\n      <td>30</td>\n      <td>14219</td>\n    </tr>\n    <tr>\n      <th>6</th>\n      <td>Maiwa</td>\n      <td>33</td>\n      <td>11500</td>\n    </tr>\n    <tr>\n      <th>7</th>\n      <td>Syangboche</td>\n      <td>27</td>\n      <td>12309</td>\n    </tr>\n    <tr>\n      <th>8</th>\n      <td>Yushu Batang</td>\n      <td>32</td>\n      <td>13000</td>\n    </tr>\n    <tr>\n      <th>9</th>\n      <td>Gunsa</td>\n      <td>32</td>\n      <td>13780</td>\n    </tr>\n    <tr>\n      <th>10</th>\n      <td>Shigatse Peace Airport</td>\n      <td>29</td>\n      <td>12408</td>\n    </tr>\n    <tr>\n      <th>11</th>\n      <td>Kangding Airport</td>\n      <td>30</td>\n      <td>14042</td>\n    </tr>\n    <tr>\n      <th>12</th>\n      <td>Yading Daocheng</td>\n      <td>29</td>\n      <td>14472</td>\n    </tr>\n    <tr>\n      <th>13</th>\n      <td>Gannan</td>\n      <td>34</td>\n      <td>10466</td>\n    </tr>\n  </tbody>\n</table>\n</div>"
     },
     "metadata": {},
     "execution_count": 22
    }
   ],
   "source": [
    "pd.read_sql(\"\"\"\n",
    "\n",
    "SELECT name AS \"Airport Name\", \n",
    "       CAST(latitude AS int) AS \"Airport Latitude\",\n",
    "       CAST(altitude AS int) AS \"Altitude (ft)\"\n",
    "       \n",
    "FROM airports\n",
    "\n",
    "WHERE \"Altitude (ft)\" >= 10000 AND\n",
    "      \"Airport Latitude\" BETWEEN 20 AND 50\n",
    "\n",
    "\"\"\", con)"
   ]
  },
  {
   "cell_type": "markdown",
   "metadata": {
    "heading_collapsed": true,
    "hidden": true,
    "slideshow": {
     "slide_type": "fragment"
    }
   },
   "source": [
    "### `IS`"
   ]
  },
  {
   "cell_type": "markdown",
   "metadata": {
    "hidden": true,
    "slideshow": {
     "slide_type": "fragment"
    }
   },
   "source": [
    "The `IS` operator is useful when working with `NULL` values - other operators will not work as expected.  "
   ]
  },
  {
   "cell_type": "code",
   "execution_count": 23,
   "metadata": {
    "hidden": true
   },
   "outputs": [
    {
     "output_type": "execute_result",
     "data": {
      "text/plain": [
       "                           Airport Name Airport Code\n",
       "0                                Goroka          GKA\n",
       "1                                Madang          MAG\n",
       "2                           Mount Hagen          HGU\n",
       "3                                Nadzab          LAE\n",
       "4            Port Moresby Jacksons Intl          POM\n",
       "...                                 ...          ...\n",
       "5875    Mansons Landing Water Aerodrome          YMU\n",
       "5876               Port McNeill Airport          YMP\n",
       "5877       Sullivan Bay Water Aerodrome          YTG\n",
       "5878               Deer Harbor Seaplane          DHB\n",
       "5879  San Diego Old Town Transit Center          OLT\n",
       "\n",
       "[5880 rows x 2 columns]"
      ],
      "text/html": "<div>\n<style scoped>\n    .dataframe tbody tr th:only-of-type {\n        vertical-align: middle;\n    }\n\n    .dataframe tbody tr th {\n        vertical-align: top;\n    }\n\n    .dataframe thead th {\n        text-align: right;\n    }\n</style>\n<table border=\"1\" class=\"dataframe\">\n  <thead>\n    <tr style=\"text-align: right;\">\n      <th></th>\n      <th>Airport Name</th>\n      <th>Airport Code</th>\n    </tr>\n  </thead>\n  <tbody>\n    <tr>\n      <th>0</th>\n      <td>Goroka</td>\n      <td>GKA</td>\n    </tr>\n    <tr>\n      <th>1</th>\n      <td>Madang</td>\n      <td>MAG</td>\n    </tr>\n    <tr>\n      <th>2</th>\n      <td>Mount Hagen</td>\n      <td>HGU</td>\n    </tr>\n    <tr>\n      <th>3</th>\n      <td>Nadzab</td>\n      <td>LAE</td>\n    </tr>\n    <tr>\n      <th>4</th>\n      <td>Port Moresby Jacksons Intl</td>\n      <td>POM</td>\n    </tr>\n    <tr>\n      <th>...</th>\n      <td>...</td>\n      <td>...</td>\n    </tr>\n    <tr>\n      <th>5875</th>\n      <td>Mansons Landing Water Aerodrome</td>\n      <td>YMU</td>\n    </tr>\n    <tr>\n      <th>5876</th>\n      <td>Port McNeill Airport</td>\n      <td>YMP</td>\n    </tr>\n    <tr>\n      <th>5877</th>\n      <td>Sullivan Bay Water Aerodrome</td>\n      <td>YTG</td>\n    </tr>\n    <tr>\n      <th>5878</th>\n      <td>Deer Harbor Seaplane</td>\n      <td>DHB</td>\n    </tr>\n    <tr>\n      <th>5879</th>\n      <td>San Diego Old Town Transit Center</td>\n      <td>OLT</td>\n    </tr>\n  </tbody>\n</table>\n<p>5880 rows × 2 columns</p>\n</div>"
     },
     "metadata": {},
     "execution_count": 23
    }
   ],
   "source": [
    "pd.read_sql(\"\"\"\n",
    "\n",
    "SELECT name AS \"Airport Name\",\n",
    "       code AS \"Airport Code\"\n",
    "       \n",
    "FROM airports\n",
    "\n",
    "WHERE \"Airport Code\" IS NOT NULL\n",
    "\n",
    "\"\"\", con)"
   ]
  },
  {
   "cell_type": "markdown",
   "metadata": {
    "heading_collapsed": true,
    "hidden": true,
    "slideshow": {
     "slide_type": "fragment"
    }
   },
   "source": [
    "## ORDER BY: Sorting Results"
   ]
  },
  {
   "cell_type": "markdown",
   "metadata": {
    "hidden": true,
    "slideshow": {
     "slide_type": "fragment"
    }
   },
   "source": [
    "Use `ORDER BY` to identify the column(s) you want to sort on. Specify `ASC` for ascending order, `DESC` for descending order."
   ]
  },
  {
   "cell_type": "code",
   "execution_count": 34,
   "metadata": {
    "hidden": true
   },
   "outputs": [
    {
     "output_type": "execute_result",
     "data": {
      "text/plain": [
       "                              Airport Name  Airport Latitude  Altitude (ft)\n",
       "0                              Summit Camp                72          11000\n",
       "1                              Summit Camp                72          10552\n",
       "2                                Irkutsk-2                52          13411\n",
       "3                                      Leh                34          10682\n",
       "4                                   Gannan                34          10466\n",
       "5                                    Maiwa                33          11500\n",
       "6                                    Gunsa                32          13780\n",
       "7                             Yushu Batang                32          13000\n",
       "8                        Hongyuan Airfield                32          11500\n",
       "9                     Jiuzhaigou Huanglong                32          11311\n",
       "10                    Qamdo Bangda Airport                30          14219\n",
       "11                        Kangding Airport                30          14042\n",
       "12                         Yading Daocheng                29          14472\n",
       "13                           Lhasa-Gonggar                29          13136\n",
       "14                  Shigatse Peace Airport                29          12408\n",
       "15                                  Manang                28          11000\n",
       "16                              Syangboche                27          12309\n",
       "17                         Francisco Carle               -11          11034\n",
       "18                     Poroy Train Station               -13          11710\n",
       "19                             Andahuaylas               -13          11300\n",
       "20  Teniente Alejandro Velasco Astete Intl               -13          10860\n",
       "21                                 Juliaca               -15          12552\n",
       "22                            El Alto Intl               -16          13325\n",
       "23                      Copacabana Airport               -16          12591\n",
       "24                            Juan Mendoza               -17          12146\n",
       "25                   Capitan Nicolas Rojas               -19          12913\n",
       "26                            Isla Pescado               -20          12020\n",
       "27                          Salar de Uyuni               -20          12000\n",
       "28                           Uyuni Airport               -20          11990\n",
       "29                               La Quiaca               -22          11414"
      ],
      "text/html": "<div>\n<style scoped>\n    .dataframe tbody tr th:only-of-type {\n        vertical-align: middle;\n    }\n\n    .dataframe tbody tr th {\n        vertical-align: top;\n    }\n\n    .dataframe thead th {\n        text-align: right;\n    }\n</style>\n<table border=\"1\" class=\"dataframe\">\n  <thead>\n    <tr style=\"text-align: right;\">\n      <th></th>\n      <th>Airport Name</th>\n      <th>Airport Latitude</th>\n      <th>Altitude (ft)</th>\n    </tr>\n  </thead>\n  <tbody>\n    <tr>\n      <th>0</th>\n      <td>Summit Camp</td>\n      <td>72</td>\n      <td>11000</td>\n    </tr>\n    <tr>\n      <th>1</th>\n      <td>Summit Camp</td>\n      <td>72</td>\n      <td>10552</td>\n    </tr>\n    <tr>\n      <th>2</th>\n      <td>Irkutsk-2</td>\n      <td>52</td>\n      <td>13411</td>\n    </tr>\n    <tr>\n      <th>3</th>\n      <td>Leh</td>\n      <td>34</td>\n      <td>10682</td>\n    </tr>\n    <tr>\n      <th>4</th>\n      <td>Gannan</td>\n      <td>34</td>\n      <td>10466</td>\n    </tr>\n    <tr>\n      <th>5</th>\n      <td>Maiwa</td>\n      <td>33</td>\n      <td>11500</td>\n    </tr>\n    <tr>\n      <th>6</th>\n      <td>Gunsa</td>\n      <td>32</td>\n      <td>13780</td>\n    </tr>\n    <tr>\n      <th>7</th>\n      <td>Yushu Batang</td>\n      <td>32</td>\n      <td>13000</td>\n    </tr>\n    <tr>\n      <th>8</th>\n      <td>Hongyuan Airfield</td>\n      <td>32</td>\n      <td>11500</td>\n    </tr>\n    <tr>\n      <th>9</th>\n      <td>Jiuzhaigou Huanglong</td>\n      <td>32</td>\n      <td>11311</td>\n    </tr>\n    <tr>\n      <th>10</th>\n      <td>Qamdo Bangda Airport</td>\n      <td>30</td>\n      <td>14219</td>\n    </tr>\n    <tr>\n      <th>11</th>\n      <td>Kangding Airport</td>\n      <td>30</td>\n      <td>14042</td>\n    </tr>\n    <tr>\n      <th>12</th>\n      <td>Yading Daocheng</td>\n      <td>29</td>\n      <td>14472</td>\n    </tr>\n    <tr>\n      <th>13</th>\n      <td>Lhasa-Gonggar</td>\n      <td>29</td>\n      <td>13136</td>\n    </tr>\n    <tr>\n      <th>14</th>\n      <td>Shigatse Peace Airport</td>\n      <td>29</td>\n      <td>12408</td>\n    </tr>\n    <tr>\n      <th>15</th>\n      <td>Manang</td>\n      <td>28</td>\n      <td>11000</td>\n    </tr>\n    <tr>\n      <th>16</th>\n      <td>Syangboche</td>\n      <td>27</td>\n      <td>12309</td>\n    </tr>\n    <tr>\n      <th>17</th>\n      <td>Francisco Carle</td>\n      <td>-11</td>\n      <td>11034</td>\n    </tr>\n    <tr>\n      <th>18</th>\n      <td>Poroy Train Station</td>\n      <td>-13</td>\n      <td>11710</td>\n    </tr>\n    <tr>\n      <th>19</th>\n      <td>Andahuaylas</td>\n      <td>-13</td>\n      <td>11300</td>\n    </tr>\n    <tr>\n      <th>20</th>\n      <td>Teniente Alejandro Velasco Astete Intl</td>\n      <td>-13</td>\n      <td>10860</td>\n    </tr>\n    <tr>\n      <th>21</th>\n      <td>Juliaca</td>\n      <td>-15</td>\n      <td>12552</td>\n    </tr>\n    <tr>\n      <th>22</th>\n      <td>El Alto Intl</td>\n      <td>-16</td>\n      <td>13325</td>\n    </tr>\n    <tr>\n      <th>23</th>\n      <td>Copacabana Airport</td>\n      <td>-16</td>\n      <td>12591</td>\n    </tr>\n    <tr>\n      <th>24</th>\n      <td>Juan Mendoza</td>\n      <td>-17</td>\n      <td>12146</td>\n    </tr>\n    <tr>\n      <th>25</th>\n      <td>Capitan Nicolas Rojas</td>\n      <td>-19</td>\n      <td>12913</td>\n    </tr>\n    <tr>\n      <th>26</th>\n      <td>Isla Pescado</td>\n      <td>-20</td>\n      <td>12020</td>\n    </tr>\n    <tr>\n      <th>27</th>\n      <td>Salar de Uyuni</td>\n      <td>-20</td>\n      <td>12000</td>\n    </tr>\n    <tr>\n      <th>28</th>\n      <td>Uyuni Airport</td>\n      <td>-20</td>\n      <td>11990</td>\n    </tr>\n    <tr>\n      <th>29</th>\n      <td>La Quiaca</td>\n      <td>-22</td>\n      <td>11414</td>\n    </tr>\n  </tbody>\n</table>\n</div>"
     },
     "metadata": {},
     "execution_count": 34
    }
   ],
   "source": [
    "pd.read_sql(\"\"\"\n",
    "\n",
    "SELECT name AS \"Airport Name\", \n",
    "       CAST(latitude AS int) AS \"Airport Latitude\",\n",
    "       CAST(altitude AS int) AS \"Altitude (ft)\"\n",
    "       \n",
    "FROM airports\n",
    "\n",
    "WHERE \"Altitude (ft)\" >= 10000\n",
    "\n",
    "ORDER BY \"Airport Latitude\" DESC,\n",
    "         \"Altitude (ft)\" DESC \n",
    "         \n",
    "\"\"\", con)"
   ]
  },
  {
   "cell_type": "markdown",
   "metadata": {
    "heading_collapsed": true,
    "hidden": true,
    "slideshow": {
     "slide_type": "fragment"
    }
   },
   "source": [
    "## LIMIT: Number of Results"
   ]
  },
  {
   "cell_type": "markdown",
   "metadata": {
    "hidden": true,
    "slideshow": {
     "slide_type": "fragment"
    }
   },
   "source": [
    "Specify the maximum number of results you want"
   ]
  },
  {
   "cell_type": "code",
   "execution_count": 25,
   "metadata": {
    "hidden": true
   },
   "outputs": [
    {
     "output_type": "execute_result",
     "data": {
      "text/plain": [
       "           Airport Name  Airport Latitude  Altitude (ft)\n",
       "0           Summit Camp                72          11000\n",
       "1           Summit Camp                72          10552\n",
       "2             Irkutsk-2                52          13411\n",
       "3                   Leh                34          10682\n",
       "4                Gannan                34          10466\n",
       "5                 Maiwa                33          11500\n",
       "6                 Gunsa                32          13780\n",
       "7          Yushu Batang                32          13000\n",
       "8     Hongyuan Airfield                32          11500\n",
       "9  Jiuzhaigou Huanglong                32          11311"
      ],
      "text/html": "<div>\n<style scoped>\n    .dataframe tbody tr th:only-of-type {\n        vertical-align: middle;\n    }\n\n    .dataframe tbody tr th {\n        vertical-align: top;\n    }\n\n    .dataframe thead th {\n        text-align: right;\n    }\n</style>\n<table border=\"1\" class=\"dataframe\">\n  <thead>\n    <tr style=\"text-align: right;\">\n      <th></th>\n      <th>Airport Name</th>\n      <th>Airport Latitude</th>\n      <th>Altitude (ft)</th>\n    </tr>\n  </thead>\n  <tbody>\n    <tr>\n      <th>0</th>\n      <td>Summit Camp</td>\n      <td>72</td>\n      <td>11000</td>\n    </tr>\n    <tr>\n      <th>1</th>\n      <td>Summit Camp</td>\n      <td>72</td>\n      <td>10552</td>\n    </tr>\n    <tr>\n      <th>2</th>\n      <td>Irkutsk-2</td>\n      <td>52</td>\n      <td>13411</td>\n    </tr>\n    <tr>\n      <th>3</th>\n      <td>Leh</td>\n      <td>34</td>\n      <td>10682</td>\n    </tr>\n    <tr>\n      <th>4</th>\n      <td>Gannan</td>\n      <td>34</td>\n      <td>10466</td>\n    </tr>\n    <tr>\n      <th>5</th>\n      <td>Maiwa</td>\n      <td>33</td>\n      <td>11500</td>\n    </tr>\n    <tr>\n      <th>6</th>\n      <td>Gunsa</td>\n      <td>32</td>\n      <td>13780</td>\n    </tr>\n    <tr>\n      <th>7</th>\n      <td>Yushu Batang</td>\n      <td>32</td>\n      <td>13000</td>\n    </tr>\n    <tr>\n      <th>8</th>\n      <td>Hongyuan Airfield</td>\n      <td>32</td>\n      <td>11500</td>\n    </tr>\n    <tr>\n      <th>9</th>\n      <td>Jiuzhaigou Huanglong</td>\n      <td>32</td>\n      <td>11311</td>\n    </tr>\n  </tbody>\n</table>\n</div>"
     },
     "metadata": {},
     "execution_count": 25
    }
   ],
   "source": [
    "pd.read_sql(\"\"\"\n",
    "\n",
    "SELECT name AS \"Airport Name\", \n",
    "       CAST(latitude AS int) AS \"Airport Latitude\",\n",
    "       CAST(altitude AS int) AS \"Altitude (ft)\"\n",
    "       \n",
    "FROM airports\n",
    "\n",
    "WHERE \"Altitude (ft)\" >= 10000\n",
    "\n",
    "ORDER BY \"Airport Latitude\" DESC,\n",
    "         \"Altitude (ft)\" DESC \n",
    "         \n",
    "LIMIT 10\n",
    "\n",
    "\"\"\", con)"
   ]
  },
  {
   "cell_type": "markdown",
   "metadata": {
    "heading_collapsed": true,
    "slideshow": {
     "slide_type": "skip"
    }
   },
   "source": [
    "# Exercises"
   ]
  },
  {
   "cell_type": "markdown",
   "metadata": {
    "heading_collapsed": true,
    "hidden": true
   },
   "source": [
    "## Country List"
   ]
  },
  {
   "cell_type": "markdown",
   "metadata": {
    "hidden": true
   },
   "source": [
    "Create a list of countries with airports and order them alphabetically A-Z.\n",
    "\n",
    "> _Hint: You will need to remove duplicates._"
   ]
  },
  {
   "cell_type": "markdown",
   "metadata": {
    "hidden": true
   },
   "source": [
    "<details>\n",
    "    <summary><b><u>Click Here for Answer Code</u></b></summary>\n",
    "\n",
    "```python \n",
    "pd.read_sql(\"\"\"\n",
    "\n",
    "SELECT DISTINCT country\n",
    "FROM airports\n",
    "ORDER BY country ASC\n",
    "\n",
    "\"\"\", con)\n",
    "```\n",
    "</details>"
   ]
  },
  {
   "cell_type": "code",
   "execution_count": 26,
   "metadata": {
    "hidden": true
   },
   "outputs": [],
   "source": [
    "# Your work here\n"
   ]
  },
  {
   "cell_type": "markdown",
   "metadata": {
    "heading_collapsed": true,
    "hidden": true
   },
   "source": [
    "## Southern Airports"
   ]
  },
  {
   "cell_type": "markdown",
   "metadata": {
    "hidden": true
   },
   "source": [
    "Get the name, country and latitude of the 10 southern-most airports. \n",
    "\n",
    "> _Hint: Look for the smallest latitude._"
   ]
  },
  {
   "cell_type": "markdown",
   "metadata": {
    "hidden": true
   },
   "source": [
    "<details>\n",
    "    <summary><b><u>Click Here for Answer Code</u></b></summary>\n",
    "\n",
    "```python \n",
    "pd.read_sql(\"\"\"\n",
    "\n",
    "SELECT name, country, CAST(latitude AS int) AS \"Airport Latitude\"\n",
    "FROM airports\n",
    "ORDER BY \"Airport Latitude\" ASC\n",
    "LIMIT 10\n",
    "\n",
    "\"\"\", con)\n",
    "``` \n",
    "</details>"
   ]
  },
  {
   "cell_type": "code",
   "execution_count": 27,
   "metadata": {
    "hidden": true
   },
   "outputs": [],
   "source": [
    "# Your work here\n"
   ]
  },
  {
   "cell_type": "markdown",
   "metadata": {
    "heading_collapsed": true,
    "hidden": true,
    "slideshow": {
     "slide_type": "slide"
    }
   },
   "source": [
    "## Active UK Airlines"
   ]
  },
  {
   "cell_type": "markdown",
   "metadata": {
    "hidden": true,
    "slideshow": {
     "slide_type": "slide"
    }
   },
   "source": [
    "Create a list of active airlines in the United Kingdom from the airlines table. \n",
    "\n",
    "> _Hint: You will need to explore the airlines table to figure out how to do this._"
   ]
  },
  {
   "cell_type": "markdown",
   "metadata": {
    "hidden": true,
    "slideshow": {
     "slide_type": "slide"
    }
   },
   "source": [
    "<details>\n",
    "    <summary><b><u>Click Here for Answer Code</u></b></summary>\n",
    "\n",
    "```python \n",
    "pd.read_sql(\"\"\"\n",
    "\n",
    "SELECT name\n",
    "FROM airlines\n",
    "WHERE active='Y'\n",
    "AND country='United Kingdom'\n",
    "\n",
    "\"\"\", con)\n",
    "```\n",
    "</details>"
   ]
  },
  {
   "cell_type": "code",
   "execution_count": 28,
   "metadata": {
    "hidden": true
   },
   "outputs": [],
   "source": [
    "# Your work here\n"
   ]
  },
  {
   "cell_type": "markdown",
   "metadata": {
    "heading_collapsed": true,
    "hidden": true
   },
   "source": [
    "## Explore Routes"
   ]
  },
  {
   "cell_type": "markdown",
   "metadata": {
    "hidden": true
   },
   "source": [
    "Get the column names from the routes table and inspect some raw data. Which columns might be keys that connect this table to the other two tables?"
   ]
  },
  {
   "cell_type": "markdown",
   "metadata": {
    "hidden": true
   },
   "source": [
    "<details>\n",
    "    <summary><b><u>Click Here for Answer Code</u></b></summary>\n",
    "\n",
    "```python \n",
    "pd.read_sql(\"\"\"\n",
    "\n",
    "SELECT *\n",
    "FROM routes\n",
    "LIMIT 5\n",
    "\n",
    "\"\"\", con)\n",
    "```   \n",
    "> The airline_id is a foreign key to the airlines table, the source_id and dest_id columns are foreign keys to the airports table\n",
    "    \n",
    "</details>"
   ]
  },
  {
   "cell_type": "code",
   "execution_count": 29,
   "metadata": {
    "hidden": true
   },
   "outputs": [],
   "source": [
    "# Your work here\n"
   ]
  },
  {
   "cell_type": "markdown",
   "metadata": {
    "heading_collapsed": true
   },
   "source": [
    "# Level Up: `CASE`"
   ]
  },
  {
   "cell_type": "markdown",
   "metadata": {
    "hidden": true
   },
   "source": [
    "Use `CASE` to create new columns using conditional logic."
   ]
  },
  {
   "cell_type": "code",
   "execution_count": 30,
   "metadata": {
    "hidden": true
   },
   "outputs": [
    {
     "output_type": "execute_result",
     "data": {
      "text/plain": [
       "                      Airport Name  Altitude (ft) Altitude Category\n",
       "0                           Goroka           5282              High\n",
       "1                           Madang             20               Low\n",
       "2                      Mount Hagen           5388              High\n",
       "3                           Nadzab            239          Moderate\n",
       "4       Port Moresby Jacksons Intl            146          Moderate\n",
       "5                       Wewak Intl             19               Low\n",
       "6                       Narsarsuaq            112          Moderate\n",
       "7                             Nuuk            283          Moderate\n",
       "8                Sondre Stromfjord            165          Moderate\n",
       "9                   Thule Air Base            251          Moderate\n",
       "10                        Akureyri              6               Low\n",
       "11                     Egilsstadir             76               Low\n",
       "12                    Hornafjordur             24               Low\n",
       "13                         Husavik             48               Low\n",
       "14                      Isafjordur              8               Low\n",
       "15  Keflavik International Airport            171          Moderate\n",
       "16                  Patreksfjordur             11               Low\n",
       "17                       Reykjavik             48               Low\n",
       "18                    Siglufjordur             10               Low\n",
       "19                  Vestmannaeyjar            326          Moderate"
      ],
      "text/html": "<div>\n<style scoped>\n    .dataframe tbody tr th:only-of-type {\n        vertical-align: middle;\n    }\n\n    .dataframe tbody tr th {\n        vertical-align: top;\n    }\n\n    .dataframe thead th {\n        text-align: right;\n    }\n</style>\n<table border=\"1\" class=\"dataframe\">\n  <thead>\n    <tr style=\"text-align: right;\">\n      <th></th>\n      <th>Airport Name</th>\n      <th>Altitude (ft)</th>\n      <th>Altitude Category</th>\n    </tr>\n  </thead>\n  <tbody>\n    <tr>\n      <th>0</th>\n      <td>Goroka</td>\n      <td>5282</td>\n      <td>High</td>\n    </tr>\n    <tr>\n      <th>1</th>\n      <td>Madang</td>\n      <td>20</td>\n      <td>Low</td>\n    </tr>\n    <tr>\n      <th>2</th>\n      <td>Mount Hagen</td>\n      <td>5388</td>\n      <td>High</td>\n    </tr>\n    <tr>\n      <th>3</th>\n      <td>Nadzab</td>\n      <td>239</td>\n      <td>Moderate</td>\n    </tr>\n    <tr>\n      <th>4</th>\n      <td>Port Moresby Jacksons Intl</td>\n      <td>146</td>\n      <td>Moderate</td>\n    </tr>\n    <tr>\n      <th>5</th>\n      <td>Wewak Intl</td>\n      <td>19</td>\n      <td>Low</td>\n    </tr>\n    <tr>\n      <th>6</th>\n      <td>Narsarsuaq</td>\n      <td>112</td>\n      <td>Moderate</td>\n    </tr>\n    <tr>\n      <th>7</th>\n      <td>Nuuk</td>\n      <td>283</td>\n      <td>Moderate</td>\n    </tr>\n    <tr>\n      <th>8</th>\n      <td>Sondre Stromfjord</td>\n      <td>165</td>\n      <td>Moderate</td>\n    </tr>\n    <tr>\n      <th>9</th>\n      <td>Thule Air Base</td>\n      <td>251</td>\n      <td>Moderate</td>\n    </tr>\n    <tr>\n      <th>10</th>\n      <td>Akureyri</td>\n      <td>6</td>\n      <td>Low</td>\n    </tr>\n    <tr>\n      <th>11</th>\n      <td>Egilsstadir</td>\n      <td>76</td>\n      <td>Low</td>\n    </tr>\n    <tr>\n      <th>12</th>\n      <td>Hornafjordur</td>\n      <td>24</td>\n      <td>Low</td>\n    </tr>\n    <tr>\n      <th>13</th>\n      <td>Husavik</td>\n      <td>48</td>\n      <td>Low</td>\n    </tr>\n    <tr>\n      <th>14</th>\n      <td>Isafjordur</td>\n      <td>8</td>\n      <td>Low</td>\n    </tr>\n    <tr>\n      <th>15</th>\n      <td>Keflavik International Airport</td>\n      <td>171</td>\n      <td>Moderate</td>\n    </tr>\n    <tr>\n      <th>16</th>\n      <td>Patreksfjordur</td>\n      <td>11</td>\n      <td>Low</td>\n    </tr>\n    <tr>\n      <th>17</th>\n      <td>Reykjavik</td>\n      <td>48</td>\n      <td>Low</td>\n    </tr>\n    <tr>\n      <th>18</th>\n      <td>Siglufjordur</td>\n      <td>10</td>\n      <td>Low</td>\n    </tr>\n    <tr>\n      <th>19</th>\n      <td>Vestmannaeyjar</td>\n      <td>326</td>\n      <td>Moderate</td>\n    </tr>\n  </tbody>\n</table>\n</div>"
     },
     "metadata": {},
     "execution_count": 30
    }
   ],
   "source": [
    "pd.read_sql(\"\"\"\n",
    "\n",
    "SELECT name AS \"Airport Name\", \n",
    "       CAST(altitude AS int) AS \"Altitude (ft)\",\n",
    "       CASE \n",
    "            WHEN CAST(altitude AS int) > 1000 THEN \"High\"\n",
    "            WHEN CAST(altitude AS int) < 100 THEN \"Low\"\n",
    "            ELSE \"Moderate\"\n",
    "       END AS \"Altitude Category\"\n",
    "       \n",
    "FROM airports\n",
    "         \n",
    "LIMIT 20\n",
    "\n",
    "\"\"\", con)"
   ]
  },
  {
   "cell_type": "markdown",
   "metadata": {
    "heading_collapsed": true,
    "slideshow": {
     "slide_type": "slide"
    }
   },
   "source": [
    "# Level Up: SQL Joins"
   ]
  },
  {
   "cell_type": "markdown",
   "metadata": {
    "hidden": true,
    "slideshow": {
     "slide_type": "fragment"
    }
   },
   "source": [
    "SQL joins can be used to both **add** data to a table and **remove** data from a table. "
   ]
  },
  {
   "cell_type": "markdown",
   "metadata": {
    "hidden": true,
    "slideshow": {
     "slide_type": "fragment"
    }
   },
   "source": [
    "![venn](img/venn.png)"
   ]
  },
  {
   "cell_type": "markdown",
   "metadata": {
    "hidden": true
   },
   "source": [
    "How are these different joins possible?\n",
    "\n",
    "Notice that I choose a column from each table \"on\" which to effect the join. This is the means by which I pair up the records from one table with the records of another.\n",
    "\n",
    "Look back up at the sample diagram under \"What is a Relational Database?\". We might use the \"student_id\" column to match up names in the names table with grades in the grades table. But what if there are values in one table's version of \"student_id\" that don't appear in the other table's version? In that case we need to let the software know whether or not we want to have *all* of the records, regardless of whether they have corresponding entries in all the tables we are joining. This makes for the variety depicted above.\n",
    "\n",
    "- If I select records from \"A INNER JOIN B\", then a record will be displayed *only if it exists in both tables*.\n",
    "\n",
    "- If I select records from \"A LEFT JOIN B\", then *all relevant records from A will be displayed*, regardless of whether they have representation in B. Records from B with no representation in A will *not* be displayed."
   ]
  },
  {
   "cell_type": "code",
   "execution_count": 31,
   "metadata": {
    "hidden": true
   },
   "outputs": [
    {
     "output_type": "execute_result",
     "data": {
      "text/plain": [
       "                name  name    country\n",
       "0         Narsarsuaq  None  Greenland\n",
       "1               Nuuk  None  Greenland\n",
       "2  Sondre Stromfjord  None  Greenland\n",
       "3     Thule Air Base  None  Greenland\n",
       "4           Alderney  None   Guernsey"
      ],
      "text/html": "<div>\n<style scoped>\n    .dataframe tbody tr th:only-of-type {\n        vertical-align: middle;\n    }\n\n    .dataframe tbody tr th {\n        vertical-align: top;\n    }\n\n    .dataframe thead th {\n        text-align: right;\n    }\n</style>\n<table border=\"1\" class=\"dataframe\">\n  <thead>\n    <tr style=\"text-align: right;\">\n      <th></th>\n      <th>name</th>\n      <th>name</th>\n      <th>country</th>\n    </tr>\n  </thead>\n  <tbody>\n    <tr>\n      <th>0</th>\n      <td>Narsarsuaq</td>\n      <td>None</td>\n      <td>Greenland</td>\n    </tr>\n    <tr>\n      <th>1</th>\n      <td>Nuuk</td>\n      <td>None</td>\n      <td>Greenland</td>\n    </tr>\n    <tr>\n      <th>2</th>\n      <td>Sondre Stromfjord</td>\n      <td>None</td>\n      <td>Greenland</td>\n    </tr>\n    <tr>\n      <th>3</th>\n      <td>Thule Air Base</td>\n      <td>None</td>\n      <td>Greenland</td>\n    </tr>\n    <tr>\n      <th>4</th>\n      <td>Alderney</td>\n      <td>None</td>\n      <td>Guernsey</td>\n    </tr>\n  </tbody>\n</table>\n</div>"
     },
     "metadata": {},
     "execution_count": 31
    }
   ],
   "source": [
    "pd.read_sql(\"\"\"\n",
    "\n",
    "    SELECT p.name, l.name, p.country\n",
    "    FROM airports p\n",
    "    LEFT JOIN airlines l\n",
    "    ON p.country=l.country\n",
    "    ORDER BY l.name\n",
    "    LIMIT 5\n",
    "    \n",
    "\"\"\", con)"
   ]
  },
  {
   "cell_type": "code",
   "execution_count": 32,
   "metadata": {
    "hidden": true
   },
   "outputs": [
    {
     "output_type": "execute_result",
     "data": {
      "text/plain": [
       "              name    name   country\n",
       "0   Don Muang Intl  1-2-go  Thailand\n",
       "1   Kamphaeng Saen  1-2-go  Thailand\n",
       "2     Khok Kathiam  1-2-go  Thailand\n",
       "3    U Taphao Intl  1-2-go  Thailand\n",
       "4  Watthana Nakhon  1-2-go  Thailand"
      ],
      "text/html": "<div>\n<style scoped>\n    .dataframe tbody tr th:only-of-type {\n        vertical-align: middle;\n    }\n\n    .dataframe tbody tr th {\n        vertical-align: top;\n    }\n\n    .dataframe thead th {\n        text-align: right;\n    }\n</style>\n<table border=\"1\" class=\"dataframe\">\n  <thead>\n    <tr style=\"text-align: right;\">\n      <th></th>\n      <th>name</th>\n      <th>name</th>\n      <th>country</th>\n    </tr>\n  </thead>\n  <tbody>\n    <tr>\n      <th>0</th>\n      <td>Don Muang Intl</td>\n      <td>1-2-go</td>\n      <td>Thailand</td>\n    </tr>\n    <tr>\n      <th>1</th>\n      <td>Kamphaeng Saen</td>\n      <td>1-2-go</td>\n      <td>Thailand</td>\n    </tr>\n    <tr>\n      <th>2</th>\n      <td>Khok Kathiam</td>\n      <td>1-2-go</td>\n      <td>Thailand</td>\n    </tr>\n    <tr>\n      <th>3</th>\n      <td>U Taphao Intl</td>\n      <td>1-2-go</td>\n      <td>Thailand</td>\n    </tr>\n    <tr>\n      <th>4</th>\n      <td>Watthana Nakhon</td>\n      <td>1-2-go</td>\n      <td>Thailand</td>\n    </tr>\n  </tbody>\n</table>\n</div>"
     },
     "metadata": {},
     "execution_count": 32
    }
   ],
   "source": [
    "pd.read_sql(\"\"\"\n",
    "    \n",
    "    SELECT p.name, l.name, p.country\n",
    "    FROM airports p\n",
    "    INNER JOIN airlines l\n",
    "    ON p.country=l.country\n",
    "    ORDER BY l.name\n",
    "    LIMIT 5\n",
    "    \n",
    "\"\"\", con)"
   ]
  }
 ],
 "metadata": {
  "kernelspec": {
   "name": "python3",
   "display_name": "Python 3.8.3 64-bit ('base': conda)"
  },
  "language_info": {
   "codemirror_mode": {
    "name": "ipython",
    "version": 3
   },
   "file_extension": ".py",
   "mimetype": "text/x-python",
   "name": "python",
   "nbconvert_exporter": "python",
   "pygments_lexer": "ipython3",
   "version": "3.8.3"
  },
  "toc": {
   "base_numbering": 1,
   "nav_menu": {},
   "number_sections": true,
   "sideBar": true,
   "skip_h1_title": false,
   "title_cell": "Table of Contents",
   "title_sidebar": "TOC",
   "toc_cell": true,
   "toc_position": {
    "height": "calc(100% - 180px)",
    "left": "10px",
    "top": "150px",
    "width": "380px"
   },
   "toc_section_display": true,
   "toc_window_display": true
  },
  "interpreter": {
   "hash": "6e79a885d224baac254342f4bba14517a982788f374170dba38443b40cc79e16"
  }
 },
 "nbformat": 4,
 "nbformat_minor": 2
}